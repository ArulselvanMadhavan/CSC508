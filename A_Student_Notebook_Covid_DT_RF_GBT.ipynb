{
  "nbformat": 4,
  "nbformat_minor": 0,
  "metadata": {
    "colab": {
      "name": "A_Student_Notebook_Covid_DT_RF_GBT.ipynb",
      "provenance": [],
      "collapsed_sections": [],
      "include_colab_link": true
    },
    "kernelspec": {
      "name": "python3",
      "display_name": "Python 3"
    },
    "language_info": {
      "name": "python"
    }
  },
  "cells": [
    {
      "cell_type": "markdown",
      "metadata": {
        "id": "view-in-github",
        "colab_type": "text"
      },
      "source": [
        "<a href=\"https://colab.research.google.com/github/ArulselvanMadhavan/CSC508/blob/main/A_Student_Notebook_Covid_DT_RF_GBT.ipynb\" target=\"_parent\"><img src=\"https://colab.research.google.com/assets/colab-badge.svg\" alt=\"Open In Colab\"/></a>"
      ]
    },
    {
      "cell_type": "markdown",
      "metadata": {
        "id": "lDBJ9PM9DE_w"
      },
      "source": [
        "# COVID-19 Machine Learning Analysis Notebook\n",
        "\n",
        "Welcome students to our COVID-19 Data Machine Learning Analysis Notebook!\n",
        "\n",
        "In this notebook we will be analyzing a COVID-19 dataset using these three models:\n",
        "\n",
        "\n",
        "1.   Decision Tree Regressor\n",
        "2.   Random Forest Regressor\n",
        "3.   Gradient Boosted Tree Regressor"
      ]
    },
    {
      "cell_type": "markdown",
      "metadata": {
        "id": "f5WOmeADDuK7"
      },
      "source": [
        "## Import Necessary Libraries"
      ]
    },
    {
      "cell_type": "code",
      "metadata": {
        "id": "CYxDnWSWC6S0"
      },
      "source": [
        "# Data Wrangling Imports\n",
        "import pandas as pd\n",
        "import numpy as np\n",
        "from google.colab import drive\n",
        "\n",
        "# Machine Learning Models Imports\n",
        "from sklearn.model_selection import train_test_split # Import train_test_split function\n",
        "from sklearn.tree import DecisionTreeRegressor \n",
        "from sklearn.ensemble import RandomForestRegressor\n",
        "import xgboost as xgb\n",
        "\n",
        "# Model Evaluation Imports and Visualization\n",
        "from sklearn import metrics \n",
        "from matplotlib import pyplot as plt\n",
        "import graphviz\n",
        "from sklearn import tree\n",
        "from sklearn import datasets, ensemble\n",
        "from sklearn.inspection import permutation_importance\n",
        "from sklearn.metrics import mean_squared_error\n",
        "import math"
      ],
      "execution_count": 1,
      "outputs": []
    },
    {
      "cell_type": "markdown",
      "metadata": {
        "id": "VR6LQ_T7Dzez"
      },
      "source": [
        "## Prepare the Data"
      ]
    },
    {
      "cell_type": "markdown",
      "metadata": {
        "id": "oMu2XouJE-pr"
      },
      "source": [
        "First we must access our data from Github. The Github repository containing all of the raw datasets can be accessed using this link:     \n",
        "\n",
        "https://github.com/ofaye98/CSC508_Mentor_Class\n",
        "\n",
        "\n",
        "Raw Data was provided from these websites:           \n",
        "\n",
        "\n",
        "*   Covid cases data (California Health and Human Services Agency) - https://data.chhs.ca.gov/dataset/covid-19-time-series-metrics-by-county-and-state/resource/046cdd2b-31e5-4d34-9ed3-b48cdbc4be7a \n",
        "\n",
        "*   Covid vaccination data (Los Angeles Times) - https://github.com/datadesk/california-coronavirus-data \n",
        "\n",
        "*   Unemployment data (California Employment Development Dept.) - https://data.edd.ca.gov/Labor-Force-and-Unemployment-Rates/Local-Area-Unemployment-StatisticsdecisionLAUS-/e6gw-gvii \n",
        "\n",
        "*   Election data (Harvard University) - https://dataverse.harvard.edu/dataset.xhtml?persistentId=doi:10.7910/DVN/VOQCHQ\n",
        "\n",
        "\n",
        "\n",
        "\n",
        "\n"
      ]
    },
    {
      "cell_type": "code",
      "metadata": {
        "id": "veRak3kgE-Ts"
      },
      "source": [
        "# read csv as dataframe\n",
        "data_url = \"https://raw.githubusercontent.com/ofaye98/CSC508_Mentor_Class/main/FINAL_covid_unemployment_election_merged.csv\" \n",
        "data = pd.read_csv(data_url)"
      ],
      "execution_count": 2,
      "outputs": []
    },
    {
      "cell_type": "code",
      "metadata": {
        "id": "4Efixl5wFWXu",
        "colab": {
          "base_uri": "https://localhost:8080/",
          "height": 256
        },
        "outputId": "ece311d6-f042-49e2-9b5f-ea52abab09f4"
      },
      "source": [
        "# view the dataframe\n",
        "data.head()"
      ],
      "execution_count": 3,
      "outputs": [
        {
          "output_type": "execute_result",
          "data": {
            "text/html": [
              "<div>\n",
              "<style scoped>\n",
              "    .dataframe tbody tr th:only-of-type {\n",
              "        vertical-align: middle;\n",
              "    }\n",
              "\n",
              "    .dataframe tbody tr th {\n",
              "        vertical-align: top;\n",
              "    }\n",
              "\n",
              "    .dataframe thead th {\n",
              "        text-align: right;\n",
              "    }\n",
              "</style>\n",
              "<table border=\"1\" class=\"dataframe\">\n",
              "  <thead>\n",
              "    <tr style=\"text-align: right;\">\n",
              "      <th></th>\n",
              "      <th>county</th>\n",
              "      <th>population</th>\n",
              "      <th>fall_2020_cases</th>\n",
              "      <th>fall_2021_cases</th>\n",
              "      <th>spring_2020_cases</th>\n",
              "      <th>spring_2021_cases</th>\n",
              "      <th>summer_2020_cases</th>\n",
              "      <th>summer_2021_cases</th>\n",
              "      <th>winter_2020_cases</th>\n",
              "      <th>winter_2021_cases</th>\n",
              "      <th>fall_2020_doses_administered</th>\n",
              "      <th>fall_2021_doses_administered</th>\n",
              "      <th>spring_2021_doses_administered</th>\n",
              "      <th>summer_2020_doses_administered</th>\n",
              "      <th>summer_2021_doses_administered</th>\n",
              "      <th>winter_2020_doses_administered</th>\n",
              "      <th>winter_2021_doses_administered</th>\n",
              "      <th>fall_2020_pfizer_doses</th>\n",
              "      <th>fall_2021_pfizer_doses</th>\n",
              "      <th>spring_2021_pfizer_doses</th>\n",
              "      <th>summer_2020_pfizer_doses</th>\n",
              "      <th>summer_2021_pfizer_doses</th>\n",
              "      <th>winter_2020_pfizer_doses</th>\n",
              "      <th>winter_2021_pfizer_doses</th>\n",
              "      <th>fall_2020_moderna_doses</th>\n",
              "      <th>fall_2021_moderna_doses</th>\n",
              "      <th>spring_2021_moderna_doses</th>\n",
              "      <th>summer_2020_moderna_doses</th>\n",
              "      <th>summer_2021_moderna_doses</th>\n",
              "      <th>winter_2020_moderna_doses</th>\n",
              "      <th>winter_2021_moderna_doses</th>\n",
              "      <th>fall_2020_jj_doses</th>\n",
              "      <th>fall_2021_jj_doses</th>\n",
              "      <th>spring_2021_jj_doses</th>\n",
              "      <th>summer_2020_jj_doses</th>\n",
              "      <th>summer_2021_jj_doses</th>\n",
              "      <th>winter_2020_jj_doses</th>\n",
              "      <th>winter_2021_jj_doses</th>\n",
              "      <th>fall_2020_partially_vaccinated</th>\n",
              "      <th>fall_2021_partially_vaccinated</th>\n",
              "      <th>...</th>\n",
              "      <th>fall_2021_fully_vaccinated</th>\n",
              "      <th>spring_2021_fully_vaccinated</th>\n",
              "      <th>summer_2020_fully_vaccinated</th>\n",
              "      <th>summer_2021_fully_vaccinated</th>\n",
              "      <th>winter_2020_fully_vaccinated</th>\n",
              "      <th>winter_2021_fully_vaccinated</th>\n",
              "      <th>fall_2020_partially_vaccinated_percent</th>\n",
              "      <th>fall_2021_partially_vaccinated_percent</th>\n",
              "      <th>spring_2021_partially_vaccinated_percent</th>\n",
              "      <th>summer_2020_partially_vaccinated_percent</th>\n",
              "      <th>summer_2021_partially_vaccinated_percent</th>\n",
              "      <th>winter_2020_partially_vaccinated_percent</th>\n",
              "      <th>winter_2021_partially_vaccinated_percent</th>\n",
              "      <th>fall_2020_at_least_one_dose_percent</th>\n",
              "      <th>fall_2021_at_least_one_dose_percent</th>\n",
              "      <th>spring_2021_at_least_one_dose_percent</th>\n",
              "      <th>summer_2020_at_least_one_dose_percent</th>\n",
              "      <th>summer_2021_at_least_one_dose_percent</th>\n",
              "      <th>winter_2020_at_least_one_dose_percent</th>\n",
              "      <th>winter_2021_at_least_one_dose_percent</th>\n",
              "      <th>fall_2020_fully_vaccinated_percent</th>\n",
              "      <th>fall_2021_fully_vaccinated_percent</th>\n",
              "      <th>spring_2021_fully_vaccinated_percent</th>\n",
              "      <th>summer_2020_fully_vaccinated_percent</th>\n",
              "      <th>summer_2021_fully_vaccinated_percent</th>\n",
              "      <th>winter_2020_fully_vaccinated_percent</th>\n",
              "      <th>winter_2021_fully_vaccinated_percent</th>\n",
              "      <th>spring_2020_Unemployment_Rate</th>\n",
              "      <th>spring_2021_Unemployment_Rate</th>\n",
              "      <th>summer_2020_Unemployment_Rate</th>\n",
              "      <th>summer_2021_Unemployment_Rate</th>\n",
              "      <th>fall_2020_Unemployment_Rate</th>\n",
              "      <th>fall_2021_Unemployment_Rate</th>\n",
              "      <th>winter_2020_Unemployment_Rate</th>\n",
              "      <th>winter_2021_Unemployment_Rate</th>\n",
              "      <th>democrat_votes_percent</th>\n",
              "      <th>green_votes_percent</th>\n",
              "      <th>republican_votes_percent</th>\n",
              "      <th>libertarian_votes_percent</th>\n",
              "      <th>other_votes_percent</th>\n",
              "    </tr>\n",
              "  </thead>\n",
              "  <tbody>\n",
              "    <tr>\n",
              "      <th>0</th>\n",
              "      <td>Alameda</td>\n",
              "      <td>1685886</td>\n",
              "      <td>11054</td>\n",
              "      <td>2601</td>\n",
              "      <td>5161</td>\n",
              "      <td>5862</td>\n",
              "      <td>14483</td>\n",
              "      <td>23141</td>\n",
              "      <td>23533</td>\n",
              "      <td>27339</td>\n",
              "      <td>17</td>\n",
              "      <td>277728</td>\n",
              "      <td>1132830</td>\n",
              "      <td>78</td>\n",
              "      <td>258266</td>\n",
              "      <td>23688</td>\n",
              "      <td>955341</td>\n",
              "      <td>10</td>\n",
              "      <td>193426</td>\n",
              "      <td>725685</td>\n",
              "      <td>74</td>\n",
              "      <td>204507</td>\n",
              "      <td>16671</td>\n",
              "      <td>580841</td>\n",
              "      <td>3</td>\n",
              "      <td>78527</td>\n",
              "      <td>327129</td>\n",
              "      <td>4</td>\n",
              "      <td>44793</td>\n",
              "      <td>7003</td>\n",
              "      <td>349068</td>\n",
              "      <td>4</td>\n",
              "      <td>5759</td>\n",
              "      <td>79829</td>\n",
              "      <td>0</td>\n",
              "      <td>8898</td>\n",
              "      <td>10</td>\n",
              "      <td>25286</td>\n",
              "      <td>9</td>\n",
              "      <td>46894</td>\n",
              "      <td>...</td>\n",
              "      <td>31879</td>\n",
              "      <td>656370</td>\n",
              "      <td>37</td>\n",
              "      <td>115788</td>\n",
              "      <td>61</td>\n",
              "      <td>406277</td>\n",
              "      <td>0.000006</td>\n",
              "      <td>0.059119</td>\n",
              "      <td>0.180871</td>\n",
              "      <td>0.000016</td>\n",
              "      <td>0.055480</td>\n",
              "      <td>0.014345</td>\n",
              "      <td>0.141542</td>\n",
              "      <td>0.000033</td>\n",
              "      <td>0.795518</td>\n",
              "      <td>0.698430</td>\n",
              "      <td>0.000026</td>\n",
              "      <td>0.765296</td>\n",
              "      <td>0.014409</td>\n",
              "      <td>0.362575</td>\n",
              "      <td>0.000027</td>\n",
              "      <td>0.736399</td>\n",
              "      <td>0.646561</td>\n",
              "      <td>0.000023</td>\n",
              "      <td>0.717004</td>\n",
              "      <td>0.000064</td>\n",
              "      <td>0.247236</td>\n",
              "      <td>0.138521</td>\n",
              "      <td>0.062728</td>\n",
              "      <td>0.119655</td>\n",
              "      <td>0.064572</td>\n",
              "      <td>0.084277</td>\n",
              "      <td>0.052409</td>\n",
              "      <td>0.031265</td>\n",
              "      <td>0.069809</td>\n",
              "      <td>0.802082</td>\n",
              "      <td>0.006057</td>\n",
              "      <td>0.177009</td>\n",
              "      <td>0.008175</td>\n",
              "      <td>0.006679</td>\n",
              "    </tr>\n",
              "    <tr>\n",
              "      <th>1</th>\n",
              "      <td>Alpine</td>\n",
              "      <td>1117</td>\n",
              "      <td>51</td>\n",
              "      <td>3</td>\n",
              "      <td>1</td>\n",
              "      <td>3</td>\n",
              "      <td>2</td>\n",
              "      <td>13</td>\n",
              "      <td>15</td>\n",
              "      <td>16</td>\n",
              "      <td>0</td>\n",
              "      <td>111</td>\n",
              "      <td>525</td>\n",
              "      <td>0</td>\n",
              "      <td>72</td>\n",
              "      <td>21</td>\n",
              "      <td>921</td>\n",
              "      <td>0</td>\n",
              "      <td>10</td>\n",
              "      <td>15</td>\n",
              "      <td>0</td>\n",
              "      <td>10</td>\n",
              "      <td>5</td>\n",
              "      <td>19</td>\n",
              "      <td>0</td>\n",
              "      <td>101</td>\n",
              "      <td>507</td>\n",
              "      <td>0</td>\n",
              "      <td>62</td>\n",
              "      <td>16</td>\n",
              "      <td>900</td>\n",
              "      <td>0</td>\n",
              "      <td>0</td>\n",
              "      <td>3</td>\n",
              "      <td>0</td>\n",
              "      <td>0</td>\n",
              "      <td>0</td>\n",
              "      <td>2</td>\n",
              "      <td>0</td>\n",
              "      <td>17</td>\n",
              "      <td>...</td>\n",
              "      <td>9</td>\n",
              "      <td>393</td>\n",
              "      <td>0</td>\n",
              "      <td>7</td>\n",
              "      <td>0</td>\n",
              "      <td>296</td>\n",
              "      <td>0.000000</td>\n",
              "      <td>0.092334</td>\n",
              "      <td>0.297909</td>\n",
              "      <td>0.000000</td>\n",
              "      <td>0.085366</td>\n",
              "      <td>0.018293</td>\n",
              "      <td>0.310976</td>\n",
              "      <td>0.000000</td>\n",
              "      <td>0.706446</td>\n",
              "      <td>0.672474</td>\n",
              "      <td>0.000000</td>\n",
              "      <td>0.691638</td>\n",
              "      <td>0.018293</td>\n",
              "      <td>0.556620</td>\n",
              "      <td>0.000000</td>\n",
              "      <td>0.614111</td>\n",
              "      <td>0.600174</td>\n",
              "      <td>0.000000</td>\n",
              "      <td>0.606272</td>\n",
              "      <td>0.000000</td>\n",
              "      <td>0.257840</td>\n",
              "      <td>0.222222</td>\n",
              "      <td>0.081967</td>\n",
              "      <td>0.152174</td>\n",
              "      <td>0.085106</td>\n",
              "      <td>0.108696</td>\n",
              "      <td>0.083333</td>\n",
              "      <td>0.047619</td>\n",
              "      <td>0.071429</td>\n",
              "      <td>0.642375</td>\n",
              "      <td>0.005398</td>\n",
              "      <td>0.329285</td>\n",
              "      <td>0.020243</td>\n",
              "      <td>0.002699</td>\n",
              "    </tr>\n",
              "    <tr>\n",
              "      <th>2</th>\n",
              "      <td>Amador</td>\n",
              "      <td>38531</td>\n",
              "      <td>574</td>\n",
              "      <td>233</td>\n",
              "      <td>26</td>\n",
              "      <td>182</td>\n",
              "      <td>266</td>\n",
              "      <td>1319</td>\n",
              "      <td>1840</td>\n",
              "      <td>868</td>\n",
              "      <td>1</td>\n",
              "      <td>5264</td>\n",
              "      <td>12876</td>\n",
              "      <td>0</td>\n",
              "      <td>4960</td>\n",
              "      <td>601</td>\n",
              "      <td>21483</td>\n",
              "      <td>1</td>\n",
              "      <td>1742</td>\n",
              "      <td>3280</td>\n",
              "      <td>0</td>\n",
              "      <td>2686</td>\n",
              "      <td>507</td>\n",
              "      <td>5212</td>\n",
              "      <td>0</td>\n",
              "      <td>3382</td>\n",
              "      <td>8872</td>\n",
              "      <td>0</td>\n",
              "      <td>1875</td>\n",
              "      <td>94</td>\n",
              "      <td>15882</td>\n",
              "      <td>0</td>\n",
              "      <td>140</td>\n",
              "      <td>722</td>\n",
              "      <td>0</td>\n",
              "      <td>399</td>\n",
              "      <td>0</td>\n",
              "      <td>389</td>\n",
              "      <td>1</td>\n",
              "      <td>848</td>\n",
              "      <td>...</td>\n",
              "      <td>759</td>\n",
              "      <td>7949</td>\n",
              "      <td>0</td>\n",
              "      <td>2199</td>\n",
              "      <td>3</td>\n",
              "      <td>8316</td>\n",
              "      <td>0.000026</td>\n",
              "      <td>0.087367</td>\n",
              "      <td>0.136165</td>\n",
              "      <td>0.000000</td>\n",
              "      <td>0.088794</td>\n",
              "      <td>0.015438</td>\n",
              "      <td>0.149991</td>\n",
              "      <td>0.000026</td>\n",
              "      <td>0.595601</td>\n",
              "      <td>0.500013</td>\n",
              "      <td>0.000000</td>\n",
              "      <td>0.570673</td>\n",
              "      <td>0.015517</td>\n",
              "      <td>0.356420</td>\n",
              "      <td>0.000000</td>\n",
              "      <td>0.508234</td>\n",
              "      <td>0.430040</td>\n",
              "      <td>0.000000</td>\n",
              "      <td>0.488170</td>\n",
              "      <td>0.000079</td>\n",
              "      <td>0.219911</td>\n",
              "      <td>0.152006</td>\n",
              "      <td>0.068772</td>\n",
              "      <td>0.115892</td>\n",
              "      <td>0.067485</td>\n",
              "      <td>0.079780</td>\n",
              "      <td>0.057104</td>\n",
              "      <td>0.048266</td>\n",
              "      <td>0.080832</td>\n",
              "      <td>0.365540</td>\n",
              "      <td>0.004932</td>\n",
              "      <td>0.609084</td>\n",
              "      <td>0.015647</td>\n",
              "      <td>0.004797</td>\n",
              "    </tr>\n",
              "    <tr>\n",
              "      <th>3</th>\n",
              "      <td>Butte</td>\n",
              "      <td>217769</td>\n",
              "      <td>1540</td>\n",
              "      <td>1169</td>\n",
              "      <td>276</td>\n",
              "      <td>1116</td>\n",
              "      <td>2673</td>\n",
              "      <td>6060</td>\n",
              "      <td>3762</td>\n",
              "      <td>3337</td>\n",
              "      <td>9</td>\n",
              "      <td>24500</td>\n",
              "      <td>70815</td>\n",
              "      <td>16</td>\n",
              "      <td>33097</td>\n",
              "      <td>3734</td>\n",
              "      <td>99865</td>\n",
              "      <td>7</td>\n",
              "      <td>12311</td>\n",
              "      <td>38679</td>\n",
              "      <td>7</td>\n",
              "      <td>23097</td>\n",
              "      <td>3246</td>\n",
              "      <td>39603</td>\n",
              "      <td>2</td>\n",
              "      <td>11609</td>\n",
              "      <td>27897</td>\n",
              "      <td>9</td>\n",
              "      <td>8394</td>\n",
              "      <td>488</td>\n",
              "      <td>57626</td>\n",
              "      <td>0</td>\n",
              "      <td>578</td>\n",
              "      <td>4225</td>\n",
              "      <td>0</td>\n",
              "      <td>1606</td>\n",
              "      <td>0</td>\n",
              "      <td>2631</td>\n",
              "      <td>7</td>\n",
              "      <td>3976</td>\n",
              "      <td>...</td>\n",
              "      <td>4996</td>\n",
              "      <td>44289</td>\n",
              "      <td>4</td>\n",
              "      <td>15069</td>\n",
              "      <td>5</td>\n",
              "      <td>41142</td>\n",
              "      <td>0.000057</td>\n",
              "      <td>0.049578</td>\n",
              "      <td>0.111853</td>\n",
              "      <td>0.000044</td>\n",
              "      <td>0.055096</td>\n",
              "      <td>0.016470</td>\n",
              "      <td>0.104688</td>\n",
              "      <td>0.000084</td>\n",
              "      <td>0.511615</td>\n",
              "      <td>0.419835</td>\n",
              "      <td>0.000053</td>\n",
              "      <td>0.492463</td>\n",
              "      <td>0.016519</td>\n",
              "      <td>0.285919</td>\n",
              "      <td>0.000026</td>\n",
              "      <td>0.464635</td>\n",
              "      <td>0.376272</td>\n",
              "      <td>0.000018</td>\n",
              "      <td>0.442633</td>\n",
              "      <td>0.000048</td>\n",
              "      <td>0.181231</td>\n",
              "      <td>0.132385</td>\n",
              "      <td>0.070022</td>\n",
              "      <td>0.111726</td>\n",
              "      <td>0.070815</td>\n",
              "      <td>0.079176</td>\n",
              "      <td>0.057569</td>\n",
              "      <td>0.056075</td>\n",
              "      <td>0.079403</td>\n",
              "      <td>0.494053</td>\n",
              "      <td>0.004967</td>\n",
              "      <td>0.477436</td>\n",
              "      <td>0.017381</td>\n",
              "      <td>0.006163</td>\n",
              "    </tr>\n",
              "    <tr>\n",
              "      <th>4</th>\n",
              "      <td>Calaveras</td>\n",
              "      <td>44289</td>\n",
              "      <td>266</td>\n",
              "      <td>315</td>\n",
              "      <td>45</td>\n",
              "      <td>210</td>\n",
              "      <td>256</td>\n",
              "      <td>1392</td>\n",
              "      <td>669</td>\n",
              "      <td>753</td>\n",
              "      <td>1</td>\n",
              "      <td>5985</td>\n",
              "      <td>16034</td>\n",
              "      <td>1</td>\n",
              "      <td>6594</td>\n",
              "      <td>630</td>\n",
              "      <td>22882</td>\n",
              "      <td>1</td>\n",
              "      <td>2466</td>\n",
              "      <td>9435</td>\n",
              "      <td>1</td>\n",
              "      <td>3804</td>\n",
              "      <td>560</td>\n",
              "      <td>6330</td>\n",
              "      <td>0</td>\n",
              "      <td>3379</td>\n",
              "      <td>5887</td>\n",
              "      <td>0</td>\n",
              "      <td>2420</td>\n",
              "      <td>70</td>\n",
              "      <td>16231</td>\n",
              "      <td>0</td>\n",
              "      <td>140</td>\n",
              "      <td>711</td>\n",
              "      <td>0</td>\n",
              "      <td>370</td>\n",
              "      <td>0</td>\n",
              "      <td>321</td>\n",
              "      <td>1</td>\n",
              "      <td>1312</td>\n",
              "      <td>...</td>\n",
              "      <td>829</td>\n",
              "      <td>9437</td>\n",
              "      <td>0</td>\n",
              "      <td>2854</td>\n",
              "      <td>13</td>\n",
              "      <td>9457</td>\n",
              "      <td>0.000044</td>\n",
              "      <td>0.070476</td>\n",
              "      <td>0.102288</td>\n",
              "      <td>0.000022</td>\n",
              "      <td>0.061501</td>\n",
              "      <td>0.013330</td>\n",
              "      <td>0.122670</td>\n",
              "      <td>0.000044</td>\n",
              "      <td>0.569868</td>\n",
              "      <td>0.462010</td>\n",
              "      <td>0.000022</td>\n",
              "      <td>0.538256</td>\n",
              "      <td>0.013618</td>\n",
              "      <td>0.306754</td>\n",
              "      <td>0.000000</td>\n",
              "      <td>0.499392</td>\n",
              "      <td>0.417973</td>\n",
              "      <td>0.000000</td>\n",
              "      <td>0.481066</td>\n",
              "      <td>0.000287</td>\n",
              "      <td>0.209351</td>\n",
              "      <td>0.116189</td>\n",
              "      <td>0.058824</td>\n",
              "      <td>0.091079</td>\n",
              "      <td>0.057351</td>\n",
              "      <td>0.066448</td>\n",
              "      <td>0.047619</td>\n",
              "      <td>0.044186</td>\n",
              "      <td>0.067756</td>\n",
              "      <td>0.369828</td>\n",
              "      <td>0.004602</td>\n",
              "      <td>0.608084</td>\n",
              "      <td>0.013216</td>\n",
              "      <td>0.004270</td>\n",
              "    </tr>\n",
              "  </tbody>\n",
              "</table>\n",
              "<p>5 rows × 93 columns</p>\n",
              "</div>"
            ],
            "text/plain": [
              "      county  population  ...  libertarian_votes_percent  other_votes_percent\n",
              "0    Alameda     1685886  ...                   0.008175             0.006679\n",
              "1     Alpine        1117  ...                   0.020243             0.002699\n",
              "2     Amador       38531  ...                   0.015647             0.004797\n",
              "3      Butte      217769  ...                   0.017381             0.006163\n",
              "4  Calaveras       44289  ...                   0.013216             0.004270\n",
              "\n",
              "[5 rows x 93 columns]"
            ]
          },
          "metadata": {},
          "execution_count": 3
        }
      ]
    },
    {
      "cell_type": "code",
      "metadata": {
        "colab": {
          "base_uri": "https://localhost:8080/"
        },
        "id": "E3K4XTT7rKUn",
        "outputId": "ae0b7c9f-f69c-435b-9304-533c4d0e4ec3"
      },
      "source": [
        "data.columns"
      ],
      "execution_count": 4,
      "outputs": [
        {
          "output_type": "execute_result",
          "data": {
            "text/plain": [
              "Index(['county', 'population', 'fall_2020_cases', 'fall_2021_cases',\n",
              "       'spring_2020_cases', 'spring_2021_cases', 'summer_2020_cases',\n",
              "       'summer_2021_cases', 'winter_2020_cases', 'winter_2021_cases',\n",
              "       'fall_2020_doses_administered', 'fall_2021_doses_administered',\n",
              "       'spring_2021_doses_administered', 'summer_2020_doses_administered',\n",
              "       'summer_2021_doses_administered', 'winter_2020_doses_administered',\n",
              "       'winter_2021_doses_administered', 'fall_2020_pfizer_doses',\n",
              "       'fall_2021_pfizer_doses', 'spring_2021_pfizer_doses',\n",
              "       'summer_2020_pfizer_doses', 'summer_2021_pfizer_doses',\n",
              "       'winter_2020_pfizer_doses', 'winter_2021_pfizer_doses',\n",
              "       'fall_2020_moderna_doses', 'fall_2021_moderna_doses',\n",
              "       'spring_2021_moderna_doses', 'summer_2020_moderna_doses',\n",
              "       'summer_2021_moderna_doses', 'winter_2020_moderna_doses',\n",
              "       'winter_2021_moderna_doses', 'fall_2020_jj_doses', 'fall_2021_jj_doses',\n",
              "       'spring_2021_jj_doses', 'summer_2020_jj_doses', 'summer_2021_jj_doses',\n",
              "       'winter_2020_jj_doses', 'winter_2021_jj_doses',\n",
              "       'fall_2020_partially_vaccinated', 'fall_2021_partially_vaccinated',\n",
              "       'spring_2021_partially_vaccinated', 'summer_2020_partially_vaccinated',\n",
              "       'summer_2021_partially_vaccinated', 'winter_2020_partially_vaccinated',\n",
              "       'winter_2021_partially_vaccinated', 'fall_2020_at_least_one_dose',\n",
              "       'fall_2021_at_least_one_dose', 'spring_2021_at_least_one_dose',\n",
              "       'summer_2020_at_least_one_dose', 'summer_2021_at_least_one_dose',\n",
              "       'winter_2020_at_least_one_dose', 'winter_2021_at_least_one_dose',\n",
              "       'fall_2020_fully_vaccinated', 'fall_2021_fully_vaccinated',\n",
              "       'spring_2021_fully_vaccinated', 'summer_2020_fully_vaccinated',\n",
              "       'summer_2021_fully_vaccinated', 'winter_2020_fully_vaccinated',\n",
              "       'winter_2021_fully_vaccinated',\n",
              "       'fall_2020_partially_vaccinated_percent',\n",
              "       'fall_2021_partially_vaccinated_percent',\n",
              "       'spring_2021_partially_vaccinated_percent',\n",
              "       'summer_2020_partially_vaccinated_percent',\n",
              "       'summer_2021_partially_vaccinated_percent',\n",
              "       'winter_2020_partially_vaccinated_percent',\n",
              "       'winter_2021_partially_vaccinated_percent',\n",
              "       'fall_2020_at_least_one_dose_percent',\n",
              "       'fall_2021_at_least_one_dose_percent',\n",
              "       'spring_2021_at_least_one_dose_percent',\n",
              "       'summer_2020_at_least_one_dose_percent',\n",
              "       'summer_2021_at_least_one_dose_percent',\n",
              "       'winter_2020_at_least_one_dose_percent',\n",
              "       'winter_2021_at_least_one_dose_percent',\n",
              "       'fall_2020_fully_vaccinated_percent',\n",
              "       'fall_2021_fully_vaccinated_percent',\n",
              "       'spring_2021_fully_vaccinated_percent',\n",
              "       'summer_2020_fully_vaccinated_percent',\n",
              "       'summer_2021_fully_vaccinated_percent',\n",
              "       'winter_2020_fully_vaccinated_percent',\n",
              "       'winter_2021_fully_vaccinated_percent', 'spring_2020_Unemployment_Rate',\n",
              "       'spring_2021_Unemployment_Rate', 'summer_2020_Unemployment_Rate',\n",
              "       'summer_2021_Unemployment_Rate', 'fall_2020_Unemployment_Rate',\n",
              "       'fall_2021_Unemployment_Rate', 'winter_2020_Unemployment_Rate',\n",
              "       'winter_2021_Unemployment_Rate', 'democrat_votes_percent',\n",
              "       'green_votes_percent', 'republican_votes_percent',\n",
              "       'libertarian_votes_percent', 'other_votes_percent'],\n",
              "      dtype='object')"
            ]
          },
          "metadata": {},
          "execution_count": 4
        }
      ]
    },
    {
      "cell_type": "code",
      "metadata": {
        "id": "VqHIW_mPFf71",
        "colab": {
          "base_uri": "https://localhost:8080/"
        },
        "outputId": "c894d429-e1b6-4483-e2f6-88e5b0316dea"
      },
      "source": [
        "# check if there is missing data\n",
        "data.isnull().sum()"
      ],
      "execution_count": 5,
      "outputs": [
        {
          "output_type": "execute_result",
          "data": {
            "text/plain": [
              "county                       0\n",
              "population                   0\n",
              "fall_2020_cases              0\n",
              "fall_2021_cases              0\n",
              "spring_2020_cases            0\n",
              "                            ..\n",
              "democrat_votes_percent       0\n",
              "green_votes_percent          0\n",
              "republican_votes_percent     0\n",
              "libertarian_votes_percent    0\n",
              "other_votes_percent          0\n",
              "Length: 93, dtype: int64"
            ]
          },
          "metadata": {},
          "execution_count": 5
        }
      ]
    },
    {
      "cell_type": "markdown",
      "metadata": {
        "id": "o9M4TonBFmpC"
      },
      "source": [
        "Since there are many \"cases\" columns we have to create a dataframe specific to one year and one season. Let us try making a Summer 2020 dataframe first."
      ]
    },
    {
      "cell_type": "code",
      "metadata": {
        "id": "fJcOgJSPGZvS",
        "colab": {
          "base_uri": "https://localhost:8080/",
          "height": 226
        },
        "outputId": "3ea806ef-4440-4c26-bb7e-cf33c10b10fd"
      },
      "source": [
        "# create a summer 2020 dataframe\n",
        "summer_2020 = data.loc[:,data.columns.str.contains('county|population|summer_2020|democrat_votes_percent|green_votes_percent|republican_votes_percent|libertarian_votes_percent|other_votes_percent')]\n",
        "summer_2020.head()"
      ],
      "execution_count": 6,
      "outputs": [
        {
          "output_type": "execute_result",
          "data": {
            "text/html": [
              "<div>\n",
              "<style scoped>\n",
              "    .dataframe tbody tr th:only-of-type {\n",
              "        vertical-align: middle;\n",
              "    }\n",
              "\n",
              "    .dataframe tbody tr th {\n",
              "        vertical-align: top;\n",
              "    }\n",
              "\n",
              "    .dataframe thead th {\n",
              "        text-align: right;\n",
              "    }\n",
              "</style>\n",
              "<table border=\"1\" class=\"dataframe\">\n",
              "  <thead>\n",
              "    <tr style=\"text-align: right;\">\n",
              "      <th></th>\n",
              "      <th>county</th>\n",
              "      <th>population</th>\n",
              "      <th>summer_2020_cases</th>\n",
              "      <th>summer_2020_doses_administered</th>\n",
              "      <th>summer_2020_pfizer_doses</th>\n",
              "      <th>summer_2020_moderna_doses</th>\n",
              "      <th>summer_2020_jj_doses</th>\n",
              "      <th>summer_2020_partially_vaccinated</th>\n",
              "      <th>summer_2020_at_least_one_dose</th>\n",
              "      <th>summer_2020_fully_vaccinated</th>\n",
              "      <th>summer_2020_partially_vaccinated_percent</th>\n",
              "      <th>summer_2020_at_least_one_dose_percent</th>\n",
              "      <th>summer_2020_fully_vaccinated_percent</th>\n",
              "      <th>summer_2020_Unemployment_Rate</th>\n",
              "      <th>democrat_votes_percent</th>\n",
              "      <th>green_votes_percent</th>\n",
              "      <th>republican_votes_percent</th>\n",
              "      <th>libertarian_votes_percent</th>\n",
              "      <th>other_votes_percent</th>\n",
              "    </tr>\n",
              "  </thead>\n",
              "  <tbody>\n",
              "    <tr>\n",
              "      <th>0</th>\n",
              "      <td>Alameda</td>\n",
              "      <td>1685886</td>\n",
              "      <td>14483</td>\n",
              "      <td>78</td>\n",
              "      <td>74</td>\n",
              "      <td>4</td>\n",
              "      <td>0</td>\n",
              "      <td>41</td>\n",
              "      <td>42</td>\n",
              "      <td>37</td>\n",
              "      <td>0.000016</td>\n",
              "      <td>0.000026</td>\n",
              "      <td>0.000023</td>\n",
              "      <td>0.119655</td>\n",
              "      <td>0.802082</td>\n",
              "      <td>0.006057</td>\n",
              "      <td>0.177009</td>\n",
              "      <td>0.008175</td>\n",
              "      <td>0.006679</td>\n",
              "    </tr>\n",
              "    <tr>\n",
              "      <th>1</th>\n",
              "      <td>Alpine</td>\n",
              "      <td>1117</td>\n",
              "      <td>2</td>\n",
              "      <td>0</td>\n",
              "      <td>0</td>\n",
              "      <td>0</td>\n",
              "      <td>0</td>\n",
              "      <td>0</td>\n",
              "      <td>0</td>\n",
              "      <td>0</td>\n",
              "      <td>0.000000</td>\n",
              "      <td>0.000000</td>\n",
              "      <td>0.000000</td>\n",
              "      <td>0.152174</td>\n",
              "      <td>0.642375</td>\n",
              "      <td>0.005398</td>\n",
              "      <td>0.329285</td>\n",
              "      <td>0.020243</td>\n",
              "      <td>0.002699</td>\n",
              "    </tr>\n",
              "    <tr>\n",
              "      <th>2</th>\n",
              "      <td>Amador</td>\n",
              "      <td>38531</td>\n",
              "      <td>266</td>\n",
              "      <td>0</td>\n",
              "      <td>0</td>\n",
              "      <td>0</td>\n",
              "      <td>0</td>\n",
              "      <td>0</td>\n",
              "      <td>0</td>\n",
              "      <td>0</td>\n",
              "      <td>0.000000</td>\n",
              "      <td>0.000000</td>\n",
              "      <td>0.000000</td>\n",
              "      <td>0.115892</td>\n",
              "      <td>0.365540</td>\n",
              "      <td>0.004932</td>\n",
              "      <td>0.609084</td>\n",
              "      <td>0.015647</td>\n",
              "      <td>0.004797</td>\n",
              "    </tr>\n",
              "    <tr>\n",
              "      <th>3</th>\n",
              "      <td>Butte</td>\n",
              "      <td>217769</td>\n",
              "      <td>2673</td>\n",
              "      <td>16</td>\n",
              "      <td>7</td>\n",
              "      <td>9</td>\n",
              "      <td>0</td>\n",
              "      <td>12</td>\n",
              "      <td>12</td>\n",
              "      <td>4</td>\n",
              "      <td>0.000044</td>\n",
              "      <td>0.000053</td>\n",
              "      <td>0.000018</td>\n",
              "      <td>0.111726</td>\n",
              "      <td>0.494053</td>\n",
              "      <td>0.004967</td>\n",
              "      <td>0.477436</td>\n",
              "      <td>0.017381</td>\n",
              "      <td>0.006163</td>\n",
              "    </tr>\n",
              "    <tr>\n",
              "      <th>4</th>\n",
              "      <td>Calaveras</td>\n",
              "      <td>44289</td>\n",
              "      <td>256</td>\n",
              "      <td>1</td>\n",
              "      <td>1</td>\n",
              "      <td>0</td>\n",
              "      <td>0</td>\n",
              "      <td>1</td>\n",
              "      <td>1</td>\n",
              "      <td>0</td>\n",
              "      <td>0.000022</td>\n",
              "      <td>0.000022</td>\n",
              "      <td>0.000000</td>\n",
              "      <td>0.091079</td>\n",
              "      <td>0.369828</td>\n",
              "      <td>0.004602</td>\n",
              "      <td>0.608084</td>\n",
              "      <td>0.013216</td>\n",
              "      <td>0.004270</td>\n",
              "    </tr>\n",
              "  </tbody>\n",
              "</table>\n",
              "</div>"
            ],
            "text/plain": [
              "      county  population  ...  libertarian_votes_percent  other_votes_percent\n",
              "0    Alameda     1685886  ...                   0.008175             0.006679\n",
              "1     Alpine        1117  ...                   0.020243             0.002699\n",
              "2     Amador       38531  ...                   0.015647             0.004797\n",
              "3      Butte      217769  ...                   0.017381             0.006163\n",
              "4  Calaveras       44289  ...                   0.013216             0.004270\n",
              "\n",
              "[5 rows x 19 columns]"
            ]
          },
          "metadata": {},
          "execution_count": 6
        }
      ]
    },
    {
      "cell_type": "markdown",
      "metadata": {
        "id": "jy91qLsuOLl-"
      },
      "source": [
        "## Assignment 1 - Preparing our label\n",
        "Before training our models we need to decide on a label for our models to predict. We could use covid cases as our model's label but this will most likely be biased on population numbers.\n",
        "\n",
        "In order to get a measurement of covid cases per individual in the population, lets create a new column called \"summer_2020_cases_per_capita\". To do this you need to divide the values in the \"summer_2020_cases\" column by the \"population\" column.\n"
      ]
    },
    {
      "cell_type": "code",
      "metadata": {
        "colab": {
          "base_uri": "https://localhost:8080/"
        },
        "id": "joSDq4KJryf6",
        "outputId": "b6d2fb3e-2f26-409a-e04f-2430d60c98d3"
      },
      "source": [
        "(data[\"summer_2020_cases\"]/data[\"population\"]).count()"
      ],
      "execution_count": 9,
      "outputs": [
        {
          "output_type": "execute_result",
          "data": {
            "text/plain": [
              "58"
            ]
          },
          "metadata": {},
          "execution_count": 9
        }
      ]
    },
    {
      "cell_type": "code",
      "metadata": {
        "id": "5WzAl1vaPJi-",
        "colab": {
          "base_uri": "https://localhost:8080/"
        },
        "outputId": "b3a204ad-f6f2-40ba-c8c7-4f0f89a86bec"
      },
      "source": [
        "# Adding a covid cases per capita column for summer 2020 \n",
        "summer_2020['summer_2020_cases_per_capita'] = summer_2020[\"summer_2020_cases\"]/summer_2020[\"population\"]"
      ],
      "execution_count": 10,
      "outputs": [
        {
          "output_type": "stream",
          "name": "stderr",
          "text": [
            "/usr/local/lib/python3.7/dist-packages/ipykernel_launcher.py:2: SettingWithCopyWarning: \n",
            "A value is trying to be set on a copy of a slice from a DataFrame.\n",
            "Try using .loc[row_indexer,col_indexer] = value instead\n",
            "\n",
            "See the caveats in the documentation: https://pandas.pydata.org/pandas-docs/stable/user_guide/indexing.html#returning-a-view-versus-a-copy\n",
            "  \n"
          ]
        }
      ]
    },
    {
      "cell_type": "markdown",
      "metadata": {
        "id": "qqK28c5aD3Eh"
      },
      "source": [
        "# Decision Tree Regressor on Summer 2020 Data"
      ]
    },
    {
      "cell_type": "markdown",
      "metadata": {
        "id": "L2a1B05mGuCK"
      },
      "source": [
        "Before training our model we need to make sure to one hot encode any categorical data columns. In our case we need to do this just for the county column."
      ]
    },
    {
      "cell_type": "code",
      "metadata": {
        "id": "4F2xXJgeG6je"
      },
      "source": [
        "one_hot_summer2020 = pd.get_dummies(summer_2020, columns=['county'], prefix='', prefix_sep='')"
      ],
      "execution_count": 12,
      "outputs": []
    },
    {
      "cell_type": "code",
      "metadata": {
        "id": "VBClbBNwG-y7",
        "colab": {
          "base_uri": "https://localhost:8080/",
          "height": 261
        },
        "outputId": "5bd26aef-2ecc-4ae3-f108-2947c4804aee"
      },
      "source": [
        "# check the dataframe\n",
        "one_hot_summer2020.head()"
      ],
      "execution_count": 13,
      "outputs": [
        {
          "output_type": "execute_result",
          "data": {
            "text/html": [
              "<div>\n",
              "<style scoped>\n",
              "    .dataframe tbody tr th:only-of-type {\n",
              "        vertical-align: middle;\n",
              "    }\n",
              "\n",
              "    .dataframe tbody tr th {\n",
              "        vertical-align: top;\n",
              "    }\n",
              "\n",
              "    .dataframe thead th {\n",
              "        text-align: right;\n",
              "    }\n",
              "</style>\n",
              "<table border=\"1\" class=\"dataframe\">\n",
              "  <thead>\n",
              "    <tr style=\"text-align: right;\">\n",
              "      <th></th>\n",
              "      <th>population</th>\n",
              "      <th>summer_2020_cases</th>\n",
              "      <th>summer_2020_doses_administered</th>\n",
              "      <th>summer_2020_pfizer_doses</th>\n",
              "      <th>summer_2020_moderna_doses</th>\n",
              "      <th>summer_2020_jj_doses</th>\n",
              "      <th>summer_2020_partially_vaccinated</th>\n",
              "      <th>summer_2020_at_least_one_dose</th>\n",
              "      <th>summer_2020_fully_vaccinated</th>\n",
              "      <th>summer_2020_partially_vaccinated_percent</th>\n",
              "      <th>summer_2020_at_least_one_dose_percent</th>\n",
              "      <th>summer_2020_fully_vaccinated_percent</th>\n",
              "      <th>summer_2020_Unemployment_Rate</th>\n",
              "      <th>democrat_votes_percent</th>\n",
              "      <th>green_votes_percent</th>\n",
              "      <th>republican_votes_percent</th>\n",
              "      <th>libertarian_votes_percent</th>\n",
              "      <th>other_votes_percent</th>\n",
              "      <th>summer_2020_cases_per_capita</th>\n",
              "      <th>Alameda</th>\n",
              "      <th>Alpine</th>\n",
              "      <th>Amador</th>\n",
              "      <th>Butte</th>\n",
              "      <th>Calaveras</th>\n",
              "      <th>Colusa</th>\n",
              "      <th>Contra Costa</th>\n",
              "      <th>Del Norte</th>\n",
              "      <th>El Dorado</th>\n",
              "      <th>Fresno</th>\n",
              "      <th>Glenn</th>\n",
              "      <th>Humboldt</th>\n",
              "      <th>Imperial</th>\n",
              "      <th>Inyo</th>\n",
              "      <th>Kern</th>\n",
              "      <th>Kings</th>\n",
              "      <th>Lake</th>\n",
              "      <th>Lassen</th>\n",
              "      <th>Los Angeles</th>\n",
              "      <th>Madera</th>\n",
              "      <th>Marin</th>\n",
              "      <th>Mariposa</th>\n",
              "      <th>Mendocino</th>\n",
              "      <th>Merced</th>\n",
              "      <th>Modoc</th>\n",
              "      <th>Mono</th>\n",
              "      <th>Monterey</th>\n",
              "      <th>Napa</th>\n",
              "      <th>Nevada</th>\n",
              "      <th>Orange</th>\n",
              "      <th>Placer</th>\n",
              "      <th>Plumas</th>\n",
              "      <th>Riverside</th>\n",
              "      <th>Sacramento</th>\n",
              "      <th>San Benito</th>\n",
              "      <th>San Bernardino</th>\n",
              "      <th>San Diego</th>\n",
              "      <th>San Francisco</th>\n",
              "      <th>San Joaquin</th>\n",
              "      <th>San Luis Obispo</th>\n",
              "      <th>San Mateo</th>\n",
              "      <th>Santa Barbara</th>\n",
              "      <th>Santa Clara</th>\n",
              "      <th>Santa Cruz</th>\n",
              "      <th>Shasta</th>\n",
              "      <th>Sierra</th>\n",
              "      <th>Siskiyou</th>\n",
              "      <th>Solano</th>\n",
              "      <th>Sonoma</th>\n",
              "      <th>Stanislaus</th>\n",
              "      <th>Sutter</th>\n",
              "      <th>Tehama</th>\n",
              "      <th>Trinity</th>\n",
              "      <th>Tulare</th>\n",
              "      <th>Tuolumne</th>\n",
              "      <th>Ventura</th>\n",
              "      <th>Yolo</th>\n",
              "      <th>Yuba</th>\n",
              "    </tr>\n",
              "  </thead>\n",
              "  <tbody>\n",
              "    <tr>\n",
              "      <th>0</th>\n",
              "      <td>1685886</td>\n",
              "      <td>14483</td>\n",
              "      <td>78</td>\n",
              "      <td>74</td>\n",
              "      <td>4</td>\n",
              "      <td>0</td>\n",
              "      <td>41</td>\n",
              "      <td>42</td>\n",
              "      <td>37</td>\n",
              "      <td>0.000016</td>\n",
              "      <td>0.000026</td>\n",
              "      <td>0.000023</td>\n",
              "      <td>0.119655</td>\n",
              "      <td>0.802082</td>\n",
              "      <td>0.006057</td>\n",
              "      <td>0.177009</td>\n",
              "      <td>0.008175</td>\n",
              "      <td>0.006679</td>\n",
              "      <td>0.008591</td>\n",
              "      <td>1</td>\n",
              "      <td>0</td>\n",
              "      <td>0</td>\n",
              "      <td>0</td>\n",
              "      <td>0</td>\n",
              "      <td>0</td>\n",
              "      <td>0</td>\n",
              "      <td>0</td>\n",
              "      <td>0</td>\n",
              "      <td>0</td>\n",
              "      <td>0</td>\n",
              "      <td>0</td>\n",
              "      <td>0</td>\n",
              "      <td>0</td>\n",
              "      <td>0</td>\n",
              "      <td>0</td>\n",
              "      <td>0</td>\n",
              "      <td>0</td>\n",
              "      <td>0</td>\n",
              "      <td>0</td>\n",
              "      <td>0</td>\n",
              "      <td>0</td>\n",
              "      <td>0</td>\n",
              "      <td>0</td>\n",
              "      <td>0</td>\n",
              "      <td>0</td>\n",
              "      <td>0</td>\n",
              "      <td>0</td>\n",
              "      <td>0</td>\n",
              "      <td>0</td>\n",
              "      <td>0</td>\n",
              "      <td>0</td>\n",
              "      <td>0</td>\n",
              "      <td>0</td>\n",
              "      <td>0</td>\n",
              "      <td>0</td>\n",
              "      <td>0</td>\n",
              "      <td>0</td>\n",
              "      <td>0</td>\n",
              "      <td>0</td>\n",
              "      <td>0</td>\n",
              "      <td>0</td>\n",
              "      <td>0</td>\n",
              "      <td>0</td>\n",
              "      <td>0</td>\n",
              "      <td>0</td>\n",
              "      <td>0</td>\n",
              "      <td>0</td>\n",
              "      <td>0</td>\n",
              "      <td>0</td>\n",
              "      <td>0</td>\n",
              "      <td>0</td>\n",
              "      <td>0</td>\n",
              "      <td>0</td>\n",
              "      <td>0</td>\n",
              "      <td>0</td>\n",
              "      <td>0</td>\n",
              "      <td>0</td>\n",
              "    </tr>\n",
              "    <tr>\n",
              "      <th>1</th>\n",
              "      <td>1117</td>\n",
              "      <td>2</td>\n",
              "      <td>0</td>\n",
              "      <td>0</td>\n",
              "      <td>0</td>\n",
              "      <td>0</td>\n",
              "      <td>0</td>\n",
              "      <td>0</td>\n",
              "      <td>0</td>\n",
              "      <td>0.000000</td>\n",
              "      <td>0.000000</td>\n",
              "      <td>0.000000</td>\n",
              "      <td>0.152174</td>\n",
              "      <td>0.642375</td>\n",
              "      <td>0.005398</td>\n",
              "      <td>0.329285</td>\n",
              "      <td>0.020243</td>\n",
              "      <td>0.002699</td>\n",
              "      <td>0.001791</td>\n",
              "      <td>0</td>\n",
              "      <td>1</td>\n",
              "      <td>0</td>\n",
              "      <td>0</td>\n",
              "      <td>0</td>\n",
              "      <td>0</td>\n",
              "      <td>0</td>\n",
              "      <td>0</td>\n",
              "      <td>0</td>\n",
              "      <td>0</td>\n",
              "      <td>0</td>\n",
              "      <td>0</td>\n",
              "      <td>0</td>\n",
              "      <td>0</td>\n",
              "      <td>0</td>\n",
              "      <td>0</td>\n",
              "      <td>0</td>\n",
              "      <td>0</td>\n",
              "      <td>0</td>\n",
              "      <td>0</td>\n",
              "      <td>0</td>\n",
              "      <td>0</td>\n",
              "      <td>0</td>\n",
              "      <td>0</td>\n",
              "      <td>0</td>\n",
              "      <td>0</td>\n",
              "      <td>0</td>\n",
              "      <td>0</td>\n",
              "      <td>0</td>\n",
              "      <td>0</td>\n",
              "      <td>0</td>\n",
              "      <td>0</td>\n",
              "      <td>0</td>\n",
              "      <td>0</td>\n",
              "      <td>0</td>\n",
              "      <td>0</td>\n",
              "      <td>0</td>\n",
              "      <td>0</td>\n",
              "      <td>0</td>\n",
              "      <td>0</td>\n",
              "      <td>0</td>\n",
              "      <td>0</td>\n",
              "      <td>0</td>\n",
              "      <td>0</td>\n",
              "      <td>0</td>\n",
              "      <td>0</td>\n",
              "      <td>0</td>\n",
              "      <td>0</td>\n",
              "      <td>0</td>\n",
              "      <td>0</td>\n",
              "      <td>0</td>\n",
              "      <td>0</td>\n",
              "      <td>0</td>\n",
              "      <td>0</td>\n",
              "      <td>0</td>\n",
              "      <td>0</td>\n",
              "      <td>0</td>\n",
              "      <td>0</td>\n",
              "    </tr>\n",
              "    <tr>\n",
              "      <th>2</th>\n",
              "      <td>38531</td>\n",
              "      <td>266</td>\n",
              "      <td>0</td>\n",
              "      <td>0</td>\n",
              "      <td>0</td>\n",
              "      <td>0</td>\n",
              "      <td>0</td>\n",
              "      <td>0</td>\n",
              "      <td>0</td>\n",
              "      <td>0.000000</td>\n",
              "      <td>0.000000</td>\n",
              "      <td>0.000000</td>\n",
              "      <td>0.115892</td>\n",
              "      <td>0.365540</td>\n",
              "      <td>0.004932</td>\n",
              "      <td>0.609084</td>\n",
              "      <td>0.015647</td>\n",
              "      <td>0.004797</td>\n",
              "      <td>0.006904</td>\n",
              "      <td>0</td>\n",
              "      <td>0</td>\n",
              "      <td>1</td>\n",
              "      <td>0</td>\n",
              "      <td>0</td>\n",
              "      <td>0</td>\n",
              "      <td>0</td>\n",
              "      <td>0</td>\n",
              "      <td>0</td>\n",
              "      <td>0</td>\n",
              "      <td>0</td>\n",
              "      <td>0</td>\n",
              "      <td>0</td>\n",
              "      <td>0</td>\n",
              "      <td>0</td>\n",
              "      <td>0</td>\n",
              "      <td>0</td>\n",
              "      <td>0</td>\n",
              "      <td>0</td>\n",
              "      <td>0</td>\n",
              "      <td>0</td>\n",
              "      <td>0</td>\n",
              "      <td>0</td>\n",
              "      <td>0</td>\n",
              "      <td>0</td>\n",
              "      <td>0</td>\n",
              "      <td>0</td>\n",
              "      <td>0</td>\n",
              "      <td>0</td>\n",
              "      <td>0</td>\n",
              "      <td>0</td>\n",
              "      <td>0</td>\n",
              "      <td>0</td>\n",
              "      <td>0</td>\n",
              "      <td>0</td>\n",
              "      <td>0</td>\n",
              "      <td>0</td>\n",
              "      <td>0</td>\n",
              "      <td>0</td>\n",
              "      <td>0</td>\n",
              "      <td>0</td>\n",
              "      <td>0</td>\n",
              "      <td>0</td>\n",
              "      <td>0</td>\n",
              "      <td>0</td>\n",
              "      <td>0</td>\n",
              "      <td>0</td>\n",
              "      <td>0</td>\n",
              "      <td>0</td>\n",
              "      <td>0</td>\n",
              "      <td>0</td>\n",
              "      <td>0</td>\n",
              "      <td>0</td>\n",
              "      <td>0</td>\n",
              "      <td>0</td>\n",
              "      <td>0</td>\n",
              "      <td>0</td>\n",
              "      <td>0</td>\n",
              "    </tr>\n",
              "    <tr>\n",
              "      <th>3</th>\n",
              "      <td>217769</td>\n",
              "      <td>2673</td>\n",
              "      <td>16</td>\n",
              "      <td>7</td>\n",
              "      <td>9</td>\n",
              "      <td>0</td>\n",
              "      <td>12</td>\n",
              "      <td>12</td>\n",
              "      <td>4</td>\n",
              "      <td>0.000044</td>\n",
              "      <td>0.000053</td>\n",
              "      <td>0.000018</td>\n",
              "      <td>0.111726</td>\n",
              "      <td>0.494053</td>\n",
              "      <td>0.004967</td>\n",
              "      <td>0.477436</td>\n",
              "      <td>0.017381</td>\n",
              "      <td>0.006163</td>\n",
              "      <td>0.012274</td>\n",
              "      <td>0</td>\n",
              "      <td>0</td>\n",
              "      <td>0</td>\n",
              "      <td>1</td>\n",
              "      <td>0</td>\n",
              "      <td>0</td>\n",
              "      <td>0</td>\n",
              "      <td>0</td>\n",
              "      <td>0</td>\n",
              "      <td>0</td>\n",
              "      <td>0</td>\n",
              "      <td>0</td>\n",
              "      <td>0</td>\n",
              "      <td>0</td>\n",
              "      <td>0</td>\n",
              "      <td>0</td>\n",
              "      <td>0</td>\n",
              "      <td>0</td>\n",
              "      <td>0</td>\n",
              "      <td>0</td>\n",
              "      <td>0</td>\n",
              "      <td>0</td>\n",
              "      <td>0</td>\n",
              "      <td>0</td>\n",
              "      <td>0</td>\n",
              "      <td>0</td>\n",
              "      <td>0</td>\n",
              "      <td>0</td>\n",
              "      <td>0</td>\n",
              "      <td>0</td>\n",
              "      <td>0</td>\n",
              "      <td>0</td>\n",
              "      <td>0</td>\n",
              "      <td>0</td>\n",
              "      <td>0</td>\n",
              "      <td>0</td>\n",
              "      <td>0</td>\n",
              "      <td>0</td>\n",
              "      <td>0</td>\n",
              "      <td>0</td>\n",
              "      <td>0</td>\n",
              "      <td>0</td>\n",
              "      <td>0</td>\n",
              "      <td>0</td>\n",
              "      <td>0</td>\n",
              "      <td>0</td>\n",
              "      <td>0</td>\n",
              "      <td>0</td>\n",
              "      <td>0</td>\n",
              "      <td>0</td>\n",
              "      <td>0</td>\n",
              "      <td>0</td>\n",
              "      <td>0</td>\n",
              "      <td>0</td>\n",
              "      <td>0</td>\n",
              "      <td>0</td>\n",
              "      <td>0</td>\n",
              "      <td>0</td>\n",
              "    </tr>\n",
              "    <tr>\n",
              "      <th>4</th>\n",
              "      <td>44289</td>\n",
              "      <td>256</td>\n",
              "      <td>1</td>\n",
              "      <td>1</td>\n",
              "      <td>0</td>\n",
              "      <td>0</td>\n",
              "      <td>1</td>\n",
              "      <td>1</td>\n",
              "      <td>0</td>\n",
              "      <td>0.000022</td>\n",
              "      <td>0.000022</td>\n",
              "      <td>0.000000</td>\n",
              "      <td>0.091079</td>\n",
              "      <td>0.369828</td>\n",
              "      <td>0.004602</td>\n",
              "      <td>0.608084</td>\n",
              "      <td>0.013216</td>\n",
              "      <td>0.004270</td>\n",
              "      <td>0.005780</td>\n",
              "      <td>0</td>\n",
              "      <td>0</td>\n",
              "      <td>0</td>\n",
              "      <td>0</td>\n",
              "      <td>1</td>\n",
              "      <td>0</td>\n",
              "      <td>0</td>\n",
              "      <td>0</td>\n",
              "      <td>0</td>\n",
              "      <td>0</td>\n",
              "      <td>0</td>\n",
              "      <td>0</td>\n",
              "      <td>0</td>\n",
              "      <td>0</td>\n",
              "      <td>0</td>\n",
              "      <td>0</td>\n",
              "      <td>0</td>\n",
              "      <td>0</td>\n",
              "      <td>0</td>\n",
              "      <td>0</td>\n",
              "      <td>0</td>\n",
              "      <td>0</td>\n",
              "      <td>0</td>\n",
              "      <td>0</td>\n",
              "      <td>0</td>\n",
              "      <td>0</td>\n",
              "      <td>0</td>\n",
              "      <td>0</td>\n",
              "      <td>0</td>\n",
              "      <td>0</td>\n",
              "      <td>0</td>\n",
              "      <td>0</td>\n",
              "      <td>0</td>\n",
              "      <td>0</td>\n",
              "      <td>0</td>\n",
              "      <td>0</td>\n",
              "      <td>0</td>\n",
              "      <td>0</td>\n",
              "      <td>0</td>\n",
              "      <td>0</td>\n",
              "      <td>0</td>\n",
              "      <td>0</td>\n",
              "      <td>0</td>\n",
              "      <td>0</td>\n",
              "      <td>0</td>\n",
              "      <td>0</td>\n",
              "      <td>0</td>\n",
              "      <td>0</td>\n",
              "      <td>0</td>\n",
              "      <td>0</td>\n",
              "      <td>0</td>\n",
              "      <td>0</td>\n",
              "      <td>0</td>\n",
              "      <td>0</td>\n",
              "      <td>0</td>\n",
              "      <td>0</td>\n",
              "      <td>0</td>\n",
              "      <td>0</td>\n",
              "    </tr>\n",
              "  </tbody>\n",
              "</table>\n",
              "</div>"
            ],
            "text/plain": [
              "   population  summer_2020_cases  ...  Yolo  Yuba\n",
              "0     1685886              14483  ...     0     0\n",
              "1        1117                  2  ...     0     0\n",
              "2       38531                266  ...     0     0\n",
              "3      217769               2673  ...     0     0\n",
              "4       44289                256  ...     0     0\n",
              "\n",
              "[5 rows x 77 columns]"
            ]
          },
          "metadata": {},
          "execution_count": 13
        }
      ]
    },
    {
      "cell_type": "code",
      "metadata": {
        "colab": {
          "base_uri": "https://localhost:8080/"
        },
        "id": "vm1e8hflsmRD",
        "outputId": "6754a5ad-4aa0-421b-8a82-5a205f467b8f"
      },
      "source": [
        "one_hot_summer2020.columns"
      ],
      "execution_count": 15,
      "outputs": [
        {
          "output_type": "execute_result",
          "data": {
            "text/plain": [
              "Index(['population', 'summer_2020_cases', 'summer_2020_doses_administered',\n",
              "       'summer_2020_pfizer_doses', 'summer_2020_moderna_doses',\n",
              "       'summer_2020_jj_doses', 'summer_2020_partially_vaccinated',\n",
              "       'summer_2020_at_least_one_dose', 'summer_2020_fully_vaccinated',\n",
              "       'summer_2020_partially_vaccinated_percent',\n",
              "       'summer_2020_at_least_one_dose_percent',\n",
              "       'summer_2020_fully_vaccinated_percent', 'summer_2020_Unemployment_Rate',\n",
              "       'democrat_votes_percent', 'green_votes_percent',\n",
              "       'republican_votes_percent', 'libertarian_votes_percent',\n",
              "       'other_votes_percent', 'summer_2020_cases_per_capita', 'Alameda',\n",
              "       'Alpine', 'Amador', 'Butte', 'Calaveras', 'Colusa', 'Contra Costa',\n",
              "       'Del Norte', 'El Dorado', 'Fresno', 'Glenn', 'Humboldt', 'Imperial',\n",
              "       'Inyo', 'Kern', 'Kings', 'Lake', 'Lassen', 'Los Angeles', 'Madera',\n",
              "       'Marin', 'Mariposa', 'Mendocino', 'Merced', 'Modoc', 'Mono', 'Monterey',\n",
              "       'Napa', 'Nevada', 'Orange', 'Placer', 'Plumas', 'Riverside',\n",
              "       'Sacramento', 'San Benito', 'San Bernardino', 'San Diego',\n",
              "       'San Francisco', 'San Joaquin', 'San Luis Obispo', 'San Mateo',\n",
              "       'Santa Barbara', 'Santa Clara', 'Santa Cruz', 'Shasta', 'Sierra',\n",
              "       'Siskiyou', 'Solano', 'Sonoma', 'Stanislaus', 'Sutter', 'Tehama',\n",
              "       'Trinity', 'Tulare', 'Tuolumne', 'Ventura', 'Yolo', 'Yuba'],\n",
              "      dtype='object')"
            ]
          },
          "metadata": {},
          "execution_count": 15
        }
      ]
    },
    {
      "cell_type": "markdown",
      "metadata": {
        "id": "LD_kz32q5QzG"
      },
      "source": [
        "Separating dataset into labels and features"
      ]
    },
    {
      "cell_type": "code",
      "metadata": {
        "id": "T1p7IJlnI37J"
      },
      "source": [
        "labels_summer2020 = one_hot_summer2020['summer_2020_cases_per_capita']\n",
        "features_summer2020 = one_hot_summer2020.drop(columns=['summer_2020_cases_per_capita','summer_2020_cases']) "
      ],
      "execution_count": 16,
      "outputs": []
    },
    {
      "cell_type": "markdown",
      "metadata": {
        "id": "I4fLtBQX5Vfc"
      },
      "source": [
        "Splitting the dataset into training and testing data"
      ]
    },
    {
      "cell_type": "code",
      "metadata": {
        "id": "oGoscbCK5WCz"
      },
      "source": [
        "features_train, features_test, labels_train, labels_test = train_test_split(features_summer2020, labels_summer2020, test_size=0.3, random_state=42) # 70% training and 30% test"
      ],
      "execution_count": 17,
      "outputs": []
    },
    {
      "cell_type": "markdown",
      "metadata": {
        "id": "xEhx10w85ckZ"
      },
      "source": [
        "Initializing and Training the Decison Tree Regressor Model"
      ]
    },
    {
      "cell_type": "code",
      "metadata": {
        "id": "nUWhbNB05fSF"
      },
      "source": [
        "# Create Decision Tree Regressor object\n",
        "dtr_summer2020 = DecisionTreeRegressor(max_features = \"auto\", random_state = 42)\n",
        "\n",
        "# Train Decision Tree Regressor\n",
        "dtr_summer2020 = dtr_summer2020.fit(features_train,labels_train)"
      ],
      "execution_count": 18,
      "outputs": []
    },
    {
      "cell_type": "markdown",
      "metadata": {
        "id": "VTarCcOp6co3"
      },
      "source": [
        "Create prediction label"
      ]
    },
    {
      "cell_type": "code",
      "metadata": {
        "id": "5NLjIl096r9e"
      },
      "source": [
        "labels_pred = dtr_summer2020.predict(features_test)"
      ],
      "execution_count": 19,
      "outputs": []
    },
    {
      "cell_type": "markdown",
      "metadata": {
        "id": "6DxkCl1HC3l7"
      },
      "source": [
        "View Model Errors \n",
        "\n",
        "Below is some code to calculate various error scores, which are used to evaluate regressor model performance."
      ]
    },
    {
      "cell_type": "code",
      "metadata": {
        "colab": {
          "base_uri": "https://localhost:8080/"
        },
        "id": "DaxfcRWmC41y",
        "outputId": "6b66c88e-a807-48a4-f39e-65cecb090b5d"
      },
      "source": [
        "print('Mean Absolute Error (MAE):', metrics.mean_absolute_error(labels_test, labels_pred))\n",
        "print('Mean Squared Error (MSE):', metrics.mean_squared_error(labels_test, labels_pred, squared=False))\n",
        "print('Root Mean Squared Error (RMSE):', metrics.mean_squared_error(labels_test, labels_pred))"
      ],
      "execution_count": 20,
      "outputs": [
        {
          "output_type": "stream",
          "name": "stdout",
          "text": [
            "Mean Absolute Error (MAE): 0.004213814566959224\n",
            "Mean Squared Error (MSE): 0.0049099039776417585\n",
            "Root Mean Squared Error (RMSE): 2.4107157069662362e-05\n"
          ]
        }
      ]
    },
    {
      "cell_type": "markdown",
      "metadata": {
        "id": "v7zZ5zDXHmfc"
      },
      "source": [
        "Visualize feature importances"
      ]
    },
    {
      "cell_type": "code",
      "metadata": {
        "id": "GvtKTWfqI4Tf"
      },
      "source": [
        "importance_summer2020 = dtr_summer2020.feature_importances_\n",
        "# summarize feature importance\n",
        "names_summer2020 = features_summer2020.columns.to_numpy(dtype=object)\n",
        "importanceDF_summer2020 = pd.DataFrame({'features':names_summer2020, 'importance':importance_summer2020})"
      ],
      "execution_count": 22,
      "outputs": []
    },
    {
      "cell_type": "code",
      "metadata": {
        "id": "LaVZ4IKAJi3S"
      },
      "source": [
        "importanceDF_summer2020 = importanceDF_summer2020.sort_values(by=['importance'])"
      ],
      "execution_count": 23,
      "outputs": []
    },
    {
      "cell_type": "code",
      "metadata": {
        "colab": {
          "base_uri": "https://localhost:8080/"
        },
        "id": "wR5O6oQptJNi",
        "outputId": "389b96c7-687b-440c-afff-58e1fe821db5"
      },
      "source": [
        "importanceDF_summer2020.tail"
      ],
      "execution_count": 25,
      "outputs": [
        {
          "output_type": "execute_result",
          "data": {
            "text/plain": [
              "<bound method NDFrame.tail of                          features  importance\n",
              "37                          Marin    0.000000\n",
              "52                 San Bernardino    0.000000\n",
              "51                     San Benito    0.000000\n",
              "50                     Sacramento    0.000000\n",
              "49                      Riverside    0.000000\n",
              "..                            ...         ...\n",
              "13            green_votes_percent    0.056200\n",
              "0                      population    0.085307\n",
              "7    summer_2020_fully_vaccinated    0.103663\n",
              "15      libertarian_votes_percent    0.232796\n",
              "11  summer_2020_Unemployment_Rate    0.494954\n",
              "\n",
              "[75 rows x 2 columns]>"
            ]
          },
          "metadata": {},
          "execution_count": 25
        }
      ]
    },
    {
      "cell_type": "code",
      "metadata": {
        "colab": {
          "base_uri": "https://localhost:8080/"
        },
        "id": "TAiG0dwXtQT2",
        "outputId": "ca695fd1-f14b-4865-a3fb-8c59f238c30d"
      },
      "source": [
        "importance_summer2020"
      ],
      "execution_count": 28,
      "outputs": [
        {
          "output_type": "execute_result",
          "data": {
            "text/plain": [
              "array([8.53065786e-02, 0.00000000e+00, 0.00000000e+00, 1.39160929e-04,\n",
              "       0.00000000e+00, 6.64165950e-03, 0.00000000e+00, 1.03663157e-01,\n",
              "       5.58902351e-03, 5.04713743e-03, 1.76030933e-03, 4.94953835e-01,\n",
              "       3.72705066e-04, 5.61998391e-02, 6.92447801e-04, 2.32796156e-01,\n",
              "       4.94465301e-03, 0.00000000e+00, 0.00000000e+00, 0.00000000e+00,\n",
              "       0.00000000e+00, 0.00000000e+00, 0.00000000e+00, 0.00000000e+00,\n",
              "       0.00000000e+00, 0.00000000e+00, 0.00000000e+00, 0.00000000e+00,\n",
              "       0.00000000e+00, 0.00000000e+00, 0.00000000e+00, 0.00000000e+00,\n",
              "       0.00000000e+00, 0.00000000e+00, 0.00000000e+00, 0.00000000e+00,\n",
              "       0.00000000e+00, 0.00000000e+00, 1.04444191e-04, 1.21334916e-03,\n",
              "       0.00000000e+00, 0.00000000e+00, 0.00000000e+00, 0.00000000e+00,\n",
              "       0.00000000e+00, 0.00000000e+00, 0.00000000e+00, 0.00000000e+00,\n",
              "       0.00000000e+00, 0.00000000e+00, 0.00000000e+00, 0.00000000e+00,\n",
              "       0.00000000e+00, 0.00000000e+00, 0.00000000e+00, 0.00000000e+00,\n",
              "       0.00000000e+00, 0.00000000e+00, 0.00000000e+00, 0.00000000e+00,\n",
              "       0.00000000e+00, 0.00000000e+00, 5.44881936e-04, 0.00000000e+00,\n",
              "       0.00000000e+00, 0.00000000e+00, 0.00000000e+00, 0.00000000e+00,\n",
              "       3.06625265e-05, 0.00000000e+00, 0.00000000e+00, 0.00000000e+00,\n",
              "       0.00000000e+00, 0.00000000e+00, 0.00000000e+00])"
            ]
          },
          "metadata": {},
          "execution_count": 28
        }
      ]
    },
    {
      "cell_type": "code",
      "metadata": {
        "id": "y8_nY3quJpk6"
      },
      "source": [
        "importanceDF_summer2020.plot.barh(x='features', y='importance', figsize = (20,20), title = \"Summer 2020 DTR Feature Importance\")"
      ],
      "execution_count": null,
      "outputs": []
    },
    {
      "cell_type": "markdown",
      "metadata": {
        "id": "xTDuT6VDLnYP"
      },
      "source": [
        "## Assignment 2 - Removing County Data\n",
        "\n",
        "It looks like many of the counties have a feature importance of zero. Lets try removing that data."
      ]
    },
    {
      "cell_type": "code",
      "metadata": {
        "id": "z-J3-NSbL7aQ"
      },
      "source": [
        "# ANSWER TO ASSIGNMENT 2\n",
        "def create_summer_2020():\n",
        "  return data.loc[:,data.columns.str.contains('county|population|summer_2020|democrat_votes_percent|green_votes_percent|republican_votes_percent|libertarian_votes_percent|other_votes_percent')]\n",
        "# recreate the summer 2020 dataframe\n",
        "summer_2020 = create_summer_2020()"
      ],
      "execution_count": 51,
      "outputs": []
    },
    {
      "cell_type": "code",
      "metadata": {
        "colab": {
          "base_uri": "https://localhost:8080/",
          "height": 226
        },
        "id": "4WY30TyWuCDd",
        "outputId": "10c851d2-82bb-4dbf-f581-a5cd0ed4a02b"
      },
      "source": [
        "summer_2020.head()"
      ],
      "execution_count": 52,
      "outputs": [
        {
          "output_type": "execute_result",
          "data": {
            "text/html": [
              "<div>\n",
              "<style scoped>\n",
              "    .dataframe tbody tr th:only-of-type {\n",
              "        vertical-align: middle;\n",
              "    }\n",
              "\n",
              "    .dataframe tbody tr th {\n",
              "        vertical-align: top;\n",
              "    }\n",
              "\n",
              "    .dataframe thead th {\n",
              "        text-align: right;\n",
              "    }\n",
              "</style>\n",
              "<table border=\"1\" class=\"dataframe\">\n",
              "  <thead>\n",
              "    <tr style=\"text-align: right;\">\n",
              "      <th></th>\n",
              "      <th>county</th>\n",
              "      <th>population</th>\n",
              "      <th>summer_2020_cases</th>\n",
              "      <th>summer_2020_doses_administered</th>\n",
              "      <th>summer_2020_pfizer_doses</th>\n",
              "      <th>summer_2020_moderna_doses</th>\n",
              "      <th>summer_2020_jj_doses</th>\n",
              "      <th>summer_2020_partially_vaccinated</th>\n",
              "      <th>summer_2020_at_least_one_dose</th>\n",
              "      <th>summer_2020_fully_vaccinated</th>\n",
              "      <th>summer_2020_partially_vaccinated_percent</th>\n",
              "      <th>summer_2020_at_least_one_dose_percent</th>\n",
              "      <th>summer_2020_fully_vaccinated_percent</th>\n",
              "      <th>summer_2020_Unemployment_Rate</th>\n",
              "      <th>democrat_votes_percent</th>\n",
              "      <th>green_votes_percent</th>\n",
              "      <th>republican_votes_percent</th>\n",
              "      <th>libertarian_votes_percent</th>\n",
              "      <th>other_votes_percent</th>\n",
              "    </tr>\n",
              "  </thead>\n",
              "  <tbody>\n",
              "    <tr>\n",
              "      <th>0</th>\n",
              "      <td>Alameda</td>\n",
              "      <td>1685886</td>\n",
              "      <td>14483</td>\n",
              "      <td>78</td>\n",
              "      <td>74</td>\n",
              "      <td>4</td>\n",
              "      <td>0</td>\n",
              "      <td>41</td>\n",
              "      <td>42</td>\n",
              "      <td>37</td>\n",
              "      <td>0.000016</td>\n",
              "      <td>0.000026</td>\n",
              "      <td>0.000023</td>\n",
              "      <td>0.119655</td>\n",
              "      <td>0.802082</td>\n",
              "      <td>0.006057</td>\n",
              "      <td>0.177009</td>\n",
              "      <td>0.008175</td>\n",
              "      <td>0.006679</td>\n",
              "    </tr>\n",
              "    <tr>\n",
              "      <th>1</th>\n",
              "      <td>Alpine</td>\n",
              "      <td>1117</td>\n",
              "      <td>2</td>\n",
              "      <td>0</td>\n",
              "      <td>0</td>\n",
              "      <td>0</td>\n",
              "      <td>0</td>\n",
              "      <td>0</td>\n",
              "      <td>0</td>\n",
              "      <td>0</td>\n",
              "      <td>0.000000</td>\n",
              "      <td>0.000000</td>\n",
              "      <td>0.000000</td>\n",
              "      <td>0.152174</td>\n",
              "      <td>0.642375</td>\n",
              "      <td>0.005398</td>\n",
              "      <td>0.329285</td>\n",
              "      <td>0.020243</td>\n",
              "      <td>0.002699</td>\n",
              "    </tr>\n",
              "    <tr>\n",
              "      <th>2</th>\n",
              "      <td>Amador</td>\n",
              "      <td>38531</td>\n",
              "      <td>266</td>\n",
              "      <td>0</td>\n",
              "      <td>0</td>\n",
              "      <td>0</td>\n",
              "      <td>0</td>\n",
              "      <td>0</td>\n",
              "      <td>0</td>\n",
              "      <td>0</td>\n",
              "      <td>0.000000</td>\n",
              "      <td>0.000000</td>\n",
              "      <td>0.000000</td>\n",
              "      <td>0.115892</td>\n",
              "      <td>0.365540</td>\n",
              "      <td>0.004932</td>\n",
              "      <td>0.609084</td>\n",
              "      <td>0.015647</td>\n",
              "      <td>0.004797</td>\n",
              "    </tr>\n",
              "    <tr>\n",
              "      <th>3</th>\n",
              "      <td>Butte</td>\n",
              "      <td>217769</td>\n",
              "      <td>2673</td>\n",
              "      <td>16</td>\n",
              "      <td>7</td>\n",
              "      <td>9</td>\n",
              "      <td>0</td>\n",
              "      <td>12</td>\n",
              "      <td>12</td>\n",
              "      <td>4</td>\n",
              "      <td>0.000044</td>\n",
              "      <td>0.000053</td>\n",
              "      <td>0.000018</td>\n",
              "      <td>0.111726</td>\n",
              "      <td>0.494053</td>\n",
              "      <td>0.004967</td>\n",
              "      <td>0.477436</td>\n",
              "      <td>0.017381</td>\n",
              "      <td>0.006163</td>\n",
              "    </tr>\n",
              "    <tr>\n",
              "      <th>4</th>\n",
              "      <td>Calaveras</td>\n",
              "      <td>44289</td>\n",
              "      <td>256</td>\n",
              "      <td>1</td>\n",
              "      <td>1</td>\n",
              "      <td>0</td>\n",
              "      <td>0</td>\n",
              "      <td>1</td>\n",
              "      <td>1</td>\n",
              "      <td>0</td>\n",
              "      <td>0.000022</td>\n",
              "      <td>0.000022</td>\n",
              "      <td>0.000000</td>\n",
              "      <td>0.091079</td>\n",
              "      <td>0.369828</td>\n",
              "      <td>0.004602</td>\n",
              "      <td>0.608084</td>\n",
              "      <td>0.013216</td>\n",
              "      <td>0.004270</td>\n",
              "    </tr>\n",
              "  </tbody>\n",
              "</table>\n",
              "</div>"
            ],
            "text/plain": [
              "      county  population  ...  libertarian_votes_percent  other_votes_percent\n",
              "0    Alameda     1685886  ...                   0.008175             0.006679\n",
              "1     Alpine        1117  ...                   0.020243             0.002699\n",
              "2     Amador       38531  ...                   0.015647             0.004797\n",
              "3      Butte      217769  ...                   0.017381             0.006163\n",
              "4  Calaveras       44289  ...                   0.013216             0.004270\n",
              "\n",
              "[5 rows x 19 columns]"
            ]
          },
          "metadata": {},
          "execution_count": 52
        }
      ]
    },
    {
      "cell_type": "code",
      "metadata": {
        "id": "XKsklQc2MEIo",
        "colab": {
          "base_uri": "https://localhost:8080/"
        },
        "outputId": "3dd40e8e-d893-4bd7-83dc-a6ac55289e5d"
      },
      "source": [
        "# drop the county column\n",
        "summer_2020 = summer_2020.drop(columns=['county'])\n",
        "summer_2020.columns"
      ],
      "execution_count": 53,
      "outputs": [
        {
          "output_type": "execute_result",
          "data": {
            "text/plain": [
              "Index(['population', 'summer_2020_cases', 'summer_2020_doses_administered',\n",
              "       'summer_2020_pfizer_doses', 'summer_2020_moderna_doses',\n",
              "       'summer_2020_jj_doses', 'summer_2020_partially_vaccinated',\n",
              "       'summer_2020_at_least_one_dose', 'summer_2020_fully_vaccinated',\n",
              "       'summer_2020_partially_vaccinated_percent',\n",
              "       'summer_2020_at_least_one_dose_percent',\n",
              "       'summer_2020_fully_vaccinated_percent', 'summer_2020_Unemployment_Rate',\n",
              "       'democrat_votes_percent', 'green_votes_percent',\n",
              "       'republican_votes_percent', 'libertarian_votes_percent',\n",
              "       'other_votes_percent'],\n",
              "      dtype='object')"
            ]
          },
          "metadata": {},
          "execution_count": 53
        }
      ]
    },
    {
      "cell_type": "code",
      "metadata": {
        "id": "R6yUMf3ivwT3",
        "outputId": "2b9ceef6-f039-4759-bf67-1fa6b92b8f96",
        "colab": {
          "base_uri": "https://localhost:8080/",
          "height": 226
        }
      },
      "source": [
        "summer_2020.head()"
      ],
      "execution_count": 54,
      "outputs": [
        {
          "output_type": "execute_result",
          "data": {
            "text/html": [
              "<div>\n",
              "<style scoped>\n",
              "    .dataframe tbody tr th:only-of-type {\n",
              "        vertical-align: middle;\n",
              "    }\n",
              "\n",
              "    .dataframe tbody tr th {\n",
              "        vertical-align: top;\n",
              "    }\n",
              "\n",
              "    .dataframe thead th {\n",
              "        text-align: right;\n",
              "    }\n",
              "</style>\n",
              "<table border=\"1\" class=\"dataframe\">\n",
              "  <thead>\n",
              "    <tr style=\"text-align: right;\">\n",
              "      <th></th>\n",
              "      <th>population</th>\n",
              "      <th>summer_2020_cases</th>\n",
              "      <th>summer_2020_doses_administered</th>\n",
              "      <th>summer_2020_pfizer_doses</th>\n",
              "      <th>summer_2020_moderna_doses</th>\n",
              "      <th>summer_2020_jj_doses</th>\n",
              "      <th>summer_2020_partially_vaccinated</th>\n",
              "      <th>summer_2020_at_least_one_dose</th>\n",
              "      <th>summer_2020_fully_vaccinated</th>\n",
              "      <th>summer_2020_partially_vaccinated_percent</th>\n",
              "      <th>summer_2020_at_least_one_dose_percent</th>\n",
              "      <th>summer_2020_fully_vaccinated_percent</th>\n",
              "      <th>summer_2020_Unemployment_Rate</th>\n",
              "      <th>democrat_votes_percent</th>\n",
              "      <th>green_votes_percent</th>\n",
              "      <th>republican_votes_percent</th>\n",
              "      <th>libertarian_votes_percent</th>\n",
              "      <th>other_votes_percent</th>\n",
              "    </tr>\n",
              "  </thead>\n",
              "  <tbody>\n",
              "    <tr>\n",
              "      <th>0</th>\n",
              "      <td>1685886</td>\n",
              "      <td>14483</td>\n",
              "      <td>78</td>\n",
              "      <td>74</td>\n",
              "      <td>4</td>\n",
              "      <td>0</td>\n",
              "      <td>41</td>\n",
              "      <td>42</td>\n",
              "      <td>37</td>\n",
              "      <td>0.000016</td>\n",
              "      <td>0.000026</td>\n",
              "      <td>0.000023</td>\n",
              "      <td>0.119655</td>\n",
              "      <td>0.802082</td>\n",
              "      <td>0.006057</td>\n",
              "      <td>0.177009</td>\n",
              "      <td>0.008175</td>\n",
              "      <td>0.006679</td>\n",
              "    </tr>\n",
              "    <tr>\n",
              "      <th>1</th>\n",
              "      <td>1117</td>\n",
              "      <td>2</td>\n",
              "      <td>0</td>\n",
              "      <td>0</td>\n",
              "      <td>0</td>\n",
              "      <td>0</td>\n",
              "      <td>0</td>\n",
              "      <td>0</td>\n",
              "      <td>0</td>\n",
              "      <td>0.000000</td>\n",
              "      <td>0.000000</td>\n",
              "      <td>0.000000</td>\n",
              "      <td>0.152174</td>\n",
              "      <td>0.642375</td>\n",
              "      <td>0.005398</td>\n",
              "      <td>0.329285</td>\n",
              "      <td>0.020243</td>\n",
              "      <td>0.002699</td>\n",
              "    </tr>\n",
              "    <tr>\n",
              "      <th>2</th>\n",
              "      <td>38531</td>\n",
              "      <td>266</td>\n",
              "      <td>0</td>\n",
              "      <td>0</td>\n",
              "      <td>0</td>\n",
              "      <td>0</td>\n",
              "      <td>0</td>\n",
              "      <td>0</td>\n",
              "      <td>0</td>\n",
              "      <td>0.000000</td>\n",
              "      <td>0.000000</td>\n",
              "      <td>0.000000</td>\n",
              "      <td>0.115892</td>\n",
              "      <td>0.365540</td>\n",
              "      <td>0.004932</td>\n",
              "      <td>0.609084</td>\n",
              "      <td>0.015647</td>\n",
              "      <td>0.004797</td>\n",
              "    </tr>\n",
              "    <tr>\n",
              "      <th>3</th>\n",
              "      <td>217769</td>\n",
              "      <td>2673</td>\n",
              "      <td>16</td>\n",
              "      <td>7</td>\n",
              "      <td>9</td>\n",
              "      <td>0</td>\n",
              "      <td>12</td>\n",
              "      <td>12</td>\n",
              "      <td>4</td>\n",
              "      <td>0.000044</td>\n",
              "      <td>0.000053</td>\n",
              "      <td>0.000018</td>\n",
              "      <td>0.111726</td>\n",
              "      <td>0.494053</td>\n",
              "      <td>0.004967</td>\n",
              "      <td>0.477436</td>\n",
              "      <td>0.017381</td>\n",
              "      <td>0.006163</td>\n",
              "    </tr>\n",
              "    <tr>\n",
              "      <th>4</th>\n",
              "      <td>44289</td>\n",
              "      <td>256</td>\n",
              "      <td>1</td>\n",
              "      <td>1</td>\n",
              "      <td>0</td>\n",
              "      <td>0</td>\n",
              "      <td>1</td>\n",
              "      <td>1</td>\n",
              "      <td>0</td>\n",
              "      <td>0.000022</td>\n",
              "      <td>0.000022</td>\n",
              "      <td>0.000000</td>\n",
              "      <td>0.091079</td>\n",
              "      <td>0.369828</td>\n",
              "      <td>0.004602</td>\n",
              "      <td>0.608084</td>\n",
              "      <td>0.013216</td>\n",
              "      <td>0.004270</td>\n",
              "    </tr>\n",
              "  </tbody>\n",
              "</table>\n",
              "</div>"
            ],
            "text/plain": [
              "   population  ...  other_votes_percent\n",
              "0     1685886  ...             0.006679\n",
              "1        1117  ...             0.002699\n",
              "2       38531  ...             0.004797\n",
              "3      217769  ...             0.006163\n",
              "4       44289  ...             0.004270\n",
              "\n",
              "[5 rows x 18 columns]"
            ]
          },
          "metadata": {},
          "execution_count": 54
        }
      ]
    },
    {
      "cell_type": "code",
      "metadata": {
        "id": "HMJQav6URU4n"
      },
      "source": [
        "# remake cases per capita column\n",
        "summer_2020['summer_2020_cases_per_capita'] = summer_2020['summer_2020_cases']/summer_2020['population']"
      ],
      "execution_count": 56,
      "outputs": []
    },
    {
      "cell_type": "markdown",
      "metadata": {
        "id": "K7DLKG_vMUSY"
      },
      "source": [
        "Re-initialize label and features. No need to one hot encode since we dropped the county column."
      ]
    },
    {
      "cell_type": "code",
      "metadata": {
        "id": "oiouu2pHMZUT"
      },
      "source": [
        "labels_summer2020 = summer_2020['summer_2020_cases_per_capita']\n",
        "features_summer2020 = summer_2020.drop(columns=['summer_2020_cases_per_capita','summer_2020_cases']) "
      ],
      "execution_count": 66,
      "outputs": []
    },
    {
      "cell_type": "markdown",
      "metadata": {
        "id": "xS5hi63IMl8x"
      },
      "source": [
        "Split into training and testing data"
      ]
    },
    {
      "cell_type": "code",
      "metadata": {
        "id": "aANxWm8hMqA3"
      },
      "source": [
        "# initialize features and labels test and training sets using train_test_split function\n",
        "features_train, features_test, labels_train, labels_test = train_test_split(features_summer2020, labels_summer2020, test_size=0.3, random_state=42) # 70% training and 30% test"
      ],
      "execution_count": 67,
      "outputs": []
    },
    {
      "cell_type": "markdown",
      "metadata": {
        "id": "WVjVdSn-MwD_"
      },
      "source": [
        "Initialize and train model"
      ]
    },
    {
      "cell_type": "code",
      "metadata": {
        "id": "Fap3F_wVMvxE"
      },
      "source": [
        "# Create Decision Tree Regressor object\n",
        "dtr_summer2020 = DecisionTreeRegressor(max_features = \"auto\", random_state = 42)\n",
        "\n",
        "# Train Decision Tree Regressor\n",
        "dtr_summer2020 = dtr_summer2020.fit(features_train,labels_train)"
      ],
      "execution_count": 68,
      "outputs": []
    },
    {
      "cell_type": "code",
      "metadata": {
        "id": "dxAHN9FgvY7S"
      },
      "source": [
        "labels_pred = dtr_summer2020.predict(features_test)"
      ],
      "execution_count": 69,
      "outputs": []
    },
    {
      "cell_type": "markdown",
      "metadata": {
        "id": "e8H195rnY0B_"
      },
      "source": [
        "## Decision Tree Errors"
      ]
    },
    {
      "cell_type": "code",
      "metadata": {
        "id": "NH3Bd5TjY7zj",
        "colab": {
          "base_uri": "https://localhost:8080/"
        },
        "outputId": "cf8c9495-79c5-4aad-c0a1-02a82c369df3"
      },
      "source": [
        "print('Mean Absolute Error (MAE):', metrics.mean_absolute_error(labels_test, labels_pred))\n",
        "print('Mean Squared Error (MSE):', metrics.mean_squared_error(labels_test, labels_pred, squared=False))\n",
        "print('Root Mean Squared Error (RMSE):', metrics.mean_squared_error(labels_test, labels_pred))\n",
        "\n",
        "# Mean Absolute Error (MAE): 0.004213814566959224\n",
        "# Mean Squared Error (MSE): 0.0049099039776417585\n",
        "# Root Mean Squared Error (RMSE): 2.4107157069662362e-05"
      ],
      "execution_count": 70,
      "outputs": [
        {
          "output_type": "stream",
          "name": "stdout",
          "text": [
            "Mean Absolute Error (MAE): 0.005304507376409655\n",
            "Mean Squared Error (MSE): 0.007622504837219557\n",
            "Root Mean Squared Error (RMSE): 5.810257999343554e-05\n"
          ]
        }
      ]
    },
    {
      "cell_type": "markdown",
      "metadata": {
        "id": "k5f9XBE4M3ja"
      },
      "source": [
        "## Decision Tree Regressor Summer 2020 - Feature Importances"
      ]
    },
    {
      "cell_type": "code",
      "metadata": {
        "id": "LldhKrKtM6jG"
      },
      "source": [
        "importance_summer2020 = dtr_summer2020.feature_importances_\n",
        "# summarize feature importance\n",
        "names_summer2020 = features_summer2020.columns.to_numpy(dtype=object)\n",
        "importanceDF_summer2020 = pd.DataFrame({'features':names_summer2020, 'importance':importance_summer2020})"
      ],
      "execution_count": 71,
      "outputs": []
    },
    {
      "cell_type": "code",
      "metadata": {
        "id": "fqbHF5oqM95U"
      },
      "source": [
        "importanceDF_summer2020 = importanceDF_summer2020.sort_values(by=['importance'])"
      ],
      "execution_count": 72,
      "outputs": []
    },
    {
      "cell_type": "code",
      "metadata": {
        "id": "4JsbCmsyM_7M",
        "colab": {
          "base_uri": "https://localhost:8080/",
          "height": 1000
        },
        "outputId": "ee02dead-145e-428e-bacf-6d9f2eb3a88f"
      },
      "source": [
        "# add code that plots feature importances\n",
        "importanceDF_summer2020.plot.barh(x='features', y='importance', figsize = (20,20), title = \"Summer 2020 DTR Feature Importance\")"
      ],
      "execution_count": 73,
      "outputs": [
        {
          "output_type": "execute_result",
          "data": {
            "text/plain": [
              "<matplotlib.axes._subplots.AxesSubplot at 0x7f0689edb990>"
            ]
          },
          "metadata": {},
          "execution_count": 73
        },
        {
          "output_type": "display_data",
          "data": {
            "image/png": "[encoded data removed]",
            "text/plain": [
              "<Figure size 1440x1440 with 1 Axes>"
            ]
          },
          "metadata": {
            "needs_background": "light"
          }
        }
      ]
    },
    {
      "cell_type": "markdown",
      "metadata": {
        "id": "LDw9Lwj-65Xs"
      },
      "source": [
        "Visualize Decision Tree"
      ]
    },
    {
      "cell_type": "code",
      "metadata": {
        "id": "ATSoIC3S67XH",
        "colab": {
          "base_uri": "https://localhost:8080/",
          "height": 1000
        },
        "outputId": "75c5fb00-7d6b-4b85-d57d-50f8840e5f38"
      },
      "source": [
        "# Initialize tree data object \n",
        "dtr_summer2020_dot = tree.export_graphviz(dtr_summer2020, out_file=None, \n",
        "                                feature_names=features_summer2020.columns,  \n",
        "                                filled=True)\n",
        "\n",
        "# Draw graph\n",
        "dtr_graph = graphviz.Source(dtr_summer2020_dot, format=\"png\") \n",
        "dtr_graph"
      ],
      "execution_count": 75,
      "outputs": [
        {
          "output_type": "execute_result",
          "data": {
            "text/plain": [
              "<graphviz.files.Source at 0x7f0689e24e90>"
            ],
            "image/svg+xml": "<?xml version=\"1.0\" encoding=\"UTF-8\" standalone=\"no\"?>\n<!DOCTYPE svg PUBLIC \"-//W3C//DTD SVG 1.1//EN\"\n \"http://www.w3.org/Graphics/SVG/1.1/DTD/svg11.dtd\">\n<!-- Generated by graphviz version 2.40.1 (20161225.0304)\n -->\n<!-- Title: Tree Pages: 1 -->\n<svg width=\"4471pt\" height=\"893pt\"\n viewBox=\"0.00 0.00 4471.00 893.00\" xmlns=\"http://www.w3.org/2000/svg\" xmlns:xlink=\"http://www.w3.org/1999/xlink\">\n<g id=\"graph0\" class=\"graph\" transform=\"scale(1 1) rotate(0) translate(4 889)\">\n<title>Tree</title>\n<polygon fill=\"#ffffff\" stroke=\"transparent\" points=\"-4,4 -4,-889 4467,-889 4467,4 -4,4\"/>\n<!-- 0 -->\n<g id=\"node1\" class=\"node\">\n<title>0</title>\n<polygon fill=\"#f7d6be\" stroke=\"#000000\" points=\"2858.5,-885 2541.5,-885 2541.5,-817 2858.5,-817 2858.5,-885\"/>\n<text text-anchor=\"middle\" x=\"2700\" y=\"-869.8\" font-family=\"Helvetica,sans-Serif\" font-size=\"14.00\" fill=\"#000000\">summer_2020_Unemployment_Rate &lt;= 0.123</text>\n<text text-anchor=\"middle\" x=\"2700\" y=\"-854.8\" font-family=\"Helvetica,sans-Serif\" font-size=\"14.00\" fill=\"#000000\">squared_error = 0.0</text>\n<text text-anchor=\"middle\" x=\"2700\" y=\"-839.8\" font-family=\"Helvetica,sans-Serif\" font-size=\"14.00\" fill=\"#000000\">samples = 40</text>\n<text text-anchor=\"middle\" x=\"2700\" y=\"-824.8\" font-family=\"Helvetica,sans-Serif\" font-size=\"14.00\" fill=\"#000000\">value = 0.012</text>\n</g>\n<!-- 1 -->\n<g id=\"node2\" class=\"node\">\n<title>1</title>\n<polygon fill=\"#f9e3d3\" stroke=\"#000000\" points=\"1823.5,-781 1662.5,-781 1662.5,-713 1823.5,-713 1823.5,-781\"/>\n<text text-anchor=\"middle\" x=\"1743\" y=\"-765.8\" font-family=\"Helvetica,sans-Serif\" font-size=\"14.00\" fill=\"#000000\">population &lt;= 28453.0</text>\n<text text-anchor=\"middle\" x=\"1743\" y=\"-750.8\" font-family=\"Helvetica,sans-Serif\" font-size=\"14.00\" fill=\"#000000\">squared_error = 0.0</text>\n<text text-anchor=\"middle\" x=\"1743\" y=\"-735.8\" font-family=\"Helvetica,sans-Serif\" font-size=\"14.00\" fill=\"#000000\">samples = 28</text>\n<text text-anchor=\"middle\" x=\"1743\" y=\"-720.8\" font-family=\"Helvetica,sans-Serif\" font-size=\"14.00\" fill=\"#000000\">value = 0.009</text>\n</g>\n<!-- 0&#45;&gt;1 -->\n<g id=\"edge1\" class=\"edge\">\n<title>0&#45;&gt;1</title>\n<path fill=\"none\" stroke=\"#000000\" d=\"M2541.4341,-833.7682C2339.1673,-811.7872 1996.1416,-774.5096 1833.5971,-756.8455\"/>\n<polygon fill=\"#000000\" stroke=\"#000000\" points=\"1833.9473,-753.363 1823.6277,-755.762 1833.191,-760.322 1833.9473,-753.363\"/>\n<text text-anchor=\"middle\" x=\"1839.2921\" y=\"-771.5461\" font-family=\"Helvetica,sans-Serif\" font-size=\"14.00\" fill=\"#000000\">True</text>\n</g>\n<!-- 56 -->\n<g id=\"node57\" class=\"node\">\n<title>56</title>\n<polygon fill=\"#f0b78e\" stroke=\"#000000\" points=\"3070.5,-781 2859.5,-781 2859.5,-713 3070.5,-713 3070.5,-781\"/>\n<text text-anchor=\"middle\" x=\"2965\" y=\"-765.8\" font-family=\"Helvetica,sans-Serif\" font-size=\"14.00\" fill=\"#000000\">other_votes_percent &lt;= 0.004</text>\n<text text-anchor=\"middle\" x=\"2965\" y=\"-750.8\" font-family=\"Helvetica,sans-Serif\" font-size=\"14.00\" fill=\"#000000\">squared_error = 0.0</text>\n<text text-anchor=\"middle\" x=\"2965\" y=\"-735.8\" font-family=\"Helvetica,sans-Serif\" font-size=\"14.00\" fill=\"#000000\">samples = 12</text>\n<text text-anchor=\"middle\" x=\"2965\" y=\"-720.8\" font-family=\"Helvetica,sans-Serif\" font-size=\"14.00\" fill=\"#000000\">value = 0.02</text>\n</g>\n<!-- 0&#45;&gt;56 -->\n<g id=\"edge56\" class=\"edge\">\n<title>0&#45;&gt;56</title>\n<path fill=\"none\" stroke=\"#000000\" d=\"M2786.7709,-816.9465C2812.9662,-806.6661 2841.8795,-795.319 2868.6589,-784.8093\"/>\n<polygon fill=\"#000000\" stroke=\"#000000\" points=\"2870.004,-788.0414 2878.0341,-781.13 2867.4467,-781.5252 2870.004,-788.0414\"/>\n<text text-anchor=\"middle\" x=\"2868.0365\" y=\"-800.3439\" font-family=\"Helvetica,sans-Serif\" font-size=\"14.00\" fill=\"#000000\">False</text>\n</g>\n<!-- 2 -->\n<g id=\"node3\" class=\"node\">\n<title>2</title>\n<polygon fill=\"#fefbf9\" stroke=\"#000000\" points=\"646.5,-677 493.5,-677 493.5,-609 646.5,-609 646.5,-677\"/>\n<text text-anchor=\"middle\" x=\"570\" y=\"-661.8\" font-family=\"Helvetica,sans-Serif\" font-size=\"14.00\" fill=\"#000000\">population &lt;= 6295.0</text>\n<text text-anchor=\"middle\" x=\"570\" y=\"-646.8\" font-family=\"Helvetica,sans-Serif\" font-size=\"14.00\" fill=\"#000000\">squared_error = 0.0</text>\n<text text-anchor=\"middle\" x=\"570\" y=\"-631.8\" font-family=\"Helvetica,sans-Serif\" font-size=\"14.00\" fill=\"#000000\">samples = 4</text>\n<text text-anchor=\"middle\" x=\"570\" y=\"-616.8\" font-family=\"Helvetica,sans-Serif\" font-size=\"14.00\" fill=\"#000000\">value = 0.003</text>\n</g>\n<!-- 1&#45;&gt;2 -->\n<g id=\"edge2\" class=\"edge\">\n<title>1&#45;&gt;2</title>\n<path fill=\"none\" stroke=\"#000000\" d=\"M1662.375,-739.8517C1449.906,-721.0138 875.9792,-670.1286 656.7437,-650.6908\"/>\n<polygon fill=\"#000000\" stroke=\"#000000\" points=\"656.8449,-647.1862 646.5749,-649.7892 656.2267,-654.1588 656.8449,-647.1862\"/>\n</g>\n<!-- 9 -->\n<g id=\"node10\" class=\"node\">\n<title>9</title>\n<polygon fill=\"#f8dfcd\" stroke=\"#000000\" points=\"1850.5,-677 1635.5,-677 1635.5,-609 1850.5,-609 1850.5,-677\"/>\n<text text-anchor=\"middle\" x=\"1743\" y=\"-661.8\" font-family=\"Helvetica,sans-Serif\" font-size=\"14.00\" fill=\"#000000\">green_votes_percent &lt;= 0.005</text>\n<text text-anchor=\"middle\" x=\"1743\" y=\"-646.8\" font-family=\"Helvetica,sans-Serif\" font-size=\"14.00\" fill=\"#000000\">squared_error = 0.0</text>\n<text text-anchor=\"middle\" x=\"1743\" y=\"-631.8\" font-family=\"Helvetica,sans-Serif\" font-size=\"14.00\" fill=\"#000000\">samples = 24</text>\n<text text-anchor=\"middle\" x=\"1743\" y=\"-616.8\" font-family=\"Helvetica,sans-Serif\" font-size=\"14.00\" fill=\"#000000\">value = 0.01</text>\n</g>\n<!-- 1&#45;&gt;9 -->\n<g id=\"edge9\" class=\"edge\">\n<title>1&#45;&gt;9</title>\n<path fill=\"none\" stroke=\"#000000\" d=\"M1743,-712.9465C1743,-704.776 1743,-695.9318 1743,-687.3697\"/>\n<polygon fill=\"#000000\" stroke=\"#000000\" points=\"1746.5001,-687.13 1743,-677.13 1739.5001,-687.13 1746.5001,-687.13\"/>\n</g>\n<!-- 3 -->\n<g id=\"node4\" class=\"node\">\n<title>3</title>\n<polygon fill=\"#ffffff\" stroke=\"#000000\" points=\"393,-565.5 249,-565.5 249,-512.5 393,-512.5 393,-565.5\"/>\n<text text-anchor=\"middle\" x=\"321\" y=\"-550.3\" font-family=\"Helvetica,sans-Serif\" font-size=\"14.00\" fill=\"#000000\">squared_error = 0.0</text>\n<text text-anchor=\"middle\" x=\"321\" y=\"-535.3\" font-family=\"Helvetica,sans-Serif\" font-size=\"14.00\" fill=\"#000000\">samples = 1</text>\n<text text-anchor=\"middle\" x=\"321\" y=\"-520.3\" font-family=\"Helvetica,sans-Serif\" font-size=\"14.00\" fill=\"#000000\">value = 0.002</text>\n</g>\n<!-- 2&#45;&gt;3 -->\n<g id=\"edge3\" class=\"edge\">\n<title>2&#45;&gt;3</title>\n<path fill=\"none\" stroke=\"#000000\" d=\"M493.4583,-611.1573C464.7645,-599.2071 431.8794,-585.4959 402,-573 399.2057,-571.8314 396.3576,-570.6395 393.4806,-569.435\"/>\n<polygon fill=\"#000000\" stroke=\"#000000\" points=\"394.8015,-566.1936 384.2257,-565.558 392.0968,-572.65 394.8015,-566.1936\"/>\n</g>\n<!-- 4 -->\n<g id=\"node5\" class=\"node\">\n<title>4</title>\n<polygon fill=\"#fefaf7\" stroke=\"#000000\" points=\"728.5,-573 411.5,-573 411.5,-505 728.5,-505 728.5,-573\"/>\n<text text-anchor=\"middle\" x=\"570\" y=\"-557.8\" font-family=\"Helvetica,sans-Serif\" font-size=\"14.00\" fill=\"#000000\">summer_2020_Unemployment_Rate &lt;= 0.112</text>\n<text text-anchor=\"middle\" x=\"570\" y=\"-542.8\" font-family=\"Helvetica,sans-Serif\" font-size=\"14.00\" fill=\"#000000\">squared_error = 0.0</text>\n<text text-anchor=\"middle\" x=\"570\" y=\"-527.8\" font-family=\"Helvetica,sans-Serif\" font-size=\"14.00\" fill=\"#000000\">samples = 3</text>\n<text text-anchor=\"middle\" x=\"570\" y=\"-512.8\" font-family=\"Helvetica,sans-Serif\" font-size=\"14.00\" fill=\"#000000\">value = 0.003</text>\n</g>\n<!-- 2&#45;&gt;4 -->\n<g id=\"edge4\" class=\"edge\">\n<title>2&#45;&gt;4</title>\n<path fill=\"none\" stroke=\"#000000\" d=\"M570,-608.9465C570,-600.776 570,-591.9318 570,-583.3697\"/>\n<polygon fill=\"#000000\" stroke=\"#000000\" points=\"573.5001,-583.13 570,-573.13 566.5001,-583.13 573.5001,-583.13\"/>\n</g>\n<!-- 5 -->\n<g id=\"node6\" class=\"node\">\n<title>5</title>\n<polygon fill=\"#fef9f6\" stroke=\"#000000\" points=\"352.5,-469 115.5,-469 115.5,-401 352.5,-401 352.5,-469\"/>\n<text text-anchor=\"middle\" x=\"234\" y=\"-453.8\" font-family=\"Helvetica,sans-Serif\" font-size=\"14.00\" fill=\"#000000\">republican_votes_percent &lt;= 0.64</text>\n<text text-anchor=\"middle\" x=\"234\" y=\"-438.8\" font-family=\"Helvetica,sans-Serif\" font-size=\"14.00\" fill=\"#000000\">squared_error = 0.0</text>\n<text text-anchor=\"middle\" x=\"234\" y=\"-423.8\" font-family=\"Helvetica,sans-Serif\" font-size=\"14.00\" fill=\"#000000\">samples = 2</text>\n<text text-anchor=\"middle\" x=\"234\" y=\"-408.8\" font-family=\"Helvetica,sans-Serif\" font-size=\"14.00\" fill=\"#000000\">value = 0.003</text>\n</g>\n<!-- 4&#45;&gt;5 -->\n<g id=\"edge5\" class=\"edge\">\n<title>4&#45;&gt;5</title>\n<path fill=\"none\" stroke=\"#000000\" d=\"M459.981,-504.9465C425.9547,-494.4145 388.3115,-482.7631 353.6658,-472.0394\"/>\n<polygon fill=\"#000000\" stroke=\"#000000\" points=\"354.5668,-468.6545 343.979,-469.0411 352.4969,-475.3415 354.5668,-468.6545\"/>\n</g>\n<!-- 8 -->\n<g id=\"node9\" class=\"node\">\n<title>8</title>\n<polygon fill=\"#fefcfa\" stroke=\"#000000\" points=\"642,-461.5 498,-461.5 498,-408.5 642,-408.5 642,-461.5\"/>\n<text text-anchor=\"middle\" x=\"570\" y=\"-446.3\" font-family=\"Helvetica,sans-Serif\" font-size=\"14.00\" fill=\"#000000\">squared_error = 0.0</text>\n<text text-anchor=\"middle\" x=\"570\" y=\"-431.3\" font-family=\"Helvetica,sans-Serif\" font-size=\"14.00\" fill=\"#000000\">samples = 1</text>\n<text text-anchor=\"middle\" x=\"570\" y=\"-416.3\" font-family=\"Helvetica,sans-Serif\" font-size=\"14.00\" fill=\"#000000\">value = 0.002</text>\n</g>\n<!-- 4&#45;&gt;8 -->\n<g id=\"edge8\" class=\"edge\">\n<title>4&#45;&gt;8</title>\n<path fill=\"none\" stroke=\"#000000\" d=\"M570,-504.9465C570,-494.2621 570,-482.4254 570,-471.5742\"/>\n<polygon fill=\"#000000\" stroke=\"#000000\" points=\"573.5001,-471.5421 570,-461.5422 566.5001,-471.5422 573.5001,-471.5421\"/>\n</g>\n<!-- 6 -->\n<g id=\"node7\" class=\"node\">\n<title>6</title>\n<polygon fill=\"#fef9f5\" stroke=\"#000000\" points=\"144,-357.5 0,-357.5 0,-304.5 144,-304.5 144,-357.5\"/>\n<text text-anchor=\"middle\" x=\"72\" y=\"-342.3\" font-family=\"Helvetica,sans-Serif\" font-size=\"14.00\" fill=\"#000000\">squared_error = 0.0</text>\n<text text-anchor=\"middle\" x=\"72\" y=\"-327.3\" font-family=\"Helvetica,sans-Serif\" font-size=\"14.00\" fill=\"#000000\">samples = 1</text>\n<text text-anchor=\"middle\" x=\"72\" y=\"-312.3\" font-family=\"Helvetica,sans-Serif\" font-size=\"14.00\" fill=\"#000000\">value = 0.003</text>\n</g>\n<!-- 5&#45;&gt;6 -->\n<g id=\"edge6\" class=\"edge\">\n<title>5&#45;&gt;6</title>\n<path fill=\"none\" stroke=\"#000000\" d=\"M180.9551,-400.9465C161.9957,-388.775 140.7073,-375.1084 122.0121,-363.1066\"/>\n<polygon fill=\"#000000\" stroke=\"#000000\" points=\"123.6505,-359.9992 113.3445,-357.5422 119.8689,-365.8898 123.6505,-359.9992\"/>\n</g>\n<!-- 7 -->\n<g id=\"node8\" class=\"node\">\n<title>7</title>\n<polygon fill=\"#fefaf7\" stroke=\"#000000\" points=\"306,-357.5 162,-357.5 162,-304.5 306,-304.5 306,-357.5\"/>\n<text text-anchor=\"middle\" x=\"234\" y=\"-342.3\" font-family=\"Helvetica,sans-Serif\" font-size=\"14.00\" fill=\"#000000\">squared_error = 0.0</text>\n<text text-anchor=\"middle\" x=\"234\" y=\"-327.3\" font-family=\"Helvetica,sans-Serif\" font-size=\"14.00\" fill=\"#000000\">samples = 1</text>\n<text text-anchor=\"middle\" x=\"234\" y=\"-312.3\" font-family=\"Helvetica,sans-Serif\" font-size=\"14.00\" fill=\"#000000\">value = 0.003</text>\n</g>\n<!-- 5&#45;&gt;7 -->\n<g id=\"edge7\" class=\"edge\">\n<title>5&#45;&gt;7</title>\n<path fill=\"none\" stroke=\"#000000\" d=\"M234,-400.9465C234,-390.2621 234,-378.4254 234,-367.5742\"/>\n<polygon fill=\"#000000\" stroke=\"#000000\" points=\"237.5001,-367.5421 234,-357.5422 230.5001,-367.5422 237.5001,-367.5421\"/>\n</g>\n<!-- 10 -->\n<g id=\"node11\" class=\"node\">\n<title>10</title>\n<polygon fill=\"#f7d8c1\" stroke=\"#000000\" points=\"1637.5,-573 1370.5,-573 1370.5,-505 1637.5,-505 1637.5,-573\"/>\n<text text-anchor=\"middle\" x=\"1504\" y=\"-557.8\" font-family=\"Helvetica,sans-Serif\" font-size=\"14.00\" fill=\"#000000\">summer_2020_fully_vaccinated &lt;= 6.0</text>\n<text text-anchor=\"middle\" x=\"1504\" y=\"-542.8\" font-family=\"Helvetica,sans-Serif\" font-size=\"14.00\" fill=\"#000000\">squared_error = 0.0</text>\n<text text-anchor=\"middle\" x=\"1504\" y=\"-527.8\" font-family=\"Helvetica,sans-Serif\" font-size=\"14.00\" fill=\"#000000\">samples = 14</text>\n<text text-anchor=\"middle\" x=\"1504\" y=\"-512.8\" font-family=\"Helvetica,sans-Serif\" font-size=\"14.00\" fill=\"#000000\">value = 0.012</text>\n</g>\n<!-- 9&#45;&gt;10 -->\n<g id=\"edge10\" class=\"edge\">\n<title>9&#45;&gt;10</title>\n<path fill=\"none\" stroke=\"#000000\" d=\"M1664.7425,-608.9465C1641.4268,-598.8008 1615.7236,-587.6161 1591.839,-577.2228\"/>\n<polygon fill=\"#000000\" stroke=\"#000000\" points=\"1592.9994,-573.9108 1582.4334,-573.13 1590.2063,-580.3294 1592.9994,-573.9108\"/>\n</g>\n<!-- 37 -->\n<g id=\"node38\" class=\"node\">\n<title>37</title>\n<polygon fill=\"#fbeadd\" stroke=\"#000000\" points=\"2222.5,-573 1905.5,-573 1905.5,-505 2222.5,-505 2222.5,-573\"/>\n<text text-anchor=\"middle\" x=\"2064\" y=\"-557.8\" font-family=\"Helvetica,sans-Serif\" font-size=\"14.00\" fill=\"#000000\">summer_2020_Unemployment_Rate &lt;= 0.099</text>\n<text text-anchor=\"middle\" x=\"2064\" y=\"-542.8\" font-family=\"Helvetica,sans-Serif\" font-size=\"14.00\" fill=\"#000000\">squared_error = 0.0</text>\n<text text-anchor=\"middle\" x=\"2064\" y=\"-527.8\" font-family=\"Helvetica,sans-Serif\" font-size=\"14.00\" fill=\"#000000\">samples = 10</text>\n<text text-anchor=\"middle\" x=\"2064\" y=\"-512.8\" font-family=\"Helvetica,sans-Serif\" font-size=\"14.00\" fill=\"#000000\">value = 0.007</text>\n</g>\n<!-- 9&#45;&gt;37 -->\n<g id=\"edge37\" class=\"edge\">\n<title>9&#45;&gt;37</title>\n<path fill=\"none\" stroke=\"#000000\" d=\"M1848.1074,-608.9465C1880.4758,-598.4596 1916.2701,-586.8626 1949.2519,-576.177\"/>\n<polygon fill=\"#000000\" stroke=\"#000000\" points=\"1950.4964,-579.4529 1958.9308,-573.0411 1948.3388,-572.7937 1950.4964,-579.4529\"/>\n</g>\n<!-- 11 -->\n<g id=\"node12\" class=\"node\">\n<title>11</title>\n<polygon fill=\"#f6d1b7\" stroke=\"#000000\" points=\"1028.5,-469 787.5,-469 787.5,-401 1028.5,-401 1028.5,-469\"/>\n<text text-anchor=\"middle\" x=\"908\" y=\"-453.8\" font-family=\"Helvetica,sans-Serif\" font-size=\"14.00\" fill=\"#000000\">libertarian_votes_percent &lt;= 0.012</text>\n<text text-anchor=\"middle\" x=\"908\" y=\"-438.8\" font-family=\"Helvetica,sans-Serif\" font-size=\"14.00\" fill=\"#000000\">squared_error = 0.0</text>\n<text text-anchor=\"middle\" x=\"908\" y=\"-423.8\" font-family=\"Helvetica,sans-Serif\" font-size=\"14.00\" fill=\"#000000\">samples = 8</text>\n<text text-anchor=\"middle\" x=\"908\" y=\"-408.8\" font-family=\"Helvetica,sans-Serif\" font-size=\"14.00\" fill=\"#000000\">value = 0.013</text>\n</g>\n<!-- 10&#45;&gt;11 -->\n<g id=\"edge11\" class=\"edge\">\n<title>10&#45;&gt;11</title>\n<path fill=\"none\" stroke=\"#000000\" d=\"M1370.246,-515.6604C1271.201,-498.3774 1136.9532,-474.9516 1038.6535,-457.7986\"/>\n<polygon fill=\"#000000\" stroke=\"#000000\" points=\"1039.1086,-454.3252 1028.6558,-456.054 1037.9052,-461.221 1039.1086,-454.3252\"/>\n</g>\n<!-- 26 -->\n<g id=\"node27\" class=\"node\">\n<title>26</title>\n<polygon fill=\"#f9e0cf\" stroke=\"#000000\" points=\"1589,-469 1419,-469 1419,-401 1589,-401 1589,-469\"/>\n<text text-anchor=\"middle\" x=\"1504\" y=\"-453.8\" font-family=\"Helvetica,sans-Serif\" font-size=\"14.00\" fill=\"#000000\">population &lt;= 815374.0</text>\n<text text-anchor=\"middle\" x=\"1504\" y=\"-438.8\" font-family=\"Helvetica,sans-Serif\" font-size=\"14.00\" fill=\"#000000\">squared_error = 0.0</text>\n<text text-anchor=\"middle\" x=\"1504\" y=\"-423.8\" font-family=\"Helvetica,sans-Serif\" font-size=\"14.00\" fill=\"#000000\">samples = 6</text>\n<text text-anchor=\"middle\" x=\"1504\" y=\"-408.8\" font-family=\"Helvetica,sans-Serif\" font-size=\"14.00\" fill=\"#000000\">value = 0.009</text>\n</g>\n<!-- 10&#45;&gt;26 -->\n<g id=\"edge26\" class=\"edge\">\n<title>10&#45;&gt;26</title>\n<path fill=\"none\" stroke=\"#000000\" d=\"M1504,-504.9465C1504,-496.776 1504,-487.9318 1504,-479.3697\"/>\n<polygon fill=\"#000000\" stroke=\"#000000\" points=\"1507.5001,-479.13 1504,-469.13 1500.5001,-479.13 1507.5001,-479.13\"/>\n</g>\n<!-- 12 -->\n<g id=\"node13\" class=\"node\">\n<title>12</title>\n<polygon fill=\"#f3c7a7\" stroke=\"#000000\" points=\"611.5,-365 324.5,-365 324.5,-297 611.5,-297 611.5,-365\"/>\n<text text-anchor=\"middle\" x=\"468\" y=\"-349.8\" font-family=\"Helvetica,sans-Serif\" font-size=\"14.00\" fill=\"#000000\">summer_2020_at_least_one_dose &lt;= 1.5</text>\n<text text-anchor=\"middle\" x=\"468\" y=\"-334.8\" font-family=\"Helvetica,sans-Serif\" font-size=\"14.00\" fill=\"#000000\">squared_error = 0.0</text>\n<text text-anchor=\"middle\" x=\"468\" y=\"-319.8\" font-family=\"Helvetica,sans-Serif\" font-size=\"14.00\" fill=\"#000000\">samples = 3</text>\n<text text-anchor=\"middle\" x=\"468\" y=\"-304.8\" font-family=\"Helvetica,sans-Serif\" font-size=\"14.00\" fill=\"#000000\">value = 0.016</text>\n</g>\n<!-- 11&#45;&gt;12 -->\n<g id=\"edge12\" class=\"edge\">\n<title>11&#45;&gt;12</title>\n<path fill=\"none\" stroke=\"#000000\" d=\"M787.4772,-406.5128C736.3397,-394.4258 676.119,-380.1918 621.8268,-367.3591\"/>\n<polygon fill=\"#000000\" stroke=\"#000000\" points=\"622.2987,-363.8742 611.7617,-364.98 620.6885,-370.6865 622.2987,-363.8742\"/>\n</g>\n<!-- 17 -->\n<g id=\"node18\" class=\"node\">\n<title>17</title>\n<polygon fill=\"#f7d7c1\" stroke=\"#000000\" points=\"1042.5,-365 773.5,-365 773.5,-297 1042.5,-297 1042.5,-365\"/>\n<text text-anchor=\"middle\" x=\"908\" y=\"-349.8\" font-family=\"Helvetica,sans-Serif\" font-size=\"14.00\" fill=\"#000000\">summer_2020_moderna_doses &lt;= 0.5</text>\n<text text-anchor=\"middle\" x=\"908\" y=\"-334.8\" font-family=\"Helvetica,sans-Serif\" font-size=\"14.00\" fill=\"#000000\">squared_error = 0.0</text>\n<text text-anchor=\"middle\" x=\"908\" y=\"-319.8\" font-family=\"Helvetica,sans-Serif\" font-size=\"14.00\" fill=\"#000000\">samples = 5</text>\n<text text-anchor=\"middle\" x=\"908\" y=\"-304.8\" font-family=\"Helvetica,sans-Serif\" font-size=\"14.00\" fill=\"#000000\">value = 0.012</text>\n</g>\n<!-- 11&#45;&gt;17 -->\n<g id=\"edge17\" class=\"edge\">\n<title>11&#45;&gt;17</title>\n<path fill=\"none\" stroke=\"#000000\" d=\"M908,-400.9465C908,-392.776 908,-383.9318 908,-375.3697\"/>\n<polygon fill=\"#000000\" stroke=\"#000000\" points=\"911.5001,-375.13 908,-365.13 904.5001,-375.13 911.5001,-375.13\"/>\n</g>\n<!-- 13 -->\n<g id=\"node14\" class=\"node\">\n<title>13</title>\n<polygon fill=\"#f2bf9b\" stroke=\"#000000\" points=\"246,-253.5 102,-253.5 102,-200.5 246,-200.5 246,-253.5\"/>\n<text text-anchor=\"middle\" x=\"174\" y=\"-238.3\" font-family=\"Helvetica,sans-Serif\" font-size=\"14.00\" fill=\"#000000\">squared_error = 0.0</text>\n<text text-anchor=\"middle\" x=\"174\" y=\"-223.3\" font-family=\"Helvetica,sans-Serif\" font-size=\"14.00\" fill=\"#000000\">samples = 1</text>\n<text text-anchor=\"middle\" x=\"174\" y=\"-208.3\" font-family=\"Helvetica,sans-Serif\" font-size=\"14.00\" fill=\"#000000\">value = 0.018</text>\n</g>\n<!-- 12&#45;&gt;13 -->\n<g id=\"edge13\" class=\"edge\">\n<title>12&#45;&gt;13</title>\n<path fill=\"none\" stroke=\"#000000\" d=\"M358.7846,-296.9618C325.2906,-286.0268 288.456,-273.4963 255,-261 251.7586,-259.7893 248.4556,-258.5262 245.1273,-257.2294\"/>\n<polygon fill=\"#000000\" stroke=\"#000000\" points=\"246.2971,-253.9282 235.7108,-253.5013 243.7203,-260.4367 246.2971,-253.9282\"/>\n</g>\n<!-- 14 -->\n<g id=\"node15\" class=\"node\">\n<title>14</title>\n<polygon fill=\"#f4cbae\" stroke=\"#000000\" points=\"533.5,-261 264.5,-261 264.5,-193 533.5,-193 533.5,-261\"/>\n<text text-anchor=\"middle\" x=\"399\" y=\"-245.8\" font-family=\"Helvetica,sans-Serif\" font-size=\"14.00\" fill=\"#000000\">summer_2020_moderna_doses &lt;= 1.0</text>\n<text text-anchor=\"middle\" x=\"399\" y=\"-230.8\" font-family=\"Helvetica,sans-Serif\" font-size=\"14.00\" fill=\"#000000\">squared_error = 0.0</text>\n<text text-anchor=\"middle\" x=\"399\" y=\"-215.8\" font-family=\"Helvetica,sans-Serif\" font-size=\"14.00\" fill=\"#000000\">samples = 2</text>\n<text text-anchor=\"middle\" x=\"399\" y=\"-200.8\" font-family=\"Helvetica,sans-Serif\" font-size=\"14.00\" fill=\"#000000\">value = 0.015</text>\n</g>\n<!-- 12&#45;&gt;14 -->\n<g id=\"edge14\" class=\"edge\">\n<title>12&#45;&gt;14</title>\n<path fill=\"none\" stroke=\"#000000\" d=\"M445.4068,-296.9465C439.6286,-288.2373 433.3425,-278.7626 427.3166,-269.6801\"/>\n<polygon fill=\"#000000\" stroke=\"#000000\" points=\"430.089,-267.5278 421.6439,-261.13 424.256,-271.3978 430.089,-267.5278\"/>\n</g>\n<!-- 15 -->\n<g id=\"node16\" class=\"node\">\n<title>15</title>\n<polygon fill=\"#f5cdb0\" stroke=\"#000000\" points=\"302,-149.5 158,-149.5 158,-96.5 302,-96.5 302,-149.5\"/>\n<text text-anchor=\"middle\" x=\"230\" y=\"-134.3\" font-family=\"Helvetica,sans-Serif\" font-size=\"14.00\" fill=\"#000000\">squared_error = 0.0</text>\n<text text-anchor=\"middle\" x=\"230\" y=\"-119.3\" font-family=\"Helvetica,sans-Serif\" font-size=\"14.00\" fill=\"#000000\">samples = 1</text>\n<text text-anchor=\"middle\" x=\"230\" y=\"-104.3\" font-family=\"Helvetica,sans-Serif\" font-size=\"14.00\" fill=\"#000000\">value = 0.014</text>\n</g>\n<!-- 14&#45;&gt;15 -->\n<g id=\"edge15\" class=\"edge\">\n<title>14&#45;&gt;15</title>\n<path fill=\"none\" stroke=\"#000000\" d=\"M343.6631,-192.9465C323.7949,-180.72 301.4751,-166.9847 281.9086,-154.9437\"/>\n<polygon fill=\"#000000\" stroke=\"#000000\" points=\"283.482,-151.8024 273.131,-149.5422 279.8133,-157.764 283.482,-151.8024\"/>\n</g>\n<!-- 16 -->\n<g id=\"node17\" class=\"node\">\n<title>16</title>\n<polygon fill=\"#f4caab\" stroke=\"#000000\" points=\"464,-149.5 320,-149.5 320,-96.5 464,-96.5 464,-149.5\"/>\n<text text-anchor=\"middle\" x=\"392\" y=\"-134.3\" font-family=\"Helvetica,sans-Serif\" font-size=\"14.00\" fill=\"#000000\">squared_error = 0.0</text>\n<text text-anchor=\"middle\" x=\"392\" y=\"-119.3\" font-family=\"Helvetica,sans-Serif\" font-size=\"14.00\" fill=\"#000000\">samples = 1</text>\n<text text-anchor=\"middle\" x=\"392\" y=\"-104.3\" font-family=\"Helvetica,sans-Serif\" font-size=\"14.00\" fill=\"#000000\">value = 0.015</text>\n</g>\n<!-- 14&#45;&gt;16 -->\n<g id=\"edge16\" class=\"edge\">\n<title>14&#45;&gt;16</title>\n<path fill=\"none\" stroke=\"#000000\" d=\"M396.7079,-192.9465C395.9888,-182.2621 395.1921,-170.4254 394.4617,-159.5742\"/>\n<polygon fill=\"#000000\" stroke=\"#000000\" points=\"397.9502,-159.2845 393.7865,-149.5422 390.966,-159.7547 397.9502,-159.2845\"/>\n</g>\n<!-- 18 -->\n<g id=\"node19\" class=\"node\">\n<title>18</title>\n<polygon fill=\"#f8dfcc\" stroke=\"#000000\" points=\"853,-261 559,-261 559,-193 853,-193 853,-261\"/>\n<text text-anchor=\"middle\" x=\"706\" y=\"-245.8\" font-family=\"Helvetica,sans-Serif\" font-size=\"14.00\" fill=\"#000000\">summer_2020_doses_administered &lt;= 3.5</text>\n<text text-anchor=\"middle\" x=\"706\" y=\"-230.8\" font-family=\"Helvetica,sans-Serif\" font-size=\"14.00\" fill=\"#000000\">squared_error = 0.0</text>\n<text text-anchor=\"middle\" x=\"706\" y=\"-215.8\" font-family=\"Helvetica,sans-Serif\" font-size=\"14.00\" fill=\"#000000\">samples = 2</text>\n<text text-anchor=\"middle\" x=\"706\" y=\"-200.8\" font-family=\"Helvetica,sans-Serif\" font-size=\"14.00\" fill=\"#000000\">value = 0.01</text>\n</g>\n<!-- 17&#45;&gt;18 -->\n<g id=\"edge18\" class=\"edge\">\n<title>17&#45;&gt;18</title>\n<path fill=\"none\" stroke=\"#000000\" d=\"M841.8576,-296.9465C822.5003,-286.9803 801.1958,-276.0117 781.3138,-265.7754\"/>\n<polygon fill=\"#000000\" stroke=\"#000000\" points=\"782.7839,-262.5957 772.291,-261.13 779.5797,-268.8193 782.7839,-262.5957\"/>\n</g>\n<!-- 21 -->\n<g id=\"node22\" class=\"node\">\n<title>21</title>\n<polygon fill=\"#f6d2b9\" stroke=\"#000000\" points=\"1082.5,-261 871.5,-261 871.5,-193 1082.5,-193 1082.5,-261\"/>\n<text text-anchor=\"middle\" x=\"977\" y=\"-245.8\" font-family=\"Helvetica,sans-Serif\" font-size=\"14.00\" fill=\"#000000\">other_votes_percent &lt;= 0.006</text>\n<text text-anchor=\"middle\" x=\"977\" y=\"-230.8\" font-family=\"Helvetica,sans-Serif\" font-size=\"14.00\" fill=\"#000000\">squared_error = 0.0</text>\n<text text-anchor=\"middle\" x=\"977\" y=\"-215.8\" font-family=\"Helvetica,sans-Serif\" font-size=\"14.00\" fill=\"#000000\">samples = 3</text>\n<text text-anchor=\"middle\" x=\"977\" y=\"-200.8\" font-family=\"Helvetica,sans-Serif\" font-size=\"14.00\" fill=\"#000000\">value = 0.013</text>\n</g>\n<!-- 17&#45;&gt;21 -->\n<g id=\"edge21\" class=\"edge\">\n<title>17&#45;&gt;21</title>\n<path fill=\"none\" stroke=\"#000000\" d=\"M930.5932,-296.9465C936.3714,-288.2373 942.6575,-278.7626 948.6834,-269.6801\"/>\n<polygon fill=\"#000000\" stroke=\"#000000\" points=\"951.744,-271.3978 954.3561,-261.13 945.911,-267.5278 951.744,-271.3978\"/>\n</g>\n<!-- 19 -->\n<g id=\"node20\" class=\"node\">\n<title>19</title>\n<polygon fill=\"#f9e1cf\" stroke=\"#000000\" points=\"626,-149.5 482,-149.5 482,-96.5 626,-96.5 626,-149.5\"/>\n<text text-anchor=\"middle\" x=\"554\" y=\"-134.3\" font-family=\"Helvetica,sans-Serif\" font-size=\"14.00\" fill=\"#000000\">squared_error = 0.0</text>\n<text text-anchor=\"middle\" x=\"554\" y=\"-119.3\" font-family=\"Helvetica,sans-Serif\" font-size=\"14.00\" fill=\"#000000\">samples = 1</text>\n<text text-anchor=\"middle\" x=\"554\" y=\"-104.3\" font-family=\"Helvetica,sans-Serif\" font-size=\"14.00\" fill=\"#000000\">value = 0.009</text>\n</g>\n<!-- 18&#45;&gt;19 -->\n<g id=\"edge19\" class=\"edge\">\n<title>18&#45;&gt;19</title>\n<path fill=\"none\" stroke=\"#000000\" d=\"M656.2295,-192.9465C638.5209,-180.8301 618.6468,-167.232 601.1632,-155.2696\"/>\n<polygon fill=\"#000000\" stroke=\"#000000\" points=\"603.0219,-152.3005 592.7924,-149.5422 599.0691,-158.0776 603.0219,-152.3005\"/>\n</g>\n<!-- 20 -->\n<g id=\"node21\" class=\"node\">\n<title>20</title>\n<polygon fill=\"#f8ddc9\" stroke=\"#000000\" points=\"793.5,-149.5 644.5,-149.5 644.5,-96.5 793.5,-96.5 793.5,-149.5\"/>\n<text text-anchor=\"middle\" x=\"719\" y=\"-134.3\" font-family=\"Helvetica,sans-Serif\" font-size=\"14.00\" fill=\"#000000\">squared_error = &#45;0.0</text>\n<text text-anchor=\"middle\" x=\"719\" y=\"-119.3\" font-family=\"Helvetica,sans-Serif\" font-size=\"14.00\" fill=\"#000000\">samples = 1</text>\n<text text-anchor=\"middle\" x=\"719\" y=\"-104.3\" font-family=\"Helvetica,sans-Serif\" font-size=\"14.00\" fill=\"#000000\">value = 0.01</text>\n</g>\n<!-- 18&#45;&gt;20 -->\n<g id=\"edge20\" class=\"edge\">\n<title>18&#45;&gt;20</title>\n<path fill=\"none\" stroke=\"#000000\" d=\"M710.2567,-192.9465C711.5922,-182.2621 713.0718,-170.4254 714.4282,-159.5742\"/>\n<polygon fill=\"#000000\" stroke=\"#000000\" points=\"717.9148,-159.8991 715.6822,-149.5422 710.9688,-159.0308 717.9148,-159.8991\"/>\n</g>\n<!-- 22 -->\n<g id=\"node23\" class=\"node\">\n<title>22</title>\n<polygon fill=\"#f5ceb3\" stroke=\"#000000\" points=\"956,-149.5 812,-149.5 812,-96.5 956,-96.5 956,-149.5\"/>\n<text text-anchor=\"middle\" x=\"884\" y=\"-134.3\" font-family=\"Helvetica,sans-Serif\" font-size=\"14.00\" fill=\"#000000\">squared_error = 0.0</text>\n<text text-anchor=\"middle\" x=\"884\" y=\"-119.3\" font-family=\"Helvetica,sans-Serif\" font-size=\"14.00\" fill=\"#000000\">samples = 1</text>\n<text text-anchor=\"middle\" x=\"884\" y=\"-104.3\" font-family=\"Helvetica,sans-Serif\" font-size=\"14.00\" fill=\"#000000\">value = 0.014</text>\n</g>\n<!-- 21&#45;&gt;22 -->\n<g id=\"edge22\" class=\"edge\">\n<title>21&#45;&gt;22</title>\n<path fill=\"none\" stroke=\"#000000\" d=\"M946.5483,-192.9465C936.3045,-181.491 924.8762,-168.711 914.6195,-157.2412\"/>\n<polygon fill=\"#000000\" stroke=\"#000000\" points=\"917.0097,-154.6634 907.7348,-149.5422 911.7917,-159.3295 917.0097,-154.6634\"/>\n</g>\n<!-- 23 -->\n<g id=\"node24\" class=\"node\">\n<title>23</title>\n<polygon fill=\"#f6d4bc\" stroke=\"#000000\" points=\"1318,-157 974,-157 974,-89 1318,-89 1318,-157\"/>\n<text text-anchor=\"middle\" x=\"1146\" y=\"-141.8\" font-family=\"Helvetica,sans-Serif\" font-size=\"14.00\" fill=\"#000000\">summer_2020_at_least_one_dose_percent &lt;= 0.0</text>\n<text text-anchor=\"middle\" x=\"1146\" y=\"-126.8\" font-family=\"Helvetica,sans-Serif\" font-size=\"14.00\" fill=\"#000000\">squared_error = 0.0</text>\n<text text-anchor=\"middle\" x=\"1146\" y=\"-111.8\" font-family=\"Helvetica,sans-Serif\" font-size=\"14.00\" fill=\"#000000\">samples = 2</text>\n<text text-anchor=\"middle\" x=\"1146\" y=\"-96.8\" font-family=\"Helvetica,sans-Serif\" font-size=\"14.00\" fill=\"#000000\">value = 0.012</text>\n</g>\n<!-- 21&#45;&gt;23 -->\n<g id=\"edge23\" class=\"edge\">\n<title>21&#45;&gt;23</title>\n<path fill=\"none\" stroke=\"#000000\" d=\"M1032.3369,-192.9465C1048.0942,-183.2497 1065.3937,-172.6039 1081.6387,-162.6069\"/>\n<polygon fill=\"#000000\" stroke=\"#000000\" points=\"1083.8565,-165.3518 1090.5388,-157.13 1080.1878,-159.3902 1083.8565,-165.3518\"/>\n</g>\n<!-- 24 -->\n<g id=\"node25\" class=\"node\">\n<title>24</title>\n<polygon fill=\"#f7d6be\" stroke=\"#000000\" points=\"1137,-53 993,-53 993,0 1137,0 1137,-53\"/>\n<text text-anchor=\"middle\" x=\"1065\" y=\"-37.8\" font-family=\"Helvetica,sans-Serif\" font-size=\"14.00\" fill=\"#000000\">squared_error = 0.0</text>\n<text text-anchor=\"middle\" x=\"1065\" y=\"-22.8\" font-family=\"Helvetica,sans-Serif\" font-size=\"14.00\" fill=\"#000000\">samples = 1</text>\n<text text-anchor=\"middle\" x=\"1065\" y=\"-7.8\" font-family=\"Helvetica,sans-Serif\" font-size=\"14.00\" fill=\"#000000\">value = 0.012</text>\n</g>\n<!-- 23&#45;&gt;24 -->\n<g id=\"edge24\" class=\"edge\">\n<title>23&#45;&gt;24</title>\n<path fill=\"none\" stroke=\"#000000\" d=\"M1117.4424,-88.9777C1109.8331,-79.9123 1101.6061,-70.111 1093.9747,-61.0192\"/>\n<polygon fill=\"#000000\" stroke=\"#000000\" points=\"1096.562,-58.6577 1087.4521,-53.2485 1091.2005,-63.1581 1096.562,-58.6577\"/>\n</g>\n<!-- 25 -->\n<g id=\"node26\" class=\"node\">\n<title>25</title>\n<polygon fill=\"#f6d3ba\" stroke=\"#000000\" points=\"1299,-53 1155,-53 1155,0 1299,0 1299,-53\"/>\n<text text-anchor=\"middle\" x=\"1227\" y=\"-37.8\" font-family=\"Helvetica,sans-Serif\" font-size=\"14.00\" fill=\"#000000\">squared_error = 0.0</text>\n<text text-anchor=\"middle\" x=\"1227\" y=\"-22.8\" font-family=\"Helvetica,sans-Serif\" font-size=\"14.00\" fill=\"#000000\">samples = 1</text>\n<text text-anchor=\"middle\" x=\"1227\" y=\"-7.8\" font-family=\"Helvetica,sans-Serif\" font-size=\"14.00\" fill=\"#000000\">value = 0.013</text>\n</g>\n<!-- 23&#45;&gt;25 -->\n<g id=\"edge25\" class=\"edge\">\n<title>23&#45;&gt;25</title>\n<path fill=\"none\" stroke=\"#000000\" d=\"M1174.5576,-88.9777C1182.1669,-79.9123 1190.3939,-70.111 1198.0253,-61.0192\"/>\n<polygon fill=\"#000000\" stroke=\"#000000\" points=\"1200.7995,-63.1581 1204.5479,-53.2485 1195.438,-58.6577 1200.7995,-63.1581\"/>\n</g>\n<!-- 27 -->\n<g id=\"node28\" class=\"node\">\n<title>27</title>\n<polygon fill=\"#fae6d8\" stroke=\"#000000\" points=\"1535,-365 1233,-365 1233,-297 1535,-297 1535,-365\"/>\n<text text-anchor=\"middle\" x=\"1384\" y=\"-349.8\" font-family=\"Helvetica,sans-Serif\" font-size=\"14.00\" fill=\"#000000\">summer_2020_doses_administered &lt;= 22.0</text>\n<text text-anchor=\"middle\" x=\"1384\" y=\"-334.8\" font-family=\"Helvetica,sans-Serif\" font-size=\"14.00\" fill=\"#000000\">squared_error = 0.0</text>\n<text text-anchor=\"middle\" x=\"1384\" y=\"-319.8\" font-family=\"Helvetica,sans-Serif\" font-size=\"14.00\" fill=\"#000000\">samples = 3</text>\n<text text-anchor=\"middle\" x=\"1384\" y=\"-304.8\" font-family=\"Helvetica,sans-Serif\" font-size=\"14.00\" fill=\"#000000\">value = 0.008</text>\n</g>\n<!-- 26&#45;&gt;27 -->\n<g id=\"edge27\" class=\"edge\">\n<title>26&#45;&gt;27</title>\n<path fill=\"none\" stroke=\"#000000\" d=\"M1464.7075,-400.9465C1453.9333,-391.6088 1442.1436,-381.3911 1430.985,-371.7203\"/>\n<polygon fill=\"#000000\" stroke=\"#000000\" points=\"1433.2299,-369.0344 1423.3808,-365.13 1428.6454,-374.3243 1433.2299,-369.0344\"/>\n</g>\n<!-- 32 -->\n<g id=\"node33\" class=\"node\">\n<title>32</title>\n<polygon fill=\"#f7dbc6\" stroke=\"#000000\" points=\"1852.5,-365 1553.5,-365 1553.5,-297 1852.5,-297 1852.5,-365\"/>\n<text text-anchor=\"middle\" x=\"1703\" y=\"-349.8\" font-family=\"Helvetica,sans-Serif\" font-size=\"14.00\" fill=\"#000000\">summer_2020_partially_vaccinated &lt;= 92.5</text>\n<text text-anchor=\"middle\" x=\"1703\" y=\"-334.8\" font-family=\"Helvetica,sans-Serif\" font-size=\"14.00\" fill=\"#000000\">squared_error = 0.0</text>\n<text text-anchor=\"middle\" x=\"1703\" y=\"-319.8\" font-family=\"Helvetica,sans-Serif\" font-size=\"14.00\" fill=\"#000000\">samples = 3</text>\n<text text-anchor=\"middle\" x=\"1703\" y=\"-304.8\" font-family=\"Helvetica,sans-Serif\" font-size=\"14.00\" fill=\"#000000\">value = 0.011</text>\n</g>\n<!-- 26&#45;&gt;32 -->\n<g id=\"edge32\" class=\"edge\">\n<title>26&#45;&gt;32</title>\n<path fill=\"none\" stroke=\"#000000\" d=\"M1569.16,-400.9465C1588.2299,-390.9803 1609.218,-380.0117 1628.8048,-369.7754\"/>\n<polygon fill=\"#000000\" stroke=\"#000000\" points=\"1630.452,-372.8637 1637.6936,-365.13 1627.2098,-366.6599 1630.452,-372.8637\"/>\n</g>\n<!-- 28 -->\n<g id=\"node29\" class=\"node\">\n<title>28</title>\n<polygon fill=\"#fbeadf\" stroke=\"#000000\" points=\"1310,-253.5 1166,-253.5 1166,-200.5 1310,-200.5 1310,-253.5\"/>\n<text text-anchor=\"middle\" x=\"1238\" y=\"-238.3\" font-family=\"Helvetica,sans-Serif\" font-size=\"14.00\" fill=\"#000000\">squared_error = 0.0</text>\n<text text-anchor=\"middle\" x=\"1238\" y=\"-223.3\" font-family=\"Helvetica,sans-Serif\" font-size=\"14.00\" fill=\"#000000\">samples = 1</text>\n<text text-anchor=\"middle\" x=\"1238\" y=\"-208.3\" font-family=\"Helvetica,sans-Serif\" font-size=\"14.00\" fill=\"#000000\">value = 0.007</text>\n</g>\n<!-- 27&#45;&gt;28 -->\n<g id=\"edge28\" class=\"edge\">\n<title>27&#45;&gt;28</title>\n<path fill=\"none\" stroke=\"#000000\" d=\"M1336.1941,-296.9465C1319.3392,-284.9403 1300.4419,-271.4791 1283.7601,-259.5962\"/>\n<polygon fill=\"#000000\" stroke=\"#000000\" points=\"1285.4367,-256.4933 1275.2611,-253.5422 1281.3753,-262.1947 1285.4367,-256.4933\"/>\n</g>\n<!-- 29 -->\n<g id=\"node30\" class=\"node\">\n<title>29</title>\n<polygon fill=\"#f9e4d5\" stroke=\"#000000\" points=\"1543.5,-261 1328.5,-261 1328.5,-193 1543.5,-193 1543.5,-261\"/>\n<text text-anchor=\"middle\" x=\"1436\" y=\"-245.8\" font-family=\"Helvetica,sans-Serif\" font-size=\"14.00\" fill=\"#000000\">green_votes_percent &lt;= 0.004</text>\n<text text-anchor=\"middle\" x=\"1436\" y=\"-230.8\" font-family=\"Helvetica,sans-Serif\" font-size=\"14.00\" fill=\"#000000\">squared_error = 0.0</text>\n<text text-anchor=\"middle\" x=\"1436\" y=\"-215.8\" font-family=\"Helvetica,sans-Serif\" font-size=\"14.00\" fill=\"#000000\">samples = 2</text>\n<text text-anchor=\"middle\" x=\"1436\" y=\"-200.8\" font-family=\"Helvetica,sans-Serif\" font-size=\"14.00\" fill=\"#000000\">value = 0.008</text>\n</g>\n<!-- 27&#45;&gt;29 -->\n<g id=\"edge29\" class=\"edge\">\n<title>27&#45;&gt;29</title>\n<path fill=\"none\" stroke=\"#000000\" d=\"M1401.0267,-296.9465C1405.2915,-288.4169 1409.9235,-279.153 1414.3788,-270.2424\"/>\n<polygon fill=\"#000000\" stroke=\"#000000\" points=\"1417.5933,-271.6395 1418.935,-261.13 1411.3323,-268.509 1417.5933,-271.6395\"/>\n</g>\n<!-- 30 -->\n<g id=\"node31\" class=\"node\">\n<title>30</title>\n<polygon fill=\"#fae5d6\" stroke=\"#000000\" points=\"1480,-149.5 1336,-149.5 1336,-96.5 1480,-96.5 1480,-149.5\"/>\n<text text-anchor=\"middle\" x=\"1408\" y=\"-134.3\" font-family=\"Helvetica,sans-Serif\" font-size=\"14.00\" fill=\"#000000\">squared_error = 0.0</text>\n<text text-anchor=\"middle\" x=\"1408\" y=\"-119.3\" font-family=\"Helvetica,sans-Serif\" font-size=\"14.00\" fill=\"#000000\">samples = 1</text>\n<text text-anchor=\"middle\" x=\"1408\" y=\"-104.3\" font-family=\"Helvetica,sans-Serif\" font-size=\"14.00\" fill=\"#000000\">value = 0.008</text>\n</g>\n<!-- 29&#45;&gt;30 -->\n<g id=\"edge30\" class=\"edge\">\n<title>29&#45;&gt;30</title>\n<path fill=\"none\" stroke=\"#000000\" d=\"M1426.8318,-192.9465C1423.9255,-182.1519 1420.7026,-170.1813 1417.7566,-159.2389\"/>\n<polygon fill=\"#000000\" stroke=\"#000000\" points=\"1421.1254,-158.2884 1415.146,-149.5422 1414.3661,-160.1083 1421.1254,-158.2884\"/>\n</g>\n<!-- 31 -->\n<g id=\"node32\" class=\"node\">\n<title>31</title>\n<polygon fill=\"#f9e3d3\" stroke=\"#000000\" points=\"1642,-149.5 1498,-149.5 1498,-96.5 1642,-96.5 1642,-149.5\"/>\n<text text-anchor=\"middle\" x=\"1570\" y=\"-134.3\" font-family=\"Helvetica,sans-Serif\" font-size=\"14.00\" fill=\"#000000\">squared_error = 0.0</text>\n<text text-anchor=\"middle\" x=\"1570\" y=\"-119.3\" font-family=\"Helvetica,sans-Serif\" font-size=\"14.00\" fill=\"#000000\">samples = 1</text>\n<text text-anchor=\"middle\" x=\"1570\" y=\"-104.3\" font-family=\"Helvetica,sans-Serif\" font-size=\"14.00\" fill=\"#000000\">value = 0.009</text>\n</g>\n<!-- 29&#45;&gt;31 -->\n<g id=\"edge31\" class=\"edge\">\n<title>29&#45;&gt;31</title>\n<path fill=\"none\" stroke=\"#000000\" d=\"M1479.8766,-192.9465C1495.2043,-181.0504 1512.3723,-167.726 1527.5791,-155.9237\"/>\n<polygon fill=\"#000000\" stroke=\"#000000\" points=\"1530.0475,-158.4384 1535.8014,-149.5422 1525.7556,-152.9085 1530.0475,-158.4384\"/>\n</g>\n<!-- 33 -->\n<g id=\"node34\" class=\"node\">\n<title>33</title>\n<polygon fill=\"#f8ddc9\" stroke=\"#000000\" points=\"1792,-261 1614,-261 1614,-193 1792,-193 1792,-261\"/>\n<text text-anchor=\"middle\" x=\"1703\" y=\"-245.8\" font-family=\"Helvetica,sans-Serif\" font-size=\"14.00\" fill=\"#000000\">population &lt;= 2040633.0</text>\n<text text-anchor=\"middle\" x=\"1703\" y=\"-230.8\" font-family=\"Helvetica,sans-Serif\" font-size=\"14.00\" fill=\"#000000\">squared_error = 0.0</text>\n<text text-anchor=\"middle\" x=\"1703\" y=\"-215.8\" font-family=\"Helvetica,sans-Serif\" font-size=\"14.00\" fill=\"#000000\">samples = 2</text>\n<text text-anchor=\"middle\" x=\"1703\" y=\"-200.8\" font-family=\"Helvetica,sans-Serif\" font-size=\"14.00\" fill=\"#000000\">value = 0.01</text>\n</g>\n<!-- 32&#45;&gt;33 -->\n<g id=\"edge33\" class=\"edge\">\n<title>32&#45;&gt;33</title>\n<path fill=\"none\" stroke=\"#000000\" d=\"M1703,-296.9465C1703,-288.776 1703,-279.9318 1703,-271.3697\"/>\n<polygon fill=\"#000000\" stroke=\"#000000\" points=\"1706.5001,-271.13 1703,-261.13 1699.5001,-271.13 1706.5001,-271.13\"/>\n</g>\n<!-- 36 -->\n<g id=\"node37\" class=\"node\">\n<title>36</title>\n<polygon fill=\"#f7d6bf\" stroke=\"#000000\" points=\"1954,-253.5 1810,-253.5 1810,-200.5 1954,-200.5 1954,-253.5\"/>\n<text text-anchor=\"middle\" x=\"1882\" y=\"-238.3\" font-family=\"Helvetica,sans-Serif\" font-size=\"14.00\" fill=\"#000000\">squared_error = 0.0</text>\n<text text-anchor=\"middle\" x=\"1882\" y=\"-223.3\" font-family=\"Helvetica,sans-Serif\" font-size=\"14.00\" fill=\"#000000\">samples = 1</text>\n<text text-anchor=\"middle\" x=\"1882\" y=\"-208.3\" font-family=\"Helvetica,sans-Serif\" font-size=\"14.00\" fill=\"#000000\">value = 0.012</text>\n</g>\n<!-- 32&#45;&gt;36 -->\n<g id=\"edge36\" class=\"edge\">\n<title>32&#45;&gt;36</title>\n<path fill=\"none\" stroke=\"#000000\" d=\"M1761.6113,-296.9465C1782.8446,-284.6098 1806.7218,-270.7371 1827.5793,-258.6187\"/>\n<polygon fill=\"#000000\" stroke=\"#000000\" points=\"1829.4286,-261.5922 1836.3169,-253.5422 1825.912,-255.5396 1829.4286,-261.5922\"/>\n</g>\n<!-- 34 -->\n<g id=\"node35\" class=\"node\">\n<title>34</title>\n<polygon fill=\"#f8dbc7\" stroke=\"#000000\" points=\"1804,-149.5 1660,-149.5 1660,-96.5 1804,-96.5 1804,-149.5\"/>\n<text text-anchor=\"middle\" x=\"1732\" y=\"-134.3\" font-family=\"Helvetica,sans-Serif\" font-size=\"14.00\" fill=\"#000000\">squared_error = 0.0</text>\n<text text-anchor=\"middle\" x=\"1732\" y=\"-119.3\" font-family=\"Helvetica,sans-Serif\" font-size=\"14.00\" fill=\"#000000\">samples = 1</text>\n<text text-anchor=\"middle\" x=\"1732\" y=\"-104.3\" font-family=\"Helvetica,sans-Serif\" font-size=\"14.00\" fill=\"#000000\">value = 0.011</text>\n</g>\n<!-- 33&#45;&gt;34 -->\n<g id=\"edge34\" class=\"edge\">\n<title>33&#45;&gt;34</title>\n<path fill=\"none\" stroke=\"#000000\" d=\"M1712.4957,-192.9465C1715.5057,-182.1519 1718.8437,-170.1813 1721.8949,-159.2389\"/>\n<polygon fill=\"#000000\" stroke=\"#000000\" points=\"1725.2841,-160.1148 1724.5988,-149.5422 1718.5414,-158.2346 1725.2841,-160.1148\"/>\n</g>\n<!-- 35 -->\n<g id=\"node36\" class=\"node\">\n<title>35</title>\n<polygon fill=\"#f8decc\" stroke=\"#000000\" points=\"1966,-149.5 1822,-149.5 1822,-96.5 1966,-96.5 1966,-149.5\"/>\n<text text-anchor=\"middle\" x=\"1894\" y=\"-134.3\" font-family=\"Helvetica,sans-Serif\" font-size=\"14.00\" fill=\"#000000\">squared_error = 0.0</text>\n<text text-anchor=\"middle\" x=\"1894\" y=\"-119.3\" font-family=\"Helvetica,sans-Serif\" font-size=\"14.00\" fill=\"#000000\">samples = 1</text>\n<text text-anchor=\"middle\" x=\"1894\" y=\"-104.3\" font-family=\"Helvetica,sans-Serif\" font-size=\"14.00\" fill=\"#000000\">value = 0.01</text>\n</g>\n<!-- 33&#45;&gt;35 -->\n<g id=\"edge35\" class=\"edge\">\n<title>33&#45;&gt;35</title>\n<path fill=\"none\" stroke=\"#000000\" d=\"M1765.5405,-192.9465C1788.2985,-180.5547 1813.9027,-166.6132 1836.2289,-154.4565\"/>\n<polygon fill=\"#000000\" stroke=\"#000000\" points=\"1838.1456,-157.3982 1845.2543,-149.5422 1834.7981,-151.2504 1838.1456,-157.3982\"/>\n</g>\n<!-- 38 -->\n<g id=\"node39\" class=\"node\">\n<title>38</title>\n<polygon fill=\"#f9e0ce\" stroke=\"#000000\" points=\"2184.5,-469 1943.5,-469 1943.5,-401 2184.5,-401 2184.5,-469\"/>\n<text text-anchor=\"middle\" x=\"2064\" y=\"-453.8\" font-family=\"Helvetica,sans-Serif\" font-size=\"14.00\" fill=\"#000000\">libertarian_votes_percent &lt;= 0.012</text>\n<text text-anchor=\"middle\" x=\"2064\" y=\"-438.8\" font-family=\"Helvetica,sans-Serif\" font-size=\"14.00\" fill=\"#000000\">squared_error = 0.0</text>\n<text text-anchor=\"middle\" x=\"2064\" y=\"-423.8\" font-family=\"Helvetica,sans-Serif\" font-size=\"14.00\" fill=\"#000000\">samples = 3</text>\n<text text-anchor=\"middle\" x=\"2064\" y=\"-408.8\" font-family=\"Helvetica,sans-Serif\" font-size=\"14.00\" fill=\"#000000\">value = 0.009</text>\n</g>\n<!-- 37&#45;&gt;38 -->\n<g id=\"edge38\" class=\"edge\">\n<title>37&#45;&gt;38</title>\n<path fill=\"none\" stroke=\"#000000\" d=\"M2064,-504.9465C2064,-496.776 2064,-487.9318 2064,-479.3697\"/>\n<polygon fill=\"#000000\" stroke=\"#000000\" points=\"2067.5001,-479.13 2064,-469.13 2060.5001,-479.13 2067.5001,-479.13\"/>\n</g>\n<!-- 43 -->\n<g id=\"node44\" class=\"node\">\n<title>43</title>\n<polygon fill=\"#fbeee4\" stroke=\"#000000\" points=\"2645.5,-469 2404.5,-469 2404.5,-401 2645.5,-401 2645.5,-469\"/>\n<text text-anchor=\"middle\" x=\"2525\" y=\"-453.8\" font-family=\"Helvetica,sans-Serif\" font-size=\"14.00\" fill=\"#000000\">libertarian_votes_percent &lt;= 0.014</text>\n<text text-anchor=\"middle\" x=\"2525\" y=\"-438.8\" font-family=\"Helvetica,sans-Serif\" font-size=\"14.00\" fill=\"#000000\">squared_error = 0.0</text>\n<text text-anchor=\"middle\" x=\"2525\" y=\"-423.8\" font-family=\"Helvetica,sans-Serif\" font-size=\"14.00\" fill=\"#000000\">samples = 7</text>\n<text text-anchor=\"middle\" x=\"2525\" y=\"-408.8\" font-family=\"Helvetica,sans-Serif\" font-size=\"14.00\" fill=\"#000000\">value = 0.006</text>\n</g>\n<!-- 37&#45;&gt;43 -->\n<g id=\"edge43\" class=\"edge\">\n<title>37&#45;&gt;43</title>\n<path fill=\"none\" stroke=\"#000000\" d=\"M2214.9486,-504.9465C2272.9148,-491.8696 2338.5315,-477.0667 2394.4266,-464.4569\"/>\n<polygon fill=\"#000000\" stroke=\"#000000\" points=\"2395.4012,-467.8251 2404.3858,-462.2101 2393.8607,-460.9967 2395.4012,-467.8251\"/>\n</g>\n<!-- 39 -->\n<g id=\"node40\" class=\"node\">\n<title>39</title>\n<polygon fill=\"#f9e4d5\" stroke=\"#000000\" points=\"2015,-357.5 1871,-357.5 1871,-304.5 2015,-304.5 2015,-357.5\"/>\n<text text-anchor=\"middle\" x=\"1943\" y=\"-342.3\" font-family=\"Helvetica,sans-Serif\" font-size=\"14.00\" fill=\"#000000\">squared_error = 0.0</text>\n<text text-anchor=\"middle\" x=\"1943\" y=\"-327.3\" font-family=\"Helvetica,sans-Serif\" font-size=\"14.00\" fill=\"#000000\">samples = 1</text>\n<text text-anchor=\"middle\" x=\"1943\" y=\"-312.3\" font-family=\"Helvetica,sans-Serif\" font-size=\"14.00\" fill=\"#000000\">value = 0.008</text>\n</g>\n<!-- 38&#45;&gt;39 -->\n<g id=\"edge39\" class=\"edge\">\n<title>38&#45;&gt;39</title>\n<path fill=\"none\" stroke=\"#000000\" d=\"M2024.3801,-400.9465C2010.6676,-389.1606 1995.3239,-375.9726 1981.6873,-364.2519\"/>\n<polygon fill=\"#000000\" stroke=\"#000000\" points=\"1983.7459,-361.4061 1973.8808,-357.5422 1979.1831,-366.7147 1983.7459,-361.4061\"/>\n</g>\n<!-- 40 -->\n<g id=\"node41\" class=\"node\">\n<title>40</title>\n<polygon fill=\"#f8decb\" stroke=\"#000000\" points=\"2335,-365 2033,-365 2033,-297 2335,-297 2335,-365\"/>\n<text text-anchor=\"middle\" x=\"2184\" y=\"-349.8\" font-family=\"Helvetica,sans-Serif\" font-size=\"14.00\" fill=\"#000000\">summer_2020_doses_administered &lt;= 25.0</text>\n<text text-anchor=\"middle\" x=\"2184\" y=\"-334.8\" font-family=\"Helvetica,sans-Serif\" font-size=\"14.00\" fill=\"#000000\">squared_error = 0.0</text>\n<text text-anchor=\"middle\" x=\"2184\" y=\"-319.8\" font-family=\"Helvetica,sans-Serif\" font-size=\"14.00\" fill=\"#000000\">samples = 2</text>\n<text text-anchor=\"middle\" x=\"2184\" y=\"-304.8\" font-family=\"Helvetica,sans-Serif\" font-size=\"14.00\" fill=\"#000000\">value = 0.01</text>\n</g>\n<!-- 38&#45;&gt;40 -->\n<g id=\"edge40\" class=\"edge\">\n<title>38&#45;&gt;40</title>\n<path fill=\"none\" stroke=\"#000000\" d=\"M2103.2925,-400.9465C2114.0667,-391.6088 2125.8564,-381.3911 2137.015,-371.7203\"/>\n<polygon fill=\"#000000\" stroke=\"#000000\" points=\"2139.3546,-374.3243 2144.6192,-365.13 2134.7701,-369.0344 2139.3546,-374.3243\"/>\n</g>\n<!-- 41 -->\n<g id=\"node42\" class=\"node\">\n<title>41</title>\n<polygon fill=\"#f8dcc8\" stroke=\"#000000\" points=\"2116,-253.5 1972,-253.5 1972,-200.5 2116,-200.5 2116,-253.5\"/>\n<text text-anchor=\"middle\" x=\"2044\" y=\"-238.3\" font-family=\"Helvetica,sans-Serif\" font-size=\"14.00\" fill=\"#000000\">squared_error = 0.0</text>\n<text text-anchor=\"middle\" x=\"2044\" y=\"-223.3\" font-family=\"Helvetica,sans-Serif\" font-size=\"14.00\" fill=\"#000000\">samples = 1</text>\n<text text-anchor=\"middle\" x=\"2044\" y=\"-208.3\" font-family=\"Helvetica,sans-Serif\" font-size=\"14.00\" fill=\"#000000\">value = 0.01</text>\n</g>\n<!-- 40&#45;&gt;41 -->\n<g id=\"edge41\" class=\"edge\">\n<title>40&#45;&gt;41</title>\n<path fill=\"none\" stroke=\"#000000\" d=\"M2138.1588,-296.9465C2121.9965,-284.9403 2103.8758,-271.4791 2087.8795,-259.5962\"/>\n<polygon fill=\"#000000\" stroke=\"#000000\" points=\"2089.8444,-256.6958 2079.7298,-253.5422 2085.6701,-262.3151 2089.8444,-256.6958\"/>\n</g>\n<!-- 42 -->\n<g id=\"node43\" class=\"node\">\n<title>42</title>\n<polygon fill=\"#f8dfcd\" stroke=\"#000000\" points=\"2278,-253.5 2134,-253.5 2134,-200.5 2278,-200.5 2278,-253.5\"/>\n<text text-anchor=\"middle\" x=\"2206\" y=\"-238.3\" font-family=\"Helvetica,sans-Serif\" font-size=\"14.00\" fill=\"#000000\">squared_error = 0.0</text>\n<text text-anchor=\"middle\" x=\"2206\" y=\"-223.3\" font-family=\"Helvetica,sans-Serif\" font-size=\"14.00\" fill=\"#000000\">samples = 1</text>\n<text text-anchor=\"middle\" x=\"2206\" y=\"-208.3\" font-family=\"Helvetica,sans-Serif\" font-size=\"14.00\" fill=\"#000000\">value = 0.01</text>\n</g>\n<!-- 40&#45;&gt;42 -->\n<g id=\"edge42\" class=\"edge\">\n<title>40&#45;&gt;42</title>\n<path fill=\"none\" stroke=\"#000000\" d=\"M2191.2036,-296.9465C2193.4638,-286.2621 2195.9677,-274.4254 2198.2631,-263.5742\"/>\n<polygon fill=\"#000000\" stroke=\"#000000\" points=\"2201.7399,-264.05 2200.3853,-253.5422 2194.8914,-262.6013 2201.7399,-264.05\"/>\n</g>\n<!-- 44 -->\n<g id=\"node45\" class=\"node\">\n<title>44</title>\n<polygon fill=\"#fae5d6\" stroke=\"#000000\" points=\"2697,-365 2353,-365 2353,-297 2697,-297 2697,-365\"/>\n<text text-anchor=\"middle\" x=\"2525\" y=\"-349.8\" font-family=\"Helvetica,sans-Serif\" font-size=\"14.00\" fill=\"#000000\">summer_2020_at_least_one_dose_percent &lt;= 0.0</text>\n<text text-anchor=\"middle\" x=\"2525\" y=\"-334.8\" font-family=\"Helvetica,sans-Serif\" font-size=\"14.00\" fill=\"#000000\">squared_error = 0.0</text>\n<text text-anchor=\"middle\" x=\"2525\" y=\"-319.8\" font-family=\"Helvetica,sans-Serif\" font-size=\"14.00\" fill=\"#000000\">samples = 3</text>\n<text text-anchor=\"middle\" x=\"2525\" y=\"-304.8\" font-family=\"Helvetica,sans-Serif\" font-size=\"14.00\" fill=\"#000000\">value = 0.008</text>\n</g>\n<!-- 43&#45;&gt;44 -->\n<g id=\"edge44\" class=\"edge\">\n<title>43&#45;&gt;44</title>\n<path fill=\"none\" stroke=\"#000000\" d=\"M2525,-400.9465C2525,-392.776 2525,-383.9318 2525,-375.3697\"/>\n<polygon fill=\"#000000\" stroke=\"#000000\" points=\"2528.5001,-375.13 2525,-365.13 2521.5001,-375.13 2528.5001,-375.13\"/>\n</g>\n<!-- 49 -->\n<g id=\"node50\" class=\"node\">\n<title>49</title>\n<polygon fill=\"#fdf4ee\" stroke=\"#000000\" points=\"3059,-365 2715,-365 2715,-297 3059,-297 3059,-365\"/>\n<text text-anchor=\"middle\" x=\"2887\" y=\"-349.8\" font-family=\"Helvetica,sans-Serif\" font-size=\"14.00\" fill=\"#000000\">summer_2020_at_least_one_dose_percent &lt;= 0.0</text>\n<text text-anchor=\"middle\" x=\"2887\" y=\"-334.8\" font-family=\"Helvetica,sans-Serif\" font-size=\"14.00\" fill=\"#000000\">squared_error = 0.0</text>\n<text text-anchor=\"middle\" x=\"2887\" y=\"-319.8\" font-family=\"Helvetica,sans-Serif\" font-size=\"14.00\" fill=\"#000000\">samples = 4</text>\n<text text-anchor=\"middle\" x=\"2887\" y=\"-304.8\" font-family=\"Helvetica,sans-Serif\" font-size=\"14.00\" fill=\"#000000\">value = 0.004</text>\n</g>\n<!-- 43&#45;&gt;49 -->\n<g id=\"edge49\" class=\"edge\">\n<title>43&#45;&gt;49</title>\n<path fill=\"none\" stroke=\"#000000\" d=\"M2643.5323,-400.9465C2680.3483,-390.3695 2721.0945,-378.6635 2758.5527,-367.902\"/>\n<polygon fill=\"#000000\" stroke=\"#000000\" points=\"2759.866,-371.1664 2768.5107,-365.0411 2757.933,-364.4385 2759.866,-371.1664\"/>\n</g>\n<!-- 45 -->\n<g id=\"node46\" class=\"node\">\n<title>45</title>\n<polygon fill=\"#fae7da\" stroke=\"#000000\" points=\"2590,-261 2296,-261 2296,-193 2590,-193 2590,-261\"/>\n<text text-anchor=\"middle\" x=\"2443\" y=\"-245.8\" font-family=\"Helvetica,sans-Serif\" font-size=\"14.00\" fill=\"#000000\">summer_2020_doses_administered &lt;= 2.5</text>\n<text text-anchor=\"middle\" x=\"2443\" y=\"-230.8\" font-family=\"Helvetica,sans-Serif\" font-size=\"14.00\" fill=\"#000000\">squared_error = 0.0</text>\n<text text-anchor=\"middle\" x=\"2443\" y=\"-215.8\" font-family=\"Helvetica,sans-Serif\" font-size=\"14.00\" fill=\"#000000\">samples = 2</text>\n<text text-anchor=\"middle\" x=\"2443\" y=\"-200.8\" font-family=\"Helvetica,sans-Serif\" font-size=\"14.00\" fill=\"#000000\">value = 0.008</text>\n</g>\n<!-- 44&#45;&gt;45 -->\n<g id=\"edge45\" class=\"edge\">\n<title>44&#45;&gt;45</title>\n<path fill=\"none\" stroke=\"#000000\" d=\"M2498.1501,-296.9465C2491.1417,-288.0578 2483.5045,-278.3716 2476.209,-269.1188\"/>\n<polygon fill=\"#000000\" stroke=\"#000000\" points=\"2478.8502,-266.8157 2469.9102,-261.13 2473.3533,-271.1498 2478.8502,-266.8157\"/>\n</g>\n<!-- 48 -->\n<g id=\"node49\" class=\"node\">\n<title>48</title>\n<polygon fill=\"#f8dfcd\" stroke=\"#000000\" points=\"2752,-253.5 2608,-253.5 2608,-200.5 2752,-200.5 2752,-253.5\"/>\n<text text-anchor=\"middle\" x=\"2680\" y=\"-238.3\" font-family=\"Helvetica,sans-Serif\" font-size=\"14.00\" fill=\"#000000\">squared_error = 0.0</text>\n<text text-anchor=\"middle\" x=\"2680\" y=\"-223.3\" font-family=\"Helvetica,sans-Serif\" font-size=\"14.00\" fill=\"#000000\">samples = 1</text>\n<text text-anchor=\"middle\" x=\"2680\" y=\"-208.3\" font-family=\"Helvetica,sans-Serif\" font-size=\"14.00\" fill=\"#000000\">value = 0.01</text>\n</g>\n<!-- 44&#45;&gt;48 -->\n<g id=\"edge48\" class=\"edge\">\n<title>44&#45;&gt;48</title>\n<path fill=\"none\" stroke=\"#000000\" d=\"M2575.7528,-296.9465C2593.8109,-284.8301 2614.0773,-271.232 2631.9059,-259.2696\"/>\n<polygon fill=\"#000000\" stroke=\"#000000\" points=\"2634.0881,-262.0203 2640.442,-253.5422 2630.1879,-256.2075 2634.0881,-262.0203\"/>\n</g>\n<!-- 46 -->\n<g id=\"node47\" class=\"node\">\n<title>46</title>\n<polygon fill=\"#fae7d9\" stroke=\"#000000\" points=\"2432,-149.5 2288,-149.5 2288,-96.5 2432,-96.5 2432,-149.5\"/>\n<text text-anchor=\"middle\" x=\"2360\" y=\"-134.3\" font-family=\"Helvetica,sans-Serif\" font-size=\"14.00\" fill=\"#000000\">squared_error = 0.0</text>\n<text text-anchor=\"middle\" x=\"2360\" y=\"-119.3\" font-family=\"Helvetica,sans-Serif\" font-size=\"14.00\" fill=\"#000000\">samples = 1</text>\n<text text-anchor=\"middle\" x=\"2360\" y=\"-104.3\" font-family=\"Helvetica,sans-Serif\" font-size=\"14.00\" fill=\"#000000\">value = 0.008</text>\n</g>\n<!-- 45&#45;&gt;46 -->\n<g id=\"edge46\" class=\"edge\">\n<title>45&#45;&gt;46</title>\n<path fill=\"none\" stroke=\"#000000\" d=\"M2415.8227,-192.9465C2406.7682,-181.6012 2396.677,-168.9567 2387.5914,-157.5724\"/>\n<polygon fill=\"#000000\" stroke=\"#000000\" points=\"2390.1561,-155.175 2381.1827,-149.5422 2384.6849,-159.5414 2390.1561,-155.175\"/>\n</g>\n<!-- 47 -->\n<g id=\"node48\" class=\"node\">\n<title>47</title>\n<polygon fill=\"#fae8db\" stroke=\"#000000\" points=\"2599.5,-149.5 2450.5,-149.5 2450.5,-96.5 2599.5,-96.5 2599.5,-149.5\"/>\n<text text-anchor=\"middle\" x=\"2525\" y=\"-134.3\" font-family=\"Helvetica,sans-Serif\" font-size=\"14.00\" fill=\"#000000\">squared_error = &#45;0.0</text>\n<text text-anchor=\"middle\" x=\"2525\" y=\"-119.3\" font-family=\"Helvetica,sans-Serif\" font-size=\"14.00\" fill=\"#000000\">samples = 1</text>\n<text text-anchor=\"middle\" x=\"2525\" y=\"-104.3\" font-family=\"Helvetica,sans-Serif\" font-size=\"14.00\" fill=\"#000000\">value = 0.007</text>\n</g>\n<!-- 45&#45;&gt;47 -->\n<g id=\"edge47\" class=\"edge\">\n<title>45&#45;&gt;47</title>\n<path fill=\"none\" stroke=\"#000000\" d=\"M2469.8499,-192.9465C2478.7952,-181.6012 2488.7649,-168.9567 2497.741,-157.5724\"/>\n<polygon fill=\"#000000\" stroke=\"#000000\" points=\"2500.6294,-159.5619 2504.0725,-149.5422 2495.1325,-155.2278 2500.6294,-159.5619\"/>\n</g>\n<!-- 50 -->\n<g id=\"node51\" class=\"node\">\n<title>50</title>\n<polygon fill=\"#fbeade\" stroke=\"#000000\" points=\"2914,-253.5 2770,-253.5 2770,-200.5 2914,-200.5 2914,-253.5\"/>\n<text text-anchor=\"middle\" x=\"2842\" y=\"-238.3\" font-family=\"Helvetica,sans-Serif\" font-size=\"14.00\" fill=\"#000000\">squared_error = 0.0</text>\n<text text-anchor=\"middle\" x=\"2842\" y=\"-223.3\" font-family=\"Helvetica,sans-Serif\" font-size=\"14.00\" fill=\"#000000\">samples = 1</text>\n<text text-anchor=\"middle\" x=\"2842\" y=\"-208.3\" font-family=\"Helvetica,sans-Serif\" font-size=\"14.00\" fill=\"#000000\">value = 0.007</text>\n</g>\n<!-- 49&#45;&gt;50 -->\n<g id=\"edge50\" class=\"edge\">\n<title>49&#45;&gt;50</title>\n<path fill=\"none\" stroke=\"#000000\" d=\"M2872.2653,-296.9465C2867.5469,-286.0418 2862.3092,-273.9368 2857.5355,-262.9043\"/>\n<polygon fill=\"#000000\" stroke=\"#000000\" points=\"2860.668,-261.33 2853.4846,-253.5422 2854.2436,-264.1098 2860.668,-261.33\"/>\n</g>\n<!-- 51 -->\n<g id=\"node52\" class=\"node\">\n<title>51</title>\n<polygon fill=\"#fef8f4\" stroke=\"#000000\" points=\"3171.5,-261 2932.5,-261 2932.5,-193 3171.5,-193 3171.5,-261\"/>\n<text text-anchor=\"middle\" x=\"3052\" y=\"-245.8\" font-family=\"Helvetica,sans-Serif\" font-size=\"14.00\" fill=\"#000000\">democrat_votes_percent &lt;= 0.606</text>\n<text text-anchor=\"middle\" x=\"3052\" y=\"-230.8\" font-family=\"Helvetica,sans-Serif\" font-size=\"14.00\" fill=\"#000000\">squared_error = 0.0</text>\n<text text-anchor=\"middle\" x=\"3052\" y=\"-215.8\" font-family=\"Helvetica,sans-Serif\" font-size=\"14.00\" fill=\"#000000\">samples = 3</text>\n<text text-anchor=\"middle\" x=\"3052\" y=\"-200.8\" font-family=\"Helvetica,sans-Serif\" font-size=\"14.00\" fill=\"#000000\">value = 0.003</text>\n</g>\n<!-- 49&#45;&gt;51 -->\n<g id=\"edge51\" class=\"edge\">\n<title>49&#45;&gt;51</title>\n<path fill=\"none\" stroke=\"#000000\" d=\"M2941.0272,-296.9465C2956.4115,-287.2497 2973.3016,-276.6039 2989.1621,-266.6069\"/>\n<polygon fill=\"#000000\" stroke=\"#000000\" points=\"2991.258,-269.4232 2997.8514,-261.13 2987.5254,-263.5013 2991.258,-269.4232\"/>\n</g>\n<!-- 52 -->\n<g id=\"node53\" class=\"node\">\n<title>52</title>\n<polygon fill=\"#fdf6f2\" stroke=\"#000000\" points=\"2963.5,-157 2752.5,-157 2752.5,-89 2963.5,-89 2963.5,-157\"/>\n<text text-anchor=\"middle\" x=\"2858\" y=\"-141.8\" font-family=\"Helvetica,sans-Serif\" font-size=\"14.00\" fill=\"#000000\">other_votes_percent &lt;= 0.005</text>\n<text text-anchor=\"middle\" x=\"2858\" y=\"-126.8\" font-family=\"Helvetica,sans-Serif\" font-size=\"14.00\" fill=\"#000000\">squared_error = 0.0</text>\n<text text-anchor=\"middle\" x=\"2858\" y=\"-111.8\" font-family=\"Helvetica,sans-Serif\" font-size=\"14.00\" fill=\"#000000\">samples = 2</text>\n<text text-anchor=\"middle\" x=\"2858\" y=\"-96.8\" font-family=\"Helvetica,sans-Serif\" font-size=\"14.00\" fill=\"#000000\">value = 0.004</text>\n</g>\n<!-- 51&#45;&gt;52 -->\n<g id=\"edge52\" class=\"edge\">\n<title>51&#45;&gt;52</title>\n<path fill=\"none\" stroke=\"#000000\" d=\"M2988.4771,-192.9465C2969.9701,-183.0252 2949.61,-172.1105 2930.5891,-161.9138\"/>\n<polygon fill=\"#000000\" stroke=\"#000000\" points=\"2932.1327,-158.7701 2921.6656,-157.13 2928.8254,-164.9395 2932.1327,-158.7701\"/>\n</g>\n<!-- 55 -->\n<g id=\"node56\" class=\"node\">\n<title>55</title>\n<polygon fill=\"#fefbf8\" stroke=\"#000000\" points=\"3130.5,-149.5 2981.5,-149.5 2981.5,-96.5 3130.5,-96.5 3130.5,-149.5\"/>\n<text text-anchor=\"middle\" x=\"3056\" y=\"-134.3\" font-family=\"Helvetica,sans-Serif\" font-size=\"14.00\" fill=\"#000000\">squared_error = &#45;0.0</text>\n<text text-anchor=\"middle\" x=\"3056\" y=\"-119.3\" font-family=\"Helvetica,sans-Serif\" font-size=\"14.00\" fill=\"#000000\">samples = 1</text>\n<text text-anchor=\"middle\" x=\"3056\" y=\"-104.3\" font-family=\"Helvetica,sans-Serif\" font-size=\"14.00\" fill=\"#000000\">value = 0.003</text>\n</g>\n<!-- 51&#45;&gt;55 -->\n<g id=\"edge55\" class=\"edge\">\n<title>51&#45;&gt;55</title>\n<path fill=\"none\" stroke=\"#000000\" d=\"M3053.3097,-192.9465C3053.7207,-182.2621 3054.1759,-170.4254 3054.5933,-159.5742\"/>\n<polygon fill=\"#000000\" stroke=\"#000000\" points=\"3058.0921,-159.6693 3054.9791,-149.5422 3051.0973,-159.4002 3058.0921,-159.6693\"/>\n</g>\n<!-- 53 -->\n<g id=\"node54\" class=\"node\">\n<title>53</title>\n<polygon fill=\"#fdf8f3\" stroke=\"#000000\" points=\"2849,-53 2705,-53 2705,0 2849,0 2849,-53\"/>\n<text text-anchor=\"middle\" x=\"2777\" y=\"-37.8\" font-family=\"Helvetica,sans-Serif\" font-size=\"14.00\" fill=\"#000000\">squared_error = 0.0</text>\n<text text-anchor=\"middle\" x=\"2777\" y=\"-22.8\" font-family=\"Helvetica,sans-Serif\" font-size=\"14.00\" fill=\"#000000\">samples = 1</text>\n<text text-anchor=\"middle\" x=\"2777\" y=\"-7.8\" font-family=\"Helvetica,sans-Serif\" font-size=\"14.00\" fill=\"#000000\">value = 0.003</text>\n</g>\n<!-- 52&#45;&gt;53 -->\n<g id=\"edge53\" class=\"edge\">\n<title>52&#45;&gt;53</title>\n<path fill=\"none\" stroke=\"#000000\" d=\"M2829.4424,-88.9777C2821.8331,-79.9123 2813.6061,-70.111 2805.9747,-61.0192\"/>\n<polygon fill=\"#000000\" stroke=\"#000000\" points=\"2808.562,-58.6577 2799.4521,-53.2485 2803.2005,-63.1581 2808.562,-58.6577\"/>\n</g>\n<!-- 54 -->\n<g id=\"node55\" class=\"node\">\n<title>54</title>\n<polygon fill=\"#fdf5f0\" stroke=\"#000000\" points=\"3011,-53 2867,-53 2867,0 3011,0 3011,-53\"/>\n<text text-anchor=\"middle\" x=\"2939\" y=\"-37.8\" font-family=\"Helvetica,sans-Serif\" font-size=\"14.00\" fill=\"#000000\">squared_error = 0.0</text>\n<text text-anchor=\"middle\" x=\"2939\" y=\"-22.8\" font-family=\"Helvetica,sans-Serif\" font-size=\"14.00\" fill=\"#000000\">samples = 1</text>\n<text text-anchor=\"middle\" x=\"2939\" y=\"-7.8\" font-family=\"Helvetica,sans-Serif\" font-size=\"14.00\" fill=\"#000000\">value = 0.004</text>\n</g>\n<!-- 52&#45;&gt;54 -->\n<g id=\"edge54\" class=\"edge\">\n<title>52&#45;&gt;54</title>\n<path fill=\"none\" stroke=\"#000000\" d=\"M2886.5576,-88.9777C2894.1669,-79.9123 2902.3939,-70.111 2910.0253,-61.0192\"/>\n<polygon fill=\"#000000\" stroke=\"#000000\" points=\"2912.7995,-63.1581 2916.5479,-53.2485 2907.438,-58.6577 2912.7995,-63.1581\"/>\n</g>\n<!-- 57 -->\n<g id=\"node58\" class=\"node\">\n<title>57</title>\n<polygon fill=\"#fffefe\" stroke=\"#000000\" points=\"3037,-669.5 2893,-669.5 2893,-616.5 3037,-616.5 3037,-669.5\"/>\n<text text-anchor=\"middle\" x=\"2965\" y=\"-654.3\" font-family=\"Helvetica,sans-Serif\" font-size=\"14.00\" fill=\"#000000\">squared_error = 0.0</text>\n<text text-anchor=\"middle\" x=\"2965\" y=\"-639.3\" font-family=\"Helvetica,sans-Serif\" font-size=\"14.00\" fill=\"#000000\">samples = 1</text>\n<text text-anchor=\"middle\" x=\"2965\" y=\"-624.3\" font-family=\"Helvetica,sans-Serif\" font-size=\"14.00\" fill=\"#000000\">value = 0.002</text>\n</g>\n<!-- 56&#45;&gt;57 -->\n<g id=\"edge57\" class=\"edge\">\n<title>56&#45;&gt;57</title>\n<path fill=\"none\" stroke=\"#000000\" d=\"M2965,-712.9465C2965,-702.2621 2965,-690.4254 2965,-679.5742\"/>\n<polygon fill=\"#000000\" stroke=\"#000000\" points=\"2968.5001,-679.5421 2965,-669.5422 2961.5001,-679.5422 2968.5001,-679.5421\"/>\n</g>\n<!-- 58 -->\n<g id=\"node59\" class=\"node\">\n<title>58</title>\n<polygon fill=\"#efb083\" stroke=\"#000000\" points=\"3835,-677 3533,-677 3533,-609 3835,-609 3835,-677\"/>\n<text text-anchor=\"middle\" x=\"3684\" y=\"-661.8\" font-family=\"Helvetica,sans-Serif\" font-size=\"14.00\" fill=\"#000000\">summer_2020_doses_administered &lt;= 14.0</text>\n<text text-anchor=\"middle\" x=\"3684\" y=\"-646.8\" font-family=\"Helvetica,sans-Serif\" font-size=\"14.00\" fill=\"#000000\">squared_error = 0.0</text>\n<text text-anchor=\"middle\" x=\"3684\" y=\"-631.8\" font-family=\"Helvetica,sans-Serif\" font-size=\"14.00\" fill=\"#000000\">samples = 11</text>\n<text text-anchor=\"middle\" x=\"3684\" y=\"-616.8\" font-family=\"Helvetica,sans-Serif\" font-size=\"14.00\" fill=\"#000000\">value = 0.021</text>\n</g>\n<!-- 56&#45;&gt;58 -->\n<g id=\"edge58\" class=\"edge\">\n<title>56&#45;&gt;58</title>\n<path fill=\"none\" stroke=\"#000000\" d=\"M3070.7046,-731.7103C3189.7089,-714.4969 3384.4416,-686.3297 3522.5234,-666.3568\"/>\n<polygon fill=\"#000000\" stroke=\"#000000\" points=\"3523.3855,-669.7687 3532.7814,-664.8731 3522.3834,-662.8407 3523.3855,-669.7687\"/>\n</g>\n<!-- 59 -->\n<g id=\"node60\" class=\"node\">\n<title>59</title>\n<polygon fill=\"#eca471\" stroke=\"#000000\" points=\"3804.5,-573 3563.5,-573 3563.5,-505 3804.5,-505 3804.5,-573\"/>\n<text text-anchor=\"middle\" x=\"3684\" y=\"-557.8\" font-family=\"Helvetica,sans-Serif\" font-size=\"14.00\" fill=\"#000000\">libertarian_votes_percent &lt;= 0.013</text>\n<text text-anchor=\"middle\" x=\"3684\" y=\"-542.8\" font-family=\"Helvetica,sans-Serif\" font-size=\"14.00\" fill=\"#000000\">squared_error = 0.0</text>\n<text text-anchor=\"middle\" x=\"3684\" y=\"-527.8\" font-family=\"Helvetica,sans-Serif\" font-size=\"14.00\" fill=\"#000000\">samples = 7</text>\n<text text-anchor=\"middle\" x=\"3684\" y=\"-512.8\" font-family=\"Helvetica,sans-Serif\" font-size=\"14.00\" fill=\"#000000\">value = 0.024</text>\n</g>\n<!-- 58&#45;&gt;59 -->\n<g id=\"edge59\" class=\"edge\">\n<title>58&#45;&gt;59</title>\n<path fill=\"none\" stroke=\"#000000\" d=\"M3684,-608.9465C3684,-600.776 3684,-591.9318 3684,-583.3697\"/>\n<polygon fill=\"#000000\" stroke=\"#000000\" points=\"3687.5001,-583.13 3684,-573.13 3680.5001,-583.13 3687.5001,-583.13\"/>\n</g>\n<!-- 72 -->\n<g id=\"node73\" class=\"node\">\n<title>72</title>\n<polygon fill=\"#f3c5a4\" stroke=\"#000000\" points=\"4162.5,-573 3959.5,-573 3959.5,-505 4162.5,-505 4162.5,-573\"/>\n<text text-anchor=\"middle\" x=\"4061\" y=\"-557.8\" font-family=\"Helvetica,sans-Serif\" font-size=\"14.00\" fill=\"#000000\">other_votes_percent &lt;= 0.01</text>\n<text text-anchor=\"middle\" x=\"4061\" y=\"-542.8\" font-family=\"Helvetica,sans-Serif\" font-size=\"14.00\" fill=\"#000000\">squared_error = 0.0</text>\n<text text-anchor=\"middle\" x=\"4061\" y=\"-527.8\" font-family=\"Helvetica,sans-Serif\" font-size=\"14.00\" fill=\"#000000\">samples = 4</text>\n<text text-anchor=\"middle\" x=\"4061\" y=\"-512.8\" font-family=\"Helvetica,sans-Serif\" font-size=\"14.00\" fill=\"#000000\">value = 0.016</text>\n</g>\n<!-- 58&#45;&gt;72 -->\n<g id=\"edge72\" class=\"edge\">\n<title>58&#45;&gt;72</title>\n<path fill=\"none\" stroke=\"#000000\" d=\"M3807.4439,-608.9465C3853.2587,-596.3079 3904.9175,-582.0572 3949.5952,-569.7324\"/>\n<polygon fill=\"#000000\" stroke=\"#000000\" points=\"3950.603,-573.0852 3959.3121,-567.0518 3948.7414,-566.3372 3950.603,-573.0852\"/>\n</g>\n<!-- 60 -->\n<g id=\"node61\" class=\"node\">\n<title>60</title>\n<polygon fill=\"#eeaa7a\" stroke=\"#000000\" points=\"3705.5,-469 3436.5,-469 3436.5,-401 3705.5,-401 3705.5,-469\"/>\n<text text-anchor=\"middle\" x=\"3571\" y=\"-453.8\" font-family=\"Helvetica,sans-Serif\" font-size=\"14.00\" fill=\"#000000\">summer_2020_moderna_doses &lt;= 1.0</text>\n<text text-anchor=\"middle\" x=\"3571\" y=\"-438.8\" font-family=\"Helvetica,sans-Serif\" font-size=\"14.00\" fill=\"#000000\">squared_error = 0.0</text>\n<text text-anchor=\"middle\" x=\"3571\" y=\"-423.8\" font-family=\"Helvetica,sans-Serif\" font-size=\"14.00\" fill=\"#000000\">samples = 6</text>\n<text text-anchor=\"middle\" x=\"3571\" y=\"-408.8\" font-family=\"Helvetica,sans-Serif\" font-size=\"14.00\" fill=\"#000000\">value = 0.023</text>\n</g>\n<!-- 59&#45;&gt;60 -->\n<g id=\"edge60\" class=\"edge\">\n<title>59&#45;&gt;60</title>\n<path fill=\"none\" stroke=\"#000000\" d=\"M3646.9996,-504.9465C3636.9514,-495.6986 3625.9653,-485.5876 3615.5474,-475.9994\"/>\n<polygon fill=\"#000000\" stroke=\"#000000\" points=\"3617.8118,-473.3267 3608.0836,-469.13 3613.0714,-478.4773 3617.8118,-473.3267\"/>\n</g>\n<!-- 71 -->\n<g id=\"node72\" class=\"node\">\n<title>71</title>\n<polygon fill=\"#e58139\" stroke=\"#000000\" points=\"3872.5,-461.5 3723.5,-461.5 3723.5,-408.5 3872.5,-408.5 3872.5,-461.5\"/>\n<text text-anchor=\"middle\" x=\"3798\" y=\"-446.3\" font-family=\"Helvetica,sans-Serif\" font-size=\"14.00\" fill=\"#000000\">squared_error = &#45;0.0</text>\n<text text-anchor=\"middle\" x=\"3798\" y=\"-431.3\" font-family=\"Helvetica,sans-Serif\" font-size=\"14.00\" fill=\"#000000\">samples = 1</text>\n<text text-anchor=\"middle\" x=\"3798\" y=\"-416.3\" font-family=\"Helvetica,sans-Serif\" font-size=\"14.00\" fill=\"#000000\">value = 0.033</text>\n</g>\n<!-- 59&#45;&gt;71 -->\n<g id=\"edge71\" class=\"edge\">\n<title>59&#45;&gt;71</title>\n<path fill=\"none\" stroke=\"#000000\" d=\"M3721.3279,-504.9465C3734.1263,-493.2707 3748.433,-480.219 3761.1901,-468.5809\"/>\n<polygon fill=\"#000000\" stroke=\"#000000\" points=\"3763.8769,-470.8675 3768.9057,-461.5422 3759.1591,-465.6961 3763.8769,-470.8675\"/>\n</g>\n<!-- 61 -->\n<g id=\"node62\" class=\"node\">\n<title>61</title>\n<polygon fill=\"#eda775\" stroke=\"#000000\" points=\"3662,-365 3416,-365 3416,-297 3662,-297 3662,-365\"/>\n<text text-anchor=\"middle\" x=\"3539\" y=\"-349.8\" font-family=\"Helvetica,sans-Serif\" font-size=\"14.00\" fill=\"#000000\">summer_2020_pfizer_doses &lt;= 2.0</text>\n<text text-anchor=\"middle\" x=\"3539\" y=\"-334.8\" font-family=\"Helvetica,sans-Serif\" font-size=\"14.00\" fill=\"#000000\">squared_error = 0.0</text>\n<text text-anchor=\"middle\" x=\"3539\" y=\"-319.8\" font-family=\"Helvetica,sans-Serif\" font-size=\"14.00\" fill=\"#000000\">samples = 4</text>\n<text text-anchor=\"middle\" x=\"3539\" y=\"-304.8\" font-family=\"Helvetica,sans-Serif\" font-size=\"14.00\" fill=\"#000000\">value = 0.024</text>\n</g>\n<!-- 60&#45;&gt;61 -->\n<g id=\"edge61\" class=\"edge\">\n<title>60&#45;&gt;61</title>\n<path fill=\"none\" stroke=\"#000000\" d=\"M3560.522,-400.9465C3557.9528,-392.5965 3555.167,-383.5427 3552.4786,-374.8056\"/>\n<polygon fill=\"#000000\" stroke=\"#000000\" points=\"3555.7877,-373.6585 3549.5015,-365.13 3549.0972,-375.7171 3555.7877,-373.6585\"/>\n</g>\n<!-- 68 -->\n<g id=\"node69\" class=\"node\">\n<title>68</title>\n<polygon fill=\"#efb184\" stroke=\"#000000\" points=\"3971.5,-365 3680.5,-365 3680.5,-297 3971.5,-297 3971.5,-365\"/>\n<text text-anchor=\"middle\" x=\"3826\" y=\"-349.8\" font-family=\"Helvetica,sans-Serif\" font-size=\"14.00\" fill=\"#000000\">summer_2020_partially_vaccinated &lt;= 8.0</text>\n<text text-anchor=\"middle\" x=\"3826\" y=\"-334.8\" font-family=\"Helvetica,sans-Serif\" font-size=\"14.00\" fill=\"#000000\">squared_error = 0.0</text>\n<text text-anchor=\"middle\" x=\"3826\" y=\"-319.8\" font-family=\"Helvetica,sans-Serif\" font-size=\"14.00\" fill=\"#000000\">samples = 2</text>\n<text text-anchor=\"middle\" x=\"3826\" y=\"-304.8\" font-family=\"Helvetica,sans-Serif\" font-size=\"14.00\" fill=\"#000000\">value = 0.021</text>\n</g>\n<!-- 60&#45;&gt;68 -->\n<g id=\"edge68\" class=\"edge\">\n<title>60&#45;&gt;68</title>\n<path fill=\"none\" stroke=\"#000000\" d=\"M3654.4965,-400.9465C3679.5933,-390.711 3707.2826,-379.4181 3732.9567,-368.9471\"/>\n<polygon fill=\"#000000\" stroke=\"#000000\" points=\"3734.3781,-372.1473 3742.3159,-365.13 3731.7346,-365.6657 3734.3781,-372.1473\"/>\n</g>\n<!-- 62 -->\n<g id=\"node63\" class=\"node\">\n<title>62</title>\n<polygon fill=\"#eeab7b\" stroke=\"#000000\" points=\"3400.5,-261 3189.5,-261 3189.5,-193 3400.5,-193 3400.5,-261\"/>\n<text text-anchor=\"middle\" x=\"3295\" y=\"-245.8\" font-family=\"Helvetica,sans-Serif\" font-size=\"14.00\" fill=\"#000000\">other_votes_percent &lt;= 0.007</text>\n<text text-anchor=\"middle\" x=\"3295\" y=\"-230.8\" font-family=\"Helvetica,sans-Serif\" font-size=\"14.00\" fill=\"#000000\">squared_error = 0.0</text>\n<text text-anchor=\"middle\" x=\"3295\" y=\"-215.8\" font-family=\"Helvetica,sans-Serif\" font-size=\"14.00\" fill=\"#000000\">samples = 2</text>\n<text text-anchor=\"middle\" x=\"3295\" y=\"-200.8\" font-family=\"Helvetica,sans-Serif\" font-size=\"14.00\" fill=\"#000000\">value = 0.023</text>\n</g>\n<!-- 61&#45;&gt;62 -->\n<g id=\"edge62\" class=\"edge\">\n<title>61&#45;&gt;62</title>\n<path fill=\"none\" stroke=\"#000000\" d=\"M3459.1053,-296.9465C3435.1965,-286.7559 3408.8286,-275.5171 3384.353,-265.0849\"/>\n<polygon fill=\"#000000\" stroke=\"#000000\" points=\"3385.6458,-261.8313 3375.0742,-261.13 3382.9011,-268.2708 3385.6458,-261.8313\"/>\n</g>\n<!-- 65 -->\n<g id=\"node66\" class=\"node\">\n<title>65</title>\n<polygon fill=\"#eca36f\" stroke=\"#000000\" points=\"3735.5,-261 3418.5,-261 3418.5,-193 3735.5,-193 3735.5,-261\"/>\n<text text-anchor=\"middle\" x=\"3577\" y=\"-245.8\" font-family=\"Helvetica,sans-Serif\" font-size=\"14.00\" fill=\"#000000\">summer_2020_Unemployment_Rate &lt;= 0.145</text>\n<text text-anchor=\"middle\" x=\"3577\" y=\"-230.8\" font-family=\"Helvetica,sans-Serif\" font-size=\"14.00\" fill=\"#000000\">squared_error = 0.0</text>\n<text text-anchor=\"middle\" x=\"3577\" y=\"-215.8\" font-family=\"Helvetica,sans-Serif\" font-size=\"14.00\" fill=\"#000000\">samples = 2</text>\n<text text-anchor=\"middle\" x=\"3577\" y=\"-200.8\" font-family=\"Helvetica,sans-Serif\" font-size=\"14.00\" fill=\"#000000\">value = 0.025</text>\n</g>\n<!-- 61&#45;&gt;65 -->\n<g id=\"edge65\" class=\"edge\">\n<title>61&#45;&gt;65</title>\n<path fill=\"none\" stroke=\"#000000\" d=\"M3551.4426,-296.9465C3554.5264,-288.5067 3557.8729,-279.3479 3561.097,-270.5239\"/>\n<polygon fill=\"#000000\" stroke=\"#000000\" points=\"3564.3849,-271.7238 3564.5294,-261.13 3557.81,-269.3215 3564.3849,-271.7238\"/>\n</g>\n<!-- 63 -->\n<g id=\"node64\" class=\"node\">\n<title>63</title>\n<polygon fill=\"#eeaa7a\" stroke=\"#000000\" points=\"3311,-149.5 3167,-149.5 3167,-96.5 3311,-96.5 3311,-149.5\"/>\n<text text-anchor=\"middle\" x=\"3239\" y=\"-134.3\" font-family=\"Helvetica,sans-Serif\" font-size=\"14.00\" fill=\"#000000\">squared_error = 0.0</text>\n<text text-anchor=\"middle\" x=\"3239\" y=\"-119.3\" font-family=\"Helvetica,sans-Serif\" font-size=\"14.00\" fill=\"#000000\">samples = 1</text>\n<text text-anchor=\"middle\" x=\"3239\" y=\"-104.3\" font-family=\"Helvetica,sans-Serif\" font-size=\"14.00\" fill=\"#000000\">value = 0.023</text>\n</g>\n<!-- 62&#45;&gt;63 -->\n<g id=\"edge63\" class=\"edge\">\n<title>62&#45;&gt;63</title>\n<path fill=\"none\" stroke=\"#000000\" d=\"M3276.6635,-192.9465C3270.7324,-181.9316 3264.1419,-169.6922 3258.1532,-158.5703\"/>\n<polygon fill=\"#000000\" stroke=\"#000000\" points=\"3261.1146,-156.6875 3253.2919,-149.5422 3254.9513,-160.0063 3261.1146,-156.6875\"/>\n</g>\n<!-- 64 -->\n<g id=\"node65\" class=\"node\">\n<title>64</title>\n<polygon fill=\"#eeab7c\" stroke=\"#000000\" points=\"3473,-149.5 3329,-149.5 3329,-96.5 3473,-96.5 3473,-149.5\"/>\n<text text-anchor=\"middle\" x=\"3401\" y=\"-134.3\" font-family=\"Helvetica,sans-Serif\" font-size=\"14.00\" fill=\"#000000\">squared_error = 0.0</text>\n<text text-anchor=\"middle\" x=\"3401\" y=\"-119.3\" font-family=\"Helvetica,sans-Serif\" font-size=\"14.00\" fill=\"#000000\">samples = 1</text>\n<text text-anchor=\"middle\" x=\"3401\" y=\"-104.3\" font-family=\"Helvetica,sans-Serif\" font-size=\"14.00\" fill=\"#000000\">value = 0.023</text>\n</g>\n<!-- 62&#45;&gt;64 -->\n<g id=\"edge64\" class=\"edge\">\n<title>62&#45;&gt;64</title>\n<path fill=\"none\" stroke=\"#000000\" d=\"M3329.7084,-192.9465C3341.6087,-181.2707 3354.9114,-168.219 3366.7733,-156.5809\"/>\n<polygon fill=\"#000000\" stroke=\"#000000\" points=\"3369.2605,-159.0439 3373.9474,-149.5422 3364.3581,-154.0473 3369.2605,-159.0439\"/>\n</g>\n<!-- 66 -->\n<g id=\"node67\" class=\"node\">\n<title>66</title>\n<polygon fill=\"#eca26d\" stroke=\"#000000\" points=\"3644,-149.5 3500,-149.5 3500,-96.5 3644,-96.5 3644,-149.5\"/>\n<text text-anchor=\"middle\" x=\"3572\" y=\"-134.3\" font-family=\"Helvetica,sans-Serif\" font-size=\"14.00\" fill=\"#000000\">squared_error = 0.0</text>\n<text text-anchor=\"middle\" x=\"3572\" y=\"-119.3\" font-family=\"Helvetica,sans-Serif\" font-size=\"14.00\" fill=\"#000000\">samples = 1</text>\n<text text-anchor=\"middle\" x=\"3572\" y=\"-104.3\" font-family=\"Helvetica,sans-Serif\" font-size=\"14.00\" fill=\"#000000\">value = 0.025</text>\n</g>\n<!-- 65&#45;&gt;66 -->\n<g id=\"edge66\" class=\"edge\">\n<title>65&#45;&gt;66</title>\n<path fill=\"none\" stroke=\"#000000\" d=\"M3575.3628,-192.9465C3574.8491,-182.2621 3574.2801,-170.4254 3573.7584,-159.5742\"/>\n<polygon fill=\"#000000\" stroke=\"#000000\" points=\"3577.2523,-159.3625 3573.2761,-149.5422 3570.2604,-159.6987 3577.2523,-159.3625\"/>\n</g>\n<!-- 67 -->\n<g id=\"node68\" class=\"node\">\n<title>67</title>\n<polygon fill=\"#eca470\" stroke=\"#000000\" points=\"3811.5,-149.5 3662.5,-149.5 3662.5,-96.5 3811.5,-96.5 3811.5,-149.5\"/>\n<text text-anchor=\"middle\" x=\"3737\" y=\"-134.3\" font-family=\"Helvetica,sans-Serif\" font-size=\"14.00\" fill=\"#000000\">squared_error = &#45;0.0</text>\n<text text-anchor=\"middle\" x=\"3737\" y=\"-119.3\" font-family=\"Helvetica,sans-Serif\" font-size=\"14.00\" fill=\"#000000\">samples = 1</text>\n<text text-anchor=\"middle\" x=\"3737\" y=\"-104.3\" font-family=\"Helvetica,sans-Serif\" font-size=\"14.00\" fill=\"#000000\">value = 0.025</text>\n</g>\n<!-- 65&#45;&gt;67 -->\n<g id=\"edge67\" class=\"edge\">\n<title>65&#45;&gt;67</title>\n<path fill=\"none\" stroke=\"#000000\" d=\"M3629.39,-192.9465C3648.1153,-180.775 3669.141,-167.1084 3687.6053,-155.1066\"/>\n<polygon fill=\"#000000\" stroke=\"#000000\" points=\"3689.6889,-157.9267 3696.1659,-149.5422 3685.874,-152.0575 3689.6889,-157.9267\"/>\n</g>\n<!-- 69 -->\n<g id=\"node70\" class=\"node\">\n<title>69</title>\n<polygon fill=\"#f0b48a\" stroke=\"#000000\" points=\"3898,-253.5 3754,-253.5 3754,-200.5 3898,-200.5 3898,-253.5\"/>\n<text text-anchor=\"middle\" x=\"3826\" y=\"-238.3\" font-family=\"Helvetica,sans-Serif\" font-size=\"14.00\" fill=\"#000000\">squared_error = 0.0</text>\n<text text-anchor=\"middle\" x=\"3826\" y=\"-223.3\" font-family=\"Helvetica,sans-Serif\" font-size=\"14.00\" fill=\"#000000\">samples = 1</text>\n<text text-anchor=\"middle\" x=\"3826\" y=\"-208.3\" font-family=\"Helvetica,sans-Serif\" font-size=\"14.00\" fill=\"#000000\">value = 0.02</text>\n</g>\n<!-- 68&#45;&gt;69 -->\n<g id=\"edge69\" class=\"edge\">\n<title>68&#45;&gt;69</title>\n<path fill=\"none\" stroke=\"#000000\" d=\"M3826,-296.9465C3826,-286.2621 3826,-274.4254 3826,-263.5742\"/>\n<polygon fill=\"#000000\" stroke=\"#000000\" points=\"3829.5001,-263.5421 3826,-253.5422 3822.5001,-263.5422 3829.5001,-263.5421\"/>\n</g>\n<!-- 70 -->\n<g id=\"node71\" class=\"node\">\n<title>70</title>\n<polygon fill=\"#eeae7f\" stroke=\"#000000\" points=\"4065.5,-253.5 3916.5,-253.5 3916.5,-200.5 4065.5,-200.5 4065.5,-253.5\"/>\n<text text-anchor=\"middle\" x=\"3991\" y=\"-238.3\" font-family=\"Helvetica,sans-Serif\" font-size=\"14.00\" fill=\"#000000\">squared_error = &#45;0.0</text>\n<text text-anchor=\"middle\" x=\"3991\" y=\"-223.3\" font-family=\"Helvetica,sans-Serif\" font-size=\"14.00\" fill=\"#000000\">samples = 1</text>\n<text text-anchor=\"middle\" x=\"3991\" y=\"-208.3\" font-family=\"Helvetica,sans-Serif\" font-size=\"14.00\" fill=\"#000000\">value = 0.022</text>\n</g>\n<!-- 68&#45;&gt;70 -->\n<g id=\"edge70\" class=\"edge\">\n<title>68&#45;&gt;70</title>\n<path fill=\"none\" stroke=\"#000000\" d=\"M3880.0272,-296.9465C3899.4251,-284.72 3921.2166,-270.9847 3940.32,-258.9437\"/>\n<polygon fill=\"#000000\" stroke=\"#000000\" points=\"3942.2964,-261.8353 3948.8898,-253.5422 3938.5638,-255.9135 3942.2964,-261.8353\"/>\n</g>\n<!-- 73 -->\n<g id=\"node74\" class=\"node\">\n<title>73</title>\n<polygon fill=\"#f4c9aa\" stroke=\"#000000\" points=\"4198.5,-469 3923.5,-469 3923.5,-401 4198.5,-401 4198.5,-469\"/>\n<text text-anchor=\"middle\" x=\"4061\" y=\"-453.8\" font-family=\"Helvetica,sans-Serif\" font-size=\"14.00\" fill=\"#000000\">summer_2020_fully_vaccinated &lt;= 14.0</text>\n<text text-anchor=\"middle\" x=\"4061\" y=\"-438.8\" font-family=\"Helvetica,sans-Serif\" font-size=\"14.00\" fill=\"#000000\">squared_error = 0.0</text>\n<text text-anchor=\"middle\" x=\"4061\" y=\"-423.8\" font-family=\"Helvetica,sans-Serif\" font-size=\"14.00\" fill=\"#000000\">samples = 3</text>\n<text text-anchor=\"middle\" x=\"4061\" y=\"-408.8\" font-family=\"Helvetica,sans-Serif\" font-size=\"14.00\" fill=\"#000000\">value = 0.015</text>\n</g>\n<!-- 72&#45;&gt;73 -->\n<g id=\"edge73\" class=\"edge\">\n<title>72&#45;&gt;73</title>\n<path fill=\"none\" stroke=\"#000000\" d=\"M4061,-504.9465C4061,-496.776 4061,-487.9318 4061,-479.3697\"/>\n<polygon fill=\"#000000\" stroke=\"#000000\" points=\"4064.5001,-479.13 4061,-469.13 4057.5001,-479.13 4064.5001,-479.13\"/>\n</g>\n<!-- 78 -->\n<g id=\"node79\" class=\"node\">\n<title>78</title>\n<polygon fill=\"#f1ba93\" stroke=\"#000000\" points=\"4365.5,-461.5 4216.5,-461.5 4216.5,-408.5 4365.5,-408.5 4365.5,-461.5\"/>\n<text text-anchor=\"middle\" x=\"4291\" y=\"-446.3\" font-family=\"Helvetica,sans-Serif\" font-size=\"14.00\" fill=\"#000000\">squared_error = &#45;0.0</text>\n<text text-anchor=\"middle\" x=\"4291\" y=\"-431.3\" font-family=\"Helvetica,sans-Serif\" font-size=\"14.00\" fill=\"#000000\">samples = 1</text>\n<text text-anchor=\"middle\" x=\"4291\" y=\"-416.3\" font-family=\"Helvetica,sans-Serif\" font-size=\"14.00\" fill=\"#000000\">value = 0.019</text>\n</g>\n<!-- 72&#45;&gt;78 -->\n<g id=\"edge78\" class=\"edge\">\n<title>72&#45;&gt;78</title>\n<path fill=\"none\" stroke=\"#000000\" d=\"M4136.3106,-504.9465C4164.2027,-492.3344 4195.6451,-478.117 4222.8627,-465.8099\"/>\n<polygon fill=\"#000000\" stroke=\"#000000\" points=\"4224.6312,-468.8515 4232.301,-461.5422 4221.7471,-462.4732 4224.6312,-468.8515\"/>\n</g>\n<!-- 74 -->\n<g id=\"node75\" class=\"node\">\n<title>74</title>\n<polygon fill=\"#f3c5a3\" stroke=\"#000000\" points=\"4133,-357.5 3989,-357.5 3989,-304.5 4133,-304.5 4133,-357.5\"/>\n<text text-anchor=\"middle\" x=\"4061\" y=\"-342.3\" font-family=\"Helvetica,sans-Serif\" font-size=\"14.00\" fill=\"#000000\">squared_error = 0.0</text>\n<text text-anchor=\"middle\" x=\"4061\" y=\"-327.3\" font-family=\"Helvetica,sans-Serif\" font-size=\"14.00\" fill=\"#000000\">samples = 1</text>\n<text text-anchor=\"middle\" x=\"4061\" y=\"-312.3\" font-family=\"Helvetica,sans-Serif\" font-size=\"14.00\" fill=\"#000000\">value = 0.016</text>\n</g>\n<!-- 73&#45;&gt;74 -->\n<g id=\"edge74\" class=\"edge\">\n<title>73&#45;&gt;74</title>\n<path fill=\"none\" stroke=\"#000000\" d=\"M4061,-400.9465C4061,-390.2621 4061,-378.4254 4061,-367.5742\"/>\n<polygon fill=\"#000000\" stroke=\"#000000\" points=\"4064.5001,-367.5421 4061,-357.5422 4057.5001,-367.5422 4064.5001,-367.5421\"/>\n</g>\n<!-- 75 -->\n<g id=\"node76\" class=\"node\">\n<title>75</title>\n<polygon fill=\"#f4cbad\" stroke=\"#000000\" points=\"4455,-365 4151,-365 4151,-297 4455,-297 4455,-365\"/>\n<text text-anchor=\"middle\" x=\"4303\" y=\"-349.8\" font-family=\"Helvetica,sans-Serif\" font-size=\"14.00\" fill=\"#000000\">summer_2020_at_least_one_dose &lt;= 179.0</text>\n<text text-anchor=\"middle\" x=\"4303\" y=\"-334.8\" font-family=\"Helvetica,sans-Serif\" font-size=\"14.00\" fill=\"#000000\">squared_error = 0.0</text>\n<text text-anchor=\"middle\" x=\"4303\" y=\"-319.8\" font-family=\"Helvetica,sans-Serif\" font-size=\"14.00\" fill=\"#000000\">samples = 2</text>\n<text text-anchor=\"middle\" x=\"4303\" y=\"-304.8\" font-family=\"Helvetica,sans-Serif\" font-size=\"14.00\" fill=\"#000000\">value = 0.015</text>\n</g>\n<!-- 73&#45;&gt;75 -->\n<g id=\"edge75\" class=\"edge\">\n<title>73&#45;&gt;75</title>\n<path fill=\"none\" stroke=\"#000000\" d=\"M4140.2399,-400.9465C4163.9527,-390.7559 4190.1044,-379.5171 4214.3794,-369.0849\"/>\n<polygon fill=\"#000000\" stroke=\"#000000\" points=\"4215.7765,-372.294 4223.5821,-365.13 4213.0127,-365.8628 4215.7765,-372.294\"/>\n</g>\n<!-- 76 -->\n<g id=\"node77\" class=\"node\">\n<title>76</title>\n<polygon fill=\"#f4ccaf\" stroke=\"#000000\" points=\"4301,-253.5 4157,-253.5 4157,-200.5 4301,-200.5 4301,-253.5\"/>\n<text text-anchor=\"middle\" x=\"4229\" y=\"-238.3\" font-family=\"Helvetica,sans-Serif\" font-size=\"14.00\" fill=\"#000000\">squared_error = 0.0</text>\n<text text-anchor=\"middle\" x=\"4229\" y=\"-223.3\" font-family=\"Helvetica,sans-Serif\" font-size=\"14.00\" fill=\"#000000\">samples = 1</text>\n<text text-anchor=\"middle\" x=\"4229\" y=\"-208.3\" font-family=\"Helvetica,sans-Serif\" font-size=\"14.00\" fill=\"#000000\">value = 0.015</text>\n</g>\n<!-- 75&#45;&gt;76 -->\n<g id=\"edge76\" class=\"edge\">\n<title>75&#45;&gt;76</title>\n<path fill=\"none\" stroke=\"#000000\" d=\"M4278.7696,-296.9465C4270.7754,-285.7113 4261.8746,-273.2021 4253.8358,-261.9043\"/>\n<polygon fill=\"#000000\" stroke=\"#000000\" points=\"4256.5351,-259.6609 4247.8858,-253.5422 4250.8316,-263.7192 4256.5351,-259.6609\"/>\n</g>\n<!-- 77 -->\n<g id=\"node78\" class=\"node\">\n<title>77</title>\n<polygon fill=\"#f4caac\" stroke=\"#000000\" points=\"4463,-253.5 4319,-253.5 4319,-200.5 4463,-200.5 4463,-253.5\"/>\n<text text-anchor=\"middle\" x=\"4391\" y=\"-238.3\" font-family=\"Helvetica,sans-Serif\" font-size=\"14.00\" fill=\"#000000\">squared_error = 0.0</text>\n<text text-anchor=\"middle\" x=\"4391\" y=\"-223.3\" font-family=\"Helvetica,sans-Serif\" font-size=\"14.00\" fill=\"#000000\">samples = 1</text>\n<text text-anchor=\"middle\" x=\"4391\" y=\"-208.3\" font-family=\"Helvetica,sans-Serif\" font-size=\"14.00\" fill=\"#000000\">value = 0.015</text>\n</g>\n<!-- 75&#45;&gt;77 -->\n<g id=\"edge77\" class=\"edge\">\n<title>75&#45;&gt;77</title>\n<path fill=\"none\" stroke=\"#000000\" d=\"M4331.8145,-296.9465C4341.5076,-285.491 4352.3214,-272.711 4362.0267,-261.2412\"/>\n<polygon fill=\"#000000\" stroke=\"#000000\" points=\"4364.7536,-263.4369 4368.5412,-253.5422 4359.4099,-258.9152 4364.7536,-263.4369\"/>\n</g>\n</g>\n</svg>\n"
          },
          "metadata": {},
          "execution_count": 75
        }
      ]
    },
    {
      "cell_type": "markdown",
      "metadata": {
        "id": "9AEZh66CD8sf"
      },
      "source": [
        "# Random Forest Regressor on Summer 2020 Data"
      ]
    },
    {
      "cell_type": "markdown",
      "metadata": {
        "id": "564OAtj8HNLe"
      },
      "source": [
        "Separating dataset into labels and features"
      ]
    },
    {
      "cell_type": "code",
      "metadata": {
        "id": "PxxbIF5gyK3w"
      },
      "source": [
        "labels_summer2020 = summer_2020['summer_2020_cases_per_capita']\n",
        "features_summer2020 = summer_2020.drop(columns=['summer_2020_cases','summer_2020_cases_per_capita']) "
      ],
      "execution_count": 76,
      "outputs": []
    },
    {
      "cell_type": "markdown",
      "metadata": {
        "id": "i-y7lQlrHYAJ"
      },
      "source": [
        "Splitting the dataset into training and testing data"
      ]
    },
    {
      "cell_type": "code",
      "metadata": {
        "id": "pSI_dlqdHcB8"
      },
      "source": [
        "features_train, features_test, labels_train, labels_test = train_test_split(features_summer2020, labels_summer2020, test_size=0.3, random_state=42) # 70% training and 30% test"
      ],
      "execution_count": 77,
      "outputs": []
    },
    {
      "cell_type": "markdown",
      "metadata": {
        "id": "Y4KQn8FmHfBf"
      },
      "source": [
        "Initializing and Training the Random Forest Regressor Model"
      ]
    },
    {
      "cell_type": "code",
      "metadata": {
        "id": "D9XcPywrHdex"
      },
      "source": [
        "rfr_summer2020 = RandomForestRegressor(n_estimators = 100, max_features = \"auto\", bootstrap = True, random_state = 42)\n",
        "rfr_summer2020.fit(features_train, labels_train);"
      ],
      "execution_count": 78,
      "outputs": []
    },
    {
      "cell_type": "markdown",
      "metadata": {
        "id": "FhgZrMbtZotQ"
      },
      "source": [
        "## Random Forest Errors"
      ]
    },
    {
      "cell_type": "code",
      "metadata": {
        "id": "cdu2bWihZrBV",
        "colab": {
          "base_uri": "https://localhost:8080/"
        },
        "outputId": "518e5cd2-63ed-4b32-a2eb-fd8e1247cc50"
      },
      "source": [
        "labels_pred = rfr_summer2020.predict(features_test)\n",
        "\n",
        "print('Mean Absolute Error (MAE):', metrics.mean_absolute_error(labels_test, labels_pred))\n",
        "print('Mean Squared Error (MSE):', metrics.mean_squared_error(labels_test, labels_pred, squared=False))\n",
        "print('Root Mean Squared Error (RMSE):', metrics.mean_squared_error(labels_test, labels_pred))"
      ],
      "execution_count": 80,
      "outputs": [
        {
          "output_type": "stream",
          "name": "stdout",
          "text": [
            "Mean Absolute Error (MAE): 0.003607740645748295\n",
            "Mean Squared Error (MSE): 0.003962923494122509\n",
            "Root Mean Squared Error (RMSE): 1.570476262026815e-05\n"
          ]
        }
      ]
    },
    {
      "cell_type": "markdown",
      "metadata": {
        "id": "ymlS6er9HyBW"
      },
      "source": [
        "## Random Forest Regressor Summer 2020 - Feature Importances"
      ]
    },
    {
      "cell_type": "markdown",
      "metadata": {
        "id": "DUCd7k5gH0j_"
      },
      "source": [
        "Initialize feature importances variable and store values into a dataframe to plot visually."
      ]
    },
    {
      "cell_type": "code",
      "metadata": {
        "id": "5Pso0XMhIDWg"
      },
      "source": [
        "importance_summer2020 = rfr_summer2020.feature_importances_\n",
        "# summarize feature importance\n",
        "names_summer2020 = features_summer2020.columns.to_numpy(dtype=object)\n",
        "importanceDF_summer2020 = pd.DataFrame({'features':names_summer2020, 'importance':importance_summer2020})"
      ],
      "execution_count": 81,
      "outputs": []
    },
    {
      "cell_type": "code",
      "metadata": {
        "id": "kr5_uzB2IRZ3"
      },
      "source": [
        "# sort from highest to lowest importance values\n",
        "importanceDF_summer2020 = importanceDF_summer2020.sort_values(by=['importance'])"
      ],
      "execution_count": 82,
      "outputs": []
    },
    {
      "cell_type": "code",
      "metadata": {
        "id": "e9fYmaMcIVwK",
        "colab": {
          "base_uri": "https://localhost:8080/",
          "height": 1000
        },
        "outputId": "06630267-16a3-4f98-a514-0f16f5c47419"
      },
      "source": [
        "# plot using a bar graph\n",
        "importanceDF_summer2020.plot.barh(x='features', y='importance', figsize = (20,20), title = \"Summer 2020 RFR Feature Importance\")"
      ],
      "execution_count": 83,
      "outputs": [
        {
          "output_type": "execute_result",
          "data": {
            "text/plain": [
              "<matplotlib.axes._subplots.AxesSubplot at 0x7f068a065450>"
            ]
          },
          "metadata": {},
          "execution_count": 83
        },
        {
          "output_type": "display_data",
          "data": {
            "image/png": "[encoded data removed]",
            "text/plain": [
              "<Figure size 1440x1440 with 1 Axes>"
            ]
          },
          "metadata": {
            "needs_background": "light"
          }
        }
      ]
    },
    {
      "cell_type": "markdown",
      "metadata": {
        "id": "2V9UN8Hf-YHi"
      },
      "source": [
        "Visualize the first tree generated from the RF (estimator 0)"
      ]
    },
    {
      "cell_type": "code",
      "metadata": {
        "id": "AZxPuM3G-Vsx",
        "colab": {
          "base_uri": "https://localhost:8080/",
          "height": 1000
        },
        "outputId": "46e606f7-e03c-4af9-c033-970d9ec2ea19"
      },
      "source": [
        "# Initialize tree data object \n",
        "rfr_summer2020_dot = tree.export_graphviz(rfr_summer2020.estimators_[0], out_file=None, \n",
        "                                feature_names=features_summer2020.columns,  \n",
        "                                filled=True)\n",
        "\n",
        "# Draw graph\n",
        "rfr_summer2020_graph = graphviz.Source(rfr_summer2020_dot, format=\"png\") \n",
        "rfr_summer2020_graph"
      ],
      "execution_count": 84,
      "outputs": [
        {
          "output_type": "execute_result",
          "data": {
            "text/plain": [
              "<graphviz.files.Source at 0x7f0689d8d750>"
            ],
            "image/svg+xml": "<?xml version=\"1.0\" encoding=\"UTF-8\" standalone=\"no\"?>\n<!DOCTYPE svg PUBLIC \"-//W3C//DTD SVG 1.1//EN\"\n \"http://www.w3.org/Graphics/SVG/1.1/DTD/svg11.dtd\">\n<!-- Generated by graphviz version 2.40.1 (20161225.0304)\n -->\n<!-- Title: Tree Pages: 1 -->\n<svg width=\"2661pt\" height=\"997pt\"\n viewBox=\"0.00 0.00 2661.00 997.00\" xmlns=\"http://www.w3.org/2000/svg\" xmlns:xlink=\"http://www.w3.org/1999/xlink\">\n<g id=\"graph0\" class=\"graph\" transform=\"scale(1 1) rotate(0) translate(4 993)\">\n<title>Tree</title>\n<polygon fill=\"#ffffff\" stroke=\"transparent\" points=\"-4,4 -4,-993 2657,-993 2657,4 -4,4\"/>\n<!-- 0 -->\n<g id=\"node1\" class=\"node\">\n<title>0</title>\n<polygon fill=\"#f6d3bb\" stroke=\"#000000\" points=\"1305.5,-989 988.5,-989 988.5,-921 1305.5,-921 1305.5,-989\"/>\n<text text-anchor=\"middle\" x=\"1147\" y=\"-973.8\" font-family=\"Helvetica,sans-Serif\" font-size=\"14.00\" fill=\"#000000\">summer_2020_Unemployment_Rate &lt;= 0.124</text>\n<text text-anchor=\"middle\" x=\"1147\" y=\"-958.8\" font-family=\"Helvetica,sans-Serif\" font-size=\"14.00\" fill=\"#000000\">squared_error = 0.0</text>\n<text text-anchor=\"middle\" x=\"1147\" y=\"-943.8\" font-family=\"Helvetica,sans-Serif\" font-size=\"14.00\" fill=\"#000000\">samples = 27</text>\n<text text-anchor=\"middle\" x=\"1147\" y=\"-928.8\" font-family=\"Helvetica,sans-Serif\" font-size=\"14.00\" fill=\"#000000\">value = 0.013</text>\n</g>\n<!-- 1 -->\n<g id=\"node2\" class=\"node\">\n<title>1</title>\n<polygon fill=\"#f9e0ce\" stroke=\"#000000\" points=\"1115.5,-885 954.5,-885 954.5,-817 1115.5,-817 1115.5,-885\"/>\n<text text-anchor=\"middle\" x=\"1035\" y=\"-869.8\" font-family=\"Helvetica,sans-Serif\" font-size=\"14.00\" fill=\"#000000\">population &lt;= 28453.0</text>\n<text text-anchor=\"middle\" x=\"1035\" y=\"-854.8\" font-family=\"Helvetica,sans-Serif\" font-size=\"14.00\" fill=\"#000000\">squared_error = 0.0</text>\n<text text-anchor=\"middle\" x=\"1035\" y=\"-839.8\" font-family=\"Helvetica,sans-Serif\" font-size=\"14.00\" fill=\"#000000\">samples = 18</text>\n<text text-anchor=\"middle\" x=\"1035\" y=\"-824.8\" font-family=\"Helvetica,sans-Serif\" font-size=\"14.00\" fill=\"#000000\">value = 0.009</text>\n</g>\n<!-- 0&#45;&gt;1 -->\n<g id=\"edge1\" class=\"edge\">\n<title>0&#45;&gt;1</title>\n<path fill=\"none\" stroke=\"#000000\" d=\"M1110.327,-920.9465C1100.3677,-911.6986 1089.4789,-901.5876 1079.1532,-891.9994\"/>\n<polygon fill=\"#000000\" stroke=\"#000000\" points=\"1081.4649,-889.3698 1071.7554,-885.13 1076.7018,-894.4993 1081.4649,-889.3698\"/>\n<text text-anchor=\"middle\" x=\"1072.6807\" y=\"-906.4129\" font-family=\"Helvetica,sans-Serif\" font-size=\"14.00\" fill=\"#000000\">True</text>\n</g>\n<!-- 36 -->\n<g id=\"node37\" class=\"node\">\n<title>36</title>\n<polygon fill=\"#f0b78d\" stroke=\"#000000\" points=\"1441.5,-885 1280.5,-885 1280.5,-817 1441.5,-817 1441.5,-885\"/>\n<text text-anchor=\"middle\" x=\"1361\" y=\"-869.8\" font-family=\"Helvetica,sans-Serif\" font-size=\"14.00\" fill=\"#000000\">population &lt;= 78780.5</text>\n<text text-anchor=\"middle\" x=\"1361\" y=\"-854.8\" font-family=\"Helvetica,sans-Serif\" font-size=\"14.00\" fill=\"#000000\">squared_error = 0.0</text>\n<text text-anchor=\"middle\" x=\"1361\" y=\"-839.8\" font-family=\"Helvetica,sans-Serif\" font-size=\"14.00\" fill=\"#000000\">samples = 9</text>\n<text text-anchor=\"middle\" x=\"1361\" y=\"-824.8\" font-family=\"Helvetica,sans-Serif\" font-size=\"14.00\" fill=\"#000000\">value = 0.02</text>\n</g>\n<!-- 0&#45;&gt;36 -->\n<g id=\"edge36\" class=\"edge\">\n<title>0&#45;&gt;36</title>\n<path fill=\"none\" stroke=\"#000000\" d=\"M1217.0716,-920.9465C1237.6713,-910.9354 1260.3524,-899.9129 1281.4967,-889.6371\"/>\n<polygon fill=\"#000000\" stroke=\"#000000\" points=\"1283.3067,-892.649 1290.771,-885.13 1280.247,-886.3531 1283.3067,-892.649\"/>\n<text text-anchor=\"middle\" x=\"1282.5983\" y=\"-905.0564\" font-family=\"Helvetica,sans-Serif\" font-size=\"14.00\" fill=\"#000000\">False</text>\n</g>\n<!-- 2 -->\n<g id=\"node3\" class=\"node\">\n<title>2</title>\n<polygon fill=\"#fefbf9\" stroke=\"#000000\" points=\"730.5,-781 519.5,-781 519.5,-713 730.5,-713 730.5,-781\"/>\n<text text-anchor=\"middle\" x=\"625\" y=\"-765.8\" font-family=\"Helvetica,sans-Serif\" font-size=\"14.00\" fill=\"#000000\">other_votes_percent &lt;= 0.009</text>\n<text text-anchor=\"middle\" x=\"625\" y=\"-750.8\" font-family=\"Helvetica,sans-Serif\" font-size=\"14.00\" fill=\"#000000\">squared_error = 0.0</text>\n<text text-anchor=\"middle\" x=\"625\" y=\"-735.8\" font-family=\"Helvetica,sans-Serif\" font-size=\"14.00\" fill=\"#000000\">samples = 3</text>\n<text text-anchor=\"middle\" x=\"625\" y=\"-720.8\" font-family=\"Helvetica,sans-Serif\" font-size=\"14.00\" fill=\"#000000\">value = 0.003</text>\n</g>\n<!-- 1&#45;&gt;2 -->\n<g id=\"edge2\" class=\"edge\">\n<title>1&#45;&gt;2</title>\n<path fill=\"none\" stroke=\"#000000\" d=\"M954.4864,-830.577C893.4713,-815.1 808.7775,-793.6167 740.5371,-776.307\"/>\n<polygon fill=\"#000000\" stroke=\"#000000\" points=\"741.1466,-772.8508 730.593,-773.7846 739.4254,-779.6359 741.1466,-772.8508\"/>\n</g>\n<!-- 7 -->\n<g id=\"node8\" class=\"node\">\n<title>7</title>\n<polygon fill=\"#f8dbc7\" stroke=\"#000000\" points=\"1157.5,-781 912.5,-781 912.5,-713 1157.5,-713 1157.5,-781\"/>\n<text text-anchor=\"middle\" x=\"1035\" y=\"-765.8\" font-family=\"Helvetica,sans-Serif\" font-size=\"14.00\" fill=\"#000000\">republican_votes_percent &lt;= 0.546</text>\n<text text-anchor=\"middle\" x=\"1035\" y=\"-750.8\" font-family=\"Helvetica,sans-Serif\" font-size=\"14.00\" fill=\"#000000\">squared_error = 0.0</text>\n<text text-anchor=\"middle\" x=\"1035\" y=\"-735.8\" font-family=\"Helvetica,sans-Serif\" font-size=\"14.00\" fill=\"#000000\">samples = 15</text>\n<text text-anchor=\"middle\" x=\"1035\" y=\"-720.8\" font-family=\"Helvetica,sans-Serif\" font-size=\"14.00\" fill=\"#000000\">value = 0.011</text>\n</g>\n<!-- 1&#45;&gt;7 -->\n<g id=\"edge7\" class=\"edge\">\n<title>1&#45;&gt;7</title>\n<path fill=\"none\" stroke=\"#000000\" d=\"M1035,-816.9465C1035,-808.776 1035,-799.9318 1035,-791.3697\"/>\n<polygon fill=\"#000000\" stroke=\"#000000\" points=\"1038.5001,-791.13 1035,-781.13 1031.5001,-791.13 1038.5001,-791.13\"/>\n</g>\n<!-- 3 -->\n<g id=\"node4\" class=\"node\">\n<title>3</title>\n<polygon fill=\"#fefaf7\" stroke=\"#000000\" points=\"490.5,-677 279.5,-677 279.5,-609 490.5,-609 490.5,-677\"/>\n<text text-anchor=\"middle\" x=\"385\" y=\"-661.8\" font-family=\"Helvetica,sans-Serif\" font-size=\"14.00\" fill=\"#000000\">other_votes_percent &lt;= 0.006</text>\n<text text-anchor=\"middle\" x=\"385\" y=\"-646.8\" font-family=\"Helvetica,sans-Serif\" font-size=\"14.00\" fill=\"#000000\">squared_error = 0.0</text>\n<text text-anchor=\"middle\" x=\"385\" y=\"-631.8\" font-family=\"Helvetica,sans-Serif\" font-size=\"14.00\" fill=\"#000000\">samples = 2</text>\n<text text-anchor=\"middle\" x=\"385\" y=\"-616.8\" font-family=\"Helvetica,sans-Serif\" font-size=\"14.00\" fill=\"#000000\">value = 0.003</text>\n</g>\n<!-- 2&#45;&gt;3 -->\n<g id=\"edge3\" class=\"edge\">\n<title>2&#45;&gt;3</title>\n<path fill=\"none\" stroke=\"#000000\" d=\"M546.415,-712.9465C523.0018,-702.8008 497.191,-691.6161 473.2065,-681.2228\"/>\n<polygon fill=\"#000000\" stroke=\"#000000\" points=\"474.3287,-677.8947 463.7615,-677.13 471.5454,-684.3176 474.3287,-677.8947\"/>\n</g>\n<!-- 6 -->\n<g id=\"node7\" class=\"node\">\n<title>6</title>\n<polygon fill=\"#ffffff\" stroke=\"#000000\" points=\"699.5,-669.5 550.5,-669.5 550.5,-616.5 699.5,-616.5 699.5,-669.5\"/>\n<text text-anchor=\"middle\" x=\"625\" y=\"-654.3\" font-family=\"Helvetica,sans-Serif\" font-size=\"14.00\" fill=\"#000000\">squared_error = &#45;0.0</text>\n<text text-anchor=\"middle\" x=\"625\" y=\"-639.3\" font-family=\"Helvetica,sans-Serif\" font-size=\"14.00\" fill=\"#000000\">samples = 1</text>\n<text text-anchor=\"middle\" x=\"625\" y=\"-624.3\" font-family=\"Helvetica,sans-Serif\" font-size=\"14.00\" fill=\"#000000\">value = 0.002</text>\n</g>\n<!-- 2&#45;&gt;6 -->\n<g id=\"edge6\" class=\"edge\">\n<title>2&#45;&gt;6</title>\n<path fill=\"none\" stroke=\"#000000\" d=\"M625,-712.9465C625,-702.2621 625,-690.4254 625,-679.5742\"/>\n<polygon fill=\"#000000\" stroke=\"#000000\" points=\"628.5001,-679.5421 625,-669.5422 621.5001,-679.5422 628.5001,-679.5421\"/>\n</g>\n<!-- 4 -->\n<g id=\"node5\" class=\"node\">\n<title>4</title>\n<polygon fill=\"#fefcfa\" stroke=\"#000000\" points=\"295,-565.5 151,-565.5 151,-512.5 295,-512.5 295,-565.5\"/>\n<text text-anchor=\"middle\" x=\"223\" y=\"-550.3\" font-family=\"Helvetica,sans-Serif\" font-size=\"14.00\" fill=\"#000000\">squared_error = 0.0</text>\n<text text-anchor=\"middle\" x=\"223\" y=\"-535.3\" font-family=\"Helvetica,sans-Serif\" font-size=\"14.00\" fill=\"#000000\">samples = 1</text>\n<text text-anchor=\"middle\" x=\"223\" y=\"-520.3\" font-family=\"Helvetica,sans-Serif\" font-size=\"14.00\" fill=\"#000000\">value = 0.002</text>\n</g>\n<!-- 3&#45;&gt;4 -->\n<g id=\"edge4\" class=\"edge\">\n<title>3&#45;&gt;4</title>\n<path fill=\"none\" stroke=\"#000000\" d=\"M331.9551,-608.9465C312.9957,-596.775 291.7073,-583.1084 273.0121,-571.1066\"/>\n<polygon fill=\"#000000\" stroke=\"#000000\" points=\"274.6505,-567.9992 264.3445,-565.5422 270.8689,-573.8898 274.6505,-567.9992\"/>\n</g>\n<!-- 5 -->\n<g id=\"node6\" class=\"node\">\n<title>5</title>\n<polygon fill=\"#fef9f5\" stroke=\"#000000\" points=\"457,-565.5 313,-565.5 313,-512.5 457,-512.5 457,-565.5\"/>\n<text text-anchor=\"middle\" x=\"385\" y=\"-550.3\" font-family=\"Helvetica,sans-Serif\" font-size=\"14.00\" fill=\"#000000\">squared_error = 0.0</text>\n<text text-anchor=\"middle\" x=\"385\" y=\"-535.3\" font-family=\"Helvetica,sans-Serif\" font-size=\"14.00\" fill=\"#000000\">samples = 1</text>\n<text text-anchor=\"middle\" x=\"385\" y=\"-520.3\" font-family=\"Helvetica,sans-Serif\" font-size=\"14.00\" fill=\"#000000\">value = 0.003</text>\n</g>\n<!-- 3&#45;&gt;5 -->\n<g id=\"edge5\" class=\"edge\">\n<title>3&#45;&gt;5</title>\n<path fill=\"none\" stroke=\"#000000\" d=\"M385,-608.9465C385,-598.2621 385,-586.4254 385,-575.5742\"/>\n<polygon fill=\"#000000\" stroke=\"#000000\" points=\"388.5001,-575.5421 385,-565.5422 381.5001,-575.5422 388.5001,-575.5421\"/>\n</g>\n<!-- 8 -->\n<g id=\"node9\" class=\"node\">\n<title>8</title>\n<polygon fill=\"#f8decb\" stroke=\"#000000\" points=\"930,-677 760,-677 760,-609 930,-609 930,-677\"/>\n<text text-anchor=\"middle\" x=\"845\" y=\"-661.8\" font-family=\"Helvetica,sans-Serif\" font-size=\"14.00\" fill=\"#000000\">population &lt;= 422344.5</text>\n<text text-anchor=\"middle\" x=\"845\" y=\"-646.8\" font-family=\"Helvetica,sans-Serif\" font-size=\"14.00\" fill=\"#000000\">squared_error = 0.0</text>\n<text text-anchor=\"middle\" x=\"845\" y=\"-631.8\" font-family=\"Helvetica,sans-Serif\" font-size=\"14.00\" fill=\"#000000\">samples = 12</text>\n<text text-anchor=\"middle\" x=\"845\" y=\"-616.8\" font-family=\"Helvetica,sans-Serif\" font-size=\"14.00\" fill=\"#000000\">value = 0.01</text>\n</g>\n<!-- 7&#45;&gt;8 -->\n<g id=\"edge8\" class=\"edge\">\n<title>7&#45;&gt;8</title>\n<path fill=\"none\" stroke=\"#000000\" d=\"M972.7869,-712.9465C954.7435,-703.0701 934.9015,-692.2093 916.3454,-682.0522\"/>\n<polygon fill=\"#000000\" stroke=\"#000000\" points=\"917.8053,-678.8613 907.3529,-677.13 914.4443,-685.0017 917.8053,-678.8613\"/>\n</g>\n<!-- 31 -->\n<g id=\"node32\" class=\"node\">\n<title>31</title>\n<polygon fill=\"#f5ceb3\" stroke=\"#000000\" points=\"1288.5,-677 1047.5,-677 1047.5,-609 1288.5,-609 1288.5,-677\"/>\n<text text-anchor=\"middle\" x=\"1168\" y=\"-661.8\" font-family=\"Helvetica,sans-Serif\" font-size=\"14.00\" fill=\"#000000\">libertarian_votes_percent &lt;= 0.015</text>\n<text text-anchor=\"middle\" x=\"1168\" y=\"-646.8\" font-family=\"Helvetica,sans-Serif\" font-size=\"14.00\" fill=\"#000000\">squared_error = 0.0</text>\n<text text-anchor=\"middle\" x=\"1168\" y=\"-631.8\" font-family=\"Helvetica,sans-Serif\" font-size=\"14.00\" fill=\"#000000\">samples = 3</text>\n<text text-anchor=\"middle\" x=\"1168\" y=\"-616.8\" font-family=\"Helvetica,sans-Serif\" font-size=\"14.00\" fill=\"#000000\">value = 0.014</text>\n</g>\n<!-- 7&#45;&gt;31 -->\n<g id=\"edge31\" class=\"edge\">\n<title>7&#45;&gt;31</title>\n<path fill=\"none\" stroke=\"#000000\" d=\"M1078.5492,-712.9465C1090.6054,-703.519 1103.8089,-693.1946 1116.2816,-683.4415\"/>\n<polygon fill=\"#000000\" stroke=\"#000000\" points=\"1118.6314,-686.0471 1124.353,-677.13 1114.3194,-680.5328 1118.6314,-686.0471\"/>\n</g>\n<!-- 9 -->\n<g id=\"node10\" class=\"node\">\n<title>9</title>\n<polygon fill=\"#fae5d6\" stroke=\"#000000\" points=\"645,-573 475,-573 475,-505 645,-505 645,-573\"/>\n<text text-anchor=\"middle\" x=\"560\" y=\"-557.8\" font-family=\"Helvetica,sans-Serif\" font-size=\"14.00\" fill=\"#000000\">population &lt;= 248805.5</text>\n<text text-anchor=\"middle\" x=\"560\" y=\"-542.8\" font-family=\"Helvetica,sans-Serif\" font-size=\"14.00\" fill=\"#000000\">squared_error = 0.0</text>\n<text text-anchor=\"middle\" x=\"560\" y=\"-527.8\" font-family=\"Helvetica,sans-Serif\" font-size=\"14.00\" fill=\"#000000\">samples = 5</text>\n<text text-anchor=\"middle\" x=\"560\" y=\"-512.8\" font-family=\"Helvetica,sans-Serif\" font-size=\"14.00\" fill=\"#000000\">value = 0.008</text>\n</g>\n<!-- 8&#45;&gt;9 -->\n<g id=\"edge9\" class=\"edge\">\n<title>8&#45;&gt;9</title>\n<path fill=\"none\" stroke=\"#000000\" d=\"M759.8766,-611.9374C726.7427,-599.8465 688.6403,-585.9424 654.6479,-573.5382\"/>\n<polygon fill=\"#000000\" stroke=\"#000000\" points=\"655.7708,-570.2222 645.1769,-570.0821 653.3711,-576.7981 655.7708,-570.2222\"/>\n</g>\n<!-- 18 -->\n<g id=\"node19\" class=\"node\">\n<title>18</title>\n<polygon fill=\"#f7d9c3\" stroke=\"#000000\" points=\"978.5,-573 711.5,-573 711.5,-505 978.5,-505 978.5,-573\"/>\n<text text-anchor=\"middle\" x=\"845\" y=\"-557.8\" font-family=\"Helvetica,sans-Serif\" font-size=\"14.00\" fill=\"#000000\">summer_2020_fully_vaccinated &lt;= 0.5</text>\n<text text-anchor=\"middle\" x=\"845\" y=\"-542.8\" font-family=\"Helvetica,sans-Serif\" font-size=\"14.00\" fill=\"#000000\">squared_error = 0.0</text>\n<text text-anchor=\"middle\" x=\"845\" y=\"-527.8\" font-family=\"Helvetica,sans-Serif\" font-size=\"14.00\" fill=\"#000000\">samples = 7</text>\n<text text-anchor=\"middle\" x=\"845\" y=\"-512.8\" font-family=\"Helvetica,sans-Serif\" font-size=\"14.00\" fill=\"#000000\">value = 0.011</text>\n</g>\n<!-- 8&#45;&gt;18 -->\n<g id=\"edge18\" class=\"edge\">\n<title>8&#45;&gt;18</title>\n<path fill=\"none\" stroke=\"#000000\" d=\"M845,-608.9465C845,-600.776 845,-591.9318 845,-583.3697\"/>\n<polygon fill=\"#000000\" stroke=\"#000000\" points=\"848.5001,-583.13 845,-573.13 841.5001,-583.13 848.5001,-583.13\"/>\n</g>\n<!-- 10 -->\n<g id=\"node11\" class=\"node\">\n<title>10</title>\n<polygon fill=\"#f9e3d2\" stroke=\"#000000\" points=\"409.5,-469 142.5,-469 142.5,-401 409.5,-401 409.5,-469\"/>\n<text text-anchor=\"middle\" x=\"276\" y=\"-453.8\" font-family=\"Helvetica,sans-Serif\" font-size=\"14.00\" fill=\"#000000\">summer_2020_fully_vaccinated &lt;= 0.5</text>\n<text text-anchor=\"middle\" x=\"276\" y=\"-438.8\" font-family=\"Helvetica,sans-Serif\" font-size=\"14.00\" fill=\"#000000\">squared_error = 0.0</text>\n<text text-anchor=\"middle\" x=\"276\" y=\"-423.8\" font-family=\"Helvetica,sans-Serif\" font-size=\"14.00\" fill=\"#000000\">samples = 3</text>\n<text text-anchor=\"middle\" x=\"276\" y=\"-408.8\" font-family=\"Helvetica,sans-Serif\" font-size=\"14.00\" fill=\"#000000\">value = 0.009</text>\n</g>\n<!-- 9&#45;&gt;10 -->\n<g id=\"edge10\" class=\"edge\">\n<title>9&#45;&gt;10</title>\n<path fill=\"none\" stroke=\"#000000\" d=\"M474.7906,-507.7966C444.5845,-496.7352 410.2736,-484.1706 378.7607,-472.6307\"/>\n<polygon fill=\"#000000\" stroke=\"#000000\" points=\"379.672,-469.2371 369.0782,-469.085 377.2649,-475.8103 379.672,-469.2371\"/>\n</g>\n<!-- 15 -->\n<g id=\"node16\" class=\"node\">\n<title>15</title>\n<polygon fill=\"#fbeadd\" stroke=\"#000000\" points=\"668.5,-469 427.5,-469 427.5,-401 668.5,-401 668.5,-469\"/>\n<text text-anchor=\"middle\" x=\"548\" y=\"-453.8\" font-family=\"Helvetica,sans-Serif\" font-size=\"14.00\" fill=\"#000000\">libertarian_votes_percent &lt;= 0.014</text>\n<text text-anchor=\"middle\" x=\"548\" y=\"-438.8\" font-family=\"Helvetica,sans-Serif\" font-size=\"14.00\" fill=\"#000000\">squared_error = 0.0</text>\n<text text-anchor=\"middle\" x=\"548\" y=\"-423.8\" font-family=\"Helvetica,sans-Serif\" font-size=\"14.00\" fill=\"#000000\">samples = 2</text>\n<text text-anchor=\"middle\" x=\"548\" y=\"-408.8\" font-family=\"Helvetica,sans-Serif\" font-size=\"14.00\" fill=\"#000000\">value = 0.007</text>\n</g>\n<!-- 9&#45;&gt;15 -->\n<g id=\"edge15\" class=\"edge\">\n<title>9&#45;&gt;15</title>\n<path fill=\"none\" stroke=\"#000000\" d=\"M556.0708,-504.9465C555.1176,-496.6863 554.0851,-487.7374 553.087,-479.0875\"/>\n<polygon fill=\"#000000\" stroke=\"#000000\" points=\"556.5613,-478.6629 551.9381,-469.13 549.6075,-479.4653 556.5613,-478.6629\"/>\n</g>\n<!-- 11 -->\n<g id=\"node12\" class=\"node\">\n<title>11</title>\n<polygon fill=\"#fae7d9\" stroke=\"#000000\" points=\"144,-357.5 0,-357.5 0,-304.5 144,-304.5 144,-357.5\"/>\n<text text-anchor=\"middle\" x=\"72\" y=\"-342.3\" font-family=\"Helvetica,sans-Serif\" font-size=\"14.00\" fill=\"#000000\">squared_error = 0.0</text>\n<text text-anchor=\"middle\" x=\"72\" y=\"-327.3\" font-family=\"Helvetica,sans-Serif\" font-size=\"14.00\" fill=\"#000000\">samples = 1</text>\n<text text-anchor=\"middle\" x=\"72\" y=\"-312.3\" font-family=\"Helvetica,sans-Serif\" font-size=\"14.00\" fill=\"#000000\">value = 0.008</text>\n</g>\n<!-- 10&#45;&gt;11 -->\n<g id=\"edge11\" class=\"edge\">\n<title>10&#45;&gt;11</title>\n<path fill=\"none\" stroke=\"#000000\" d=\"M209.2028,-400.9465C184.6798,-388.4446 157.0625,-374.3652 133.0682,-362.1328\"/>\n<polygon fill=\"#000000\" stroke=\"#000000\" points=\"134.5622,-358.9659 124.0635,-357.5422 131.3829,-365.2023 134.5622,-358.9659\"/>\n</g>\n<!-- 12 -->\n<g id=\"node13\" class=\"node\">\n<title>12</title>\n<polygon fill=\"#f9e0ce\" stroke=\"#000000\" points=\"403.5,-365 162.5,-365 162.5,-297 403.5,-297 403.5,-365\"/>\n<text text-anchor=\"middle\" x=\"283\" y=\"-349.8\" font-family=\"Helvetica,sans-Serif\" font-size=\"14.00\" fill=\"#000000\">libertarian_votes_percent &lt;= 0.013</text>\n<text text-anchor=\"middle\" x=\"283\" y=\"-334.8\" font-family=\"Helvetica,sans-Serif\" font-size=\"14.00\" fill=\"#000000\">squared_error = 0.0</text>\n<text text-anchor=\"middle\" x=\"283\" y=\"-319.8\" font-family=\"Helvetica,sans-Serif\" font-size=\"14.00\" fill=\"#000000\">samples = 2</text>\n<text text-anchor=\"middle\" x=\"283\" y=\"-304.8\" font-family=\"Helvetica,sans-Serif\" font-size=\"14.00\" fill=\"#000000\">value = 0.009</text>\n</g>\n<!-- 10&#45;&gt;12 -->\n<g id=\"edge12\" class=\"edge\">\n<title>10&#45;&gt;12</title>\n<path fill=\"none\" stroke=\"#000000\" d=\"M278.2921,-400.9465C278.842,-392.776 279.4373,-383.9318 280.0136,-375.3697\"/>\n<polygon fill=\"#000000\" stroke=\"#000000\" points=\"283.5232,-375.3425 280.7028,-365.13 276.539,-374.8723 283.5232,-375.3425\"/>\n</g>\n<!-- 13 -->\n<g id=\"node14\" class=\"node\">\n<title>13</title>\n<polygon fill=\"#f8dfcd\" stroke=\"#000000\" points=\"333,-253.5 189,-253.5 189,-200.5 333,-200.5 333,-253.5\"/>\n<text text-anchor=\"middle\" x=\"261\" y=\"-238.3\" font-family=\"Helvetica,sans-Serif\" font-size=\"14.00\" fill=\"#000000\">squared_error = 0.0</text>\n<text text-anchor=\"middle\" x=\"261\" y=\"-223.3\" font-family=\"Helvetica,sans-Serif\" font-size=\"14.00\" fill=\"#000000\">samples = 1</text>\n<text text-anchor=\"middle\" x=\"261\" y=\"-208.3\" font-family=\"Helvetica,sans-Serif\" font-size=\"14.00\" fill=\"#000000\">value = 0.01</text>\n</g>\n<!-- 12&#45;&gt;13 -->\n<g id=\"edge13\" class=\"edge\">\n<title>12&#45;&gt;13</title>\n<path fill=\"none\" stroke=\"#000000\" d=\"M275.7964,-296.9465C273.5362,-286.2621 271.0323,-274.4254 268.7369,-263.5742\"/>\n<polygon fill=\"#000000\" stroke=\"#000000\" points=\"272.1086,-262.6013 266.6147,-253.5422 265.2601,-264.05 272.1086,-262.6013\"/>\n</g>\n<!-- 14 -->\n<g id=\"node15\" class=\"node\">\n<title>14</title>\n<polygon fill=\"#f9e1cf\" stroke=\"#000000\" points=\"495,-253.5 351,-253.5 351,-200.5 495,-200.5 495,-253.5\"/>\n<text text-anchor=\"middle\" x=\"423\" y=\"-238.3\" font-family=\"Helvetica,sans-Serif\" font-size=\"14.00\" fill=\"#000000\">squared_error = 0.0</text>\n<text text-anchor=\"middle\" x=\"423\" y=\"-223.3\" font-family=\"Helvetica,sans-Serif\" font-size=\"14.00\" fill=\"#000000\">samples = 1</text>\n<text text-anchor=\"middle\" x=\"423\" y=\"-208.3\" font-family=\"Helvetica,sans-Serif\" font-size=\"14.00\" fill=\"#000000\">value = 0.009</text>\n</g>\n<!-- 12&#45;&gt;14 -->\n<g id=\"edge14\" class=\"edge\">\n<title>12&#45;&gt;14</title>\n<path fill=\"none\" stroke=\"#000000\" d=\"M328.8412,-296.9465C345.0035,-284.9403 363.1242,-271.4791 379.1205,-259.5962\"/>\n<polygon fill=\"#000000\" stroke=\"#000000\" points=\"381.3299,-262.3151 387.2702,-253.5422 377.1556,-256.6958 381.3299,-262.3151\"/>\n</g>\n<!-- 16 -->\n<g id=\"node17\" class=\"node\">\n<title>16</title>\n<polygon fill=\"#fae8db\" stroke=\"#000000\" points=\"592,-357.5 448,-357.5 448,-304.5 592,-304.5 592,-357.5\"/>\n<text text-anchor=\"middle\" x=\"520\" y=\"-342.3\" font-family=\"Helvetica,sans-Serif\" font-size=\"14.00\" fill=\"#000000\">squared_error = 0.0</text>\n<text text-anchor=\"middle\" x=\"520\" y=\"-327.3\" font-family=\"Helvetica,sans-Serif\" font-size=\"14.00\" fill=\"#000000\">samples = 1</text>\n<text text-anchor=\"middle\" x=\"520\" y=\"-312.3\" font-family=\"Helvetica,sans-Serif\" font-size=\"14.00\" fill=\"#000000\">value = 0.007</text>\n</g>\n<!-- 15&#45;&gt;16 -->\n<g id=\"edge16\" class=\"edge\">\n<title>15&#45;&gt;16</title>\n<path fill=\"none\" stroke=\"#000000\" d=\"M538.8318,-400.9465C535.9255,-390.1519 532.7026,-378.1813 529.7566,-367.2389\"/>\n<polygon fill=\"#000000\" stroke=\"#000000\" points=\"533.1254,-366.2884 527.146,-357.5422 526.3661,-368.1083 533.1254,-366.2884\"/>\n</g>\n<!-- 17 -->\n<g id=\"node18\" class=\"node\">\n<title>17</title>\n<polygon fill=\"#fbeadf\" stroke=\"#000000\" points=\"759.5,-357.5 610.5,-357.5 610.5,-304.5 759.5,-304.5 759.5,-357.5\"/>\n<text text-anchor=\"middle\" x=\"685\" y=\"-342.3\" font-family=\"Helvetica,sans-Serif\" font-size=\"14.00\" fill=\"#000000\">squared_error = &#45;0.0</text>\n<text text-anchor=\"middle\" x=\"685\" y=\"-327.3\" font-family=\"Helvetica,sans-Serif\" font-size=\"14.00\" fill=\"#000000\">samples = 1</text>\n<text text-anchor=\"middle\" x=\"685\" y=\"-312.3\" font-family=\"Helvetica,sans-Serif\" font-size=\"14.00\" fill=\"#000000\">value = 0.007</text>\n</g>\n<!-- 15&#45;&gt;17 -->\n<g id=\"edge17\" class=\"edge\">\n<title>15&#45;&gt;17</title>\n<path fill=\"none\" stroke=\"#000000\" d=\"M592.8589,-400.9465C608.6748,-388.9403 626.4073,-375.4791 642.0607,-363.5962\"/>\n<polygon fill=\"#000000\" stroke=\"#000000\" points=\"644.1871,-366.3764 650.0358,-357.5422 639.9545,-360.8009 644.1871,-366.3764\"/>\n</g>\n<!-- 19 -->\n<g id=\"node20\" class=\"node\">\n<title>19</title>\n<polygon fill=\"#f2bf9b\" stroke=\"#000000\" points=\"831,-461.5 687,-461.5 687,-408.5 831,-408.5 831,-461.5\"/>\n<text text-anchor=\"middle\" x=\"759\" y=\"-446.3\" font-family=\"Helvetica,sans-Serif\" font-size=\"14.00\" fill=\"#000000\">squared_error = 0.0</text>\n<text text-anchor=\"middle\" x=\"759\" y=\"-431.3\" font-family=\"Helvetica,sans-Serif\" font-size=\"14.00\" fill=\"#000000\">samples = 1</text>\n<text text-anchor=\"middle\" x=\"759\" y=\"-416.3\" font-family=\"Helvetica,sans-Serif\" font-size=\"14.00\" fill=\"#000000\">value = 0.018</text>\n</g>\n<!-- 18&#45;&gt;19 -->\n<g id=\"edge19\" class=\"edge\">\n<title>18&#45;&gt;19</title>\n<path fill=\"none\" stroke=\"#000000\" d=\"M816.8404,-504.9465C807.4587,-493.6012 797.0027,-480.9567 787.5887,-469.5724\"/>\n<polygon fill=\"#000000\" stroke=\"#000000\" points=\"790.0183,-467.0182 780.9483,-461.5422 784.6237,-471.4791 790.0183,-467.0182\"/>\n</g>\n<!-- 20 -->\n<g id=\"node21\" class=\"node\">\n<title>20</title>\n<polygon fill=\"#f8dbc7\" stroke=\"#000000\" points=\"1090.5,-469 849.5,-469 849.5,-401 1090.5,-401 1090.5,-469\"/>\n<text text-anchor=\"middle\" x=\"970\" y=\"-453.8\" font-family=\"Helvetica,sans-Serif\" font-size=\"14.00\" fill=\"#000000\">libertarian_votes_percent &lt;= 0.012</text>\n<text text-anchor=\"middle\" x=\"970\" y=\"-438.8\" font-family=\"Helvetica,sans-Serif\" font-size=\"14.00\" fill=\"#000000\">squared_error = 0.0</text>\n<text text-anchor=\"middle\" x=\"970\" y=\"-423.8\" font-family=\"Helvetica,sans-Serif\" font-size=\"14.00\" fill=\"#000000\">samples = 6</text>\n<text text-anchor=\"middle\" x=\"970\" y=\"-408.8\" font-family=\"Helvetica,sans-Serif\" font-size=\"14.00\" fill=\"#000000\">value = 0.011</text>\n</g>\n<!-- 18&#45;&gt;20 -->\n<g id=\"edge20\" class=\"edge\">\n<title>18&#45;&gt;20</title>\n<path fill=\"none\" stroke=\"#000000\" d=\"M885.9297,-504.9465C897.1528,-495.6088 909.4337,-485.3911 921.0573,-475.7203\"/>\n<polygon fill=\"#000000\" stroke=\"#000000\" points=\"923.5296,-478.2164 928.9784,-469.13 919.0526,-472.8353 923.5296,-478.2164\"/>\n</g>\n<!-- 21 -->\n<g id=\"node22\" class=\"node\">\n<title>21</title>\n<polygon fill=\"#f8ddca\" stroke=\"#000000\" points=\"1135,-365 791,-365 791,-297 1135,-297 1135,-365\"/>\n<text text-anchor=\"middle\" x=\"963\" y=\"-349.8\" font-family=\"Helvetica,sans-Serif\" font-size=\"14.00\" fill=\"#000000\">summer_2020_at_least_one_dose_percent &lt;= 0.0</text>\n<text text-anchor=\"middle\" x=\"963\" y=\"-334.8\" font-family=\"Helvetica,sans-Serif\" font-size=\"14.00\" fill=\"#000000\">squared_error = 0.0</text>\n<text text-anchor=\"middle\" x=\"963\" y=\"-319.8\" font-family=\"Helvetica,sans-Serif\" font-size=\"14.00\" fill=\"#000000\">samples = 4</text>\n<text text-anchor=\"middle\" x=\"963\" y=\"-304.8\" font-family=\"Helvetica,sans-Serif\" font-size=\"14.00\" fill=\"#000000\">value = 0.01</text>\n</g>\n<!-- 20&#45;&gt;21 -->\n<g id=\"edge21\" class=\"edge\">\n<title>20&#45;&gt;21</title>\n<path fill=\"none\" stroke=\"#000000\" d=\"M967.7079,-400.9465C967.158,-392.776 966.5627,-383.9318 965.9864,-375.3697\"/>\n<polygon fill=\"#000000\" stroke=\"#000000\" points=\"969.461,-374.8723 965.2972,-365.13 962.4768,-375.3425 969.461,-374.8723\"/>\n</g>\n<!-- 28 -->\n<g id=\"node29\" class=\"node\">\n<title>28</title>\n<polygon fill=\"#f7d6bf\" stroke=\"#000000\" points=\"1392.5,-365 1153.5,-365 1153.5,-297 1392.5,-297 1392.5,-365\"/>\n<text text-anchor=\"middle\" x=\"1273\" y=\"-349.8\" font-family=\"Helvetica,sans-Serif\" font-size=\"14.00\" fill=\"#000000\">democrat_votes_percent &lt;= 0.631</text>\n<text text-anchor=\"middle\" x=\"1273\" y=\"-334.8\" font-family=\"Helvetica,sans-Serif\" font-size=\"14.00\" fill=\"#000000\">squared_error = 0.0</text>\n<text text-anchor=\"middle\" x=\"1273\" y=\"-319.8\" font-family=\"Helvetica,sans-Serif\" font-size=\"14.00\" fill=\"#000000\">samples = 2</text>\n<text text-anchor=\"middle\" x=\"1273\" y=\"-304.8\" font-family=\"Helvetica,sans-Serif\" font-size=\"14.00\" fill=\"#000000\">value = 0.012</text>\n</g>\n<!-- 20&#45;&gt;28 -->\n<g id=\"edge28\" class=\"edge\">\n<title>20&#45;&gt;28</title>\n<path fill=\"none\" stroke=\"#000000\" d=\"M1069.2135,-400.9465C1099.6357,-390.5046 1133.2641,-378.9622 1164.2854,-368.3146\"/>\n<polygon fill=\"#000000\" stroke=\"#000000\" points=\"1165.5004,-371.598 1173.8225,-365.0411 1163.2279,-364.9772 1165.5004,-371.598\"/>\n</g>\n<!-- 22 -->\n<g id=\"node23\" class=\"node\">\n<title>22</title>\n<polygon fill=\"#f8dcc8\" stroke=\"#000000\" points=\"892.5,-261 575.5,-261 575.5,-193 892.5,-193 892.5,-261\"/>\n<text text-anchor=\"middle\" x=\"734\" y=\"-245.8\" font-family=\"Helvetica,sans-Serif\" font-size=\"14.00\" fill=\"#000000\">summer_2020_Unemployment_Rate &lt;= 0.117</text>\n<text text-anchor=\"middle\" x=\"734\" y=\"-230.8\" font-family=\"Helvetica,sans-Serif\" font-size=\"14.00\" fill=\"#000000\">squared_error = 0.0</text>\n<text text-anchor=\"middle\" x=\"734\" y=\"-215.8\" font-family=\"Helvetica,sans-Serif\" font-size=\"14.00\" fill=\"#000000\">samples = 3</text>\n<text text-anchor=\"middle\" x=\"734\" y=\"-200.8\" font-family=\"Helvetica,sans-Serif\" font-size=\"14.00\" fill=\"#000000\">value = 0.01</text>\n</g>\n<!-- 21&#45;&gt;22 -->\n<g id=\"edge22\" class=\"edge\">\n<title>21&#45;&gt;22</title>\n<path fill=\"none\" stroke=\"#000000\" d=\"M888.0168,-296.9465C865.7755,-286.8457 841.2668,-275.7151 818.4676,-265.3608\"/>\n<polygon fill=\"#000000\" stroke=\"#000000\" points=\"819.7039,-262.0783 809.1516,-261.13 816.8094,-268.4518 819.7039,-262.0783\"/>\n</g>\n<!-- 27 -->\n<g id=\"node28\" class=\"node\">\n<title>27</title>\n<polygon fill=\"#f9e3d3\" stroke=\"#000000\" points=\"1059.5,-253.5 910.5,-253.5 910.5,-200.5 1059.5,-200.5 1059.5,-253.5\"/>\n<text text-anchor=\"middle\" x=\"985\" y=\"-238.3\" font-family=\"Helvetica,sans-Serif\" font-size=\"14.00\" fill=\"#000000\">squared_error = &#45;0.0</text>\n<text text-anchor=\"middle\" x=\"985\" y=\"-223.3\" font-family=\"Helvetica,sans-Serif\" font-size=\"14.00\" fill=\"#000000\">samples = 1</text>\n<text text-anchor=\"middle\" x=\"985\" y=\"-208.3\" font-family=\"Helvetica,sans-Serif\" font-size=\"14.00\" fill=\"#000000\">value = 0.009</text>\n</g>\n<!-- 21&#45;&gt;27 -->\n<g id=\"edge27\" class=\"edge\">\n<title>21&#45;&gt;27</title>\n<path fill=\"none\" stroke=\"#000000\" d=\"M970.2036,-296.9465C972.4638,-286.2621 974.9677,-274.4254 977.2631,-263.5742\"/>\n<polygon fill=\"#000000\" stroke=\"#000000\" points=\"980.7399,-264.05 979.3853,-253.5422 973.8914,-262.6013 980.7399,-264.05\"/>\n</g>\n<!-- 23 -->\n<g id=\"node24\" class=\"node\">\n<title>23</title>\n<polygon fill=\"#f8dbc7\" stroke=\"#000000\" points=\"691,-149.5 547,-149.5 547,-96.5 691,-96.5 691,-149.5\"/>\n<text text-anchor=\"middle\" x=\"619\" y=\"-134.3\" font-family=\"Helvetica,sans-Serif\" font-size=\"14.00\" fill=\"#000000\">squared_error = 0.0</text>\n<text text-anchor=\"middle\" x=\"619\" y=\"-119.3\" font-family=\"Helvetica,sans-Serif\" font-size=\"14.00\" fill=\"#000000\">samples = 1</text>\n<text text-anchor=\"middle\" x=\"619\" y=\"-104.3\" font-family=\"Helvetica,sans-Serif\" font-size=\"14.00\" fill=\"#000000\">value = 0.011</text>\n</g>\n<!-- 22&#45;&gt;23 -->\n<g id=\"edge23\" class=\"edge\">\n<title>22&#45;&gt;23</title>\n<path fill=\"none\" stroke=\"#000000\" d=\"M696.3447,-192.9465C683.3122,-181.1606 668.7294,-167.9726 655.7689,-156.2519\"/>\n<polygon fill=\"#000000\" stroke=\"#000000\" points=\"658.114,-153.6537 648.3495,-149.5422 653.4188,-158.8456 658.114,-153.6537\"/>\n</g>\n<!-- 24 -->\n<g id=\"node25\" class=\"node\">\n<title>24</title>\n<polygon fill=\"#f8ddca\" stroke=\"#000000\" points=\"986.5,-157 709.5,-157 709.5,-89 986.5,-89 986.5,-157\"/>\n<text text-anchor=\"middle\" x=\"848\" y=\"-141.8\" font-family=\"Helvetica,sans-Serif\" font-size=\"14.00\" fill=\"#000000\">summer_2020_moderna_doses &lt;= 10.5</text>\n<text text-anchor=\"middle\" x=\"848\" y=\"-126.8\" font-family=\"Helvetica,sans-Serif\" font-size=\"14.00\" fill=\"#000000\">squared_error = 0.0</text>\n<text text-anchor=\"middle\" x=\"848\" y=\"-111.8\" font-family=\"Helvetica,sans-Serif\" font-size=\"14.00\" fill=\"#000000\">samples = 2</text>\n<text text-anchor=\"middle\" x=\"848\" y=\"-96.8\" font-family=\"Helvetica,sans-Serif\" font-size=\"14.00\" fill=\"#000000\">value = 0.01</text>\n</g>\n<!-- 22&#45;&gt;24 -->\n<g id=\"edge24\" class=\"edge\">\n<title>22&#45;&gt;24</title>\n<path fill=\"none\" stroke=\"#000000\" d=\"M771.3279,-192.9465C781.465,-183.6986 792.5483,-173.5876 803.0583,-163.9994\"/>\n<polygon fill=\"#000000\" stroke=\"#000000\" points=\"805.5595,-166.4553 810.5883,-157.13 800.8417,-161.284 805.5595,-166.4553\"/>\n</g>\n<!-- 25 -->\n<g id=\"node26\" class=\"node\">\n<title>25</title>\n<polygon fill=\"#f8ddc9\" stroke=\"#000000\" points=\"839,-53 695,-53 695,0 839,0 839,-53\"/>\n<text text-anchor=\"middle\" x=\"767\" y=\"-37.8\" font-family=\"Helvetica,sans-Serif\" font-size=\"14.00\" fill=\"#000000\">squared_error = 0.0</text>\n<text text-anchor=\"middle\" x=\"767\" y=\"-22.8\" font-family=\"Helvetica,sans-Serif\" font-size=\"14.00\" fill=\"#000000\">samples = 1</text>\n<text text-anchor=\"middle\" x=\"767\" y=\"-7.8\" font-family=\"Helvetica,sans-Serif\" font-size=\"14.00\" fill=\"#000000\">value = 0.01</text>\n</g>\n<!-- 24&#45;&gt;25 -->\n<g id=\"edge25\" class=\"edge\">\n<title>24&#45;&gt;25</title>\n<path fill=\"none\" stroke=\"#000000\" d=\"M819.4424,-88.9777C811.8331,-79.9123 803.6061,-70.111 795.9747,-61.0192\"/>\n<polygon fill=\"#000000\" stroke=\"#000000\" points=\"798.562,-58.6577 789.4521,-53.2485 793.2005,-63.1581 798.562,-58.6577\"/>\n</g>\n<!-- 26 -->\n<g id=\"node27\" class=\"node\">\n<title>26</title>\n<polygon fill=\"#f8decc\" stroke=\"#000000\" points=\"1001,-53 857,-53 857,0 1001,0 1001,-53\"/>\n<text text-anchor=\"middle\" x=\"929\" y=\"-37.8\" font-family=\"Helvetica,sans-Serif\" font-size=\"14.00\" fill=\"#000000\">squared_error = 0.0</text>\n<text text-anchor=\"middle\" x=\"929\" y=\"-22.8\" font-family=\"Helvetica,sans-Serif\" font-size=\"14.00\" fill=\"#000000\">samples = 1</text>\n<text text-anchor=\"middle\" x=\"929\" y=\"-7.8\" font-family=\"Helvetica,sans-Serif\" font-size=\"14.00\" fill=\"#000000\">value = 0.01</text>\n</g>\n<!-- 24&#45;&gt;26 -->\n<g id=\"edge26\" class=\"edge\">\n<title>24&#45;&gt;26</title>\n<path fill=\"none\" stroke=\"#000000\" d=\"M876.5576,-88.9777C884.1669,-79.9123 892.3939,-70.111 900.0253,-61.0192\"/>\n<polygon fill=\"#000000\" stroke=\"#000000\" points=\"902.7995,-63.1581 906.5479,-53.2485 897.438,-58.6577 902.7995,-63.1581\"/>\n</g>\n<!-- 29 -->\n<g id=\"node30\" class=\"node\">\n<title>29</title>\n<polygon fill=\"#f7d6bf\" stroke=\"#000000\" points=\"1253,-253.5 1109,-253.5 1109,-200.5 1253,-200.5 1253,-253.5\"/>\n<text text-anchor=\"middle\" x=\"1181\" y=\"-238.3\" font-family=\"Helvetica,sans-Serif\" font-size=\"14.00\" fill=\"#000000\">squared_error = 0.0</text>\n<text text-anchor=\"middle\" x=\"1181\" y=\"-223.3\" font-family=\"Helvetica,sans-Serif\" font-size=\"14.00\" fill=\"#000000\">samples = 1</text>\n<text text-anchor=\"middle\" x=\"1181\" y=\"-208.3\" font-family=\"Helvetica,sans-Serif\" font-size=\"14.00\" fill=\"#000000\">value = 0.012</text>\n</g>\n<!-- 28&#45;&gt;29 -->\n<g id=\"edge29\" class=\"edge\">\n<title>28&#45;&gt;29</title>\n<path fill=\"none\" stroke=\"#000000\" d=\"M1242.8758,-296.9465C1232.742,-285.491 1221.4367,-272.711 1211.2903,-261.2412\"/>\n<polygon fill=\"#000000\" stroke=\"#000000\" points=\"1213.7269,-258.7131 1204.4796,-253.5422 1208.4839,-263.3512 1213.7269,-258.7131\"/>\n</g>\n<!-- 30 -->\n<g id=\"node31\" class=\"node\">\n<title>30</title>\n<polygon fill=\"#f7d6be\" stroke=\"#000000\" points=\"1420.5,-253.5 1271.5,-253.5 1271.5,-200.5 1420.5,-200.5 1420.5,-253.5\"/>\n<text text-anchor=\"middle\" x=\"1346\" y=\"-238.3\" font-family=\"Helvetica,sans-Serif\" font-size=\"14.00\" fill=\"#000000\">squared_error = &#45;0.0</text>\n<text text-anchor=\"middle\" x=\"1346\" y=\"-223.3\" font-family=\"Helvetica,sans-Serif\" font-size=\"14.00\" fill=\"#000000\">samples = 1</text>\n<text text-anchor=\"middle\" x=\"1346\" y=\"-208.3\" font-family=\"Helvetica,sans-Serif\" font-size=\"14.00\" fill=\"#000000\">value = 0.012</text>\n</g>\n<!-- 28&#45;&gt;30 -->\n<g id=\"edge30\" class=\"edge\">\n<title>28&#45;&gt;30</title>\n<path fill=\"none\" stroke=\"#000000\" d=\"M1296.9029,-296.9465C1304.7892,-285.7113 1313.5697,-273.2021 1321.4998,-261.9043\"/>\n<polygon fill=\"#000000\" stroke=\"#000000\" points=\"1324.4889,-263.7379 1327.3694,-253.5422 1318.7595,-259.7163 1324.4889,-263.7379\"/>\n</g>\n<!-- 32 -->\n<g id=\"node33\" class=\"node\">\n<title>32</title>\n<polygon fill=\"#f5cdb0\" stroke=\"#000000\" points=\"1315,-573 1021,-573 1021,-505 1315,-505 1315,-573\"/>\n<text text-anchor=\"middle\" x=\"1168\" y=\"-557.8\" font-family=\"Helvetica,sans-Serif\" font-size=\"14.00\" fill=\"#000000\">summer_2020_doses_administered &lt;= 2.5</text>\n<text text-anchor=\"middle\" x=\"1168\" y=\"-542.8\" font-family=\"Helvetica,sans-Serif\" font-size=\"14.00\" fill=\"#000000\">squared_error = 0.0</text>\n<text text-anchor=\"middle\" x=\"1168\" y=\"-527.8\" font-family=\"Helvetica,sans-Serif\" font-size=\"14.00\" fill=\"#000000\">samples = 2</text>\n<text text-anchor=\"middle\" x=\"1168\" y=\"-512.8\" font-family=\"Helvetica,sans-Serif\" font-size=\"14.00\" fill=\"#000000\">value = 0.014</text>\n</g>\n<!-- 31&#45;&gt;32 -->\n<g id=\"edge32\" class=\"edge\">\n<title>31&#45;&gt;32</title>\n<path fill=\"none\" stroke=\"#000000\" d=\"M1168,-608.9465C1168,-600.776 1168,-591.9318 1168,-583.3697\"/>\n<polygon fill=\"#000000\" stroke=\"#000000\" points=\"1171.5001,-583.13 1168,-573.13 1164.5001,-583.13 1171.5001,-583.13\"/>\n</g>\n<!-- 35 -->\n<g id=\"node36\" class=\"node\">\n<title>35</title>\n<polygon fill=\"#f6d3ba\" stroke=\"#000000\" points=\"1477,-565.5 1333,-565.5 1333,-512.5 1477,-512.5 1477,-565.5\"/>\n<text text-anchor=\"middle\" x=\"1405\" y=\"-550.3\" font-family=\"Helvetica,sans-Serif\" font-size=\"14.00\" fill=\"#000000\">squared_error = 0.0</text>\n<text text-anchor=\"middle\" x=\"1405\" y=\"-535.3\" font-family=\"Helvetica,sans-Serif\" font-size=\"14.00\" fill=\"#000000\">samples = 1</text>\n<text text-anchor=\"middle\" x=\"1405\" y=\"-520.3\" font-family=\"Helvetica,sans-Serif\" font-size=\"14.00\" fill=\"#000000\">value = 0.013</text>\n</g>\n<!-- 31&#45;&gt;35 -->\n<g id=\"edge35\" class=\"edge\">\n<title>31&#45;&gt;35</title>\n<path fill=\"none\" stroke=\"#000000\" d=\"M1245.6027,-608.9465C1274.4691,-596.2794 1307.0261,-581.9928 1335.1562,-569.6488\"/>\n<polygon fill=\"#000000\" stroke=\"#000000\" points=\"1336.7638,-572.7655 1344.5145,-565.5422 1333.9509,-566.3555 1336.7638,-572.7655\"/>\n</g>\n<!-- 33 -->\n<g id=\"node34\" class=\"node\">\n<title>33</title>\n<polygon fill=\"#f5ceb3\" stroke=\"#000000\" points=\"1253,-461.5 1109,-461.5 1109,-408.5 1253,-408.5 1253,-461.5\"/>\n<text text-anchor=\"middle\" x=\"1181\" y=\"-446.3\" font-family=\"Helvetica,sans-Serif\" font-size=\"14.00\" fill=\"#000000\">squared_error = 0.0</text>\n<text text-anchor=\"middle\" x=\"1181\" y=\"-431.3\" font-family=\"Helvetica,sans-Serif\" font-size=\"14.00\" fill=\"#000000\">samples = 1</text>\n<text text-anchor=\"middle\" x=\"1181\" y=\"-416.3\" font-family=\"Helvetica,sans-Serif\" font-size=\"14.00\" fill=\"#000000\">value = 0.014</text>\n</g>\n<!-- 32&#45;&gt;33 -->\n<g id=\"edge33\" class=\"edge\">\n<title>32&#45;&gt;33</title>\n<path fill=\"none\" stroke=\"#000000\" d=\"M1172.2567,-504.9465C1173.5922,-494.2621 1175.0718,-482.4254 1176.4282,-471.5742\"/>\n<polygon fill=\"#000000\" stroke=\"#000000\" points=\"1179.9148,-471.8991 1177.6822,-461.5422 1172.9688,-471.0308 1179.9148,-471.8991\"/>\n</g>\n<!-- 34 -->\n<g id=\"node35\" class=\"node\">\n<title>34</title>\n<polygon fill=\"#f4caab\" stroke=\"#000000\" points=\"1420.5,-461.5 1271.5,-461.5 1271.5,-408.5 1420.5,-408.5 1420.5,-461.5\"/>\n<text text-anchor=\"middle\" x=\"1346\" y=\"-446.3\" font-family=\"Helvetica,sans-Serif\" font-size=\"14.00\" fill=\"#000000\">squared_error = &#45;0.0</text>\n<text text-anchor=\"middle\" x=\"1346\" y=\"-431.3\" font-family=\"Helvetica,sans-Serif\" font-size=\"14.00\" fill=\"#000000\">samples = 1</text>\n<text text-anchor=\"middle\" x=\"1346\" y=\"-416.3\" font-family=\"Helvetica,sans-Serif\" font-size=\"14.00\" fill=\"#000000\">value = 0.015</text>\n</g>\n<!-- 32&#45;&gt;34 -->\n<g id=\"edge34\" class=\"edge\">\n<title>32&#45;&gt;34</title>\n<path fill=\"none\" stroke=\"#000000\" d=\"M1226.2839,-504.9465C1247.3986,-492.6098 1271.1423,-478.7371 1291.8833,-466.6187\"/>\n<polygon fill=\"#000000\" stroke=\"#000000\" points=\"1293.7035,-469.609 1300.5721,-461.5422 1290.1721,-463.565 1293.7035,-469.609\"/>\n</g>\n<!-- 37 -->\n<g id=\"node38\" class=\"node\">\n<title>37</title>\n<polygon fill=\"#fffefe\" stroke=\"#000000\" points=\"1433,-773.5 1289,-773.5 1289,-720.5 1433,-720.5 1433,-773.5\"/>\n<text text-anchor=\"middle\" x=\"1361\" y=\"-758.3\" font-family=\"Helvetica,sans-Serif\" font-size=\"14.00\" fill=\"#000000\">squared_error = 0.0</text>\n<text text-anchor=\"middle\" x=\"1361\" y=\"-743.3\" font-family=\"Helvetica,sans-Serif\" font-size=\"14.00\" fill=\"#000000\">samples = 1</text>\n<text text-anchor=\"middle\" x=\"1361\" y=\"-728.3\" font-family=\"Helvetica,sans-Serif\" font-size=\"14.00\" fill=\"#000000\">value = 0.002</text>\n</g>\n<!-- 36&#45;&gt;37 -->\n<g id=\"edge37\" class=\"edge\">\n<title>36&#45;&gt;37</title>\n<path fill=\"none\" stroke=\"#000000\" d=\"M1361,-816.9465C1361,-806.2621 1361,-794.4254 1361,-783.5742\"/>\n<polygon fill=\"#000000\" stroke=\"#000000\" points=\"1364.5001,-783.5421 1361,-773.5422 1357.5001,-783.5422 1364.5001,-783.5421\"/>\n</g>\n<!-- 38 -->\n<g id=\"node39\" class=\"node\">\n<title>38</title>\n<polygon fill=\"#efb083\" stroke=\"#000000\" points=\"1693,-781 1523,-781 1523,-713 1693,-713 1693,-781\"/>\n<text text-anchor=\"middle\" x=\"1608\" y=\"-765.8\" font-family=\"Helvetica,sans-Serif\" font-size=\"14.00\" fill=\"#000000\">population &lt;= 385921.5</text>\n<text text-anchor=\"middle\" x=\"1608\" y=\"-750.8\" font-family=\"Helvetica,sans-Serif\" font-size=\"14.00\" fill=\"#000000\">squared_error = 0.0</text>\n<text text-anchor=\"middle\" x=\"1608\" y=\"-735.8\" font-family=\"Helvetica,sans-Serif\" font-size=\"14.00\" fill=\"#000000\">samples = 8</text>\n<text text-anchor=\"middle\" x=\"1608\" y=\"-720.8\" font-family=\"Helvetica,sans-Serif\" font-size=\"14.00\" fill=\"#000000\">value = 0.022</text>\n</g>\n<!-- 36&#45;&gt;38 -->\n<g id=\"edge38\" class=\"edge\">\n<title>36&#45;&gt;38</title>\n<path fill=\"none\" stroke=\"#000000\" d=\"M1441.5353,-817.0904C1465.8776,-806.841 1492.7639,-795.5205 1517.6997,-785.0212\"/>\n<polygon fill=\"#000000\" stroke=\"#000000\" points=\"1519.2935,-788.1478 1527.1517,-781.0414 1516.5771,-781.6963 1519.2935,-788.1478\"/>\n</g>\n<!-- 39 -->\n<g id=\"node40\" class=\"node\">\n<title>39</title>\n<polygon fill=\"#ea975c\" stroke=\"#000000\" points=\"1755,-677 1461,-677 1461,-609 1755,-609 1755,-677\"/>\n<text text-anchor=\"middle\" x=\"1608\" y=\"-661.8\" font-family=\"Helvetica,sans-Serif\" font-size=\"14.00\" fill=\"#000000\">summer_2020_doses_administered &lt;= 2.5</text>\n<text text-anchor=\"middle\" x=\"1608\" y=\"-646.8\" font-family=\"Helvetica,sans-Serif\" font-size=\"14.00\" fill=\"#000000\">squared_error = 0.0</text>\n<text text-anchor=\"middle\" x=\"1608\" y=\"-631.8\" font-family=\"Helvetica,sans-Serif\" font-size=\"14.00\" fill=\"#000000\">samples = 2</text>\n<text text-anchor=\"middle\" x=\"1608\" y=\"-616.8\" font-family=\"Helvetica,sans-Serif\" font-size=\"14.00\" fill=\"#000000\">value = 0.028</text>\n</g>\n<!-- 38&#45;&gt;39 -->\n<g id=\"edge39\" class=\"edge\">\n<title>38&#45;&gt;39</title>\n<path fill=\"none\" stroke=\"#000000\" d=\"M1608,-712.9465C1608,-704.776 1608,-695.9318 1608,-687.3697\"/>\n<polygon fill=\"#000000\" stroke=\"#000000\" points=\"1611.5001,-687.13 1608,-677.13 1604.5001,-687.13 1611.5001,-687.13\"/>\n</g>\n<!-- 42 -->\n<g id=\"node43\" class=\"node\">\n<title>42</title>\n<polygon fill=\"#f1b992\" stroke=\"#000000\" points=\"2048.5,-677 1815.5,-677 1815.5,-609 2048.5,-609 2048.5,-677\"/>\n<text text-anchor=\"middle\" x=\"1932\" y=\"-661.8\" font-family=\"Helvetica,sans-Serif\" font-size=\"14.00\" fill=\"#000000\">libertarian_votes_percent &lt;= 0.01</text>\n<text text-anchor=\"middle\" x=\"1932\" y=\"-646.8\" font-family=\"Helvetica,sans-Serif\" font-size=\"14.00\" fill=\"#000000\">squared_error = 0.0</text>\n<text text-anchor=\"middle\" x=\"1932\" y=\"-631.8\" font-family=\"Helvetica,sans-Serif\" font-size=\"14.00\" fill=\"#000000\">samples = 6</text>\n<text text-anchor=\"middle\" x=\"1932\" y=\"-616.8\" font-family=\"Helvetica,sans-Serif\" font-size=\"14.00\" fill=\"#000000\">value = 0.019</text>\n</g>\n<!-- 38&#45;&gt;42 -->\n<g id=\"edge42\" class=\"edge\">\n<title>38&#45;&gt;42</title>\n<path fill=\"none\" stroke=\"#000000\" d=\"M1693.1272,-719.6752C1730.7932,-707.5849 1775.6769,-693.1778 1816.3153,-680.1333\"/>\n<polygon fill=\"#000000\" stroke=\"#000000\" points=\"1817.5496,-683.4131 1826.0014,-677.0242 1815.4101,-676.7481 1817.5496,-683.4131\"/>\n</g>\n<!-- 40 -->\n<g id=\"node41\" class=\"node\">\n<title>40</title>\n<polygon fill=\"#e58139\" stroke=\"#000000\" points=\"1639,-565.5 1495,-565.5 1495,-512.5 1639,-512.5 1639,-565.5\"/>\n<text text-anchor=\"middle\" x=\"1567\" y=\"-550.3\" font-family=\"Helvetica,sans-Serif\" font-size=\"14.00\" fill=\"#000000\">squared_error = 0.0</text>\n<text text-anchor=\"middle\" x=\"1567\" y=\"-535.3\" font-family=\"Helvetica,sans-Serif\" font-size=\"14.00\" fill=\"#000000\">samples = 1</text>\n<text text-anchor=\"middle\" x=\"1567\" y=\"-520.3\" font-family=\"Helvetica,sans-Serif\" font-size=\"14.00\" fill=\"#000000\">value = 0.033</text>\n</g>\n<!-- 39&#45;&gt;40 -->\n<g id=\"edge40\" class=\"edge\">\n<title>39&#45;&gt;40</title>\n<path fill=\"none\" stroke=\"#000000\" d=\"M1594.5751,-608.9465C1590.2761,-598.0418 1585.5039,-585.9368 1581.1546,-574.9043\"/>\n<polygon fill=\"#000000\" stroke=\"#000000\" points=\"1584.3875,-573.5617 1577.4637,-565.5422 1577.8753,-576.129 1584.3875,-573.5617\"/>\n</g>\n<!-- 41 -->\n<g id=\"node42\" class=\"node\">\n<title>41</title>\n<polygon fill=\"#eca26d\" stroke=\"#000000\" points=\"1806.5,-565.5 1657.5,-565.5 1657.5,-512.5 1806.5,-512.5 1806.5,-565.5\"/>\n<text text-anchor=\"middle\" x=\"1732\" y=\"-550.3\" font-family=\"Helvetica,sans-Serif\" font-size=\"14.00\" fill=\"#000000\">squared_error = &#45;0.0</text>\n<text text-anchor=\"middle\" x=\"1732\" y=\"-535.3\" font-family=\"Helvetica,sans-Serif\" font-size=\"14.00\" fill=\"#000000\">samples = 1</text>\n<text text-anchor=\"middle\" x=\"1732\" y=\"-520.3\" font-family=\"Helvetica,sans-Serif\" font-size=\"14.00\" fill=\"#000000\">value = 0.025</text>\n</g>\n<!-- 39&#45;&gt;41 -->\n<g id=\"edge41\" class=\"edge\">\n<title>39&#45;&gt;41</title>\n<path fill=\"none\" stroke=\"#000000\" d=\"M1648.6022,-608.9465C1662.6547,-597.1606 1678.3788,-583.9726 1692.3535,-572.2519\"/>\n<polygon fill=\"#000000\" stroke=\"#000000\" points=\"1694.9408,-574.65 1700.3536,-565.5422 1690.4425,-569.2866 1694.9408,-574.65\"/>\n</g>\n<!-- 43 -->\n<g id=\"node44\" class=\"node\">\n<title>43</title>\n<polygon fill=\"#f4cbad\" stroke=\"#000000\" points=\"2039.5,-573 1824.5,-573 1824.5,-505 2039.5,-505 2039.5,-573\"/>\n<text text-anchor=\"middle\" x=\"1932\" y=\"-557.8\" font-family=\"Helvetica,sans-Serif\" font-size=\"14.00\" fill=\"#000000\">green_votes_percent &lt;= 0.004</text>\n<text text-anchor=\"middle\" x=\"1932\" y=\"-542.8\" font-family=\"Helvetica,sans-Serif\" font-size=\"14.00\" fill=\"#000000\">squared_error = 0.0</text>\n<text text-anchor=\"middle\" x=\"1932\" y=\"-527.8\" font-family=\"Helvetica,sans-Serif\" font-size=\"14.00\" fill=\"#000000\">samples = 2</text>\n<text text-anchor=\"middle\" x=\"1932\" y=\"-512.8\" font-family=\"Helvetica,sans-Serif\" font-size=\"14.00\" fill=\"#000000\">value = 0.015</text>\n</g>\n<!-- 42&#45;&gt;43 -->\n<g id=\"edge43\" class=\"edge\">\n<title>42&#45;&gt;43</title>\n<path fill=\"none\" stroke=\"#000000\" d=\"M1932,-608.9465C1932,-600.776 1932,-591.9318 1932,-583.3697\"/>\n<polygon fill=\"#000000\" stroke=\"#000000\" points=\"1935.5001,-583.13 1932,-573.13 1928.5001,-583.13 1935.5001,-583.13\"/>\n</g>\n<!-- 46 -->\n<g id=\"node47\" class=\"node\">\n<title>46</title>\n<polygon fill=\"#efb489\" stroke=\"#000000\" points=\"2302.5,-573 2057.5,-573 2057.5,-505 2302.5,-505 2302.5,-573\"/>\n<text text-anchor=\"middle\" x=\"2180\" y=\"-557.8\" font-family=\"Helvetica,sans-Serif\" font-size=\"14.00\" fill=\"#000000\">republican_votes_percent &lt;= 0.468</text>\n<text text-anchor=\"middle\" x=\"2180\" y=\"-542.8\" font-family=\"Helvetica,sans-Serif\" font-size=\"14.00\" fill=\"#000000\">squared_error = 0.0</text>\n<text text-anchor=\"middle\" x=\"2180\" y=\"-527.8\" font-family=\"Helvetica,sans-Serif\" font-size=\"14.00\" fill=\"#000000\">samples = 4</text>\n<text text-anchor=\"middle\" x=\"2180\" y=\"-512.8\" font-family=\"Helvetica,sans-Serif\" font-size=\"14.00\" fill=\"#000000\">value = 0.021</text>\n</g>\n<!-- 42&#45;&gt;46 -->\n<g id=\"edge46\" class=\"edge\">\n<title>42&#45;&gt;46</title>\n<path fill=\"none\" stroke=\"#000000\" d=\"M2013.2045,-608.9465C2037.5052,-598.7559 2064.3054,-587.5171 2089.1822,-577.0849\"/>\n<polygon fill=\"#000000\" stroke=\"#000000\" points=\"2090.7447,-580.225 2098.6131,-573.13 2088.0376,-573.7696 2090.7447,-580.225\"/>\n</g>\n<!-- 44 -->\n<g id=\"node45\" class=\"node\">\n<title>44</title>\n<polygon fill=\"#f4ccaf\" stroke=\"#000000\" points=\"1855,-461.5 1711,-461.5 1711,-408.5 1855,-408.5 1855,-461.5\"/>\n<text text-anchor=\"middle\" x=\"1783\" y=\"-446.3\" font-family=\"Helvetica,sans-Serif\" font-size=\"14.00\" fill=\"#000000\">squared_error = 0.0</text>\n<text text-anchor=\"middle\" x=\"1783\" y=\"-431.3\" font-family=\"Helvetica,sans-Serif\" font-size=\"14.00\" fill=\"#000000\">samples = 1</text>\n<text text-anchor=\"middle\" x=\"1783\" y=\"-416.3\" font-family=\"Helvetica,sans-Serif\" font-size=\"14.00\" fill=\"#000000\">value = 0.015</text>\n</g>\n<!-- 43&#45;&gt;44 -->\n<g id=\"edge44\" class=\"edge\">\n<title>43&#45;&gt;44</title>\n<path fill=\"none\" stroke=\"#000000\" d=\"M1883.2118,-504.9465C1865.8528,-492.8301 1846.3709,-479.232 1829.2324,-467.2696\"/>\n<polygon fill=\"#000000\" stroke=\"#000000\" points=\"1831.2301,-464.3957 1821.0268,-461.5422 1827.2236,-470.1358 1831.2301,-464.3957\"/>\n</g>\n<!-- 45 -->\n<g id=\"node46\" class=\"node\">\n<title>45</title>\n<polygon fill=\"#f4caac\" stroke=\"#000000\" points=\"2017,-461.5 1873,-461.5 1873,-408.5 2017,-408.5 2017,-461.5\"/>\n<text text-anchor=\"middle\" x=\"1945\" y=\"-446.3\" font-family=\"Helvetica,sans-Serif\" font-size=\"14.00\" fill=\"#000000\">squared_error = 0.0</text>\n<text text-anchor=\"middle\" x=\"1945\" y=\"-431.3\" font-family=\"Helvetica,sans-Serif\" font-size=\"14.00\" fill=\"#000000\">samples = 1</text>\n<text text-anchor=\"middle\" x=\"1945\" y=\"-416.3\" font-family=\"Helvetica,sans-Serif\" font-size=\"14.00\" fill=\"#000000\">value = 0.015</text>\n</g>\n<!-- 43&#45;&gt;45 -->\n<g id=\"edge45\" class=\"edge\">\n<title>43&#45;&gt;45</title>\n<path fill=\"none\" stroke=\"#000000\" d=\"M1936.2567,-504.9465C1937.5922,-494.2621 1939.0718,-482.4254 1940.4282,-471.5742\"/>\n<polygon fill=\"#000000\" stroke=\"#000000\" points=\"1943.9148,-471.8991 1941.6822,-461.5422 1936.9688,-471.0308 1943.9148,-471.8991\"/>\n</g>\n<!-- 47 -->\n<g id=\"node48\" class=\"node\">\n<title>47</title>\n<polygon fill=\"#f0b78e\" stroke=\"#000000\" points=\"2272.5,-469 2061.5,-469 2061.5,-401 2272.5,-401 2272.5,-469\"/>\n<text text-anchor=\"middle\" x=\"2167\" y=\"-453.8\" font-family=\"Helvetica,sans-Serif\" font-size=\"14.00\" fill=\"#000000\">other_votes_percent &lt;= 0.009</text>\n<text text-anchor=\"middle\" x=\"2167\" y=\"-438.8\" font-family=\"Helvetica,sans-Serif\" font-size=\"14.00\" fill=\"#000000\">squared_error = 0.0</text>\n<text text-anchor=\"middle\" x=\"2167\" y=\"-423.8\" font-family=\"Helvetica,sans-Serif\" font-size=\"14.00\" fill=\"#000000\">samples = 2</text>\n<text text-anchor=\"middle\" x=\"2167\" y=\"-408.8\" font-family=\"Helvetica,sans-Serif\" font-size=\"14.00\" fill=\"#000000\">value = 0.02</text>\n</g>\n<!-- 46&#45;&gt;47 -->\n<g id=\"edge47\" class=\"edge\">\n<title>46&#45;&gt;47</title>\n<path fill=\"none\" stroke=\"#000000\" d=\"M2175.7433,-504.9465C2174.7108,-496.6863 2173.5922,-487.7374 2172.5109,-479.0875\"/>\n<polygon fill=\"#000000\" stroke=\"#000000\" points=\"2175.9797,-478.6186 2171.2662,-469.13 2169.0337,-479.4869 2175.9797,-478.6186\"/>\n</g>\n<!-- 50 -->\n<g id=\"node51\" class=\"node\">\n<title>50</title>\n<polygon fill=\"#eeac7d\" stroke=\"#000000\" points=\"2607.5,-469 2290.5,-469 2290.5,-401 2607.5,-401 2607.5,-469\"/>\n<text text-anchor=\"middle\" x=\"2449\" y=\"-453.8\" font-family=\"Helvetica,sans-Serif\" font-size=\"14.00\" fill=\"#000000\">summer_2020_Unemployment_Rate &lt;= 0.139</text>\n<text text-anchor=\"middle\" x=\"2449\" y=\"-438.8\" font-family=\"Helvetica,sans-Serif\" font-size=\"14.00\" fill=\"#000000\">squared_error = 0.0</text>\n<text text-anchor=\"middle\" x=\"2449\" y=\"-423.8\" font-family=\"Helvetica,sans-Serif\" font-size=\"14.00\" fill=\"#000000\">samples = 2</text>\n<text text-anchor=\"middle\" x=\"2449\" y=\"-408.8\" font-family=\"Helvetica,sans-Serif\" font-size=\"14.00\" fill=\"#000000\">value = 0.022</text>\n</g>\n<!-- 46&#45;&gt;50 -->\n<g id=\"edge50\" class=\"edge\">\n<title>46&#45;&gt;50</title>\n<path fill=\"none\" stroke=\"#000000\" d=\"M2268.0807,-504.9465C2294.6714,-494.6661 2324.0211,-483.319 2351.2047,-472.8093\"/>\n<polygon fill=\"#000000\" stroke=\"#000000\" points=\"2352.6564,-476.0006 2360.7215,-469.13 2350.1321,-469.4716 2352.6564,-476.0006\"/>\n</g>\n<!-- 48 -->\n<g id=\"node49\" class=\"node\">\n<title>48</title>\n<polygon fill=\"#f0b48a\" stroke=\"#000000\" points=\"2107,-357.5 1963,-357.5 1963,-304.5 2107,-304.5 2107,-357.5\"/>\n<text text-anchor=\"middle\" x=\"2035\" y=\"-342.3\" font-family=\"Helvetica,sans-Serif\" font-size=\"14.00\" fill=\"#000000\">squared_error = 0.0</text>\n<text text-anchor=\"middle\" x=\"2035\" y=\"-327.3\" font-family=\"Helvetica,sans-Serif\" font-size=\"14.00\" fill=\"#000000\">samples = 1</text>\n<text text-anchor=\"middle\" x=\"2035\" y=\"-312.3\" font-family=\"Helvetica,sans-Serif\" font-size=\"14.00\" fill=\"#000000\">value = 0.02</text>\n</g>\n<!-- 47&#45;&gt;48 -->\n<g id=\"edge48\" class=\"edge\">\n<title>47&#45;&gt;48</title>\n<path fill=\"none\" stroke=\"#000000\" d=\"M2123.7783,-400.9465C2108.6794,-389.0504 2091.7676,-375.726 2076.7878,-363.9237\"/>\n<polygon fill=\"#000000\" stroke=\"#000000\" points=\"2078.7091,-360.9817 2068.6881,-357.5422 2074.377,-366.4802 2078.7091,-360.9817\"/>\n</g>\n<!-- 49 -->\n<g id=\"node50\" class=\"node\">\n<title>49</title>\n<polygon fill=\"#f1ba93\" stroke=\"#000000\" points=\"2269,-357.5 2125,-357.5 2125,-304.5 2269,-304.5 2269,-357.5\"/>\n<text text-anchor=\"middle\" x=\"2197\" y=\"-342.3\" font-family=\"Helvetica,sans-Serif\" font-size=\"14.00\" fill=\"#000000\">squared_error = 0.0</text>\n<text text-anchor=\"middle\" x=\"2197\" y=\"-327.3\" font-family=\"Helvetica,sans-Serif\" font-size=\"14.00\" fill=\"#000000\">samples = 1</text>\n<text text-anchor=\"middle\" x=\"2197\" y=\"-312.3\" font-family=\"Helvetica,sans-Serif\" font-size=\"14.00\" fill=\"#000000\">value = 0.019</text>\n</g>\n<!-- 47&#45;&gt;49 -->\n<g id=\"edge49\" class=\"edge\">\n<title>47&#45;&gt;49</title>\n<path fill=\"none\" stroke=\"#000000\" d=\"M2176.8231,-400.9465C2179.937,-390.1519 2183.39,-378.1813 2186.5465,-367.2389\"/>\n<polygon fill=\"#000000\" stroke=\"#000000\" points=\"2189.9348,-368.1205 2189.3436,-357.5422 2183.209,-366.1803 2189.9348,-368.1205\"/>\n</g>\n<!-- 51 -->\n<g id=\"node52\" class=\"node\">\n<title>51</title>\n<polygon fill=\"#eeae7f\" stroke=\"#000000\" points=\"2491,-357.5 2347,-357.5 2347,-304.5 2491,-304.5 2491,-357.5\"/>\n<text text-anchor=\"middle\" x=\"2419\" y=\"-342.3\" font-family=\"Helvetica,sans-Serif\" font-size=\"14.00\" fill=\"#000000\">squared_error = 0.0</text>\n<text text-anchor=\"middle\" x=\"2419\" y=\"-327.3\" font-family=\"Helvetica,sans-Serif\" font-size=\"14.00\" fill=\"#000000\">samples = 1</text>\n<text text-anchor=\"middle\" x=\"2419\" y=\"-312.3\" font-family=\"Helvetica,sans-Serif\" font-size=\"14.00\" fill=\"#000000\">value = 0.022</text>\n</g>\n<!-- 50&#45;&gt;51 -->\n<g id=\"edge51\" class=\"edge\">\n<title>50&#45;&gt;51</title>\n<path fill=\"none\" stroke=\"#000000\" d=\"M2439.1769,-400.9465C2436.063,-390.1519 2432.61,-378.1813 2429.4535,-367.2389\"/>\n<polygon fill=\"#000000\" stroke=\"#000000\" points=\"2432.791,-366.1803 2426.6564,-357.5422 2426.0652,-368.1205 2432.791,-366.1803\"/>\n</g>\n<!-- 52 -->\n<g id=\"node53\" class=\"node\">\n<title>52</title>\n<polygon fill=\"#eeab7c\" stroke=\"#000000\" points=\"2653,-357.5 2509,-357.5 2509,-304.5 2653,-304.5 2653,-357.5\"/>\n<text text-anchor=\"middle\" x=\"2581\" y=\"-342.3\" font-family=\"Helvetica,sans-Serif\" font-size=\"14.00\" fill=\"#000000\">squared_error = 0.0</text>\n<text text-anchor=\"middle\" x=\"2581\" y=\"-327.3\" font-family=\"Helvetica,sans-Serif\" font-size=\"14.00\" fill=\"#000000\">samples = 1</text>\n<text text-anchor=\"middle\" x=\"2581\" y=\"-312.3\" font-family=\"Helvetica,sans-Serif\" font-size=\"14.00\" fill=\"#000000\">value = 0.023</text>\n</g>\n<!-- 50&#45;&gt;52 -->\n<g id=\"edge52\" class=\"edge\">\n<title>50&#45;&gt;52</title>\n<path fill=\"none\" stroke=\"#000000\" d=\"M2492.2217,-400.9465C2507.3206,-389.0504 2524.2324,-375.726 2539.2122,-363.9237\"/>\n<polygon fill=\"#000000\" stroke=\"#000000\" points=\"2541.623,-366.4802 2547.3119,-357.5422 2537.2909,-360.9817 2541.623,-366.4802\"/>\n</g>\n</g>\n</svg>\n"
          },
          "metadata": {},
          "execution_count": 84
        }
      ]
    },
    {
      "cell_type": "markdown",
      "metadata": {
        "id": "-p8LGAV8Srlh"
      },
      "source": [
        "## Assignment 3 - Looking at another tree\n",
        "\n",
        "Instead of looking at the first tree generated, look at the last tree (99). Did you find any differences in the node contents?"
      ]
    },
    {
      "cell_type": "markdown",
      "metadata": {
        "id": "EOdutSIbTUZ9"
      },
      "source": [
        "[link text](https://)Assignment 3 Your Answer:           \n",
        "\n",
        "Both models have the same feature importance\n",
        "Green votes percent is lower in the RFR decision tree"
      ]
    },
    {
      "cell_type": "markdown",
      "metadata": {
        "id": "ICd9RmGcEAXQ"
      },
      "source": [
        "# Gradient Boosting Regressor Tree on Summer 2020 Data"
      ]
    },
    {
      "cell_type": "markdown",
      "metadata": {
        "id": "piBAWAm0RpqM"
      },
      "source": [
        "**Using XGBRegressor model**\n",
        "\n",
        "XGBoost stands for \"Extreme Gradient Boosting\" and it is an implementation of gradient boosting trees algorithm. The XGBoost is a popular supervised machine learning model with characteristics like computation speed, parallelization, and performance. \n"
      ]
    },
    {
      "cell_type": "markdown",
      "metadata": {
        "id": "1M-NUZvPRy1K"
      },
      "source": [
        "**Importing the model**"
      ]
    },
    {
      "cell_type": "code",
      "metadata": {
        "id": "b9XrDHJPNlAm"
      },
      "source": [
        "from xgboost import XGBRegressor"
      ],
      "execution_count": 85,
      "outputs": []
    },
    {
      "cell_type": "markdown",
      "metadata": {
        "id": "UHVyhcMXfOuw"
      },
      "source": [
        "**Preparing the data**\n",
        "\n",
        "Separate data into features and labels. Then we'll split them into the train and test parts. Here, We'll extract 30 percent of the dataset as test data."
      ]
    },
    {
      "cell_type": "code",
      "metadata": {
        "id": "b20XvJ4-gi4U"
      },
      "source": [
        "feature_train, features_test, labels_train, labels_test=train_test_split(features_summer2020, labels_summer2020, test_size=0.30, random_state=42)\n"
      ],
      "execution_count": 86,
      "outputs": []
    },
    {
      "cell_type": "markdown",
      "metadata": {
        "id": "dS8oLgr-R0S4"
      },
      "source": [
        "**Defining and fitting the model**\n",
        "\n",
        "We'll use the XGBRegressor class of the xgboost package, and the parameters are defined as closed as the Random Forest Regression Model parameters. You can also set the new parameter values according to your data characteristics."
      ]
    },
    {
      "cell_type": "markdown",
      "metadata": {
        "id": "0KuGyqXrkkfF"
      },
      "source": [
        "Defining the model"
      ]
    },
    {
      "cell_type": "code",
      "metadata": {
        "id": "lFvr8RwyN5VY"
      },
      "source": [
        "xgbr_summer2020 = xgb.XGBRegressor(n_estimators = 100, max_features = \"auto\", bootstrap = True, random_state = 42) \n"
      ],
      "execution_count": 88,
      "outputs": []
    },
    {
      "cell_type": "markdown",
      "metadata": {
        "id": "fIhyaVIDkf8_"
      },
      "source": [
        "Fitting the model with train data"
      ]
    },
    {
      "cell_type": "code",
      "metadata": {
        "colab": {
          "base_uri": "https://localhost:8080/"
        },
        "id": "K13w_oc3kblm",
        "outputId": "5ceafd8a-8b61-44c1-ab5d-582037064b36"
      },
      "source": [
        "xgbr_summer2020.fit(features_train,labels_train)"
      ],
      "execution_count": 89,
      "outputs": [
        {
          "output_type": "stream",
          "name": "stdout",
          "text": [
            "[21:21:08] WARNING: /workspace/src/objective/regression_obj.cu:152: reg:linear is now deprecated in favor of reg:squarederror.\n"
          ]
        },
        {
          "output_type": "execute_result",
          "data": {
            "text/plain": [
              "XGBRegressor(bootstrap=True, max_features='auto', random_state=42)"
            ]
          },
          "metadata": {},
          "execution_count": 89
        }
      ]
    },
    {
      "cell_type": "markdown",
      "metadata": {
        "id": "bZlVCPpocCZI"
      },
      "source": [
        "## Boosted Tree Errors"
      ]
    },
    {
      "cell_type": "code",
      "metadata": {
        "id": "zd7pXkNIcECi",
        "colab": {
          "base_uri": "https://localhost:8080/"
        },
        "outputId": "386a10d6-85f1-4a55-8371-e5a2c5bbd972"
      },
      "source": [
        "labels_pred = xgbr_summer2020.predict(features_test)\n",
        "xgbr_mae = metrics.mean_absolute_error(labels_test, labels_pred)\n",
        "xgbr_mse = metrics.mean_squared_error(labels_test, labels_pred, squared=False)\n",
        "xgbr_rmse = metrics.mean_squared_error(labels_test, labels_pred)\n",
        "print('Mean Absolute Error (MAE):', xgbr_mae)\n",
        "print('Mean Squared Error (MSE):', xgbr_mse)\n",
        "print('Root Mean Squared Error (RMSE):', xgbr_rmse)"
      ],
      "execution_count": 94,
      "outputs": [
        {
          "output_type": "stream",
          "name": "stdout",
          "text": [
            "Mean Absolute Error (MAE): 0.004426778447162828\n",
            "Mean Squared Error (MSE): 0.004967243072195147\n",
            "Root Mean Squared Error (RMSE): 2.4673503738270686e-05\n"
          ]
        }
      ]
    },
    {
      "cell_type": "markdown",
      "metadata": {
        "id": "adqRUXapHrYU"
      },
      "source": [
        "## Gradient Boosted Tree Regressor Summer 2020 - Feature Importances"
      ]
    },
    {
      "cell_type": "code",
      "metadata": {
        "id": "Tbi6j_QZP6cb"
      },
      "source": [
        "xgbr_importance_summer2020 = xgbr_summer2020.feature_importances_\n",
        "# summarize feature importance\n",
        "xgbr_names_summer2020= features_summer2020.columns.to_numpy(dtype=object)\n",
        "xgbr_importanceDF_summer2020 = pd.DataFrame({'features':xgbr_names_summer2020, 'importance':xgbr_importance_summer2020})"
      ],
      "execution_count": 91,
      "outputs": []
    },
    {
      "cell_type": "code",
      "metadata": {
        "id": "KRKYoT7NP_4N"
      },
      "source": [
        "xgbr_importanceDF_summer2020 = xgbr_importanceDF_summer2020.sort_values(by=['importance'])"
      ],
      "execution_count": 92,
      "outputs": []
    },
    {
      "cell_type": "code",
      "metadata": {
        "id": "Ev-C-OXcQAKr",
        "colab": {
          "base_uri": "https://localhost:8080/",
          "height": 1000
        },
        "outputId": "abac2855-010a-4f32-f0f3-4298eed55c01"
      },
      "source": [
        "xgbr_importanceDF_summer2020.plot.barh(x='features', y='importance', figsize = (20,20), title = \"Summer 2020 GBR Feature Importance\")"
      ],
      "execution_count": 93,
      "outputs": [
        {
          "output_type": "execute_result",
          "data": {
            "text/plain": [
              "<matplotlib.axes._subplots.AxesSubplot at 0x7f068bfcee50>"
            ]
          },
          "metadata": {},
          "execution_count": 93
        },
        {
          "output_type": "display_data",
          "data": {
            "image/png": "[encoded data removed]",
            "text/plain": [
              "<Figure size 1440x1440 with 1 Axes>"
            ]
          },
          "metadata": {
            "needs_background": "light"
          }
        }
      ]
    },
    {
      "cell_type": "code",
      "metadata": {
        "id": "FN9ARgHwyrJG"
      },
      "source": [
        "#DT\n",
        "# Mean Absolute Error (MAE): 0.004213814566959224\n",
        "# Mean Squared Error (MSE): 0.0049099039776417585\n",
        "# Root Mean Squared Error (RMSE): 2.4107157069662362e-05\n",
        "\n",
        "# RFR\n",
        "# Mean Absolute Error (MAE): 0.003607740645748295\n",
        "# Mean Squared Error (MSE): 0.003962923494122509\n",
        "# Root Mean Squared Error (RMSE): 1.570476262026815e-05\n",
        "\n",
        "#XGBR\n",
        "# Mean Absolute Error (MAE): 0.004426778447162828\n",
        "# Mean Squared Error (MSE): 0.004967243072195147\n",
        "# Root Mean Squared Error (RMSE): 2.4673503738270686e-05"
      ],
      "execution_count": null,
      "outputs": []
    },
    {
      "cell_type": "markdown",
      "metadata": {
        "id": "SiEC1ngUJG7C"
      },
      "source": [
        "## Assignment 4 - Comparing feature importances and errors between the 3 models\n",
        "\n",
        "In the text box below please note the 3 most important features for each model we trained using Summer 2020 data. Did you notice any differences or similarities?\n",
        "\n",
        "Which model had the lowest MAE, MSE, and RMSE?"
      ]
    },
    {
      "cell_type": "markdown",
      "metadata": {
        "id": "Z0NKFrvsJgi6"
      },
      "source": [
        "Decision Tree Regressor\n",
        "\n",
        "1.   unemployment rate\n",
        "2.   population\n",
        "3.   libertarian votes percent\n",
        "\n",
        "\n",
        "\n",
        "Random Forest Regressor\n",
        "\n",
        "1.   unemployment rate\n",
        "2.   population\n",
        "3.   libertarian votes percent\n",
        "\n",
        "Gradient Boosted Tree Regressor\n",
        "\n",
        "1.   unemployment rate\n",
        "2.   population\n",
        "3.   summer_2020_atleast_one_dose_percent"
      ]
    },
    {
      "cell_type": "markdown",
      "metadata": {
        "id": "D0JEsnQqaNiz"
      },
      "source": [
        "\n",
        "\n",
        "*   Model with Lowest MAE - RF\n",
        "*   Model with Lowest MSE - RF\n",
        "*   Model with Lowest RMSE - RF\n",
        "\n"
      ]
    },
    {
      "cell_type": "markdown",
      "metadata": {
        "id": "hvBcEuLxNZ0M"
      },
      "source": [
        "## Final Assignment - Create a Summer 2021 dataframe and model, to compare with the Summer 2020 models.\n",
        "\n",
        "Using the code above for reference, make a dataframe for summer 2021 data.\n",
        "\n",
        "Then choose one of the three models we covered in this notebook:                 \n",
        "\n",
        "\n",
        "1.   Decision Tree\n",
        "2.   Random Forest\n",
        "3.   Gradient Boosted Trees\n",
        "\n",
        "And train the model you chose on the summer 2021 dataframe you created.\n",
        "\n"
      ]
    },
    {
      "cell_type": "code",
      "metadata": {
        "id": "4u_hXMLXN_C0",
        "colab": {
          "base_uri": "https://localhost:8080/",
          "height": 226
        },
        "outputId": "1c8a7521-bda5-418d-e08c-8a6f35ac6819"
      },
      "source": [
        "# create a summer 2021 dataframe\n",
        "summer_2021 = data.loc[:,data.columns.str.contains('county|population|summer_2021|democrat_votes_percent|green_votes_percent|republican_votes_percent|libertarian_votes_percent|other_votes_percent')]\n",
        "summer_2021.head()"
      ],
      "execution_count": 95,
      "outputs": [
        {
          "output_type": "execute_result",
          "data": {
            "text/html": [
              "<div>\n",
              "<style scoped>\n",
              "    .dataframe tbody tr th:only-of-type {\n",
              "        vertical-align: middle;\n",
              "    }\n",
              "\n",
              "    .dataframe tbody tr th {\n",
              "        vertical-align: top;\n",
              "    }\n",
              "\n",
              "    .dataframe thead th {\n",
              "        text-align: right;\n",
              "    }\n",
              "</style>\n",
              "<table border=\"1\" class=\"dataframe\">\n",
              "  <thead>\n",
              "    <tr style=\"text-align: right;\">\n",
              "      <th></th>\n",
              "      <th>county</th>\n",
              "      <th>population</th>\n",
              "      <th>summer_2021_cases</th>\n",
              "      <th>summer_2021_doses_administered</th>\n",
              "      <th>summer_2021_pfizer_doses</th>\n",
              "      <th>summer_2021_moderna_doses</th>\n",
              "      <th>summer_2021_jj_doses</th>\n",
              "      <th>summer_2021_partially_vaccinated</th>\n",
              "      <th>summer_2021_at_least_one_dose</th>\n",
              "      <th>summer_2021_fully_vaccinated</th>\n",
              "      <th>summer_2021_partially_vaccinated_percent</th>\n",
              "      <th>summer_2021_at_least_one_dose_percent</th>\n",
              "      <th>summer_2021_fully_vaccinated_percent</th>\n",
              "      <th>summer_2021_Unemployment_Rate</th>\n",
              "      <th>democrat_votes_percent</th>\n",
              "      <th>green_votes_percent</th>\n",
              "      <th>republican_votes_percent</th>\n",
              "      <th>libertarian_votes_percent</th>\n",
              "      <th>other_votes_percent</th>\n",
              "    </tr>\n",
              "  </thead>\n",
              "  <tbody>\n",
              "    <tr>\n",
              "      <th>0</th>\n",
              "      <td>Alameda</td>\n",
              "      <td>1685886</td>\n",
              "      <td>23141</td>\n",
              "      <td>258266</td>\n",
              "      <td>204507</td>\n",
              "      <td>44793</td>\n",
              "      <td>8898</td>\n",
              "      <td>101159</td>\n",
              "      <td>109907</td>\n",
              "      <td>115788</td>\n",
              "      <td>0.055480</td>\n",
              "      <td>0.765296</td>\n",
              "      <td>0.717004</td>\n",
              "      <td>0.064572</td>\n",
              "      <td>0.802082</td>\n",
              "      <td>0.006057</td>\n",
              "      <td>0.177009</td>\n",
              "      <td>0.008175</td>\n",
              "      <td>0.006679</td>\n",
              "    </tr>\n",
              "    <tr>\n",
              "      <th>1</th>\n",
              "      <td>Alpine</td>\n",
              "      <td>1117</td>\n",
              "      <td>13</td>\n",
              "      <td>72</td>\n",
              "      <td>10</td>\n",
              "      <td>62</td>\n",
              "      <td>0</td>\n",
              "      <td>22</td>\n",
              "      <td>22</td>\n",
              "      <td>7</td>\n",
              "      <td>0.085366</td>\n",
              "      <td>0.691638</td>\n",
              "      <td>0.606272</td>\n",
              "      <td>0.085106</td>\n",
              "      <td>0.642375</td>\n",
              "      <td>0.005398</td>\n",
              "      <td>0.329285</td>\n",
              "      <td>0.020243</td>\n",
              "      <td>0.002699</td>\n",
              "    </tr>\n",
              "    <tr>\n",
              "      <th>2</th>\n",
              "      <td>Amador</td>\n",
              "      <td>38531</td>\n",
              "      <td>1319</td>\n",
              "      <td>4960</td>\n",
              "      <td>2686</td>\n",
              "      <td>1875</td>\n",
              "      <td>399</td>\n",
              "      <td>2266</td>\n",
              "      <td>2673</td>\n",
              "      <td>2199</td>\n",
              "      <td>0.088794</td>\n",
              "      <td>0.570673</td>\n",
              "      <td>0.488170</td>\n",
              "      <td>0.067485</td>\n",
              "      <td>0.365540</td>\n",
              "      <td>0.004932</td>\n",
              "      <td>0.609084</td>\n",
              "      <td>0.015647</td>\n",
              "      <td>0.004797</td>\n",
              "    </tr>\n",
              "    <tr>\n",
              "      <th>3</th>\n",
              "      <td>Butte</td>\n",
              "      <td>217769</td>\n",
              "      <td>6060</td>\n",
              "      <td>33097</td>\n",
              "      <td>23097</td>\n",
              "      <td>8394</td>\n",
              "      <td>1606</td>\n",
              "      <td>14914</td>\n",
              "      <td>16492</td>\n",
              "      <td>15069</td>\n",
              "      <td>0.055096</td>\n",
              "      <td>0.492463</td>\n",
              "      <td>0.442633</td>\n",
              "      <td>0.070815</td>\n",
              "      <td>0.494053</td>\n",
              "      <td>0.004967</td>\n",
              "      <td>0.477436</td>\n",
              "      <td>0.017381</td>\n",
              "      <td>0.006163</td>\n",
              "    </tr>\n",
              "    <tr>\n",
              "      <th>4</th>\n",
              "      <td>Calaveras</td>\n",
              "      <td>44289</td>\n",
              "      <td>1392</td>\n",
              "      <td>6594</td>\n",
              "      <td>3804</td>\n",
              "      <td>2420</td>\n",
              "      <td>370</td>\n",
              "      <td>3079</td>\n",
              "      <td>3449</td>\n",
              "      <td>2854</td>\n",
              "      <td>0.061501</td>\n",
              "      <td>0.538256</td>\n",
              "      <td>0.481066</td>\n",
              "      <td>0.057351</td>\n",
              "      <td>0.369828</td>\n",
              "      <td>0.004602</td>\n",
              "      <td>0.608084</td>\n",
              "      <td>0.013216</td>\n",
              "      <td>0.004270</td>\n",
              "    </tr>\n",
              "  </tbody>\n",
              "</table>\n",
              "</div>"
            ],
            "text/plain": [
              "      county  population  ...  libertarian_votes_percent  other_votes_percent\n",
              "0    Alameda     1685886  ...                   0.008175             0.006679\n",
              "1     Alpine        1117  ...                   0.020243             0.002699\n",
              "2     Amador       38531  ...                   0.015647             0.004797\n",
              "3      Butte      217769  ...                   0.017381             0.006163\n",
              "4  Calaveras       44289  ...                   0.013216             0.004270\n",
              "\n",
              "[5 rows x 19 columns]"
            ]
          },
          "metadata": {},
          "execution_count": 95
        }
      ]
    },
    {
      "cell_type": "code",
      "metadata": {
        "id": "fHqoxX9hTyBw"
      },
      "source": [
        "# drop the county column \n",
        "summer_2021 = summer_2021.drop(columns=['county'])"
      ],
      "execution_count": 96,
      "outputs": []
    },
    {
      "cell_type": "code",
      "metadata": {
        "id": "QKybrS2yT6s8"
      },
      "source": [
        "# creat a case per capita column (summer_2021_cases/population)\n",
        "summer_2021['summer_2021_cases_per_capita'] = summer_2021[\"summer_2021_cases\"]/summer_2021[\"population\"]"
      ],
      "execution_count": 99,
      "outputs": []
    },
    {
      "cell_type": "code",
      "metadata": {
        "id": "_wyeMbRczg7j",
        "outputId": "7f92bb8d-c347-4d05-b0db-58263393d7be",
        "colab": {
          "base_uri": "https://localhost:8080/"
        }
      },
      "source": [
        "summer_2021.columns"
      ],
      "execution_count": 101,
      "outputs": [
        {
          "output_type": "execute_result",
          "data": {
            "text/plain": [
              "Index(['population', 'summer_2021_cases', 'summer_2021_doses_administered',\n",
              "       'summer_2021_pfizer_doses', 'summer_2021_moderna_doses',\n",
              "       'summer_2021_jj_doses', 'summer_2021_partially_vaccinated',\n",
              "       'summer_2021_at_least_one_dose', 'summer_2021_fully_vaccinated',\n",
              "       'summer_2021_partially_vaccinated_percent',\n",
              "       'summer_2021_at_least_one_dose_percent',\n",
              "       'summer_2021_fully_vaccinated_percent', 'summer_2021_Unemployment_Rate',\n",
              "       'democrat_votes_percent', 'green_votes_percent',\n",
              "       'republican_votes_percent', 'libertarian_votes_percent',\n",
              "       'other_votes_percent', 'summer_2021_cases_per_capita'],\n",
              "      dtype='object')"
            ]
          },
          "metadata": {},
          "execution_count": 101
        }
      ]
    },
    {
      "cell_type": "code",
      "metadata": {
        "id": "dBTEyV8TUGuM"
      },
      "source": [
        "# separate into labels and features\n",
        "labels_summer2021 = summer_2021['summer_2021_cases_per_capita']\n",
        "features_summer2021 = summer_2021.drop(columns=['summer_2021_cases_per_capita','summer_2021_cases']) "
      ],
      "execution_count": 114,
      "outputs": []
    },
    {
      "cell_type": "code",
      "metadata": {
        "id": "ha_wXRqDUWs5"
      },
      "source": [
        "# split into training and testing datasets\n",
        "features_train, features_test, labels_train, labels_test=train_test_split(features_summer2021, labels_summer2021, test_size=0.30, random_state=42)"
      ],
      "execution_count": 116,
      "outputs": []
    },
    {
      "cell_type": "code",
      "metadata": {
        "id": "qeBsgZsKUZvm"
      },
      "source": [
        "# initialize and train one of the three models\n",
        "rfr_summer2021 = RandomForestRegressor(n_estimators = 100, max_features = \"auto\", bootstrap = True, random_state = 42)\n",
        "rfr_summer2021.fit(feature_train, labels_train);"
      ],
      "execution_count": 117,
      "outputs": []
    },
    {
      "cell_type": "code",
      "metadata": {
        "id": "R21u6HyWH6a1"
      },
      "source": [
        "# plot feature importances\n",
        "labels_pred = rfr_summer2021.predict(features_test)"
      ],
      "execution_count": 118,
      "outputs": []
    },
    {
      "cell_type": "code",
      "metadata": {
        "id": "0MU0tjZa0XPi",
        "outputId": "1980b5a1-032f-49cc-bc3b-36174bf545e4",
        "colab": {
          "base_uri": "https://localhost:8080/"
        }
      },
      "source": [
        "labels_pred = rfr_summer2021.predict(features_test)\n",
        "\n",
        "print('Mean Absolute Error (MAE):', metrics.mean_absolute_error(labels_test, labels_pred))\n",
        "print('Mean Squared Error (MSE):', metrics.mean_squared_error(labels_test, labels_pred, squared=False))\n",
        "print('Root Mean Squared Error (RMSE):', metrics.mean_squared_error(labels_test, labels_pred))"
      ],
      "execution_count": 120,
      "outputs": [
        {
          "output_type": "stream",
          "name": "stdout",
          "text": [
            "Mean Absolute Error (MAE): 0.006539557657356476\n",
            "Mean Squared Error (MSE): 0.009570695646400389\n",
            "Root Mean Squared Error (RMSE): 9.159821515602735e-05\n"
          ]
        }
      ]
    },
    {
      "cell_type": "code",
      "metadata": {
        "id": "Cf_-5UFD0778"
      },
      "source": [
        "importance_summer2021 = rfr_summer2021.feature_importances_\n",
        "# summarize feature importance\n",
        "names_summer2021 = features_summer2021.columns.to_numpy(dtype=object)\n",
        "importanceDF_summer2021 = pd.DataFrame({'features':names_summer2021, 'importance':importance_summer2021})"
      ],
      "execution_count": 121,
      "outputs": []
    },
    {
      "cell_type": "code",
      "metadata": {
        "id": "nsJ19tXG1DQv"
      },
      "source": [
        "# sort from highest to lowest importance values\n",
        "importanceDF_summer2021 = importanceDF_summer2021.sort_values(by=['importance'])"
      ],
      "execution_count": 122,
      "outputs": []
    },
    {
      "cell_type": "code",
      "metadata": {
        "id": "PyPSf5dL1I2C",
        "outputId": "1f3297f6-1c90-4307-c0b2-33ad07cc34d7",
        "colab": {
          "base_uri": "https://localhost:8080/",
          "height": 1000
        }
      },
      "source": [
        "importanceDF_summer2021.plot.barh(x='features', y='importance', figsize = (20,20), title = \"Summer 2021 RFR Feature Importance\")"
      ],
      "execution_count": 125,
      "outputs": [
        {
          "output_type": "execute_result",
          "data": {
            "text/plain": [
              "<matplotlib.axes._subplots.AxesSubplot at 0x7f0689af8790>"
            ]
          },
          "metadata": {},
          "execution_count": 125
        },
        {
          "output_type": "display_data",
          "data": {
            "image/png": "[encoded data removed]",
            "text/plain": [
              "<Figure size 1440x1440 with 1 Axes>"
            ]
          },
          "metadata": {
            "needs_background": "light"
          }
        }
      ]
    },
    {
      "cell_type": "code",
      "metadata": {
        "id": "Il5RSmlq1SCY",
        "outputId": "7543b81e-ef1d-4543-fe06-dc863651b996",
        "colab": {
          "base_uri": "https://localhost:8080/",
          "height": 1000
        }
      },
      "source": [
        "# Initialize tree data object \n",
        "rfr_summer2021_dot = tree.export_graphviz(rfr_summer2021.estimators_[0], out_file=None, \n",
        "                                feature_names=features_summer2021.columns,  \n",
        "                                filled=True)\n",
        "\n",
        "# Draw graph\n",
        "rfr_summer2021_graph = graphviz.Source(rfr_summer2021_dot, format=\"png\") \n",
        "rfr_summer2021_graph"
      ],
      "execution_count": 124,
      "outputs": [
        {
          "output_type": "execute_result",
          "data": {
            "text/plain": [
              "<graphviz.files.Source at 0x7f0689d9bdd0>"
            ],
            "image/svg+xml": "<?xml version=\"1.0\" encoding=\"UTF-8\" standalone=\"no\"?>\n<!DOCTYPE svg PUBLIC \"-//W3C//DTD SVG 1.1//EN\"\n \"http://www.w3.org/Graphics/SVG/1.1/DTD/svg11.dtd\">\n<!-- Generated by graphviz version 2.40.1 (20161225.0304)\n -->\n<!-- Title: Tree Pages: 1 -->\n<svg width=\"2811pt\" height=\"893pt\"\n viewBox=\"0.00 0.00 2810.50 893.00\" xmlns=\"http://www.w3.org/2000/svg\" xmlns:xlink=\"http://www.w3.org/1999/xlink\">\n<g id=\"graph0\" class=\"graph\" transform=\"scale(1 1) rotate(0) translate(4 889)\">\n<title>Tree</title>\n<polygon fill=\"#ffffff\" stroke=\"transparent\" points=\"-4,4 -4,-889 2806.5,-889 2806.5,4 -4,4\"/>\n<!-- 0 -->\n<g id=\"node1\" class=\"node\">\n<title>0</title>\n<polygon fill=\"#f8ddc9\" stroke=\"#000000\" points=\"1181.5,-885 820.5,-885 820.5,-817 1181.5,-817 1181.5,-885\"/>\n<text text-anchor=\"middle\" x=\"1001\" y=\"-869.8\" font-family=\"Helvetica,sans-Serif\" font-size=\"14.00\" fill=\"#000000\">summer_2021_at_least_one_dose_percent &lt;= 0.468</text>\n<text text-anchor=\"middle\" x=\"1001\" y=\"-854.8\" font-family=\"Helvetica,sans-Serif\" font-size=\"14.00\" fill=\"#000000\">squared_error = 0.0</text>\n<text text-anchor=\"middle\" x=\"1001\" y=\"-839.8\" font-family=\"Helvetica,sans-Serif\" font-size=\"14.00\" fill=\"#000000\">samples = 27</text>\n<text text-anchor=\"middle\" x=\"1001\" y=\"-824.8\" font-family=\"Helvetica,sans-Serif\" font-size=\"14.00\" fill=\"#000000\">value = 0.025</text>\n</g>\n<!-- 1 -->\n<g id=\"node2\" class=\"node\">\n<title>1</title>\n<polygon fill=\"#e9965a\" stroke=\"#000000\" points=\"969.5,-781 698.5,-781 698.5,-713 969.5,-713 969.5,-781\"/>\n<text text-anchor=\"middle\" x=\"834\" y=\"-765.8\" font-family=\"Helvetica,sans-Serif\" font-size=\"14.00\" fill=\"#000000\">summer_2021_pfizer_doses &lt;= 9861.5</text>\n<text text-anchor=\"middle\" x=\"834\" y=\"-750.8\" font-family=\"Helvetica,sans-Serif\" font-size=\"14.00\" fill=\"#000000\">squared_error = 0.0</text>\n<text text-anchor=\"middle\" x=\"834\" y=\"-735.8\" font-family=\"Helvetica,sans-Serif\" font-size=\"14.00\" fill=\"#000000\">samples = 2</text>\n<text text-anchor=\"middle\" x=\"834\" y=\"-720.8\" font-family=\"Helvetica,sans-Serif\" font-size=\"14.00\" fill=\"#000000\">value = 0.06</text>\n</g>\n<!-- 0&#45;&gt;1 -->\n<g id=\"edge1\" class=\"edge\">\n<title>0&#45;&gt;1</title>\n<path fill=\"none\" stroke=\"#000000\" d=\"M946.318,-816.9465C930.7471,-807.2497 913.6524,-796.6039 897.5996,-786.6069\"/>\n<polygon fill=\"#000000\" stroke=\"#000000\" points=\"899.1437,-783.4453 888.8049,-781.13 895.4432,-789.3873 899.1437,-783.4453\"/>\n<text text-anchor=\"middle\" x=\"894.4658\" y=\"-801.7807\" font-family=\"Helvetica,sans-Serif\" font-size=\"14.00\" fill=\"#000000\">True</text>\n</g>\n<!-- 4 -->\n<g id=\"node5\" class=\"node\">\n<title>4</title>\n<polygon fill=\"#f9e2d2\" stroke=\"#000000\" points=\"1348.5,-781 987.5,-781 987.5,-713 1348.5,-713 1348.5,-781\"/>\n<text text-anchor=\"middle\" x=\"1168\" y=\"-765.8\" font-family=\"Helvetica,sans-Serif\" font-size=\"14.00\" fill=\"#000000\">summer_2021_at_least_one_dose_percent &lt;= 0.669</text>\n<text text-anchor=\"middle\" x=\"1168\" y=\"-750.8\" font-family=\"Helvetica,sans-Serif\" font-size=\"14.00\" fill=\"#000000\">squared_error = 0.0</text>\n<text text-anchor=\"middle\" x=\"1168\" y=\"-735.8\" font-family=\"Helvetica,sans-Serif\" font-size=\"14.00\" fill=\"#000000\">samples = 25</text>\n<text text-anchor=\"middle\" x=\"1168\" y=\"-720.8\" font-family=\"Helvetica,sans-Serif\" font-size=\"14.00\" fill=\"#000000\">value = 0.022</text>\n</g>\n<!-- 0&#45;&gt;4 -->\n<g id=\"edge4\" class=\"edge\">\n<title>0&#45;&gt;4</title>\n<path fill=\"none\" stroke=\"#000000\" d=\"M1055.682,-816.9465C1071.2529,-807.2497 1088.3476,-796.6039 1104.4004,-786.6069\"/>\n<polygon fill=\"#000000\" stroke=\"#000000\" points=\"1106.5568,-789.3873 1113.1951,-781.13 1102.8563,-783.4453 1106.5568,-789.3873\"/>\n<text text-anchor=\"middle\" x=\"1107.5342\" y=\"-801.7807\" font-family=\"Helvetica,sans-Serif\" font-size=\"14.00\" fill=\"#000000\">False</text>\n</g>\n<!-- 2 -->\n<g id=\"node3\" class=\"node\">\n<title>2</title>\n<polygon fill=\"#e58139\" stroke=\"#000000\" points=\"765,-669.5 621,-669.5 621,-616.5 765,-616.5 765,-669.5\"/>\n<text text-anchor=\"middle\" x=\"693\" y=\"-654.3\" font-family=\"Helvetica,sans-Serif\" font-size=\"14.00\" fill=\"#000000\">squared_error = 0.0</text>\n<text text-anchor=\"middle\" x=\"693\" y=\"-639.3\" font-family=\"Helvetica,sans-Serif\" font-size=\"14.00\" fill=\"#000000\">samples = 1</text>\n<text text-anchor=\"middle\" x=\"693\" y=\"-624.3\" font-family=\"Helvetica,sans-Serif\" font-size=\"14.00\" fill=\"#000000\">value = 0.071</text>\n</g>\n<!-- 1&#45;&gt;2 -->\n<g id=\"edge2\" class=\"edge\">\n<title>1&#45;&gt;2</title>\n<path fill=\"none\" stroke=\"#000000\" d=\"M787.8313,-712.9465C771.5536,-700.9403 753.3035,-687.4791 737.193,-675.5962\"/>\n<polygon fill=\"#000000\" stroke=\"#000000\" points=\"739.1103,-672.6614 728.985,-669.5422 734.9552,-678.2948 739.1103,-672.6614\"/>\n</g>\n<!-- 3 -->\n<g id=\"node4\" class=\"node\">\n<title>3</title>\n<polygon fill=\"#f2bf9b\" stroke=\"#000000\" points=\"927,-669.5 783,-669.5 783,-616.5 927,-616.5 927,-669.5\"/>\n<text text-anchor=\"middle\" x=\"855\" y=\"-654.3\" font-family=\"Helvetica,sans-Serif\" font-size=\"14.00\" fill=\"#000000\">squared_error = 0.0</text>\n<text text-anchor=\"middle\" x=\"855\" y=\"-639.3\" font-family=\"Helvetica,sans-Serif\" font-size=\"14.00\" fill=\"#000000\">samples = 1</text>\n<text text-anchor=\"middle\" x=\"855\" y=\"-624.3\" font-family=\"Helvetica,sans-Serif\" font-size=\"14.00\" fill=\"#000000\">value = 0.04</text>\n</g>\n<!-- 1&#45;&gt;3 -->\n<g id=\"edge3\" class=\"edge\">\n<title>1&#45;&gt;3</title>\n<path fill=\"none\" stroke=\"#000000\" d=\"M840.8762,-712.9465C843.0336,-702.2621 845.4237,-690.4254 847.6148,-679.5742\"/>\n<polygon fill=\"#000000\" stroke=\"#000000\" points=\"851.0919,-680.0371 849.6405,-669.5422 844.2304,-678.6516 851.0919,-680.0371\"/>\n</g>\n<!-- 5 -->\n<g id=\"node6\" class=\"node\">\n<title>5</title>\n<polygon fill=\"#f7d9c3\" stroke=\"#000000\" points=\"1307,-677 987,-677 987,-609 1307,-609 1307,-677\"/>\n<text text-anchor=\"middle\" x=\"1147\" y=\"-661.8\" font-family=\"Helvetica,sans-Serif\" font-size=\"14.00\" fill=\"#000000\">summer_2021_at_least_one_dose &lt;= 18950.5</text>\n<text text-anchor=\"middle\" x=\"1147\" y=\"-646.8\" font-family=\"Helvetica,sans-Serif\" font-size=\"14.00\" fill=\"#000000\">squared_error = 0.0</text>\n<text text-anchor=\"middle\" x=\"1147\" y=\"-631.8\" font-family=\"Helvetica,sans-Serif\" font-size=\"14.00\" fill=\"#000000\">samples = 15</text>\n<text text-anchor=\"middle\" x=\"1147\" y=\"-616.8\" font-family=\"Helvetica,sans-Serif\" font-size=\"14.00\" fill=\"#000000\">value = 0.027</text>\n</g>\n<!-- 4&#45;&gt;5 -->\n<g id=\"edge5\" class=\"edge\">\n<title>4&#45;&gt;5</title>\n<path fill=\"none\" stroke=\"#000000\" d=\"M1161.1238,-712.9465C1159.4559,-704.6863 1157.6489,-695.7374 1155.9023,-687.0875\"/>\n<polygon fill=\"#000000\" stroke=\"#000000\" points=\"1159.3018,-686.2394 1153.8916,-677.13 1152.4402,-687.6249 1159.3018,-686.2394\"/>\n</g>\n<!-- 34 -->\n<g id=\"node35\" class=\"node\">\n<title>34</title>\n<polygon fill=\"#fcf2eb\" stroke=\"#000000\" points=\"1976.5,-677 1735.5,-677 1735.5,-609 1976.5,-609 1976.5,-677\"/>\n<text text-anchor=\"middle\" x=\"1856\" y=\"-661.8\" font-family=\"Helvetica,sans-Serif\" font-size=\"14.00\" fill=\"#000000\">libertarian_votes_percent &lt;= 0.012</text>\n<text text-anchor=\"middle\" x=\"1856\" y=\"-646.8\" font-family=\"Helvetica,sans-Serif\" font-size=\"14.00\" fill=\"#000000\">squared_error = 0.0</text>\n<text text-anchor=\"middle\" x=\"1856\" y=\"-631.8\" font-family=\"Helvetica,sans-Serif\" font-size=\"14.00\" fill=\"#000000\">samples = 10</text>\n<text text-anchor=\"middle\" x=\"1856\" y=\"-616.8\" font-family=\"Helvetica,sans-Serif\" font-size=\"14.00\" fill=\"#000000\">value = 0.014</text>\n</g>\n<!-- 4&#45;&gt;34 -->\n<g id=\"edge34\" class=\"edge\">\n<title>4&#45;&gt;34</title>\n<path fill=\"none\" stroke=\"#000000\" d=\"M1348.7639,-719.6752C1466.9774,-701.8057 1618.6713,-678.8753 1725.2564,-662.7636\"/>\n<polygon fill=\"#000000\" stroke=\"#000000\" points=\"1726.0632,-666.1815 1735.4277,-661.226 1725.0168,-659.2601 1726.0632,-666.1815\"/>\n</g>\n<!-- 6 -->\n<g id=\"node7\" class=\"node\">\n<title>6</title>\n<polygon fill=\"#f5d0b5\" stroke=\"#000000\" points=\"741.5,-573 470.5,-573 470.5,-505 741.5,-505 741.5,-573\"/>\n<text text-anchor=\"middle\" x=\"606\" y=\"-557.8\" font-family=\"Helvetica,sans-Serif\" font-size=\"14.00\" fill=\"#000000\">summer_2021_pfizer_doses &lt;= 5161.5</text>\n<text text-anchor=\"middle\" x=\"606\" y=\"-542.8\" font-family=\"Helvetica,sans-Serif\" font-size=\"14.00\" fill=\"#000000\">squared_error = 0.0</text>\n<text text-anchor=\"middle\" x=\"606\" y=\"-527.8\" font-family=\"Helvetica,sans-Serif\" font-size=\"14.00\" fill=\"#000000\">samples = 6</text>\n<text text-anchor=\"middle\" x=\"606\" y=\"-512.8\" font-family=\"Helvetica,sans-Serif\" font-size=\"14.00\" fill=\"#000000\">value = 0.031</text>\n</g>\n<!-- 5&#45;&gt;6 -->\n<g id=\"edge6\" class=\"edge\">\n<title>5&#45;&gt;6</title>\n<path fill=\"none\" stroke=\"#000000\" d=\"M986.878,-612.2187C912.4827,-597.9172 824.6424,-581.0311 752.0765,-567.0813\"/>\n<polygon fill=\"#000000\" stroke=\"#000000\" points=\"752.4225,-563.5837 741.9415,-565.1329 751.1009,-570.4579 752.4225,-563.5837\"/>\n</g>\n<!-- 17 -->\n<g id=\"node18\" class=\"node\">\n<title>17</title>\n<polygon fill=\"#f8ddca\" stroke=\"#000000\" points=\"1327.5,-573 966.5,-573 966.5,-505 1327.5,-505 1327.5,-573\"/>\n<text text-anchor=\"middle\" x=\"1147\" y=\"-557.8\" font-family=\"Helvetica,sans-Serif\" font-size=\"14.00\" fill=\"#000000\">summer_2021_at_least_one_dose_percent &lt;= 0.573</text>\n<text text-anchor=\"middle\" x=\"1147\" y=\"-542.8\" font-family=\"Helvetica,sans-Serif\" font-size=\"14.00\" fill=\"#000000\">squared_error = 0.0</text>\n<text text-anchor=\"middle\" x=\"1147\" y=\"-527.8\" font-family=\"Helvetica,sans-Serif\" font-size=\"14.00\" fill=\"#000000\">samples = 9</text>\n<text text-anchor=\"middle\" x=\"1147\" y=\"-512.8\" font-family=\"Helvetica,sans-Serif\" font-size=\"14.00\" fill=\"#000000\">value = 0.025</text>\n</g>\n<!-- 5&#45;&gt;17 -->\n<g id=\"edge17\" class=\"edge\">\n<title>5&#45;&gt;17</title>\n<path fill=\"none\" stroke=\"#000000\" d=\"M1147,-608.9465C1147,-600.776 1147,-591.9318 1147,-583.3697\"/>\n<polygon fill=\"#000000\" stroke=\"#000000\" points=\"1150.5001,-583.13 1147,-573.13 1143.5001,-583.13 1150.5001,-583.13\"/>\n</g>\n<!-- 7 -->\n<g id=\"node8\" class=\"node\">\n<title>7</title>\n<polygon fill=\"#f7dac5\" stroke=\"#000000\" points=\"427.5,-469 108.5,-469 108.5,-401 427.5,-401 427.5,-469\"/>\n<text text-anchor=\"middle\" x=\"268\" y=\"-453.8\" font-family=\"Helvetica,sans-Serif\" font-size=\"14.00\" fill=\"#000000\">summer_2021_doses_administered &lt;= 1054.0</text>\n<text text-anchor=\"middle\" x=\"268\" y=\"-438.8\" font-family=\"Helvetica,sans-Serif\" font-size=\"14.00\" fill=\"#000000\">squared_error = 0.0</text>\n<text text-anchor=\"middle\" x=\"268\" y=\"-423.8\" font-family=\"Helvetica,sans-Serif\" font-size=\"14.00\" fill=\"#000000\">samples = 3</text>\n<text text-anchor=\"middle\" x=\"268\" y=\"-408.8\" font-family=\"Helvetica,sans-Serif\" font-size=\"14.00\" fill=\"#000000\">value = 0.026</text>\n</g>\n<!-- 6&#45;&gt;7 -->\n<g id=\"edge7\" class=\"edge\">\n<title>6&#45;&gt;7</title>\n<path fill=\"none\" stroke=\"#000000\" d=\"M495.3262,-504.9465C461.0973,-494.4145 423.23,-482.7631 388.3781,-472.0394\"/>\n<polygon fill=\"#000000\" stroke=\"#000000\" points=\"389.2208,-468.6368 378.6336,-469.0411 387.1621,-475.3273 389.2208,-468.6368\"/>\n</g>\n<!-- 12 -->\n<g id=\"node13\" class=\"node\">\n<title>12</title>\n<polygon fill=\"#f4c9ab\" stroke=\"#000000\" points=\"711.5,-469 500.5,-469 500.5,-401 711.5,-401 711.5,-469\"/>\n<text text-anchor=\"middle\" x=\"606\" y=\"-453.8\" font-family=\"Helvetica,sans-Serif\" font-size=\"14.00\" fill=\"#000000\">other_votes_percent &lt;= 0.006</text>\n<text text-anchor=\"middle\" x=\"606\" y=\"-438.8\" font-family=\"Helvetica,sans-Serif\" font-size=\"14.00\" fill=\"#000000\">squared_error = 0.0</text>\n<text text-anchor=\"middle\" x=\"606\" y=\"-423.8\" font-family=\"Helvetica,sans-Serif\" font-size=\"14.00\" fill=\"#000000\">samples = 3</text>\n<text text-anchor=\"middle\" x=\"606\" y=\"-408.8\" font-family=\"Helvetica,sans-Serif\" font-size=\"14.00\" fill=\"#000000\">value = 0.035</text>\n</g>\n<!-- 6&#45;&gt;12 -->\n<g id=\"edge12\" class=\"edge\">\n<title>6&#45;&gt;12</title>\n<path fill=\"none\" stroke=\"#000000\" d=\"M606,-504.9465C606,-496.776 606,-487.9318 606,-479.3697\"/>\n<polygon fill=\"#000000\" stroke=\"#000000\" points=\"609.5001,-479.13 606,-469.13 602.5001,-479.13 609.5001,-479.13\"/>\n</g>\n<!-- 8 -->\n<g id=\"node9\" class=\"node\">\n<title>8</title>\n<polygon fill=\"#f9e1d0\" stroke=\"#000000\" points=\"144,-357.5 0,-357.5 0,-304.5 144,-304.5 144,-357.5\"/>\n<text text-anchor=\"middle\" x=\"72\" y=\"-342.3\" font-family=\"Helvetica,sans-Serif\" font-size=\"14.00\" fill=\"#000000\">squared_error = 0.0</text>\n<text text-anchor=\"middle\" x=\"72\" y=\"-327.3\" font-family=\"Helvetica,sans-Serif\" font-size=\"14.00\" fill=\"#000000\">samples = 1</text>\n<text text-anchor=\"middle\" x=\"72\" y=\"-312.3\" font-family=\"Helvetica,sans-Serif\" font-size=\"14.00\" fill=\"#000000\">value = 0.023</text>\n</g>\n<!-- 7&#45;&gt;8 -->\n<g id=\"edge8\" class=\"edge\">\n<title>7&#45;&gt;8</title>\n<path fill=\"none\" stroke=\"#000000\" d=\"M203.8223,-400.9465C180.3648,-388.4997 153.9604,-374.4892 130.9782,-362.2946\"/>\n<polygon fill=\"#000000\" stroke=\"#000000\" points=\"132.4958,-359.1376 122.0218,-357.5422 129.2147,-365.3211 132.4958,-359.1376\"/>\n</g>\n<!-- 9 -->\n<g id=\"node10\" class=\"node\">\n<title>9</title>\n<polygon fill=\"#f7d6bf\" stroke=\"#000000\" points=\"373.5,-365 162.5,-365 162.5,-297 373.5,-297 373.5,-365\"/>\n<text text-anchor=\"middle\" x=\"268\" y=\"-349.8\" font-family=\"Helvetica,sans-Serif\" font-size=\"14.00\" fill=\"#000000\">other_votes_percent &lt;= 0.006</text>\n<text text-anchor=\"middle\" x=\"268\" y=\"-334.8\" font-family=\"Helvetica,sans-Serif\" font-size=\"14.00\" fill=\"#000000\">squared_error = 0.0</text>\n<text text-anchor=\"middle\" x=\"268\" y=\"-319.8\" font-family=\"Helvetica,sans-Serif\" font-size=\"14.00\" fill=\"#000000\">samples = 2</text>\n<text text-anchor=\"middle\" x=\"268\" y=\"-304.8\" font-family=\"Helvetica,sans-Serif\" font-size=\"14.00\" fill=\"#000000\">value = 0.028</text>\n</g>\n<!-- 7&#45;&gt;9 -->\n<g id=\"edge9\" class=\"edge\">\n<title>7&#45;&gt;9</title>\n<path fill=\"none\" stroke=\"#000000\" d=\"M268,-400.9465C268,-392.776 268,-383.9318 268,-375.3697\"/>\n<polygon fill=\"#000000\" stroke=\"#000000\" points=\"271.5001,-375.13 268,-365.13 264.5001,-375.13 271.5001,-375.13\"/>\n</g>\n<!-- 10 -->\n<g id=\"node11\" class=\"node\">\n<title>10</title>\n<polygon fill=\"#f6d3ba\" stroke=\"#000000\" points=\"201,-253.5 57,-253.5 57,-200.5 201,-200.5 201,-253.5\"/>\n<text text-anchor=\"middle\" x=\"129\" y=\"-238.3\" font-family=\"Helvetica,sans-Serif\" font-size=\"14.00\" fill=\"#000000\">squared_error = 0.0</text>\n<text text-anchor=\"middle\" x=\"129\" y=\"-223.3\" font-family=\"Helvetica,sans-Serif\" font-size=\"14.00\" fill=\"#000000\">samples = 1</text>\n<text text-anchor=\"middle\" x=\"129\" y=\"-208.3\" font-family=\"Helvetica,sans-Serif\" font-size=\"14.00\" fill=\"#000000\">value = 0.03</text>\n</g>\n<!-- 9&#45;&gt;10 -->\n<g id=\"edge10\" class=\"edge\">\n<title>9&#45;&gt;10</title>\n<path fill=\"none\" stroke=\"#000000\" d=\"M222.4862,-296.9465C206.4394,-284.9403 188.4481,-271.4791 172.5661,-259.5962\"/>\n<polygon fill=\"#000000\" stroke=\"#000000\" points=\"174.5783,-256.7306 164.4746,-253.5422 170.3848,-262.3354 174.5783,-256.7306\"/>\n</g>\n<!-- 11 -->\n<g id=\"node12\" class=\"node\">\n<title>11</title>\n<polygon fill=\"#f7dac4\" stroke=\"#000000\" points=\"363,-253.5 219,-253.5 219,-200.5 363,-200.5 363,-253.5\"/>\n<text text-anchor=\"middle\" x=\"291\" y=\"-238.3\" font-family=\"Helvetica,sans-Serif\" font-size=\"14.00\" fill=\"#000000\">squared_error = 0.0</text>\n<text text-anchor=\"middle\" x=\"291\" y=\"-223.3\" font-family=\"Helvetica,sans-Serif\" font-size=\"14.00\" fill=\"#000000\">samples = 1</text>\n<text text-anchor=\"middle\" x=\"291\" y=\"-208.3\" font-family=\"Helvetica,sans-Serif\" font-size=\"14.00\" fill=\"#000000\">value = 0.027</text>\n</g>\n<!-- 9&#45;&gt;11 -->\n<g id=\"edge11\" class=\"edge\">\n<title>9&#45;&gt;11</title>\n<path fill=\"none\" stroke=\"#000000\" d=\"M275.5311,-296.9465C277.894,-286.2621 280.5117,-274.4254 282.9115,-263.5742\"/>\n<polygon fill=\"#000000\" stroke=\"#000000\" points=\"286.3881,-264.062 285.1301,-253.5422 279.5532,-262.5504 286.3881,-264.062\"/>\n</g>\n<!-- 13 -->\n<g id=\"node14\" class=\"node\">\n<title>13</title>\n<polygon fill=\"#f5d0b5\" stroke=\"#000000\" points=\"536,-357.5 392,-357.5 392,-304.5 536,-304.5 536,-357.5\"/>\n<text text-anchor=\"middle\" x=\"464\" y=\"-342.3\" font-family=\"Helvetica,sans-Serif\" font-size=\"14.00\" fill=\"#000000\">squared_error = 0.0</text>\n<text text-anchor=\"middle\" x=\"464\" y=\"-327.3\" font-family=\"Helvetica,sans-Serif\" font-size=\"14.00\" fill=\"#000000\">samples = 1</text>\n<text text-anchor=\"middle\" x=\"464\" y=\"-312.3\" font-family=\"Helvetica,sans-Serif\" font-size=\"14.00\" fill=\"#000000\">value = 0.031</text>\n</g>\n<!-- 12&#45;&gt;13 -->\n<g id=\"edge13\" class=\"edge\">\n<title>12&#45;&gt;13</title>\n<path fill=\"none\" stroke=\"#000000\" d=\"M559.5039,-400.9465C543.1107,-388.9403 524.7311,-375.4791 508.5064,-363.5962\"/>\n<polygon fill=\"#000000\" stroke=\"#000000\" points=\"510.376,-360.6272 500.2403,-357.5422 506.2399,-366.2746 510.376,-360.6272\"/>\n</g>\n<!-- 14 -->\n<g id=\"node15\" class=\"node\">\n<title>14</title>\n<polygon fill=\"#f3c5a4\" stroke=\"#000000\" points=\"765.5,-365 554.5,-365 554.5,-297 765.5,-297 765.5,-365\"/>\n<text text-anchor=\"middle\" x=\"660\" y=\"-349.8\" font-family=\"Helvetica,sans-Serif\" font-size=\"14.00\" fill=\"#000000\">other_votes_percent &lt;= 0.007</text>\n<text text-anchor=\"middle\" x=\"660\" y=\"-334.8\" font-family=\"Helvetica,sans-Serif\" font-size=\"14.00\" fill=\"#000000\">squared_error = 0.0</text>\n<text text-anchor=\"middle\" x=\"660\" y=\"-319.8\" font-family=\"Helvetica,sans-Serif\" font-size=\"14.00\" fill=\"#000000\">samples = 2</text>\n<text text-anchor=\"middle\" x=\"660\" y=\"-304.8\" font-family=\"Helvetica,sans-Serif\" font-size=\"14.00\" fill=\"#000000\">value = 0.037</text>\n</g>\n<!-- 12&#45;&gt;14 -->\n<g id=\"edge14\" class=\"edge\">\n<title>12&#45;&gt;14</title>\n<path fill=\"none\" stroke=\"#000000\" d=\"M623.6816,-400.9465C628.1105,-392.4169 632.9206,-383.153 637.5472,-374.2424\"/>\n<polygon fill=\"#000000\" stroke=\"#000000\" points=\"640.7767,-375.6178 642.2787,-365.13 634.5642,-372.3921 640.7767,-375.6178\"/>\n</g>\n<!-- 15 -->\n<g id=\"node16\" class=\"node\">\n<title>15</title>\n<polygon fill=\"#f3c6a6\" stroke=\"#000000\" points=\"582,-253.5 438,-253.5 438,-200.5 582,-200.5 582,-253.5\"/>\n<text text-anchor=\"middle\" x=\"510\" y=\"-238.3\" font-family=\"Helvetica,sans-Serif\" font-size=\"14.00\" fill=\"#000000\">squared_error = 0.0</text>\n<text text-anchor=\"middle\" x=\"510\" y=\"-223.3\" font-family=\"Helvetica,sans-Serif\" font-size=\"14.00\" fill=\"#000000\">samples = 1</text>\n<text text-anchor=\"middle\" x=\"510\" y=\"-208.3\" font-family=\"Helvetica,sans-Serif\" font-size=\"14.00\" fill=\"#000000\">value = 0.036</text>\n</g>\n<!-- 14&#45;&gt;15 -->\n<g id=\"edge15\" class=\"edge\">\n<title>14&#45;&gt;15</title>\n<path fill=\"none\" stroke=\"#000000\" d=\"M610.8844,-296.9465C593.4088,-284.8301 573.7962,-271.232 556.5427,-259.2696\"/>\n<polygon fill=\"#000000\" stroke=\"#000000\" points=\"558.4942,-256.3637 548.282,-253.5422 554.5057,-262.1163 558.4942,-256.3637\"/>\n</g>\n<!-- 16 -->\n<g id=\"node17\" class=\"node\">\n<title>16</title>\n<polygon fill=\"#f3c3a1\" stroke=\"#000000\" points=\"744,-253.5 600,-253.5 600,-200.5 744,-200.5 744,-253.5\"/>\n<text text-anchor=\"middle\" x=\"672\" y=\"-238.3\" font-family=\"Helvetica,sans-Serif\" font-size=\"14.00\" fill=\"#000000\">squared_error = 0.0</text>\n<text text-anchor=\"middle\" x=\"672\" y=\"-223.3\" font-family=\"Helvetica,sans-Serif\" font-size=\"14.00\" fill=\"#000000\">samples = 1</text>\n<text text-anchor=\"middle\" x=\"672\" y=\"-208.3\" font-family=\"Helvetica,sans-Serif\" font-size=\"14.00\" fill=\"#000000\">value = 0.038</text>\n</g>\n<!-- 14&#45;&gt;16 -->\n<g id=\"edge16\" class=\"edge\">\n<title>14&#45;&gt;16</title>\n<path fill=\"none\" stroke=\"#000000\" d=\"M663.9292,-296.9465C665.1621,-286.2621 666.5278,-274.4254 667.7799,-263.5742\"/>\n<polygon fill=\"#000000\" stroke=\"#000000\" points=\"671.268,-263.8775 668.9374,-253.5422 664.3142,-263.075 671.268,-263.8775\"/>\n</g>\n<!-- 18 -->\n<g id=\"node19\" class=\"node\">\n<title>18</title>\n<polygon fill=\"#f7d8c2\" stroke=\"#000000\" points=\"1159.5,-469 832.5,-469 832.5,-401 1159.5,-401 1159.5,-469\"/>\n<text text-anchor=\"middle\" x=\"996\" y=\"-453.8\" font-family=\"Helvetica,sans-Serif\" font-size=\"14.00\" fill=\"#000000\">summer_2021_doses_administered &lt;= 99943.5</text>\n<text text-anchor=\"middle\" x=\"996\" y=\"-438.8\" font-family=\"Helvetica,sans-Serif\" font-size=\"14.00\" fill=\"#000000\">squared_error = 0.0</text>\n<text text-anchor=\"middle\" x=\"996\" y=\"-423.8\" font-family=\"Helvetica,sans-Serif\" font-size=\"14.00\" fill=\"#000000\">samples = 3</text>\n<text text-anchor=\"middle\" x=\"996\" y=\"-408.8\" font-family=\"Helvetica,sans-Serif\" font-size=\"14.00\" fill=\"#000000\">value = 0.027</text>\n</g>\n<!-- 17&#45;&gt;18 -->\n<g id=\"edge18\" class=\"edge\">\n<title>17&#45;&gt;18</title>\n<path fill=\"none\" stroke=\"#000000\" d=\"M1097.557,-504.9465C1083.6083,-495.3395 1068.3071,-484.8009 1053.9097,-474.8848\"/>\n<polygon fill=\"#000000\" stroke=\"#000000\" points=\"1055.7751,-471.9198 1045.5541,-469.13 1051.8045,-477.6848 1055.7751,-471.9198\"/>\n</g>\n<!-- 23 -->\n<g id=\"node24\" class=\"node\">\n<title>23</title>\n<polygon fill=\"#f8dfcd\" stroke=\"#000000\" points=\"1419,-469 1177,-469 1177,-401 1419,-401 1419,-469\"/>\n<text text-anchor=\"middle\" x=\"1298\" y=\"-453.8\" font-family=\"Helvetica,sans-Serif\" font-size=\"14.00\" fill=\"#000000\">summer_2021_jj_doses &lt;= 2895.0</text>\n<text text-anchor=\"middle\" x=\"1298\" y=\"-438.8\" font-family=\"Helvetica,sans-Serif\" font-size=\"14.00\" fill=\"#000000\">squared_error = 0.0</text>\n<text text-anchor=\"middle\" x=\"1298\" y=\"-423.8\" font-family=\"Helvetica,sans-Serif\" font-size=\"14.00\" fill=\"#000000\">samples = 6</text>\n<text text-anchor=\"middle\" x=\"1298\" y=\"-408.8\" font-family=\"Helvetica,sans-Serif\" font-size=\"14.00\" fill=\"#000000\">value = 0.024</text>\n</g>\n<!-- 17&#45;&gt;23 -->\n<g id=\"edge23\" class=\"edge\">\n<title>17&#45;&gt;23</title>\n<path fill=\"none\" stroke=\"#000000\" d=\"M1196.443,-504.9465C1210.3917,-495.3395 1225.6929,-484.8009 1240.0903,-474.8848\"/>\n<polygon fill=\"#000000\" stroke=\"#000000\" points=\"1242.1955,-477.6848 1248.4459,-469.13 1238.2249,-471.9198 1242.1955,-477.6848\"/>\n</g>\n<!-- 19 -->\n<g id=\"node20\" class=\"node\">\n<title>19</title>\n<polygon fill=\"#f7d9c3\" stroke=\"#000000\" points=\"954,-365 784,-365 784,-297 954,-297 954,-365\"/>\n<text text-anchor=\"middle\" x=\"869\" y=\"-349.8\" font-family=\"Helvetica,sans-Serif\" font-size=\"14.00\" fill=\"#000000\">population &lt;= 385921.5</text>\n<text text-anchor=\"middle\" x=\"869\" y=\"-334.8\" font-family=\"Helvetica,sans-Serif\" font-size=\"14.00\" fill=\"#000000\">squared_error = 0.0</text>\n<text text-anchor=\"middle\" x=\"869\" y=\"-319.8\" font-family=\"Helvetica,sans-Serif\" font-size=\"14.00\" fill=\"#000000\">samples = 2</text>\n<text text-anchor=\"middle\" x=\"869\" y=\"-304.8\" font-family=\"Helvetica,sans-Serif\" font-size=\"14.00\" fill=\"#000000\">value = 0.027</text>\n</g>\n<!-- 18&#45;&gt;19 -->\n<g id=\"edge19\" class=\"edge\">\n<title>18&#45;&gt;19</title>\n<path fill=\"none\" stroke=\"#000000\" d=\"M954.4155,-400.9465C943.0127,-391.6088 930.5353,-381.3911 918.7257,-371.7203\"/>\n<polygon fill=\"#000000\" stroke=\"#000000\" points=\"920.6324,-368.7578 910.678,-365.13 916.1974,-374.1736 920.6324,-368.7578\"/>\n</g>\n<!-- 22 -->\n<g id=\"node23\" class=\"node\">\n<title>22</title>\n<polygon fill=\"#f6d5bc\" stroke=\"#000000\" points=\"1116,-357.5 972,-357.5 972,-304.5 1116,-304.5 1116,-357.5\"/>\n<text text-anchor=\"middle\" x=\"1044\" y=\"-342.3\" font-family=\"Helvetica,sans-Serif\" font-size=\"14.00\" fill=\"#000000\">squared_error = 0.0</text>\n<text text-anchor=\"middle\" x=\"1044\" y=\"-327.3\" font-family=\"Helvetica,sans-Serif\" font-size=\"14.00\" fill=\"#000000\">samples = 1</text>\n<text text-anchor=\"middle\" x=\"1044\" y=\"-312.3\" font-family=\"Helvetica,sans-Serif\" font-size=\"14.00\" fill=\"#000000\">value = 0.029</text>\n</g>\n<!-- 18&#45;&gt;22 -->\n<g id=\"edge22\" class=\"edge\">\n<title>18&#45;&gt;22</title>\n<path fill=\"none\" stroke=\"#000000\" d=\"M1011.717,-400.9465C1016.75,-390.0418 1022.3368,-377.9368 1027.4288,-366.9043\"/>\n<polygon fill=\"#000000\" stroke=\"#000000\" points=\"1030.737,-368.0885 1031.7498,-357.5422 1024.3813,-365.155 1030.737,-368.0885\"/>\n</g>\n<!-- 20 -->\n<g id=\"node21\" class=\"node\">\n<title>20</title>\n<polygon fill=\"#f7d8c2\" stroke=\"#000000\" points=\"929,-253.5 785,-253.5 785,-200.5 929,-200.5 929,-253.5\"/>\n<text text-anchor=\"middle\" x=\"857\" y=\"-238.3\" font-family=\"Helvetica,sans-Serif\" font-size=\"14.00\" fill=\"#000000\">squared_error = 0.0</text>\n<text text-anchor=\"middle\" x=\"857\" y=\"-223.3\" font-family=\"Helvetica,sans-Serif\" font-size=\"14.00\" fill=\"#000000\">samples = 1</text>\n<text text-anchor=\"middle\" x=\"857\" y=\"-208.3\" font-family=\"Helvetica,sans-Serif\" font-size=\"14.00\" fill=\"#000000\">value = 0.027</text>\n</g>\n<!-- 19&#45;&gt;20 -->\n<g id=\"edge20\" class=\"edge\">\n<title>19&#45;&gt;20</title>\n<path fill=\"none\" stroke=\"#000000\" d=\"M865.0708,-296.9465C863.8379,-286.2621 862.4722,-274.4254 861.2201,-263.5742\"/>\n<polygon fill=\"#000000\" stroke=\"#000000\" points=\"864.6858,-263.075 860.0626,-253.5422 857.732,-263.8775 864.6858,-263.075\"/>\n</g>\n<!-- 21 -->\n<g id=\"node22\" class=\"node\">\n<title>21</title>\n<polygon fill=\"#f8dbc6\" stroke=\"#000000\" points=\"1091,-253.5 947,-253.5 947,-200.5 1091,-200.5 1091,-253.5\"/>\n<text text-anchor=\"middle\" x=\"1019\" y=\"-238.3\" font-family=\"Helvetica,sans-Serif\" font-size=\"14.00\" fill=\"#000000\">squared_error = 0.0</text>\n<text text-anchor=\"middle\" x=\"1019\" y=\"-223.3\" font-family=\"Helvetica,sans-Serif\" font-size=\"14.00\" fill=\"#000000\">samples = 1</text>\n<text text-anchor=\"middle\" x=\"1019\" y=\"-208.3\" font-family=\"Helvetica,sans-Serif\" font-size=\"14.00\" fill=\"#000000\">value = 0.026</text>\n</g>\n<!-- 19&#45;&gt;21 -->\n<g id=\"edge21\" class=\"edge\">\n<title>19&#45;&gt;21</title>\n<path fill=\"none\" stroke=\"#000000\" d=\"M918.1156,-296.9465C935.5912,-284.8301 955.2038,-271.232 972.4573,-259.2696\"/>\n<polygon fill=\"#000000\" stroke=\"#000000\" points=\"974.4943,-262.1163 980.718,-253.5422 970.5058,-256.3637 974.4943,-262.1163\"/>\n</g>\n<!-- 24 -->\n<g id=\"node25\" class=\"node\">\n<title>24</title>\n<polygon fill=\"#f9e4d4\" stroke=\"#000000\" points=\"1283.5,-357.5 1134.5,-357.5 1134.5,-304.5 1283.5,-304.5 1283.5,-357.5\"/>\n<text text-anchor=\"middle\" x=\"1209\" y=\"-342.3\" font-family=\"Helvetica,sans-Serif\" font-size=\"14.00\" fill=\"#000000\">squared_error = &#45;0.0</text>\n<text text-anchor=\"middle\" x=\"1209\" y=\"-327.3\" font-family=\"Helvetica,sans-Serif\" font-size=\"14.00\" fill=\"#000000\">samples = 1</text>\n<text text-anchor=\"middle\" x=\"1209\" y=\"-312.3\" font-family=\"Helvetica,sans-Serif\" font-size=\"14.00\" fill=\"#000000\">value = 0.022</text>\n</g>\n<!-- 23&#45;&gt;24 -->\n<g id=\"edge24\" class=\"edge\">\n<title>23&#45;&gt;24</title>\n<path fill=\"none\" stroke=\"#000000\" d=\"M1268.8581,-400.9465C1259.0548,-389.491 1248.1181,-376.711 1238.3025,-365.2412\"/>\n<polygon fill=\"#000000\" stroke=\"#000000\" points=\"1240.8751,-362.8642 1231.714,-357.5422 1235.5567,-367.4156 1240.8751,-362.8642\"/>\n</g>\n<!-- 25 -->\n<g id=\"node26\" class=\"node\">\n<title>25</title>\n<polygon fill=\"#f8decb\" stroke=\"#000000\" points=\"1662.5,-365 1301.5,-365 1301.5,-297 1662.5,-297 1662.5,-365\"/>\n<text text-anchor=\"middle\" x=\"1482\" y=\"-349.8\" font-family=\"Helvetica,sans-Serif\" font-size=\"14.00\" fill=\"#000000\">summer_2021_at_least_one_dose_percent &lt;= 0.581</text>\n<text text-anchor=\"middle\" x=\"1482\" y=\"-334.8\" font-family=\"Helvetica,sans-Serif\" font-size=\"14.00\" fill=\"#000000\">squared_error = 0.0</text>\n<text text-anchor=\"middle\" x=\"1482\" y=\"-319.8\" font-family=\"Helvetica,sans-Serif\" font-size=\"14.00\" fill=\"#000000\">samples = 5</text>\n<text text-anchor=\"middle\" x=\"1482\" y=\"-304.8\" font-family=\"Helvetica,sans-Serif\" font-size=\"14.00\" fill=\"#000000\">value = 0.024</text>\n</g>\n<!-- 23&#45;&gt;25 -->\n<g id=\"edge25\" class=\"edge\">\n<title>23&#45;&gt;25</title>\n<path fill=\"none\" stroke=\"#000000\" d=\"M1358.2485,-400.9465C1375.7221,-391.0701 1394.9375,-380.2093 1412.9076,-370.0522\"/>\n<polygon fill=\"#000000\" stroke=\"#000000\" points=\"1414.6327,-373.0976 1421.6162,-365.13 1411.1883,-367.0036 1414.6327,-373.0976\"/>\n</g>\n<!-- 26 -->\n<g id=\"node27\" class=\"node\">\n<title>26</title>\n<polygon fill=\"#fae5d7\" stroke=\"#000000\" points=\"1359,-253.5 1215,-253.5 1215,-200.5 1359,-200.5 1359,-253.5\"/>\n<text text-anchor=\"middle\" x=\"1287\" y=\"-238.3\" font-family=\"Helvetica,sans-Serif\" font-size=\"14.00\" fill=\"#000000\">squared_error = 0.0</text>\n<text text-anchor=\"middle\" x=\"1287\" y=\"-223.3\" font-family=\"Helvetica,sans-Serif\" font-size=\"14.00\" fill=\"#000000\">samples = 1</text>\n<text text-anchor=\"middle\" x=\"1287\" y=\"-208.3\" font-family=\"Helvetica,sans-Serif\" font-size=\"14.00\" fill=\"#000000\">value = 0.021</text>\n</g>\n<!-- 25&#45;&gt;26 -->\n<g id=\"edge26\" class=\"edge\">\n<title>25&#45;&gt;26</title>\n<path fill=\"none\" stroke=\"#000000\" d=\"M1418.1497,-296.9465C1394.8119,-284.4997 1368.5423,-270.4892 1345.6773,-258.2946\"/>\n<polygon fill=\"#000000\" stroke=\"#000000\" points=\"1347.2372,-255.1599 1336.7666,-253.5422 1343.943,-261.3363 1347.2372,-255.1599\"/>\n</g>\n<!-- 27 -->\n<g id=\"node28\" class=\"node\">\n<title>27</title>\n<polygon fill=\"#f8ddc9\" stroke=\"#000000\" points=\"1619,-261 1377,-261 1377,-193 1619,-193 1619,-261\"/>\n<text text-anchor=\"middle\" x=\"1498\" y=\"-245.8\" font-family=\"Helvetica,sans-Serif\" font-size=\"14.00\" fill=\"#000000\">summer_2021_jj_doses &lt;= 4399.5</text>\n<text text-anchor=\"middle\" x=\"1498\" y=\"-230.8\" font-family=\"Helvetica,sans-Serif\" font-size=\"14.00\" fill=\"#000000\">squared_error = 0.0</text>\n<text text-anchor=\"middle\" x=\"1498\" y=\"-215.8\" font-family=\"Helvetica,sans-Serif\" font-size=\"14.00\" fill=\"#000000\">samples = 4</text>\n<text text-anchor=\"middle\" x=\"1498\" y=\"-200.8\" font-family=\"Helvetica,sans-Serif\" font-size=\"14.00\" fill=\"#000000\">value = 0.025</text>\n</g>\n<!-- 25&#45;&gt;27 -->\n<g id=\"edge27\" class=\"edge\">\n<title>25&#45;&gt;27</title>\n<path fill=\"none\" stroke=\"#000000\" d=\"M1487.239,-296.9465C1488.5098,-288.6863 1489.8866,-279.7374 1491.2173,-271.0875\"/>\n<polygon fill=\"#000000\" stroke=\"#000000\" points=\"1494.6879,-271.5459 1492.7492,-261.13 1487.7693,-270.4815 1494.6879,-271.5459\"/>\n</g>\n<!-- 28 -->\n<g id=\"node29\" class=\"node\">\n<title>28</title>\n<polygon fill=\"#f8dcc8\" stroke=\"#000000\" points=\"1351.5,-157 1106.5,-157 1106.5,-89 1351.5,-89 1351.5,-157\"/>\n<text text-anchor=\"middle\" x=\"1229\" y=\"-141.8\" font-family=\"Helvetica,sans-Serif\" font-size=\"14.00\" fill=\"#000000\">republican_votes_percent &lt;= 0.469</text>\n<text text-anchor=\"middle\" x=\"1229\" y=\"-126.8\" font-family=\"Helvetica,sans-Serif\" font-size=\"14.00\" fill=\"#000000\">squared_error = 0.0</text>\n<text text-anchor=\"middle\" x=\"1229\" y=\"-111.8\" font-family=\"Helvetica,sans-Serif\" font-size=\"14.00\" fill=\"#000000\">samples = 2</text>\n<text text-anchor=\"middle\" x=\"1229\" y=\"-96.8\" font-family=\"Helvetica,sans-Serif\" font-size=\"14.00\" fill=\"#000000\">value = 0.025</text>\n</g>\n<!-- 27&#45;&gt;28 -->\n<g id=\"edge28\" class=\"edge\">\n<title>27&#45;&gt;28</title>\n<path fill=\"none\" stroke=\"#000000\" d=\"M1409.9193,-192.9465C1383.3286,-182.6661 1353.9789,-171.319 1326.7953,-160.8093\"/>\n<polygon fill=\"#000000\" stroke=\"#000000\" points=\"1327.8679,-157.4716 1317.2785,-157.13 1325.3436,-164.0006 1327.8679,-157.4716\"/>\n</g>\n<!-- 31 -->\n<g id=\"node32\" class=\"node\">\n<title>31</title>\n<polygon fill=\"#f8decb\" stroke=\"#000000\" points=\"1734.5,-157 1369.5,-157 1369.5,-89 1734.5,-89 1734.5,-157\"/>\n<text text-anchor=\"middle\" x=\"1552\" y=\"-141.8\" font-family=\"Helvetica,sans-Serif\" font-size=\"14.00\" fill=\"#000000\">summer_2021_partially_vaccinated_percent &lt;= 0.073</text>\n<text text-anchor=\"middle\" x=\"1552\" y=\"-126.8\" font-family=\"Helvetica,sans-Serif\" font-size=\"14.00\" fill=\"#000000\">squared_error = 0.0</text>\n<text text-anchor=\"middle\" x=\"1552\" y=\"-111.8\" font-family=\"Helvetica,sans-Serif\" font-size=\"14.00\" fill=\"#000000\">samples = 2</text>\n<text text-anchor=\"middle\" x=\"1552\" y=\"-96.8\" font-family=\"Helvetica,sans-Serif\" font-size=\"14.00\" fill=\"#000000\">value = 0.024</text>\n</g>\n<!-- 27&#45;&gt;31 -->\n<g id=\"edge31\" class=\"edge\">\n<title>27&#45;&gt;31</title>\n<path fill=\"none\" stroke=\"#000000\" d=\"M1515.6816,-192.9465C1520.1105,-184.4169 1524.9206,-175.153 1529.5472,-166.2424\"/>\n<polygon fill=\"#000000\" stroke=\"#000000\" points=\"1532.7767,-167.6178 1534.2787,-157.13 1526.5642,-164.3921 1532.7767,-167.6178\"/>\n</g>\n<!-- 29 -->\n<g id=\"node30\" class=\"node\">\n<title>29</title>\n<polygon fill=\"#f8dcc8\" stroke=\"#000000\" points=\"1176,-53 1032,-53 1032,0 1176,0 1176,-53\"/>\n<text text-anchor=\"middle\" x=\"1104\" y=\"-37.8\" font-family=\"Helvetica,sans-Serif\" font-size=\"14.00\" fill=\"#000000\">squared_error = 0.0</text>\n<text text-anchor=\"middle\" x=\"1104\" y=\"-22.8\" font-family=\"Helvetica,sans-Serif\" font-size=\"14.00\" fill=\"#000000\">samples = 1</text>\n<text text-anchor=\"middle\" x=\"1104\" y=\"-7.8\" font-family=\"Helvetica,sans-Serif\" font-size=\"14.00\" fill=\"#000000\">value = 0.025</text>\n</g>\n<!-- 28&#45;&gt;29 -->\n<g id=\"edge29\" class=\"edge\">\n<title>28&#45;&gt;29</title>\n<path fill=\"none\" stroke=\"#000000\" d=\"M1184.9297,-88.9777C1172.4752,-79.3629 1158.9485,-68.9203 1146.5833,-59.3743\"/>\n<polygon fill=\"#000000\" stroke=\"#000000\" points=\"1148.7028,-56.5889 1138.6483,-53.2485 1144.4251,-62.1299 1148.7028,-56.5889\"/>\n</g>\n<!-- 30 -->\n<g id=\"node31\" class=\"node\">\n<title>30</title>\n<polygon fill=\"#f8dcc8\" stroke=\"#000000\" points=\"1343.5,-53 1194.5,-53 1194.5,0 1343.5,0 1343.5,-53\"/>\n<text text-anchor=\"middle\" x=\"1269\" y=\"-37.8\" font-family=\"Helvetica,sans-Serif\" font-size=\"14.00\" fill=\"#000000\">squared_error = &#45;0.0</text>\n<text text-anchor=\"middle\" x=\"1269\" y=\"-22.8\" font-family=\"Helvetica,sans-Serif\" font-size=\"14.00\" fill=\"#000000\">samples = 1</text>\n<text text-anchor=\"middle\" x=\"1269\" y=\"-7.8\" font-family=\"Helvetica,sans-Serif\" font-size=\"14.00\" fill=\"#000000\">value = 0.025</text>\n</g>\n<!-- 28&#45;&gt;30 -->\n<g id=\"edge30\" class=\"edge\">\n<title>28&#45;&gt;30</title>\n<path fill=\"none\" stroke=\"#000000\" d=\"M1243.1025,-88.9777C1246.6324,-80.4617 1250.4316,-71.2963 1254.0032,-62.6798\"/>\n<polygon fill=\"#000000\" stroke=\"#000000\" points=\"1257.3166,-63.8265 1257.9125,-53.2485 1250.8501,-61.1461 1257.3166,-63.8265\"/>\n</g>\n<!-- 32 -->\n<g id=\"node33\" class=\"node\">\n<title>32</title>\n<polygon fill=\"#f8decb\" stroke=\"#000000\" points=\"1585,-53 1441,-53 1441,0 1585,0 1585,-53\"/>\n<text text-anchor=\"middle\" x=\"1513\" y=\"-37.8\" font-family=\"Helvetica,sans-Serif\" font-size=\"14.00\" fill=\"#000000\">squared_error = 0.0</text>\n<text text-anchor=\"middle\" x=\"1513\" y=\"-22.8\" font-family=\"Helvetica,sans-Serif\" font-size=\"14.00\" fill=\"#000000\">samples = 1</text>\n<text text-anchor=\"middle\" x=\"1513\" y=\"-7.8\" font-family=\"Helvetica,sans-Serif\" font-size=\"14.00\" fill=\"#000000\">value = 0.024</text>\n</g>\n<!-- 31&#45;&gt;32 -->\n<g id=\"edge32\" class=\"edge\">\n<title>31&#45;&gt;32</title>\n<path fill=\"none\" stroke=\"#000000\" d=\"M1538.2501,-88.9777C1534.8084,-80.4617 1531.1042,-71.2963 1527.6219,-62.6798\"/>\n<polygon fill=\"#000000\" stroke=\"#000000\" points=\"1530.8024,-61.2085 1523.8103,-53.2485 1524.3123,-63.8314 1530.8024,-61.2085\"/>\n</g>\n<!-- 33 -->\n<g id=\"node34\" class=\"node\">\n<title>33</title>\n<polygon fill=\"#f8decb\" stroke=\"#000000\" points=\"1752.5,-53 1603.5,-53 1603.5,0 1752.5,0 1752.5,-53\"/>\n<text text-anchor=\"middle\" x=\"1678\" y=\"-37.8\" font-family=\"Helvetica,sans-Serif\" font-size=\"14.00\" fill=\"#000000\">squared_error = &#45;0.0</text>\n<text text-anchor=\"middle\" x=\"1678\" y=\"-22.8\" font-family=\"Helvetica,sans-Serif\" font-size=\"14.00\" fill=\"#000000\">samples = 1</text>\n<text text-anchor=\"middle\" x=\"1678\" y=\"-7.8\" font-family=\"Helvetica,sans-Serif\" font-size=\"14.00\" fill=\"#000000\">value = 0.024</text>\n</g>\n<!-- 31&#45;&gt;33 -->\n<g id=\"edge33\" class=\"edge\">\n<title>31&#45;&gt;33</title>\n<path fill=\"none\" stroke=\"#000000\" d=\"M1596.4229,-88.9777C1608.977,-79.3629 1622.6119,-68.9203 1635.076,-59.3743\"/>\n<polygon fill=\"#000000\" stroke=\"#000000\" points=\"1637.2635,-62.1076 1643.0745,-53.2485 1633.0073,-56.5502 1637.2635,-62.1076\"/>\n</g>\n<!-- 35 -->\n<g id=\"node36\" class=\"node\">\n<title>35</title>\n<polygon fill=\"#fdf8f3\" stroke=\"#000000\" points=\"1961.5,-573 1750.5,-573 1750.5,-505 1961.5,-505 1961.5,-573\"/>\n<text text-anchor=\"middle\" x=\"1856\" y=\"-557.8\" font-family=\"Helvetica,sans-Serif\" font-size=\"14.00\" fill=\"#000000\">other_votes_percent &lt;= 0.007</text>\n<text text-anchor=\"middle\" x=\"1856\" y=\"-542.8\" font-family=\"Helvetica,sans-Serif\" font-size=\"14.00\" fill=\"#000000\">squared_error = 0.0</text>\n<text text-anchor=\"middle\" x=\"1856\" y=\"-527.8\" font-family=\"Helvetica,sans-Serif\" font-size=\"14.00\" fill=\"#000000\">samples = 5</text>\n<text text-anchor=\"middle\" x=\"1856\" y=\"-512.8\" font-family=\"Helvetica,sans-Serif\" font-size=\"14.00\" fill=\"#000000\">value = 0.012</text>\n</g>\n<!-- 34&#45;&gt;35 -->\n<g id=\"edge35\" class=\"edge\">\n<title>34&#45;&gt;35</title>\n<path fill=\"none\" stroke=\"#000000\" d=\"M1856,-608.9465C1856,-600.776 1856,-591.9318 1856,-583.3697\"/>\n<polygon fill=\"#000000\" stroke=\"#000000\" points=\"1859.5001,-583.13 1856,-573.13 1852.5001,-583.13 1859.5001,-583.13\"/>\n</g>\n<!-- 44 -->\n<g id=\"node45\" class=\"node\">\n<title>44</title>\n<polygon fill=\"#fcf0e7\" stroke=\"#000000\" points=\"2400.5,-573 2083.5,-573 2083.5,-505 2400.5,-505 2400.5,-573\"/>\n<text text-anchor=\"middle\" x=\"2242\" y=\"-557.8\" font-family=\"Helvetica,sans-Serif\" font-size=\"14.00\" fill=\"#000000\">summer_2021_Unemployment_Rate &lt;= 0.061</text>\n<text text-anchor=\"middle\" x=\"2242\" y=\"-542.8\" font-family=\"Helvetica,sans-Serif\" font-size=\"14.00\" fill=\"#000000\">squared_error = 0.0</text>\n<text text-anchor=\"middle\" x=\"2242\" y=\"-527.8\" font-family=\"Helvetica,sans-Serif\" font-size=\"14.00\" fill=\"#000000\">samples = 5</text>\n<text text-anchor=\"middle\" x=\"2242\" y=\"-512.8\" font-family=\"Helvetica,sans-Serif\" font-size=\"14.00\" fill=\"#000000\">value = 0.016</text>\n</g>\n<!-- 34&#45;&gt;44 -->\n<g id=\"edge44\" class=\"edge\">\n<title>34&#45;&gt;44</title>\n<path fill=\"none\" stroke=\"#000000\" d=\"M1976.545,-610.5215C2017.5889,-599.4631 2063.7469,-587.0267 2105.9221,-575.6635\"/>\n<polygon fill=\"#000000\" stroke=\"#000000\" points=\"2106.9559,-579.0098 2115.701,-573.0287 2105.1348,-572.2509 2106.9559,-579.0098\"/>\n</g>\n<!-- 36 -->\n<g id=\"node37\" class=\"node\">\n<title>36</title>\n<polygon fill=\"#fefaf7\" stroke=\"#000000\" points=\"1933.5,-469 1572.5,-469 1572.5,-401 1933.5,-401 1933.5,-469\"/>\n<text text-anchor=\"middle\" x=\"1753\" y=\"-453.8\" font-family=\"Helvetica,sans-Serif\" font-size=\"14.00\" fill=\"#000000\">summer_2021_at_least_one_dose_percent &lt;= 0.685</text>\n<text text-anchor=\"middle\" x=\"1753\" y=\"-438.8\" font-family=\"Helvetica,sans-Serif\" font-size=\"14.00\" fill=\"#000000\">squared_error = 0.0</text>\n<text text-anchor=\"middle\" x=\"1753\" y=\"-423.8\" font-family=\"Helvetica,sans-Serif\" font-size=\"14.00\" fill=\"#000000\">samples = 4</text>\n<text text-anchor=\"middle\" x=\"1753\" y=\"-408.8\" font-family=\"Helvetica,sans-Serif\" font-size=\"14.00\" fill=\"#000000\">value = 0.01</text>\n</g>\n<!-- 35&#45;&gt;36 -->\n<g id=\"edge36\" class=\"edge\">\n<title>35&#45;&gt;36</title>\n<path fill=\"none\" stroke=\"#000000\" d=\"M1822.2739,-504.9465C1813.2039,-495.7884 1803.2955,-485.7838 1793.8819,-476.2788\"/>\n<polygon fill=\"#000000\" stroke=\"#000000\" points=\"1796.3255,-473.7723 1786.8018,-469.13 1791.3519,-478.6981 1796.3255,-473.7723\"/>\n</g>\n<!-- 43 -->\n<g id=\"node44\" class=\"node\">\n<title>43</title>\n<polygon fill=\"#fbede3\" stroke=\"#000000\" points=\"2100.5,-461.5 1951.5,-461.5 1951.5,-408.5 2100.5,-408.5 2100.5,-461.5\"/>\n<text text-anchor=\"middle\" x=\"2026\" y=\"-446.3\" font-family=\"Helvetica,sans-Serif\" font-size=\"14.00\" fill=\"#000000\">squared_error = &#45;0.0</text>\n<text text-anchor=\"middle\" x=\"2026\" y=\"-431.3\" font-family=\"Helvetica,sans-Serif\" font-size=\"14.00\" fill=\"#000000\">samples = 1</text>\n<text text-anchor=\"middle\" x=\"2026\" y=\"-416.3\" font-family=\"Helvetica,sans-Serif\" font-size=\"14.00\" fill=\"#000000\">value = 0.017</text>\n</g>\n<!-- 35&#45;&gt;43 -->\n<g id=\"edge43\" class=\"edge\">\n<title>35&#45;&gt;43</title>\n<path fill=\"none\" stroke=\"#000000\" d=\"M1911.6644,-504.9465C1931.7401,-492.6649 1954.3043,-478.8609 1974.0501,-466.7811\"/>\n<polygon fill=\"#000000\" stroke=\"#000000\" points=\"1975.9099,-469.7464 1982.6138,-461.5422 1972.2569,-463.7751 1975.9099,-469.7464\"/>\n</g>\n<!-- 37 -->\n<g id=\"node38\" class=\"node\">\n<title>37</title>\n<polygon fill=\"#ffffff\" stroke=\"#000000\" points=\"1825,-357.5 1681,-357.5 1681,-304.5 1825,-304.5 1825,-357.5\"/>\n<text text-anchor=\"middle\" x=\"1753\" y=\"-342.3\" font-family=\"Helvetica,sans-Serif\" font-size=\"14.00\" fill=\"#000000\">squared_error = 0.0</text>\n<text text-anchor=\"middle\" x=\"1753\" y=\"-327.3\" font-family=\"Helvetica,sans-Serif\" font-size=\"14.00\" fill=\"#000000\">samples = 1</text>\n<text text-anchor=\"middle\" x=\"1753\" y=\"-312.3\" font-family=\"Helvetica,sans-Serif\" font-size=\"14.00\" fill=\"#000000\">value = 0.008</text>\n</g>\n<!-- 36&#45;&gt;37 -->\n<g id=\"edge37\" class=\"edge\">\n<title>36&#45;&gt;37</title>\n<path fill=\"none\" stroke=\"#000000\" d=\"M1753,-400.9465C1753,-390.2621 1753,-378.4254 1753,-367.5742\"/>\n<polygon fill=\"#000000\" stroke=\"#000000\" points=\"1756.5001,-367.5421 1753,-357.5422 1749.5001,-367.5422 1756.5001,-367.5421\"/>\n</g>\n<!-- 38 -->\n<g id=\"node39\" class=\"node\">\n<title>38</title>\n<polygon fill=\"#fef9f5\" stroke=\"#000000\" points=\"2076.5,-365 1843.5,-365 1843.5,-297 2076.5,-297 2076.5,-365\"/>\n<text text-anchor=\"middle\" x=\"1960\" y=\"-349.8\" font-family=\"Helvetica,sans-Serif\" font-size=\"14.00\" fill=\"#000000\">libertarian_votes_percent &lt;= 0.01</text>\n<text text-anchor=\"middle\" x=\"1960\" y=\"-334.8\" font-family=\"Helvetica,sans-Serif\" font-size=\"14.00\" fill=\"#000000\">squared_error = 0.0</text>\n<text text-anchor=\"middle\" x=\"1960\" y=\"-319.8\" font-family=\"Helvetica,sans-Serif\" font-size=\"14.00\" fill=\"#000000\">samples = 3</text>\n<text text-anchor=\"middle\" x=\"1960\" y=\"-304.8\" font-family=\"Helvetica,sans-Serif\" font-size=\"14.00\" fill=\"#000000\">value = 0.011</text>\n</g>\n<!-- 36&#45;&gt;38 -->\n<g id=\"edge38\" class=\"edge\">\n<title>36&#45;&gt;38</title>\n<path fill=\"none\" stroke=\"#000000\" d=\"M1820.7795,-400.9465C1840.7054,-390.9354 1862.6446,-379.9129 1883.0973,-369.6371\"/>\n<polygon fill=\"#000000\" stroke=\"#000000\" points=\"1884.7039,-372.7469 1892.0682,-365.13 1881.5612,-366.492 1884.7039,-372.7469\"/>\n</g>\n<!-- 39 -->\n<g id=\"node40\" class=\"node\">\n<title>39</title>\n<polygon fill=\"#fefaf7\" stroke=\"#000000\" points=\"1846,-253.5 1702,-253.5 1702,-200.5 1846,-200.5 1846,-253.5\"/>\n<text text-anchor=\"middle\" x=\"1774\" y=\"-238.3\" font-family=\"Helvetica,sans-Serif\" font-size=\"14.00\" fill=\"#000000\">squared_error = 0.0</text>\n<text text-anchor=\"middle\" x=\"1774\" y=\"-223.3\" font-family=\"Helvetica,sans-Serif\" font-size=\"14.00\" fill=\"#000000\">samples = 1</text>\n<text text-anchor=\"middle\" x=\"1774\" y=\"-208.3\" font-family=\"Helvetica,sans-Serif\" font-size=\"14.00\" fill=\"#000000\">value = 0.01</text>\n</g>\n<!-- 38&#45;&gt;39 -->\n<g id=\"edge39\" class=\"edge\">\n<title>38&#45;&gt;39</title>\n<path fill=\"none\" stroke=\"#000000\" d=\"M1899.0966,-296.9465C1876.9344,-284.5547 1852.0005,-270.6132 1830.2588,-258.4565\"/>\n<polygon fill=\"#000000\" stroke=\"#000000\" points=\"1831.906,-255.3676 1821.4696,-253.5422 1828.4898,-261.4774 1831.906,-255.3676\"/>\n</g>\n<!-- 40 -->\n<g id=\"node41\" class=\"node\">\n<title>40</title>\n<polygon fill=\"#fef8f4\" stroke=\"#000000\" points=\"2225.5,-261 1864.5,-261 1864.5,-193 2225.5,-193 2225.5,-261\"/>\n<text text-anchor=\"middle\" x=\"2045\" y=\"-245.8\" font-family=\"Helvetica,sans-Serif\" font-size=\"14.00\" fill=\"#000000\">summer_2021_at_least_one_dose_percent &lt;= 0.702</text>\n<text text-anchor=\"middle\" x=\"2045\" y=\"-230.8\" font-family=\"Helvetica,sans-Serif\" font-size=\"14.00\" fill=\"#000000\">squared_error = 0.0</text>\n<text text-anchor=\"middle\" x=\"2045\" y=\"-215.8\" font-family=\"Helvetica,sans-Serif\" font-size=\"14.00\" fill=\"#000000\">samples = 2</text>\n<text text-anchor=\"middle\" x=\"2045\" y=\"-200.8\" font-family=\"Helvetica,sans-Serif\" font-size=\"14.00\" fill=\"#000000\">value = 0.011</text>\n</g>\n<!-- 38&#45;&gt;40 -->\n<g id=\"edge40\" class=\"edge\">\n<title>38&#45;&gt;40</title>\n<path fill=\"none\" stroke=\"#000000\" d=\"M1987.8322,-296.9465C1995.097,-288.0578 2003.0136,-278.3716 2010.576,-269.1188\"/>\n<polygon fill=\"#000000\" stroke=\"#000000\" points=\"2013.487,-271.0878 2017.1053,-261.13 2008.0669,-266.658 2013.487,-271.0878\"/>\n</g>\n<!-- 41 -->\n<g id=\"node42\" class=\"node\">\n<title>41</title>\n<polygon fill=\"#fdf7f3\" stroke=\"#000000\" points=\"2034,-149.5 1890,-149.5 1890,-96.5 2034,-96.5 2034,-149.5\"/>\n<text text-anchor=\"middle\" x=\"1962\" y=\"-134.3\" font-family=\"Helvetica,sans-Serif\" font-size=\"14.00\" fill=\"#000000\">squared_error = 0.0</text>\n<text text-anchor=\"middle\" x=\"1962\" y=\"-119.3\" font-family=\"Helvetica,sans-Serif\" font-size=\"14.00\" fill=\"#000000\">samples = 1</text>\n<text text-anchor=\"middle\" x=\"1962\" y=\"-104.3\" font-family=\"Helvetica,sans-Serif\" font-size=\"14.00\" fill=\"#000000\">value = 0.012</text>\n</g>\n<!-- 40&#45;&gt;41 -->\n<g id=\"edge41\" class=\"edge\">\n<title>40&#45;&gt;41</title>\n<path fill=\"none\" stroke=\"#000000\" d=\"M2017.8227,-192.9465C2008.7682,-181.6012 1998.677,-168.9567 1989.5914,-157.5724\"/>\n<polygon fill=\"#000000\" stroke=\"#000000\" points=\"1992.1561,-155.175 1983.1827,-149.5422 1986.6849,-159.5414 1992.1561,-155.175\"/>\n</g>\n<!-- 42 -->\n<g id=\"node43\" class=\"node\">\n<title>42</title>\n<polygon fill=\"#fef9f5\" stroke=\"#000000\" points=\"2201.5,-149.5 2052.5,-149.5 2052.5,-96.5 2201.5,-96.5 2201.5,-149.5\"/>\n<text text-anchor=\"middle\" x=\"2127\" y=\"-134.3\" font-family=\"Helvetica,sans-Serif\" font-size=\"14.00\" fill=\"#000000\">squared_error = &#45;0.0</text>\n<text text-anchor=\"middle\" x=\"2127\" y=\"-119.3\" font-family=\"Helvetica,sans-Serif\" font-size=\"14.00\" fill=\"#000000\">samples = 1</text>\n<text text-anchor=\"middle\" x=\"2127\" y=\"-104.3\" font-family=\"Helvetica,sans-Serif\" font-size=\"14.00\" fill=\"#000000\">value = 0.011</text>\n</g>\n<!-- 40&#45;&gt;42 -->\n<g id=\"edge42\" class=\"edge\">\n<title>40&#45;&gt;42</title>\n<path fill=\"none\" stroke=\"#000000\" d=\"M2071.8499,-192.9465C2080.7952,-181.6012 2090.7649,-168.9567 2099.741,-157.5724\"/>\n<polygon fill=\"#000000\" stroke=\"#000000\" points=\"2102.6294,-159.5619 2106.0725,-149.5422 2097.1325,-155.2278 2102.6294,-159.5619\"/>\n</g>\n<!-- 45 -->\n<g id=\"node46\" class=\"node\">\n<title>45</title>\n<polygon fill=\"#fbede2\" stroke=\"#000000\" points=\"2364.5,-469 2119.5,-469 2119.5,-401 2364.5,-401 2364.5,-469\"/>\n<text text-anchor=\"middle\" x=\"2242\" y=\"-453.8\" font-family=\"Helvetica,sans-Serif\" font-size=\"14.00\" fill=\"#000000\">republican_votes_percent &lt;= 0.284</text>\n<text text-anchor=\"middle\" x=\"2242\" y=\"-438.8\" font-family=\"Helvetica,sans-Serif\" font-size=\"14.00\" fill=\"#000000\">squared_error = 0.0</text>\n<text text-anchor=\"middle\" x=\"2242\" y=\"-423.8\" font-family=\"Helvetica,sans-Serif\" font-size=\"14.00\" fill=\"#000000\">samples = 3</text>\n<text text-anchor=\"middle\" x=\"2242\" y=\"-408.8\" font-family=\"Helvetica,sans-Serif\" font-size=\"14.00\" fill=\"#000000\">value = 0.017</text>\n</g>\n<!-- 44&#45;&gt;45 -->\n<g id=\"edge45\" class=\"edge\">\n<title>44&#45;&gt;45</title>\n<path fill=\"none\" stroke=\"#000000\" d=\"M2242,-504.9465C2242,-496.776 2242,-487.9318 2242,-479.3697\"/>\n<polygon fill=\"#000000\" stroke=\"#000000\" points=\"2245.5001,-479.13 2242,-469.13 2238.5001,-479.13 2245.5001,-479.13\"/>\n</g>\n<!-- 50 -->\n<g id=\"node51\" class=\"node\">\n<title>50</title>\n<polygon fill=\"#fdf3ed\" stroke=\"#000000\" points=\"2743.5,-469 2382.5,-469 2382.5,-401 2743.5,-401 2743.5,-469\"/>\n<text text-anchor=\"middle\" x=\"2563\" y=\"-453.8\" font-family=\"Helvetica,sans-Serif\" font-size=\"14.00\" fill=\"#000000\">summer_2021_at_least_one_dose_percent &lt;= 0.687</text>\n<text text-anchor=\"middle\" x=\"2563\" y=\"-438.8\" font-family=\"Helvetica,sans-Serif\" font-size=\"14.00\" fill=\"#000000\">squared_error = 0.0</text>\n<text text-anchor=\"middle\" x=\"2563\" y=\"-423.8\" font-family=\"Helvetica,sans-Serif\" font-size=\"14.00\" fill=\"#000000\">samples = 2</text>\n<text text-anchor=\"middle\" x=\"2563\" y=\"-408.8\" font-family=\"Helvetica,sans-Serif\" font-size=\"14.00\" fill=\"#000000\">value = 0.014</text>\n</g>\n<!-- 44&#45;&gt;50 -->\n<g id=\"edge50\" class=\"edge\">\n<title>44&#45;&gt;50</title>\n<path fill=\"none\" stroke=\"#000000\" d=\"M2347.1074,-504.9465C2379.4758,-494.4596 2415.2701,-482.8626 2448.2519,-472.177\"/>\n<polygon fill=\"#000000\" stroke=\"#000000\" points=\"2449.4964,-475.4529 2457.9308,-469.0411 2447.3388,-468.7937 2449.4964,-475.4529\"/>\n</g>\n<!-- 46 -->\n<g id=\"node47\" class=\"node\">\n<title>46</title>\n<polygon fill=\"#fbe9dd\" stroke=\"#000000\" points=\"2239,-357.5 2095,-357.5 2095,-304.5 2239,-304.5 2239,-357.5\"/>\n<text text-anchor=\"middle\" x=\"2167\" y=\"-342.3\" font-family=\"Helvetica,sans-Serif\" font-size=\"14.00\" fill=\"#000000\">squared_error = 0.0</text>\n<text text-anchor=\"middle\" x=\"2167\" y=\"-327.3\" font-family=\"Helvetica,sans-Serif\" font-size=\"14.00\" fill=\"#000000\">samples = 1</text>\n<text text-anchor=\"middle\" x=\"2167\" y=\"-312.3\" font-family=\"Helvetica,sans-Serif\" font-size=\"14.00\" fill=\"#000000\">value = 0.019</text>\n</g>\n<!-- 45&#45;&gt;46 -->\n<g id=\"edge46\" class=\"edge\">\n<title>45&#45;&gt;46</title>\n<path fill=\"none\" stroke=\"#000000\" d=\"M2217.4422,-400.9465C2209.3399,-389.7113 2200.3188,-377.2021 2192.1714,-365.9043\"/>\n<polygon fill=\"#000000\" stroke=\"#000000\" points=\"2194.8291,-363.6058 2186.141,-357.5422 2189.1514,-367.7003 2194.8291,-363.6058\"/>\n</g>\n<!-- 47 -->\n<g id=\"node48\" class=\"node\">\n<title>47</title>\n<polygon fill=\"#fcefe5\" stroke=\"#000000\" points=\"2472.5,-365 2257.5,-365 2257.5,-297 2472.5,-297 2472.5,-365\"/>\n<text text-anchor=\"middle\" x=\"2365\" y=\"-349.8\" font-family=\"Helvetica,sans-Serif\" font-size=\"14.00\" fill=\"#000000\">green_votes_percent &lt;= 0.004</text>\n<text text-anchor=\"middle\" x=\"2365\" y=\"-334.8\" font-family=\"Helvetica,sans-Serif\" font-size=\"14.00\" fill=\"#000000\">squared_error = 0.0</text>\n<text text-anchor=\"middle\" x=\"2365\" y=\"-319.8\" font-family=\"Helvetica,sans-Serif\" font-size=\"14.00\" fill=\"#000000\">samples = 2</text>\n<text text-anchor=\"middle\" x=\"2365\" y=\"-304.8\" font-family=\"Helvetica,sans-Serif\" font-size=\"14.00\" fill=\"#000000\">value = 0.016</text>\n</g>\n<!-- 45&#45;&gt;47 -->\n<g id=\"edge47\" class=\"edge\">\n<title>45&#45;&gt;47</title>\n<path fill=\"none\" stroke=\"#000000\" d=\"M2282.2748,-400.9465C2293.3184,-391.6088 2305.4028,-381.3911 2316.8404,-371.7203\"/>\n<polygon fill=\"#000000\" stroke=\"#000000\" points=\"2319.2583,-374.2594 2324.6347,-365.13 2314.7386,-368.914 2319.2583,-374.2594\"/>\n</g>\n<!-- 48 -->\n<g id=\"node49\" class=\"node\">\n<title>48</title>\n<polygon fill=\"#fcefe5\" stroke=\"#000000\" points=\"2420,-253.5 2276,-253.5 2276,-200.5 2420,-200.5 2420,-253.5\"/>\n<text text-anchor=\"middle\" x=\"2348\" y=\"-238.3\" font-family=\"Helvetica,sans-Serif\" font-size=\"14.00\" fill=\"#000000\">squared_error = 0.0</text>\n<text text-anchor=\"middle\" x=\"2348\" y=\"-223.3\" font-family=\"Helvetica,sans-Serif\" font-size=\"14.00\" fill=\"#000000\">samples = 1</text>\n<text text-anchor=\"middle\" x=\"2348\" y=\"-208.3\" font-family=\"Helvetica,sans-Serif\" font-size=\"14.00\" fill=\"#000000\">value = 0.016</text>\n</g>\n<!-- 47&#45;&gt;48 -->\n<g id=\"edge48\" class=\"edge\">\n<title>47&#45;&gt;48</title>\n<path fill=\"none\" stroke=\"#000000\" d=\"M2359.4336,-296.9465C2357.6871,-286.2621 2355.7522,-274.4254 2353.9785,-263.5742\"/>\n<polygon fill=\"#000000\" stroke=\"#000000\" points=\"2357.4061,-262.8465 2352.3386,-253.5422 2350.4978,-263.9758 2357.4061,-262.8465\"/>\n</g>\n<!-- 49 -->\n<g id=\"node50\" class=\"node\">\n<title>49</title>\n<polygon fill=\"#fcefe5\" stroke=\"#000000\" points=\"2582,-253.5 2438,-253.5 2438,-200.5 2582,-200.5 2582,-253.5\"/>\n<text text-anchor=\"middle\" x=\"2510\" y=\"-238.3\" font-family=\"Helvetica,sans-Serif\" font-size=\"14.00\" fill=\"#000000\">squared_error = 0.0</text>\n<text text-anchor=\"middle\" x=\"2510\" y=\"-223.3\" font-family=\"Helvetica,sans-Serif\" font-size=\"14.00\" fill=\"#000000\">samples = 1</text>\n<text text-anchor=\"middle\" x=\"2510\" y=\"-208.3\" font-family=\"Helvetica,sans-Serif\" font-size=\"14.00\" fill=\"#000000\">value = 0.016</text>\n</g>\n<!-- 47&#45;&gt;49 -->\n<g id=\"edge49\" class=\"edge\">\n<title>47&#45;&gt;49</title>\n<path fill=\"none\" stroke=\"#000000\" d=\"M2412.4784,-296.9465C2429.2179,-284.9403 2447.9858,-271.4791 2464.5533,-259.5962\"/>\n<polygon fill=\"#000000\" stroke=\"#000000\" points=\"2466.908,-262.2146 2472.9941,-253.5422 2462.8282,-256.5264 2466.908,-262.2146\"/>\n</g>\n<!-- 51 -->\n<g id=\"node52\" class=\"node\">\n<title>51</title>\n<polygon fill=\"#fcf2ea\" stroke=\"#000000\" points=\"2635,-357.5 2491,-357.5 2491,-304.5 2635,-304.5 2635,-357.5\"/>\n<text text-anchor=\"middle\" x=\"2563\" y=\"-342.3\" font-family=\"Helvetica,sans-Serif\" font-size=\"14.00\" fill=\"#000000\">squared_error = 0.0</text>\n<text text-anchor=\"middle\" x=\"2563\" y=\"-327.3\" font-family=\"Helvetica,sans-Serif\" font-size=\"14.00\" fill=\"#000000\">samples = 1</text>\n<text text-anchor=\"middle\" x=\"2563\" y=\"-312.3\" font-family=\"Helvetica,sans-Serif\" font-size=\"14.00\" fill=\"#000000\">value = 0.014</text>\n</g>\n<!-- 50&#45;&gt;51 -->\n<g id=\"edge51\" class=\"edge\">\n<title>50&#45;&gt;51</title>\n<path fill=\"none\" stroke=\"#000000\" d=\"M2563,-400.9465C2563,-390.2621 2563,-378.4254 2563,-367.5742\"/>\n<polygon fill=\"#000000\" stroke=\"#000000\" points=\"2566.5001,-367.5421 2563,-357.5422 2559.5001,-367.5422 2566.5001,-367.5421\"/>\n</g>\n<!-- 52 -->\n<g id=\"node53\" class=\"node\">\n<title>52</title>\n<polygon fill=\"#fdf8f3\" stroke=\"#000000\" points=\"2802.5,-357.5 2653.5,-357.5 2653.5,-304.5 2802.5,-304.5 2802.5,-357.5\"/>\n<text text-anchor=\"middle\" x=\"2728\" y=\"-342.3\" font-family=\"Helvetica,sans-Serif\" font-size=\"14.00\" fill=\"#000000\">squared_error = &#45;0.0</text>\n<text text-anchor=\"middle\" x=\"2728\" y=\"-327.3\" font-family=\"Helvetica,sans-Serif\" font-size=\"14.00\" fill=\"#000000\">samples = 1</text>\n<text text-anchor=\"middle\" x=\"2728\" y=\"-312.3\" font-family=\"Helvetica,sans-Serif\" font-size=\"14.00\" fill=\"#000000\">value = 0.012</text>\n</g>\n<!-- 50&#45;&gt;52 -->\n<g id=\"edge52\" class=\"edge\">\n<title>50&#45;&gt;52</title>\n<path fill=\"none\" stroke=\"#000000\" d=\"M2617.0272,-400.9465C2636.4251,-388.72 2658.2166,-374.9847 2677.32,-362.9437\"/>\n<polygon fill=\"#000000\" stroke=\"#000000\" points=\"2679.2964,-365.8353 2685.8898,-357.5422 2675.5638,-359.9135 2679.2964,-365.8353\"/>\n</g>\n</g>\n</svg>\n"
          },
          "metadata": {},
          "execution_count": 124
        }
      ]
    },
    {
      "cell_type": "markdown",
      "metadata": {
        "id": "HX9eEufwH-wT"
      },
      "source": [
        "Did you see any significant differences in feature importances between the model you trained vs the 2020 version?\n",
        "\n",
        "Your Answer: \n",
        "Summer 2021 has \"atleast one dose\" as the highest feature\n",
        "Second highest feature was fully vaccinated percent\n",
        "\n",
        "Summer 2020 had unemployment rate and population as the top two features. "
      ]
    },
    {
      "cell_type": "markdown",
      "metadata": {
        "id": "himzi5-4IN9R"
      },
      "source": [
        ""
      ]
    }
  ]
}