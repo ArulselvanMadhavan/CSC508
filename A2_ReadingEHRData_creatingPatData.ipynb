{
  "nbformat": 4,
  "nbformat_minor": 0,
  "metadata": {
    "colab": {
      "name": "A2_ReadingEHRData_creatingPatData.ipynb",
      "provenance": [],
      "collapsed_sections": [],
      "include_colab_link": true
    },
    "kernelspec": {
      "name": "python3",
      "display_name": "Python 3"
    },
    "language_info": {
      "name": "python"
    }
  },
  "cells": [
    {
      "cell_type": "markdown",
      "metadata": {
        "id": "view-in-github",
        "colab_type": "text"
      },
      "source": [
        "<a href=\"https://colab.research.google.com/github/ArulselvanMadhavan/CSC508/blob/main/A2_ReadingEHRData_creatingPatData.ipynb\" target=\"_parent\"><img src=\"https://colab.research.google.com/assets/colab-badge.svg\" alt=\"Open In Colab\"/></a>"
      ]
    },
    {
      "cell_type": "markdown",
      "metadata": {
        "id": "3gcHlauN5a11"
      },
      "source": [
        "# Alzheimer's data intermezzo: creating PatData.csv"
      ]
    },
    {
      "cell_type": "markdown",
      "metadata": {
        "id": "KM6rJacwvjrj"
      },
      "source": [
        "Many people are affected by Alzheimers (the Alzheimer’s Association estimates 6 million patients and 11 million unpaid caregivers in the US, see [link](https://www.alz.org/alzheimers-dementia/facts-figures))\n",
        "\n",
        "Here is some information, written by Dr Raven Baxter [link text](https://threadreaderapp.com/thread/1380339786515423232.html)\n",
        "\n",
        "Have a look at this short video on [youtube](https://www.youtube.com/watch?v=Eq_Er-tqPsA)"
      ]
    },
    {
      "cell_type": "markdown",
      "metadata": {
        "id": "kRgPQXfvm5EP"
      },
      "source": [
        "# Having a first look at the data "
      ]
    },
    {
      "cell_type": "markdown",
      "metadata": {
        "id": "nsVSh3LgwHxQ"
      },
      "source": [
        "The dataset we are using comes from the ADNI project, a huge project to gather data on people with Alzheimer’s disease and healthy controls. "
      ]
    },
    {
      "cell_type": "markdown",
      "metadata": {
        "id": "NBRgtFMe8KSY"
      },
      "source": [
        "## Opening the file location and loading libraries"
      ]
    },
    {
      "cell_type": "markdown",
      "metadata": {
        "id": "6THmyzHC5w6S"
      },
      "source": [
        "Import libraries"
      ]
    },
    {
      "cell_type": "code",
      "metadata": {
        "id": "9acQ9UM03BoT"
      },
      "source": [
        "import pandas as pd\n",
        "from pandas.api.types import CategoricalDtype\n",
        "import numpy as np\n",
        "from google.colab import files #For exporting files from google colab notebook"
      ],
      "execution_count": 1,
      "outputs": []
    },
    {
      "cell_type": "markdown",
      "metadata": {
        "id": "5e9jLiED2nJL"
      },
      "source": [
        "Read the dataset \"TADPOLE_D1_D2_57columns.csv\" from GitHib\n",
        "\n",
        "The full repo is here https://github.com/pleunipennings/CSC508Data\n"
      ]
    },
    {
      "cell_type": "code",
      "metadata": {
        "id": "yEle9YOg2UZV"
      },
      "source": [
        "url = \"https://raw.githubusercontent.com/pleunipennings/CSC508Data/main/TADPOLE_D1_D2_57columns.csv\" \n",
        "data = pd.read_csv(url)"
      ],
      "execution_count": 2,
      "outputs": []
    },
    {
      "cell_type": "markdown",
      "metadata": {
        "id": "EnTwmoDW4xOz"
      },
      "source": [
        "Look at the first few rows of the data"
      ]
    },
    {
      "cell_type": "code",
      "metadata": {
        "colab": {
          "base_uri": "https://localhost:8080/",
          "height": 564
        },
        "id": "NVI_Wl7h4bLP",
        "outputId": "fd8bfb08-7133-4ac7-8383-3c5b3a67e168"
      },
      "source": [
        "data.head()"
      ],
      "execution_count": 3,
      "outputs": [
        {
          "output_type": "execute_result",
          "data": {
            "text/html": [
              "<div>\n",
              "<style scoped>\n",
              "    .dataframe tbody tr th:only-of-type {\n",
              "        vertical-align: middle;\n",
              "    }\n",
              "\n",
              "    .dataframe tbody tr th {\n",
              "        vertical-align: top;\n",
              "    }\n",
              "\n",
              "    .dataframe thead th {\n",
              "        text-align: right;\n",
              "    }\n",
              "</style>\n",
              "<table border=\"1\" class=\"dataframe\">\n",
              "  <thead>\n",
              "    <tr style=\"text-align: right;\">\n",
              "      <th></th>\n",
              "      <th>RID</th>\n",
              "      <th>PTID</th>\n",
              "      <th>VISCODE</th>\n",
              "      <th>SITE</th>\n",
              "      <th>D1</th>\n",
              "      <th>D2</th>\n",
              "      <th>COLPROT</th>\n",
              "      <th>ORIGPROT</th>\n",
              "      <th>EXAMDATE</th>\n",
              "      <th>DX_bl</th>\n",
              "      <th>DXCHANGE</th>\n",
              "      <th>AGE</th>\n",
              "      <th>PTGENDER</th>\n",
              "      <th>PTEDUCAT</th>\n",
              "      <th>PTETHCAT</th>\n",
              "      <th>PTRACCAT</th>\n",
              "      <th>PTMARRY</th>\n",
              "      <th>APOE4</th>\n",
              "      <th>FDG</th>\n",
              "      <th>PIB</th>\n",
              "      <th>AV45</th>\n",
              "      <th>CDRSB</th>\n",
              "      <th>ADAS11</th>\n",
              "      <th>ADAS13</th>\n",
              "      <th>MMSE</th>\n",
              "      <th>RAVLT_immediate</th>\n",
              "      <th>RAVLT_learning</th>\n",
              "      <th>RAVLT_forgetting</th>\n",
              "      <th>RAVLT_perc_forgetting</th>\n",
              "      <th>FAQ</th>\n",
              "      <th>MOCA</th>\n",
              "      <th>EcogPtMem</th>\n",
              "      <th>EcogPtLang</th>\n",
              "      <th>EcogPtVisspat</th>\n",
              "      <th>EcogPtPlan</th>\n",
              "      <th>EcogPtOrgan</th>\n",
              "      <th>EcogPtDivatt</th>\n",
              "      <th>EcogPtTotal</th>\n",
              "      <th>EcogSPMem</th>\n",
              "      <th>EcogSPLang</th>\n",
              "      <th>EcogSPVisspat</th>\n",
              "      <th>EcogSPPlan</th>\n",
              "      <th>EcogSPOrgan</th>\n",
              "      <th>EcogSPDivatt</th>\n",
              "      <th>EcogSPTotal</th>\n",
              "      <th>FLDSTRENG</th>\n",
              "      <th>FSVERSION</th>\n",
              "      <th>Ventricles</th>\n",
              "      <th>Hippocampus</th>\n",
              "      <th>WholeBrain</th>\n",
              "      <th>Entorhinal</th>\n",
              "      <th>Fusiform</th>\n",
              "      <th>MidTemp</th>\n",
              "      <th>ICV</th>\n",
              "      <th>DX</th>\n",
              "      <th>EXAMDATE_bl</th>\n",
              "      <th>CDRSB_bl</th>\n",
              "    </tr>\n",
              "  </thead>\n",
              "  <tbody>\n",
              "    <tr>\n",
              "      <th>0</th>\n",
              "      <td>2</td>\n",
              "      <td>011_S_0002</td>\n",
              "      <td>bl</td>\n",
              "      <td>11</td>\n",
              "      <td>1</td>\n",
              "      <td>1</td>\n",
              "      <td>ADNI1</td>\n",
              "      <td>ADNI1</td>\n",
              "      <td>2005-09-08</td>\n",
              "      <td>CN</td>\n",
              "      <td>1.0</td>\n",
              "      <td>74.3</td>\n",
              "      <td>Male</td>\n",
              "      <td>16</td>\n",
              "      <td>Not Hisp/Latino</td>\n",
              "      <td>White</td>\n",
              "      <td>Married</td>\n",
              "      <td>0.0</td>\n",
              "      <td>1.36926</td>\n",
              "      <td>NaN</td>\n",
              "      <td>NaN</td>\n",
              "      <td>0.0</td>\n",
              "      <td>10.67</td>\n",
              "      <td>18.67</td>\n",
              "      <td>28.0</td>\n",
              "      <td>44.0</td>\n",
              "      <td>4.0</td>\n",
              "      <td>6.0</td>\n",
              "      <td>54.5455</td>\n",
              "      <td>0.0</td>\n",
              "      <td>NaN</td>\n",
              "      <td>NaN</td>\n",
              "      <td>NaN</td>\n",
              "      <td>NaN</td>\n",
              "      <td>NaN</td>\n",
              "      <td>NaN</td>\n",
              "      <td>NaN</td>\n",
              "      <td>NaN</td>\n",
              "      <td>NaN</td>\n",
              "      <td>NaN</td>\n",
              "      <td>NaN</td>\n",
              "      <td>NaN</td>\n",
              "      <td>NaN</td>\n",
              "      <td>NaN</td>\n",
              "      <td>NaN</td>\n",
              "      <td>1.5 Tesla MRI</td>\n",
              "      <td>Cross-Sectional FreeSurfer (FreeSurfer Version...</td>\n",
              "      <td>118233.0</td>\n",
              "      <td>8336.0</td>\n",
              "      <td>1229740.0</td>\n",
              "      <td>4177.0</td>\n",
              "      <td>16559.0</td>\n",
              "      <td>27936.0</td>\n",
              "      <td>1984660.0</td>\n",
              "      <td>NL</td>\n",
              "      <td>2005-09-08</td>\n",
              "      <td>0.0</td>\n",
              "    </tr>\n",
              "    <tr>\n",
              "      <th>1</th>\n",
              "      <td>3</td>\n",
              "      <td>011_S_0003</td>\n",
              "      <td>bl</td>\n",
              "      <td>11</td>\n",
              "      <td>1</td>\n",
              "      <td>0</td>\n",
              "      <td>ADNI1</td>\n",
              "      <td>ADNI1</td>\n",
              "      <td>2005-09-12</td>\n",
              "      <td>AD</td>\n",
              "      <td>3.0</td>\n",
              "      <td>81.3</td>\n",
              "      <td>Male</td>\n",
              "      <td>18</td>\n",
              "      <td>Not Hisp/Latino</td>\n",
              "      <td>White</td>\n",
              "      <td>Married</td>\n",
              "      <td>1.0</td>\n",
              "      <td>1.09079</td>\n",
              "      <td>NaN</td>\n",
              "      <td>NaN</td>\n",
              "      <td>4.5</td>\n",
              "      <td>22.00</td>\n",
              "      <td>31.00</td>\n",
              "      <td>20.0</td>\n",
              "      <td>22.0</td>\n",
              "      <td>1.0</td>\n",
              "      <td>4.0</td>\n",
              "      <td>100.0000</td>\n",
              "      <td>10.0</td>\n",
              "      <td>NaN</td>\n",
              "      <td>NaN</td>\n",
              "      <td>NaN</td>\n",
              "      <td>NaN</td>\n",
              "      <td>NaN</td>\n",
              "      <td>NaN</td>\n",
              "      <td>NaN</td>\n",
              "      <td>NaN</td>\n",
              "      <td>NaN</td>\n",
              "      <td>NaN</td>\n",
              "      <td>NaN</td>\n",
              "      <td>NaN</td>\n",
              "      <td>NaN</td>\n",
              "      <td>NaN</td>\n",
              "      <td>NaN</td>\n",
              "      <td>1.5 Tesla MRI</td>\n",
              "      <td>Cross-Sectional FreeSurfer (FreeSurfer Version...</td>\n",
              "      <td>84599.0</td>\n",
              "      <td>5319.0</td>\n",
              "      <td>1129830.0</td>\n",
              "      <td>1791.0</td>\n",
              "      <td>15506.0</td>\n",
              "      <td>18422.0</td>\n",
              "      <td>1920690.0</td>\n",
              "      <td>Dementia</td>\n",
              "      <td>2005-09-12</td>\n",
              "      <td>4.5</td>\n",
              "    </tr>\n",
              "    <tr>\n",
              "      <th>2</th>\n",
              "      <td>3</td>\n",
              "      <td>011_S_0003</td>\n",
              "      <td>m06</td>\n",
              "      <td>11</td>\n",
              "      <td>1</td>\n",
              "      <td>0</td>\n",
              "      <td>ADNI1</td>\n",
              "      <td>ADNI1</td>\n",
              "      <td>2006-03-13</td>\n",
              "      <td>AD</td>\n",
              "      <td>3.0</td>\n",
              "      <td>81.3</td>\n",
              "      <td>Male</td>\n",
              "      <td>18</td>\n",
              "      <td>Not Hisp/Latino</td>\n",
              "      <td>White</td>\n",
              "      <td>Married</td>\n",
              "      <td>1.0</td>\n",
              "      <td>1.06360</td>\n",
              "      <td>NaN</td>\n",
              "      <td>NaN</td>\n",
              "      <td>6.0</td>\n",
              "      <td>19.00</td>\n",
              "      <td>30.00</td>\n",
              "      <td>24.0</td>\n",
              "      <td>19.0</td>\n",
              "      <td>2.0</td>\n",
              "      <td>6.0</td>\n",
              "      <td>100.0000</td>\n",
              "      <td>12.0</td>\n",
              "      <td>NaN</td>\n",
              "      <td>NaN</td>\n",
              "      <td>NaN</td>\n",
              "      <td>NaN</td>\n",
              "      <td>NaN</td>\n",
              "      <td>NaN</td>\n",
              "      <td>NaN</td>\n",
              "      <td>NaN</td>\n",
              "      <td>NaN</td>\n",
              "      <td>NaN</td>\n",
              "      <td>NaN</td>\n",
              "      <td>NaN</td>\n",
              "      <td>NaN</td>\n",
              "      <td>NaN</td>\n",
              "      <td>NaN</td>\n",
              "      <td>1.5 Tesla MRI</td>\n",
              "      <td>Cross-Sectional FreeSurfer (FreeSurfer Version...</td>\n",
              "      <td>88580.0</td>\n",
              "      <td>5446.0</td>\n",
              "      <td>1100060.0</td>\n",
              "      <td>2427.0</td>\n",
              "      <td>14400.0</td>\n",
              "      <td>16972.0</td>\n",
              "      <td>1906430.0</td>\n",
              "      <td>Dementia</td>\n",
              "      <td>2005-09-12</td>\n",
              "      <td>4.5</td>\n",
              "    </tr>\n",
              "    <tr>\n",
              "      <th>3</th>\n",
              "      <td>3</td>\n",
              "      <td>011_S_0003</td>\n",
              "      <td>m12</td>\n",
              "      <td>11</td>\n",
              "      <td>1</td>\n",
              "      <td>0</td>\n",
              "      <td>ADNI1</td>\n",
              "      <td>ADNI1</td>\n",
              "      <td>2006-09-12</td>\n",
              "      <td>AD</td>\n",
              "      <td>3.0</td>\n",
              "      <td>81.3</td>\n",
              "      <td>Male</td>\n",
              "      <td>18</td>\n",
              "      <td>Not Hisp/Latino</td>\n",
              "      <td>White</td>\n",
              "      <td>Married</td>\n",
              "      <td>1.0</td>\n",
              "      <td>1.10384</td>\n",
              "      <td>NaN</td>\n",
              "      <td>NaN</td>\n",
              "      <td>3.5</td>\n",
              "      <td>24.00</td>\n",
              "      <td>35.00</td>\n",
              "      <td>17.0</td>\n",
              "      <td>31.0</td>\n",
              "      <td>2.0</td>\n",
              "      <td>7.0</td>\n",
              "      <td>100.0000</td>\n",
              "      <td>17.0</td>\n",
              "      <td>NaN</td>\n",
              "      <td>NaN</td>\n",
              "      <td>NaN</td>\n",
              "      <td>NaN</td>\n",
              "      <td>NaN</td>\n",
              "      <td>NaN</td>\n",
              "      <td>NaN</td>\n",
              "      <td>NaN</td>\n",
              "      <td>NaN</td>\n",
              "      <td>NaN</td>\n",
              "      <td>NaN</td>\n",
              "      <td>NaN</td>\n",
              "      <td>NaN</td>\n",
              "      <td>NaN</td>\n",
              "      <td>NaN</td>\n",
              "      <td>1.5 Tesla MRI</td>\n",
              "      <td>Cross-Sectional FreeSurfer (FreeSurfer Version...</td>\n",
              "      <td>90099.0</td>\n",
              "      <td>5157.0</td>\n",
              "      <td>1095640.0</td>\n",
              "      <td>1596.0</td>\n",
              "      <td>14617.0</td>\n",
              "      <td>17330.0</td>\n",
              "      <td>1903820.0</td>\n",
              "      <td>Dementia</td>\n",
              "      <td>2005-09-12</td>\n",
              "      <td>4.5</td>\n",
              "    </tr>\n",
              "    <tr>\n",
              "      <th>4</th>\n",
              "      <td>3</td>\n",
              "      <td>011_S_0003</td>\n",
              "      <td>m24</td>\n",
              "      <td>11</td>\n",
              "      <td>1</td>\n",
              "      <td>0</td>\n",
              "      <td>ADNI1</td>\n",
              "      <td>ADNI1</td>\n",
              "      <td>2007-09-12</td>\n",
              "      <td>AD</td>\n",
              "      <td>3.0</td>\n",
              "      <td>81.3</td>\n",
              "      <td>Male</td>\n",
              "      <td>18</td>\n",
              "      <td>Not Hisp/Latino</td>\n",
              "      <td>White</td>\n",
              "      <td>Married</td>\n",
              "      <td>1.0</td>\n",
              "      <td>1.03871</td>\n",
              "      <td>NaN</td>\n",
              "      <td>NaN</td>\n",
              "      <td>8.0</td>\n",
              "      <td>25.67</td>\n",
              "      <td>37.67</td>\n",
              "      <td>19.0</td>\n",
              "      <td>23.0</td>\n",
              "      <td>1.0</td>\n",
              "      <td>5.0</td>\n",
              "      <td>100.0000</td>\n",
              "      <td>14.0</td>\n",
              "      <td>NaN</td>\n",
              "      <td>NaN</td>\n",
              "      <td>NaN</td>\n",
              "      <td>NaN</td>\n",
              "      <td>NaN</td>\n",
              "      <td>NaN</td>\n",
              "      <td>NaN</td>\n",
              "      <td>NaN</td>\n",
              "      <td>NaN</td>\n",
              "      <td>NaN</td>\n",
              "      <td>NaN</td>\n",
              "      <td>NaN</td>\n",
              "      <td>NaN</td>\n",
              "      <td>NaN</td>\n",
              "      <td>NaN</td>\n",
              "      <td>1.5 Tesla MRI</td>\n",
              "      <td>Cross-Sectional FreeSurfer (FreeSurfer Version...</td>\n",
              "      <td>97420.0</td>\n",
              "      <td>5139.0</td>\n",
              "      <td>1088560.0</td>\n",
              "      <td>1175.0</td>\n",
              "      <td>14033.0</td>\n",
              "      <td>16398.0</td>\n",
              "      <td>1903420.0</td>\n",
              "      <td>Dementia</td>\n",
              "      <td>2005-09-12</td>\n",
              "      <td>4.5</td>\n",
              "    </tr>\n",
              "  </tbody>\n",
              "</table>\n",
              "</div>"
            ],
            "text/plain": [
              "   RID        PTID VISCODE  SITE  ...        ICV        DX EXAMDATE_bl CDRSB_bl\n",
              "0    2  011_S_0002      bl    11  ...  1984660.0        NL  2005-09-08      0.0\n",
              "1    3  011_S_0003      bl    11  ...  1920690.0  Dementia  2005-09-12      4.5\n",
              "2    3  011_S_0003     m06    11  ...  1906430.0  Dementia  2005-09-12      4.5\n",
              "3    3  011_S_0003     m12    11  ...  1903820.0  Dementia  2005-09-12      4.5\n",
              "4    3  011_S_0003     m24    11  ...  1903420.0  Dementia  2005-09-12      4.5\n",
              "\n",
              "[5 rows x 57 columns]"
            ]
          },
          "metadata": {},
          "execution_count": 3
        }
      ]
    },
    {
      "cell_type": "markdown",
      "metadata": {
        "id": "w515hdJ64kvi"
      },
      "source": [
        "Find out how big is the data?"
      ]
    },
    {
      "cell_type": "code",
      "metadata": {
        "colab": {
          "base_uri": "https://localhost:8080/"
        },
        "id": "_rQD_qKN4Y_f",
        "outputId": "42585aae-71f7-418d-dfd9-a51a92842dcc"
      },
      "source": [
        "data.shape"
      ],
      "execution_count": 4,
      "outputs": [
        {
          "output_type": "execute_result",
          "data": {
            "text/plain": [
              "(12741, 57)"
            ]
          },
          "metadata": {},
          "execution_count": 4
        }
      ]
    },
    {
      "cell_type": "markdown",
      "metadata": {
        "id": "8UAmNLSb7BxS"
      },
      "source": [
        "Two columns that are important are **PTID** and **EXAMDATE**. \n",
        "PTID is the patient ID and EXAMDATE is –  you guessed it – the date at which the medical exam took place! \n",
        "\n",
        "Let's take a look at one patient with the ID: 011_S_0003"
      ]
    },
    {
      "cell_type": "code",
      "metadata": {
        "colab": {
          "base_uri": "https://localhost:8080/",
          "height": 513
        },
        "id": "_xcV6OAN6Sgo",
        "outputId": "dc2ae40d-f18a-4a38-92ca-ffb497c2189e"
      },
      "source": [
        "data.loc[data['PTID'] == '011_S_0003']"
      ],
      "execution_count": 21,
      "outputs": [
        {
          "output_type": "execute_result",
          "data": {
            "text/html": [
              "<div>\n",
              "<style scoped>\n",
              "    .dataframe tbody tr th:only-of-type {\n",
              "        vertical-align: middle;\n",
              "    }\n",
              "\n",
              "    .dataframe tbody tr th {\n",
              "        vertical-align: top;\n",
              "    }\n",
              "\n",
              "    .dataframe thead th {\n",
              "        text-align: right;\n",
              "    }\n",
              "</style>\n",
              "<table border=\"1\" class=\"dataframe\">\n",
              "  <thead>\n",
              "    <tr style=\"text-align: right;\">\n",
              "      <th></th>\n",
              "      <th>RID</th>\n",
              "      <th>PTID</th>\n",
              "      <th>VISCODE</th>\n",
              "      <th>SITE</th>\n",
              "      <th>D1</th>\n",
              "      <th>D2</th>\n",
              "      <th>COLPROT</th>\n",
              "      <th>ORIGPROT</th>\n",
              "      <th>EXAMDATE</th>\n",
              "      <th>DX_bl</th>\n",
              "      <th>DXCHANGE</th>\n",
              "      <th>AGE</th>\n",
              "      <th>PTGENDER</th>\n",
              "      <th>PTEDUCAT</th>\n",
              "      <th>PTETHCAT</th>\n",
              "      <th>PTRACCAT</th>\n",
              "      <th>PTMARRY</th>\n",
              "      <th>APOE4</th>\n",
              "      <th>FDG</th>\n",
              "      <th>PIB</th>\n",
              "      <th>AV45</th>\n",
              "      <th>CDRSB</th>\n",
              "      <th>ADAS11</th>\n",
              "      <th>ADAS13</th>\n",
              "      <th>MMSE</th>\n",
              "      <th>RAVLT_immediate</th>\n",
              "      <th>RAVLT_learning</th>\n",
              "      <th>RAVLT_forgetting</th>\n",
              "      <th>RAVLT_perc_forgetting</th>\n",
              "      <th>FAQ</th>\n",
              "      <th>MOCA</th>\n",
              "      <th>EcogPtMem</th>\n",
              "      <th>EcogPtLang</th>\n",
              "      <th>EcogPtVisspat</th>\n",
              "      <th>EcogPtPlan</th>\n",
              "      <th>EcogPtOrgan</th>\n",
              "      <th>EcogPtDivatt</th>\n",
              "      <th>EcogPtTotal</th>\n",
              "      <th>EcogSPMem</th>\n",
              "      <th>EcogSPLang</th>\n",
              "      <th>EcogSPVisspat</th>\n",
              "      <th>EcogSPPlan</th>\n",
              "      <th>EcogSPOrgan</th>\n",
              "      <th>EcogSPDivatt</th>\n",
              "      <th>EcogSPTotal</th>\n",
              "      <th>FLDSTRENG</th>\n",
              "      <th>FSVERSION</th>\n",
              "      <th>Ventricles</th>\n",
              "      <th>Hippocampus</th>\n",
              "      <th>WholeBrain</th>\n",
              "      <th>Entorhinal</th>\n",
              "      <th>Fusiform</th>\n",
              "      <th>MidTemp</th>\n",
              "      <th>ICV</th>\n",
              "      <th>DX</th>\n",
              "      <th>EXAMDATE_bl</th>\n",
              "      <th>CDRSB_bl</th>\n",
              "    </tr>\n",
              "  </thead>\n",
              "  <tbody>\n",
              "    <tr>\n",
              "      <th>1</th>\n",
              "      <td>3</td>\n",
              "      <td>011_S_0003</td>\n",
              "      <td>bl</td>\n",
              "      <td>11</td>\n",
              "      <td>1</td>\n",
              "      <td>0</td>\n",
              "      <td>ADNI1</td>\n",
              "      <td>ADNI1</td>\n",
              "      <td>2005-09-12</td>\n",
              "      <td>AD</td>\n",
              "      <td>3.0</td>\n",
              "      <td>81.3</td>\n",
              "      <td>Male</td>\n",
              "      <td>18</td>\n",
              "      <td>Not Hisp/Latino</td>\n",
              "      <td>White</td>\n",
              "      <td>Married</td>\n",
              "      <td>1.0</td>\n",
              "      <td>1.09079</td>\n",
              "      <td>NaN</td>\n",
              "      <td>NaN</td>\n",
              "      <td>4.5</td>\n",
              "      <td>22.00</td>\n",
              "      <td>31.00</td>\n",
              "      <td>20.0</td>\n",
              "      <td>22.0</td>\n",
              "      <td>1.0</td>\n",
              "      <td>4.0</td>\n",
              "      <td>100.0</td>\n",
              "      <td>10.0</td>\n",
              "      <td>NaN</td>\n",
              "      <td>NaN</td>\n",
              "      <td>NaN</td>\n",
              "      <td>NaN</td>\n",
              "      <td>NaN</td>\n",
              "      <td>NaN</td>\n",
              "      <td>NaN</td>\n",
              "      <td>NaN</td>\n",
              "      <td>NaN</td>\n",
              "      <td>NaN</td>\n",
              "      <td>NaN</td>\n",
              "      <td>NaN</td>\n",
              "      <td>NaN</td>\n",
              "      <td>NaN</td>\n",
              "      <td>NaN</td>\n",
              "      <td>1.5 Tesla MRI</td>\n",
              "      <td>Cross-Sectional FreeSurfer (FreeSurfer Version...</td>\n",
              "      <td>84599.0</td>\n",
              "      <td>5319.0</td>\n",
              "      <td>1129830.0</td>\n",
              "      <td>1791.0</td>\n",
              "      <td>15506.0</td>\n",
              "      <td>18422.0</td>\n",
              "      <td>1920690.0</td>\n",
              "      <td>Dementia</td>\n",
              "      <td>2005-09-12</td>\n",
              "      <td>4.5</td>\n",
              "    </tr>\n",
              "    <tr>\n",
              "      <th>2</th>\n",
              "      <td>3</td>\n",
              "      <td>011_S_0003</td>\n",
              "      <td>m06</td>\n",
              "      <td>11</td>\n",
              "      <td>1</td>\n",
              "      <td>0</td>\n",
              "      <td>ADNI1</td>\n",
              "      <td>ADNI1</td>\n",
              "      <td>2006-03-13</td>\n",
              "      <td>AD</td>\n",
              "      <td>3.0</td>\n",
              "      <td>81.3</td>\n",
              "      <td>Male</td>\n",
              "      <td>18</td>\n",
              "      <td>Not Hisp/Latino</td>\n",
              "      <td>White</td>\n",
              "      <td>Married</td>\n",
              "      <td>1.0</td>\n",
              "      <td>1.06360</td>\n",
              "      <td>NaN</td>\n",
              "      <td>NaN</td>\n",
              "      <td>6.0</td>\n",
              "      <td>19.00</td>\n",
              "      <td>30.00</td>\n",
              "      <td>24.0</td>\n",
              "      <td>19.0</td>\n",
              "      <td>2.0</td>\n",
              "      <td>6.0</td>\n",
              "      <td>100.0</td>\n",
              "      <td>12.0</td>\n",
              "      <td>NaN</td>\n",
              "      <td>NaN</td>\n",
              "      <td>NaN</td>\n",
              "      <td>NaN</td>\n",
              "      <td>NaN</td>\n",
              "      <td>NaN</td>\n",
              "      <td>NaN</td>\n",
              "      <td>NaN</td>\n",
              "      <td>NaN</td>\n",
              "      <td>NaN</td>\n",
              "      <td>NaN</td>\n",
              "      <td>NaN</td>\n",
              "      <td>NaN</td>\n",
              "      <td>NaN</td>\n",
              "      <td>NaN</td>\n",
              "      <td>1.5 Tesla MRI</td>\n",
              "      <td>Cross-Sectional FreeSurfer (FreeSurfer Version...</td>\n",
              "      <td>88580.0</td>\n",
              "      <td>5446.0</td>\n",
              "      <td>1100060.0</td>\n",
              "      <td>2427.0</td>\n",
              "      <td>14400.0</td>\n",
              "      <td>16972.0</td>\n",
              "      <td>1906430.0</td>\n",
              "      <td>Dementia</td>\n",
              "      <td>2005-09-12</td>\n",
              "      <td>4.5</td>\n",
              "    </tr>\n",
              "    <tr>\n",
              "      <th>3</th>\n",
              "      <td>3</td>\n",
              "      <td>011_S_0003</td>\n",
              "      <td>m12</td>\n",
              "      <td>11</td>\n",
              "      <td>1</td>\n",
              "      <td>0</td>\n",
              "      <td>ADNI1</td>\n",
              "      <td>ADNI1</td>\n",
              "      <td>2006-09-12</td>\n",
              "      <td>AD</td>\n",
              "      <td>3.0</td>\n",
              "      <td>81.3</td>\n",
              "      <td>Male</td>\n",
              "      <td>18</td>\n",
              "      <td>Not Hisp/Latino</td>\n",
              "      <td>White</td>\n",
              "      <td>Married</td>\n",
              "      <td>1.0</td>\n",
              "      <td>1.10384</td>\n",
              "      <td>NaN</td>\n",
              "      <td>NaN</td>\n",
              "      <td>3.5</td>\n",
              "      <td>24.00</td>\n",
              "      <td>35.00</td>\n",
              "      <td>17.0</td>\n",
              "      <td>31.0</td>\n",
              "      <td>2.0</td>\n",
              "      <td>7.0</td>\n",
              "      <td>100.0</td>\n",
              "      <td>17.0</td>\n",
              "      <td>NaN</td>\n",
              "      <td>NaN</td>\n",
              "      <td>NaN</td>\n",
              "      <td>NaN</td>\n",
              "      <td>NaN</td>\n",
              "      <td>NaN</td>\n",
              "      <td>NaN</td>\n",
              "      <td>NaN</td>\n",
              "      <td>NaN</td>\n",
              "      <td>NaN</td>\n",
              "      <td>NaN</td>\n",
              "      <td>NaN</td>\n",
              "      <td>NaN</td>\n",
              "      <td>NaN</td>\n",
              "      <td>NaN</td>\n",
              "      <td>1.5 Tesla MRI</td>\n",
              "      <td>Cross-Sectional FreeSurfer (FreeSurfer Version...</td>\n",
              "      <td>90099.0</td>\n",
              "      <td>5157.0</td>\n",
              "      <td>1095640.0</td>\n",
              "      <td>1596.0</td>\n",
              "      <td>14617.0</td>\n",
              "      <td>17330.0</td>\n",
              "      <td>1903820.0</td>\n",
              "      <td>Dementia</td>\n",
              "      <td>2005-09-12</td>\n",
              "      <td>4.5</td>\n",
              "    </tr>\n",
              "    <tr>\n",
              "      <th>4</th>\n",
              "      <td>3</td>\n",
              "      <td>011_S_0003</td>\n",
              "      <td>m24</td>\n",
              "      <td>11</td>\n",
              "      <td>1</td>\n",
              "      <td>0</td>\n",
              "      <td>ADNI1</td>\n",
              "      <td>ADNI1</td>\n",
              "      <td>2007-09-12</td>\n",
              "      <td>AD</td>\n",
              "      <td>3.0</td>\n",
              "      <td>81.3</td>\n",
              "      <td>Male</td>\n",
              "      <td>18</td>\n",
              "      <td>Not Hisp/Latino</td>\n",
              "      <td>White</td>\n",
              "      <td>Married</td>\n",
              "      <td>1.0</td>\n",
              "      <td>1.03871</td>\n",
              "      <td>NaN</td>\n",
              "      <td>NaN</td>\n",
              "      <td>8.0</td>\n",
              "      <td>25.67</td>\n",
              "      <td>37.67</td>\n",
              "      <td>19.0</td>\n",
              "      <td>23.0</td>\n",
              "      <td>1.0</td>\n",
              "      <td>5.0</td>\n",
              "      <td>100.0</td>\n",
              "      <td>14.0</td>\n",
              "      <td>NaN</td>\n",
              "      <td>NaN</td>\n",
              "      <td>NaN</td>\n",
              "      <td>NaN</td>\n",
              "      <td>NaN</td>\n",
              "      <td>NaN</td>\n",
              "      <td>NaN</td>\n",
              "      <td>NaN</td>\n",
              "      <td>NaN</td>\n",
              "      <td>NaN</td>\n",
              "      <td>NaN</td>\n",
              "      <td>NaN</td>\n",
              "      <td>NaN</td>\n",
              "      <td>NaN</td>\n",
              "      <td>NaN</td>\n",
              "      <td>1.5 Tesla MRI</td>\n",
              "      <td>Cross-Sectional FreeSurfer (FreeSurfer Version...</td>\n",
              "      <td>97420.0</td>\n",
              "      <td>5139.0</td>\n",
              "      <td>1088560.0</td>\n",
              "      <td>1175.0</td>\n",
              "      <td>14033.0</td>\n",
              "      <td>16398.0</td>\n",
              "      <td>1903420.0</td>\n",
              "      <td>Dementia</td>\n",
              "      <td>2005-09-12</td>\n",
              "      <td>4.5</td>\n",
              "    </tr>\n",
              "    <tr>\n",
              "      <th>5732</th>\n",
              "      <td>3</td>\n",
              "      <td>011_S_0003</td>\n",
              "      <td>m18</td>\n",
              "      <td>11</td>\n",
              "      <td>1</td>\n",
              "      <td>0</td>\n",
              "      <td>ADNI1</td>\n",
              "      <td>ADNI1</td>\n",
              "      <td>2007-03-12</td>\n",
              "      <td>AD</td>\n",
              "      <td>NaN</td>\n",
              "      <td>81.3</td>\n",
              "      <td>Male</td>\n",
              "      <td>18</td>\n",
              "      <td>Not Hisp/Latino</td>\n",
              "      <td>White</td>\n",
              "      <td>Married</td>\n",
              "      <td>1.0</td>\n",
              "      <td>NaN</td>\n",
              "      <td>NaN</td>\n",
              "      <td>NaN</td>\n",
              "      <td>NaN</td>\n",
              "      <td>NaN</td>\n",
              "      <td>NaN</td>\n",
              "      <td>NaN</td>\n",
              "      <td>NaN</td>\n",
              "      <td>NaN</td>\n",
              "      <td>NaN</td>\n",
              "      <td>NaN</td>\n",
              "      <td>NaN</td>\n",
              "      <td>NaN</td>\n",
              "      <td>NaN</td>\n",
              "      <td>NaN</td>\n",
              "      <td>NaN</td>\n",
              "      <td>NaN</td>\n",
              "      <td>NaN</td>\n",
              "      <td>NaN</td>\n",
              "      <td>NaN</td>\n",
              "      <td>NaN</td>\n",
              "      <td>NaN</td>\n",
              "      <td>NaN</td>\n",
              "      <td>NaN</td>\n",
              "      <td>NaN</td>\n",
              "      <td>NaN</td>\n",
              "      <td>NaN</td>\n",
              "      <td>NaN</td>\n",
              "      <td>NaN</td>\n",
              "      <td>NaN</td>\n",
              "      <td>NaN</td>\n",
              "      <td>NaN</td>\n",
              "      <td>NaN</td>\n",
              "      <td>NaN</td>\n",
              "      <td>NaN</td>\n",
              "      <td>NaN</td>\n",
              "      <td>NaN</td>\n",
              "      <td>2005-09-12</td>\n",
              "      <td>4.5</td>\n",
              "    </tr>\n",
              "  </tbody>\n",
              "</table>\n",
              "</div>"
            ],
            "text/plain": [
              "      RID        PTID VISCODE  SITE  ...        ICV        DX EXAMDATE_bl CDRSB_bl\n",
              "1       3  011_S_0003      bl    11  ...  1920690.0  Dementia  2005-09-12      4.5\n",
              "2       3  011_S_0003     m06    11  ...  1906430.0  Dementia  2005-09-12      4.5\n",
              "3       3  011_S_0003     m12    11  ...  1903820.0  Dementia  2005-09-12      4.5\n",
              "4       3  011_S_0003     m24    11  ...  1903420.0  Dementia  2005-09-12      4.5\n",
              "5732    3  011_S_0003     m18    11  ...        NaN       NaN  2005-09-12      4.5\n",
              "\n",
              "[5 rows x 57 columns]"
            ]
          },
          "metadata": {},
          "execution_count": 21
        }
      ]
    },
    {
      "cell_type": "markdown",
      "metadata": {
        "id": "6VyzV1GwnTJ5"
      },
      "source": [
        "## Assignment 1: Looking at the data\n",
        "\n",
        "In which years did this patient come in for exams?  \n",
        "What is the age, marital status and race of the patient?\n"
      ]
    },
    {
      "cell_type": "markdown",
      "metadata": {
        "id": "NzY4OQkeBRD5"
      },
      "source": [
        "- 2005, 2006, 2007\n",
        "- Age: 81\n",
        "- Married\n",
        "- White"
      ]
    },
    {
      "cell_type": "markdown",
      "metadata": {
        "id": "TqlmH2u2oX53"
      },
      "source": [
        "# Categoricals and Ordered Categories! \n"
      ]
    },
    {
      "cell_type": "markdown",
      "metadata": {
        "id": "EoyGT04JAJct"
      },
      "source": [
        "Some examples of categorical data are gender, social class, blood type, or rating scale.\n",
        "\n",
        "Here, we're going to make the column Diagnosis 'DX' into a categorical data type and specify an order on the categories. We need to do this so that we can use the ordering to select the data we need. \n",
        "\n",
        "Here are what the abbreviations are:\n",
        "*   **NL** = no Alzheimers (cognitive normal)\n",
        "*   **MCI** = Mild Cognitive Impairement\n",
        "*   **Dementia** = has Alzheimers\n",
        "\n",
        "Here is a guide for Categorical data types: https://pandas.pydata.org/pandas-docs/stable/user_guide/categorical.html#categoricaldtype\n"
      ]
    },
    {
      "cell_type": "code",
      "metadata": {
        "colab": {
          "base_uri": "https://localhost:8080/"
        },
        "id": "OO10jVgD6ypp",
        "outputId": "00d48bc7-448a-4e2f-dc9f-24275bc27fcd"
      },
      "source": [
        "data['DX']"
      ],
      "execution_count": 12,
      "outputs": [
        {
          "output_type": "execute_result",
          "data": {
            "text/plain": [
              "0              NL\n",
              "1        Dementia\n",
              "2        Dementia\n",
              "3        Dementia\n",
              "4        Dementia\n",
              "           ...   \n",
              "12736         NaN\n",
              "12737         NaN\n",
              "12738         NaN\n",
              "12739         MCI\n",
              "12740         MCI\n",
              "Name: DX, Length: 12741, dtype: category\n",
              "Categories (8, object): ['NL' < 'NL to MCI' < 'MCI to NL' < 'MCI' < 'Dementia to MCI' <\n",
              "                         'MCI to Dementia' < 'Dementia' < 'NL to Dementia']"
            ]
          },
          "metadata": {},
          "execution_count": 12
        }
      ]
    },
    {
      "cell_type": "code",
      "metadata": {
        "id": "MFXcIo4CvpjV"
      },
      "source": [
        "DX_type = CategoricalDtype(categories=['NL', 'NL to MCI', 'MCI to NL', 'MCI', \n",
        "                           'Dementia to MCI', 'MCI to Dementia', \n",
        "                           'Dementia', 'NL to Dementia'], ordered=True)\n",
        "data['DX'] = data['DX'].astype(DX_type)"
      ],
      "execution_count": 13,
      "outputs": []
    },
    {
      "cell_type": "markdown",
      "metadata": {
        "id": "QiXsXY2nHi7-"
      },
      "source": [
        "## Assignment 2: Ordered Categories\n",
        "\n",
        "Create ordered categories for the column 'DX_bl' (diagnosis at baseline). The levels are:\n",
        "*   **CN**: cognitive normal\n",
        "*   **SMC**: subjective memory concerns\n",
        "*   **EMCI**: Early Mild Cognitive Impairment\n",
        "*   **LMCI**: Late Mild Cognitive Impairment\n",
        "*   **AD**: Alzheimer’s Disease\n",
        "\n",
        "Check that your code worked. \n",
        "Take a screenshot of your code and include it in the pdf or wordfile you submit on iLearn. \n"
      ]
    },
    {
      "cell_type": "code",
      "metadata": {
        "id": "Ig6NHdqJA-iw",
        "colab": {
          "base_uri": "https://localhost:8080/"
        },
        "outputId": "7eebd808-bd78-4d57-c900-6bce09944157"
      },
      "source": [
        "# Put your code here and take a screenshot to include in your word file to hand in on iLearn. \n",
        "dbl = data['DX_bl'].map(lambda d: d)\n",
        "dbl_uniq = pd.unique(dbl)\n",
        "dbl_type = CategoricalDtype(categories=['CN','SMC','EMCI','LMCI','AD'], ordered=True)\n",
        "data['DX_bl'] = data['DX_bl'].astype(dbl_type)\n",
        "data['DX_bl']"
      ],
      "execution_count": 28,
      "outputs": [
        {
          "output_type": "execute_result",
          "data": {
            "text/plain": [
              "0          CN\n",
              "1          AD\n",
              "2          AD\n",
              "3          AD\n",
              "4          AD\n",
              "         ... \n",
              "12736    LMCI\n",
              "12737    EMCI\n",
              "12738    EMCI\n",
              "12739    EMCI\n",
              "12740    EMCI\n",
              "Name: DX_bl, Length: 12741, dtype: category\n",
              "Categories (5, object): ['CN' < 'SMC' < 'EMCI' < 'LMCI' < 'AD']"
            ]
          },
          "metadata": {},
          "execution_count": 28
        }
      ]
    },
    {
      "cell_type": "markdown",
      "metadata": {
        "id": "h9WS6xfuynP6"
      },
      "source": [
        "# Grouping data: One row per patient"
      ]
    },
    {
      "cell_type": "markdown",
      "metadata": {
        "id": "27qcEt2fQ8qo"
      },
      "source": [
        "For some types of analysis, it is useful to have just one row per patient instead of multiple. \n",
        "\n",
        "Let's create a dataset that has just one row per patient. To do so, we need to 'group' the data based on something unique. In this dataset, we can use the Patient ID and group all the entries that have the same ID. Then we can aggregate (this really mean combine the data) and grab the max entry or calculate the mean for the groupings that are the same. \n",
        "\n",
        "Note: Real-life data is always messy and may be missing. So we want to make sure we use the pandas dropna argument and set it to False, otherwise all entries with 'NA's will be removed. You'll actually be missing important patient data!\n",
        "\n",
        "Guide for Summarising, Aggregating, Grouping data in Python: https://www.shanelynn.ie/summarising-aggregation-and-grouping-data-in-python-pandas/\n",
        "\n",
        "Guide for handling missing data: https://machinelearningmastery.com/handle-missing-data-python/"
      ]
    },
    {
      "cell_type": "code",
      "metadata": {
        "id": "wvvJylkrWI9C"
      },
      "source": [
        "Pat_Data = data.groupby(\n",
        "    ['PTID', 'PTGENDER', 'PTEDUCAT','PTETHCAT', 'PTRACCAT','PTMARRY','APOE4'], dropna=False\n",
        "    ).aggregate(\n",
        "        {'DX': 'max',\n",
        "         'AGE': 'median',\n",
        "         'Ventricles': 'mean',\n",
        "         'Hippocampus': 'mean',\n",
        "         'WholeBrain': 'mean', \n",
        "         'Entorhinal': 'mean', \n",
        "         'Fusiform': 'mean', \n",
        "         'MidTemp': 'mean', \n",
        "         'ICV': 'mean'}\n",
        "          ).reset_index()"
      ],
      "execution_count": 30,
      "outputs": []
    },
    {
      "cell_type": "code",
      "metadata": {
        "colab": {
          "base_uri": "https://localhost:8080/"
        },
        "id": "W_qa64OOTdQj",
        "outputId": "85693cfe-e1d6-4523-cf41-0bd99f371e61"
      },
      "source": [
        "Pat_Data.shape"
      ],
      "execution_count": 31,
      "outputs": [
        {
          "output_type": "execute_result",
          "data": {
            "text/plain": [
              "(1737, 16)"
            ]
          },
          "metadata": {},
          "execution_count": 31
        }
      ]
    },
    {
      "cell_type": "markdown",
      "metadata": {
        "id": "JUumeQx8ZhBR"
      },
      "source": [
        "#Assigment 3: shape of the dataframe\n",
        "How did the shape of the dataframe change? How many rows did the original datafram have per patient approximately? "
      ]
    },
    {
      "cell_type": "code",
      "metadata": {
        "colab": {
          "base_uri": "https://localhost:8080/"
        },
        "id": "ZkaIQwHQH8eU",
        "outputId": "5f5c5d8b-e029-49ff-b88a-e75e84d33a93"
      },
      "source": [
        "data.shape[0]/Pat_Data.shape[0]"
      ],
      "execution_count": 32,
      "outputs": [
        {
          "output_type": "execute_result",
          "data": {
            "text/plain": [
              "7.335060449050086"
            ]
          },
          "metadata": {},
          "execution_count": 32
        }
      ]
    },
    {
      "cell_type": "markdown",
      "metadata": {
        "id": "YEdYmDXpIkQe"
      },
      "source": [
        "7 rows per patient"
      ]
    },
    {
      "cell_type": "markdown",
      "metadata": {
        "id": "kgm7aELwYyXB"
      },
      "source": [
        "#More categorical variables"
      ]
    },
    {
      "cell_type": "markdown",
      "metadata": {
        "id": "0KcW3WgRLslD"
      },
      "source": [
        "What if we had multiple columns that were categorical? Here, we can make multiple columns into categoricals by using the lambda function. A lambda function can take any number of arguments, but can only have one expression.\n",
        "\n",
        "\n",
        "Here are some guides on the lambda function and the apply function\n",
        "*   lambda function: https://www.w3schools.com/python/python_lambda.asp\n",
        "\n",
        "*   apply function: https://pandas.pydata.org/pandas-docs/stable/reference/api/pandas.DataFrame.apply.html?highlight=apply\n",
        "\n",
        "\n",
        "\n",
        "\n"
      ]
    },
    {
      "cell_type": "markdown",
      "metadata": {
        "id": "mXnUirsOSpfH"
      },
      "source": [
        "Now, we can take a look at the data type of each column. We can check to see if the columns we have changed (DX, DX_bl, PTGENDER, PTETHCAT, PTRACCAT, and PTMARRY) are correct and listed as 'category'. "
      ]
    },
    {
      "cell_type": "code",
      "metadata": {
        "id": "RWpfp2B_X3jv"
      },
      "source": [
        "cols = ['PTGENDER', 'PTETHCAT', 'PTRACCAT', 'PTMARRY']\n",
        "data[cols] = data[cols].apply(lambda x: x.astype('category'))"
      ],
      "execution_count": 33,
      "outputs": []
    },
    {
      "cell_type": "code",
      "metadata": {
        "colab": {
          "base_uri": "https://localhost:8080/"
        },
        "id": "OkC8PprAPcZx",
        "outputId": "9242f435-6ad8-4ec3-ee1b-2caab67d986a"
      },
      "source": [
        "data.dtypes"
      ],
      "execution_count": null,
      "outputs": [
        {
          "output_type": "execute_result",
          "data": {
            "text/plain": [
              "RID                         int64\n",
              "PTID                       object\n",
              "VISCODE                    object\n",
              "SITE                        int64\n",
              "D1                          int64\n",
              "D2                          int64\n",
              "COLPROT                    object\n",
              "ORIGPROT                   object\n",
              "EXAMDATE                   object\n",
              "DX_bl                      object\n",
              "DXCHANGE                  float64\n",
              "AGE                       float64\n",
              "PTGENDER                 category\n",
              "PTEDUCAT                    int64\n",
              "PTETHCAT                 category\n",
              "PTRACCAT                 category\n",
              "PTMARRY                  category\n",
              "APOE4                     float64\n",
              "FDG                       float64\n",
              "PIB                       float64\n",
              "AV45                      float64\n",
              "CDRSB                     float64\n",
              "ADAS11                    float64\n",
              "ADAS13                    float64\n",
              "MMSE                      float64\n",
              "RAVLT_immediate           float64\n",
              "RAVLT_learning            float64\n",
              "RAVLT_forgetting          float64\n",
              "RAVLT_perc_forgetting     float64\n",
              "FAQ                       float64\n",
              "MOCA                      float64\n",
              "EcogPtMem                 float64\n",
              "EcogPtLang                float64\n",
              "EcogPtVisspat             float64\n",
              "EcogPtPlan                float64\n",
              "EcogPtOrgan               float64\n",
              "EcogPtDivatt              float64\n",
              "EcogPtTotal               float64\n",
              "EcogSPMem                 float64\n",
              "EcogSPLang                float64\n",
              "EcogSPVisspat             float64\n",
              "EcogSPPlan                float64\n",
              "EcogSPOrgan               float64\n",
              "EcogSPDivatt              float64\n",
              "EcogSPTotal               float64\n",
              "FLDSTRENG                  object\n",
              "FSVERSION                  object\n",
              "Ventricles                float64\n",
              "Hippocampus               float64\n",
              "WholeBrain                float64\n",
              "Entorhinal                float64\n",
              "Fusiform                  float64\n",
              "MidTemp                   float64\n",
              "ICV                       float64\n",
              "DX                       category\n",
              "EXAMDATE_bl                object\n",
              "CDRSB_bl                  float64\n",
              "dtype: object"
            ]
          },
          "metadata": {
            "tags": []
          },
          "execution_count": 25
        }
      ]
    },
    {
      "cell_type": "markdown",
      "metadata": {
        "id": "A0q9RkfjVVHv"
      },
      "source": [
        "# Summary Statistics"
      ]
    },
    {
      "cell_type": "markdown",
      "metadata": {
        "id": "18_ZmIGWVPTq"
      },
      "source": [
        "You may be curious about the patients in the study. By using the describe() function, you could take a look at the summary statistics. In this case, we see that there are more males in the study.\n",
        "\n",
        "*   count = the number of elements in your dataset\n",
        "*   unique = the total number of unique elements\n",
        "*   top = most frequent entry\n",
        "*   freq = Frequency of the most frequent entry\n",
        "\n",
        "Depending on the column data type, the summary statistics could also include the mean, std, min max, etc\n",
        "\n",
        "Guide on summary statistics: https://www.askpython.com/python/examples/calculate-summary-statistics\n",
        "\n",
        "What happens if you want to know the count of all of the cateogories? You can use the value_counts() function. Take a look at the two code chunks below."
      ]
    },
    {
      "cell_type": "code",
      "metadata": {
        "id": "X1zYn7uhVaq3",
        "colab": {
          "base_uri": "https://localhost:8080/"
        },
        "outputId": "679ebd7c-d99e-4f4e-c5be-67cedcdb8fef"
      },
      "source": [
        "Pat_Data['PTGENDER'].describe()"
      ],
      "execution_count": 34,
      "outputs": [
        {
          "output_type": "execute_result",
          "data": {
            "text/plain": [
              "count     1737\n",
              "unique       2\n",
              "top       Male\n",
              "freq       957\n",
              "Name: PTGENDER, dtype: object"
            ]
          },
          "metadata": {},
          "execution_count": 34
        }
      ]
    },
    {
      "cell_type": "code",
      "metadata": {
        "colab": {
          "base_uri": "https://localhost:8080/"
        },
        "id": "e_CL27wbZ87c",
        "outputId": "5ba9345c-4156-4264-ce7e-1ee90cbb6e4e"
      },
      "source": [
        "Pat_Data['PTGENDER'].value_counts()"
      ],
      "execution_count": 35,
      "outputs": [
        {
          "output_type": "execute_result",
          "data": {
            "text/plain": [
              "Male      957\n",
              "Female    780\n",
              "Name: PTGENDER, dtype: int64"
            ]
          },
          "metadata": {},
          "execution_count": 35
        }
      ]
    },
    {
      "cell_type": "markdown",
      "metadata": {
        "id": "mgez10MuVONF"
      },
      "source": [
        "## Assignment 4: Summary\n",
        "\n",
        "After you created PatData, use head() to have a look at the first rows.  \n",
        "\n",
        "1.   Look at the summary statistics for race ('PTRACCAT'). What is the most frequent answer? Use describe() and value_counts(). Which function do you like best? \n",
        "2.   Try Pat_Data.describe() and look at the summary statistics for the whole dataset. What is the average age? What is the age of the youngest patient? What is the age of the oldest patient? Does it show all variables? \n",
        "\n",
        "\n",
        "\n"
      ]
    },
    {
      "cell_type": "code",
      "metadata": {
        "colab": {
          "base_uri": "https://localhost:8080/",
          "height": 204
        },
        "id": "d5PVd5Z0NUnh",
        "outputId": "2d0464d7-c2e1-4fc1-ab15-077e4f2b80bf"
      },
      "source": [
        "Pat_Data.head()"
      ],
      "execution_count": 36,
      "outputs": [
        {
          "output_type": "execute_result",
          "data": {
            "text/html": [
              "<div>\n",
              "<style scoped>\n",
              "    .dataframe tbody tr th:only-of-type {\n",
              "        vertical-align: middle;\n",
              "    }\n",
              "\n",
              "    .dataframe tbody tr th {\n",
              "        vertical-align: top;\n",
              "    }\n",
              "\n",
              "    .dataframe thead th {\n",
              "        text-align: right;\n",
              "    }\n",
              "</style>\n",
              "<table border=\"1\" class=\"dataframe\">\n",
              "  <thead>\n",
              "    <tr style=\"text-align: right;\">\n",
              "      <th></th>\n",
              "      <th>PTID</th>\n",
              "      <th>PTGENDER</th>\n",
              "      <th>PTEDUCAT</th>\n",
              "      <th>PTETHCAT</th>\n",
              "      <th>PTRACCAT</th>\n",
              "      <th>PTMARRY</th>\n",
              "      <th>APOE4</th>\n",
              "      <th>DX</th>\n",
              "      <th>AGE</th>\n",
              "      <th>Ventricles</th>\n",
              "      <th>Hippocampus</th>\n",
              "      <th>WholeBrain</th>\n",
              "      <th>Entorhinal</th>\n",
              "      <th>Fusiform</th>\n",
              "      <th>MidTemp</th>\n",
              "      <th>ICV</th>\n",
              "    </tr>\n",
              "  </thead>\n",
              "  <tbody>\n",
              "    <tr>\n",
              "      <th>0</th>\n",
              "      <td>002_S_0295</td>\n",
              "      <td>Male</td>\n",
              "      <td>18</td>\n",
              "      <td>Not Hisp/Latino</td>\n",
              "      <td>White</td>\n",
              "      <td>Married</td>\n",
              "      <td>1.0</td>\n",
              "      <td>NL</td>\n",
              "      <td>84.8</td>\n",
              "      <td>43332.500000</td>\n",
              "      <td>6805.125000</td>\n",
              "      <td>1.071568e+06</td>\n",
              "      <td>3752.625000</td>\n",
              "      <td>17693.875000</td>\n",
              "      <td>19420.125000</td>\n",
              "      <td>1.649602e+06</td>\n",
              "    </tr>\n",
              "    <tr>\n",
              "      <th>1</th>\n",
              "      <td>002_S_0413</td>\n",
              "      <td>Female</td>\n",
              "      <td>16</td>\n",
              "      <td>Not Hisp/Latino</td>\n",
              "      <td>White</td>\n",
              "      <td>Married</td>\n",
              "      <td>0.0</td>\n",
              "      <td>NL</td>\n",
              "      <td>76.3</td>\n",
              "      <td>31936.454545</td>\n",
              "      <td>6824.636364</td>\n",
              "      <td>1.055413e+06</td>\n",
              "      <td>4131.090909</td>\n",
              "      <td>20095.909091</td>\n",
              "      <td>20235.545455</td>\n",
              "      <td>1.600009e+06</td>\n",
              "    </tr>\n",
              "    <tr>\n",
              "      <th>2</th>\n",
              "      <td>002_S_0559</td>\n",
              "      <td>Male</td>\n",
              "      <td>16</td>\n",
              "      <td>Not Hisp/Latino</td>\n",
              "      <td>White</td>\n",
              "      <td>Widowed</td>\n",
              "      <td>1.0</td>\n",
              "      <td>NL</td>\n",
              "      <td>79.3</td>\n",
              "      <td>38410.666667</td>\n",
              "      <td>7496.666667</td>\n",
              "      <td>1.092807e+06</td>\n",
              "      <td>3998.333333</td>\n",
              "      <td>18993.000000</td>\n",
              "      <td>22226.000000</td>\n",
              "      <td>1.703968e+06</td>\n",
              "    </tr>\n",
              "    <tr>\n",
              "      <th>3</th>\n",
              "      <td>002_S_0619</td>\n",
              "      <td>Male</td>\n",
              "      <td>12</td>\n",
              "      <td>Not Hisp/Latino</td>\n",
              "      <td>White</td>\n",
              "      <td>Married</td>\n",
              "      <td>2.0</td>\n",
              "      <td>Dementia</td>\n",
              "      <td>77.5</td>\n",
              "      <td>120529.500000</td>\n",
              "      <td>5812.000000</td>\n",
              "      <td>1.093932e+06</td>\n",
              "      <td>2773.000000</td>\n",
              "      <td>20675.000000</td>\n",
              "      <td>19959.000000</td>\n",
              "      <td>2.070530e+06</td>\n",
              "    </tr>\n",
              "    <tr>\n",
              "      <th>4</th>\n",
              "      <td>002_S_0685</td>\n",
              "      <td>Female</td>\n",
              "      <td>16</td>\n",
              "      <td>Not Hisp/Latino</td>\n",
              "      <td>White</td>\n",
              "      <td>Married</td>\n",
              "      <td>0.0</td>\n",
              "      <td>NL</td>\n",
              "      <td>89.6</td>\n",
              "      <td>40921.571429</td>\n",
              "      <td>7063.250000</td>\n",
              "      <td>9.800458e+05</td>\n",
              "      <td>3894.375000</td>\n",
              "      <td>14152.250000</td>\n",
              "      <td>18133.625000</td>\n",
              "      <td>1.521331e+06</td>\n",
              "    </tr>\n",
              "  </tbody>\n",
              "</table>\n",
              "</div>"
            ],
            "text/plain": [
              "         PTID PTGENDER  PTEDUCAT  ...      Fusiform       MidTemp           ICV\n",
              "0  002_S_0295     Male        18  ...  17693.875000  19420.125000  1.649602e+06\n",
              "1  002_S_0413   Female        16  ...  20095.909091  20235.545455  1.600009e+06\n",
              "2  002_S_0559     Male        16  ...  18993.000000  22226.000000  1.703968e+06\n",
              "3  002_S_0619     Male        12  ...  20675.000000  19959.000000  2.070530e+06\n",
              "4  002_S_0685   Female        16  ...  14152.250000  18133.625000  1.521331e+06\n",
              "\n",
              "[5 rows x 16 columns]"
            ]
          },
          "metadata": {},
          "execution_count": 36
        }
      ]
    },
    {
      "cell_type": "code",
      "metadata": {
        "colab": {
          "base_uri": "https://localhost:8080/"
        },
        "id": "btU_1Z73NZJD",
        "outputId": "f1f8af83-48e6-442b-8a85-76f46ffc53cc"
      },
      "source": [
        "Pat_Data['PTRACCAT'].describe()"
      ],
      "execution_count": 38,
      "outputs": [
        {
          "output_type": "execute_result",
          "data": {
            "text/plain": [
              "count      1737\n",
              "unique        7\n",
              "top       White\n",
              "freq       1605\n",
              "Name: PTRACCAT, dtype: object"
            ]
          },
          "metadata": {},
          "execution_count": 38
        }
      ]
    },
    {
      "cell_type": "code",
      "metadata": {
        "colab": {
          "base_uri": "https://localhost:8080/"
        },
        "id": "BZVQ8f6OOjEn",
        "outputId": "c700d11e-ebdd-48d8-9e73-2a918e3e0c18"
      },
      "source": [
        "Pat_Data['PTRACCAT'].value_counts()"
      ],
      "execution_count": 39,
      "outputs": [
        {
          "output_type": "execute_result",
          "data": {
            "text/plain": [
              "White                1605\n",
              "Black                  77\n",
              "Asian                  29\n",
              "More than one          18\n",
              "Unknown                 3\n",
              "Am Indian/Alaskan       3\n",
              "Hawaiian/Other PI       2\n",
              "Name: PTRACCAT, dtype: int64"
            ]
          },
          "metadata": {},
          "execution_count": 39
        }
      ]
    },
    {
      "cell_type": "markdown",
      "metadata": {
        "id": "15w96pU6OqUF"
      },
      "source": [
        "The most frequent answer is white. I like the function describe since it gives useful high level stats"
      ]
    },
    {
      "cell_type": "markdown",
      "metadata": {
        "id": "d18XPO7p51aL"
      },
      "source": [
        "# Exporting as a csv file"
      ]
    },
    {
      "cell_type": "markdown",
      "metadata": {
        "id": "PUPaBZnzfAlV"
      },
      "source": [
        "Save the newly created dataset that contains one row per patient.\n",
        "This will be saved onto your Desktop.\n",
        "Replace \"YourVersion\" by your own name so that you know that this file was made by you. "
      ]
    },
    {
      "cell_type": "code",
      "metadata": {
        "colab": {
          "base_uri": "https://localhost:8080/",
          "height": 17
        },
        "id": "azkvO5eZaH2R",
        "outputId": "6aba6622-3203-4bc2-98d3-af5f17570ad8"
      },
      "source": [
        "Pat_Data.to_csv('PatData_Arul.csv')\n",
        "files.download('PatData_Arul.csv')"
      ],
      "execution_count": 41,
      "outputs": [
        {
          "output_type": "display_data",
          "data": {
            "application/javascript": [
              "\n",
              "    async function download(id, filename, size) {\n",
              "      if (!google.colab.kernel.accessAllowed) {\n",
              "        return;\n",
              "      }\n",
              "      const div = document.createElement('div');\n",
              "      const label = document.createElement('label');\n",
              "      label.textContent = `Downloading \"${filename}\": `;\n",
              "      div.appendChild(label);\n",
              "      const progress = document.createElement('progress');\n",
              "      progress.max = size;\n",
              "      div.appendChild(progress);\n",
              "      document.body.appendChild(div);\n",
              "\n",
              "      const buffers = [];\n",
              "      let downloaded = 0;\n",
              "\n",
              "      const channel = await google.colab.kernel.comms.open(id);\n",
              "      // Send a message to notify the kernel that we're ready.\n",
              "      channel.send({})\n",
              "\n",
              "      for await (const message of channel.messages) {\n",
              "        // Send a message to notify the kernel that we're ready.\n",
              "        channel.send({})\n",
              "        if (message.buffers) {\n",
              "          for (const buffer of message.buffers) {\n",
              "            buffers.push(buffer);\n",
              "            downloaded += buffer.byteLength;\n",
              "            progress.value = downloaded;\n",
              "          }\n",
              "        }\n",
              "      }\n",
              "      const blob = new Blob(buffers, {type: 'application/binary'});\n",
              "      const a = document.createElement('a');\n",
              "      a.href = window.URL.createObjectURL(blob);\n",
              "      a.download = filename;\n",
              "      div.appendChild(a);\n",
              "      a.click();\n",
              "      div.remove();\n",
              "    }\n",
              "  "
            ],
            "text/plain": [
              "<IPython.core.display.Javascript object>"
            ]
          },
          "metadata": {}
        },
        {
          "output_type": "display_data",
          "data": {
            "application/javascript": [
              "download(\"download_7bad695e-5520-4574-b789-597f7e498358\", \"PatData_Arul.csv\", 247019)"
            ],
            "text/plain": [
              "<IPython.core.display.Javascript object>"
            ]
          },
          "metadata": {}
        }
      ]
    },
    {
      "cell_type": "code",
      "metadata": {
        "id": "EsazNwn1P13Q"
      },
      "source": [
        ""
      ],
      "execution_count": null,
      "outputs": []
    }
  ]
}